{
 "cells": [
  {
   "cell_type": "markdown",
   "id": "88c57608",
   "metadata": {},
   "source": [
    "# Chapter 6 - Writing about numeric data"
   ]
  },
  {
   "cell_type": "markdown",
   "id": "b16bd91d",
   "metadata": {},
   "source": [
    "2022 March 2"
   ]
  },
  {
   "cell_type": "code",
   "execution_count": null,
   "id": "5960e5af",
   "metadata": {},
   "outputs": [],
   "source": [
    "# forthcoming"
   ]
  }
 ],
 "metadata": {
  "kernelspec": {
   "display_name": "Python 3 (ipykernel)",
   "language": "python",
   "name": "python3"
  },
  "language_info": {
   "codemirror_mode": {
    "name": "ipython",
    "version": 3
   },
   "file_extension": ".py",
   "mimetype": "text/x-python",
   "name": "python",
   "nbconvert_exporter": "python",
   "pygments_lexer": "ipython3",
   "version": "3.8.8"
  }
 },
 "nbformat": 4,
 "nbformat_minor": 5
}
