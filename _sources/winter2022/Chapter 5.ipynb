{
 "cells": [
  {
   "cell_type": "markdown",
   "id": "7a2b8f3a",
   "metadata": {},
   "source": [
    "# Chapter 5 - Ensemble machine learning, deep learning"
   ]
  },
  {
   "cell_type": "markdown",
   "id": "82fc8e64",
   "metadata": {},
   "source": [
    "2022 February 23"
   ]
  },
  {
   "cell_type": "code",
   "execution_count": null,
   "id": "8fbc96e1",
   "metadata": {},
   "outputs": [],
   "source": [
    "# forthcoming"
   ]
  }
 ],
 "metadata": {
  "kernelspec": {
   "display_name": "Python 3 (ipykernel)",
   "language": "python",
   "name": "python3"
  },
  "language_info": {
   "codemirror_mode": {
    "name": "ipython",
    "version": 3
   },
   "file_extension": ".py",
   "mimetype": "text/x-python",
   "name": "python",
   "nbconvert_exporter": "python",
   "pygments_lexer": "ipython3",
   "version": "3.8.8"
  }
 },
 "nbformat": 4,
 "nbformat_minor": 5
}
