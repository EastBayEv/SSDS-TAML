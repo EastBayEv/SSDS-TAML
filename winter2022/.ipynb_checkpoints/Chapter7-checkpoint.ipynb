{
 "cells": [
  {
   "cell_type": "markdown",
   "id": "c54e8700",
   "metadata": {},
   "source": [
    "# Chapter 7 - Combine the basics in powerful ways!\n",
    "\n",
    "Attend the below CIDR workshops and learn to put the basics together in more efficient and processual ways that will supercharge your text analysis and machine learning!"
   ]
  },
  {
   "cell_type": "markdown",
   "id": "6e8ef101",
   "metadata": {},
   "source": [
    "![robot](img/robot.png)"
   ]
  },
  {
   "cell_type": "markdown",
   "id": "47cc78db",
   "metadata": {},
   "source": [
    "[Raúl Arrabales Moreno - Conscious-Robots Reloaded!](https://www.conscious-robots.com/2016/01/05/conscious-robots-reloaded/)"
   ]
  },
  {
   "cell_type": "markdown",
   "id": "1198453b",
   "metadata": {},
   "source": [
    "## CIDR Workshops\n",
    "\n",
    "### Text Analysis with Python\n",
    "Learn methodical text analysis approaches to single documents and corpora with the [spaCy](https://spacy.io/usage/spacy-101) and [textacy](https://textacy.readthedocs.io/en/stable/api_reference/root.html) libraries. \n",
    "\n",
    "https://github.com/sul-cidr/Workshops/tree/master/Text_Analysis_with_Python\n",
    "\n",
    "### Intro to Machine Learning with Python\n",
    "Familiarize yourself with procedures for document and image classification - as well as other analyses - along with cloud-based resources for machine and deep learning with the [scikit-learn](https://scikit-learn.org/stable/tutorial/index.html), [lime](https://github.com/marcotcr/lime), and [tensorflow](https://www.tensorflow.org/guide/data) libraries.\n",
    "\n",
    "https://github.com/sul-cidr/Workshops/tree/master/Intro_to_ML_with_Python\n",
    "\n",
    "### Intro to Text Analysis workshop with R\n",
    "\n",
    "Are you interested in analyzing collections of novels or journal articles? Do you want to understand patterns across collections of tweets or other social media data? In this workshop, we'll learn how to import, clean, and analyze collections of text with R using several standard text mining libraries. \n",
    "\n",
    "https://cengel.github.io/R-text-analysis/\n",
    "\n",
    "### Intro to Machine Learning with R\n",
    "\n",
    "This workshop provides a gentle introduction to machine learning vocabulary and concepts. You will learn the basics for ensemble machine learning practices using various R packages. \n",
    "\n",
    "https://github.com/sul-cidr/Workshops/tree/master/Intro_ML_R"
   ]
  }
 ],
 "metadata": {
  "kernelspec": {
   "display_name": "Python 3 (ipykernel)",
   "language": "python",
   "name": "python3"
  },
  "language_info": {
   "codemirror_mode": {
    "name": "ipython",
    "version": 3
   },
   "file_extension": ".py",
   "mimetype": "text/x-python",
   "name": "python",
   "nbconvert_exporter": "python",
   "pygments_lexer": "ipython3",
   "version": "3.8.8"
  }
 },
 "nbformat": 4,
 "nbformat_minor": 5
}
