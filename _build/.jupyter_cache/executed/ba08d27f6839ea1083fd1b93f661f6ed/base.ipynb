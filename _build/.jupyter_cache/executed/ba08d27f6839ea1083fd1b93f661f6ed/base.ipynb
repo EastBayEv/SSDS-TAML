{
 "cells": [
  {
   "cell_type": "code",
   "execution_count": 1,
   "id": "4070bdbd",
   "metadata": {},
   "outputs": [],
   "source": [
    "# define one variable\n",
    "x = 1"
   ]
  },
  {
   "cell_type": "code",
   "execution_count": 2,
   "id": "beea0fd3",
   "metadata": {},
   "outputs": [],
   "source": [
    "# assign multiple variables\n",
    "x = 1\n",
    "y = 2\n",
    "z = 3"
   ]
  },
  {
   "cell_type": "code",
   "execution_count": 3,
   "id": "ca646c59",
   "metadata": {},
   "outputs": [
    {
     "name": "stdout",
     "output_type": "stream",
     "text": [
      "1\n"
     ]
    }
   ],
   "source": [
    "print(x)"
   ]
  },
  {
   "cell_type": "code",
   "execution_count": 4,
   "id": "bcfd3cf4",
   "metadata": {},
   "outputs": [
    {
     "data": {
      "text/plain": [
       "1.5"
      ]
     },
     "execution_count": 4,
     "metadata": {},
     "output_type": "execute_result"
    }
   ],
   "source": [
    "# call the variables directly!\n",
    "x / y * z"
   ]
  },
  {
   "cell_type": "code",
   "execution_count": 5,
   "id": "7787f2fc",
   "metadata": {},
   "outputs": [
    {
     "name": "stdout",
     "output_type": "stream",
     "text": [
      "<class 'str'>\n",
      "<class 'bool'>\n"
     ]
    }
   ],
   "source": [
    "# Use the type() function to get the type of any variable if you're unsure: \n",
    "x1 = \"Boolean\"\n",
    "print(type(x1))\n",
    "\n",
    "x2 = True\n",
    "print(type(x2))"
   ]
  },
  {
   "cell_type": "code",
   "execution_count": 6,
   "id": "2dda3e66",
   "metadata": {},
   "outputs": [
    {
     "name": "stdout",
     "output_type": "stream",
     "text": [
      "<class 'float'>\n"
     ]
    }
   ],
   "source": [
    "# float (decimals)\n",
    "# use a decimal to create floats\n",
    "pi = 3.14\n",
    "print(type(pi))"
   ]
  },
  {
   "cell_type": "code",
   "execution_count": 7,
   "id": "c656d939",
   "metadata": {},
   "outputs": [
    {
     "name": "stdout",
     "output_type": "stream",
     "text": [
      "<class 'int'>\n"
     ]
    }
   ],
   "source": [
    "# integer (whole numbers)\n",
    "# do not use a decimal for integers\n",
    "amount = 4\n",
    "print(type(amount))"
   ]
  },
  {
   "cell_type": "code",
   "execution_count": 8,
   "id": "f868cfea",
   "metadata": {},
   "outputs": [
    {
     "name": "stdout",
     "output_type": "stream",
     "text": [
      "<class 'str'>\n"
     ]
    }
   ],
   "source": [
    "# string (text)\n",
    "# wrap text data in quotations\n",
    "welcome = \"Welcome to Stanford Libraries\"\n",
    "print(type(welcome))"
   ]
  },
  {
   "cell_type": "code",
   "execution_count": 9,
   "id": "3f437e56",
   "metadata": {},
   "outputs": [
    {
     "name": "stdout",
     "output_type": "stream",
     "text": [
      "<class 'bool'>\n",
      "-1\n"
     ]
    }
   ],
   "source": [
    "# boolean (logical)\n",
    "# True or False (stored as 1 and 0)\n",
    "print(type(True))\n",
    "print(False - True)"
   ]
  },
  {
   "cell_type": "code",
   "execution_count": 10,
   "id": "08c430fe",
   "metadata": {},
   "outputs": [
    {
     "data": {
      "text/plain": [
       "'11'"
      ]
     },
     "execution_count": 10,
     "metadata": {},
     "output_type": "execute_result"
    }
   ],
   "source": [
    "# character strings\n",
    "'1' + '1'"
   ]
  },
  {
   "cell_type": "code",
   "execution_count": 11,
   "id": "1868a6f3",
   "metadata": {},
   "outputs": [
    {
     "data": {
      "text/plain": [
       "2"
      ]
     },
     "execution_count": 11,
     "metadata": {},
     "output_type": "execute_result"
    }
   ],
   "source": [
    "# integers\n",
    "1 + 1"
   ]
  },
  {
   "cell_type": "code",
   "execution_count": 12,
   "id": "6551cb75",
   "metadata": {},
   "outputs": [
    {
     "data": {
      "text/plain": [
       "'shark'"
      ]
     },
     "execution_count": 12,
     "metadata": {},
     "output_type": "execute_result"
    }
   ],
   "source": [
    "animals = ['shark', 'dolphin']\n",
    "animals[0]"
   ]
  },
  {
   "cell_type": "code",
   "execution_count": 13,
   "id": "17c201d3",
   "metadata": {},
   "outputs": [
    {
     "name": "stdout",
     "output_type": "stream",
     "text": [
      "tree\n",
      "cat\n"
     ]
    }
   ],
   "source": [
    "# To get an element from a list within a list, double-index the original list!\n",
    "animals = ['shark', 'dolphin', ['dog', 'cat'], ['tree', 'cactus']]\n",
    "print(animals[3][0])\n",
    "print(animals[2][1])"
   ]
  },
  {
   "cell_type": "code",
   "execution_count": 14,
   "id": "bce31368",
   "metadata": {},
   "outputs": [
    {
     "name": "stdout",
     "output_type": "stream",
     "text": [
      "<class 'str'>\n",
      "<class 'float'>\n"
     ]
    }
   ],
   "source": [
    "chimera = ['lion', 0.5, 'griffin', 0.5]\n",
    "print(type(chimera[0]))\n",
    "print(type(chimera[1]))"
   ]
  },
  {
   "cell_type": "code",
   "execution_count": 15,
   "id": "76f2dd9c",
   "metadata": {},
   "outputs": [
    {
     "data": {
      "text/plain": [
       "{'fruits': [{'name': 'apple',\n",
       "   'color': ['red', 'green'],\n",
       "   'recipes': ['pie', 'salad', 'sauce']},\n",
       "  {'name': 'orange',\n",
       "   'color': 'orange',\n",
       "   'recipes': ['juice', 'marmalade', 'gratin']}]}"
      ]
     },
     "execution_count": 15,
     "metadata": {},
     "output_type": "execute_result"
    }
   ],
   "source": [
    "apple = {'name': 'apple', 'color': ['red', 'green'], 'recipes': ['pie', 'salad', 'sauce']}\n",
    "orange = {'name': 'orange', 'color': 'orange', 'recipes': ['juice', 'marmalade', 'gratin']}\n",
    "\n",
    "fruits = {'fruits': [apple, orange]}\n",
    "\n",
    "fruits"
   ]
  },
  {
   "cell_type": "code",
   "execution_count": 16,
   "id": "09e86a09",
   "metadata": {},
   "outputs": [
    {
     "data": {
      "text/plain": [
       "'juice'"
      ]
     },
     "execution_count": 16,
     "metadata": {},
     "output_type": "execute_result"
    }
   ],
   "source": [
    "fruits['fruits'][1]['recipes'][0]"
   ]
  },
  {
   "cell_type": "code",
   "execution_count": 17,
   "id": "12a1d5c1",
   "metadata": {},
   "outputs": [
    {
     "name": "stdout",
     "output_type": "stream",
     "text": [
      "The Project Gutenberg eBook of Frankenstein, by Mary Wollstonecraft (Godwin) Shelley\n",
      "\n",
      "This eBook is for the use of anyone anywhere in the United States and\n",
      "most other parts of the world at no cost and with almost no restrictions\n",
      "whatsoever. You may copy it, give it away or re-use it under the terms\n",
      "of the Project Gutenberg License included with this eBook or online at\n",
      "www.gutenberg.org. If you are not located in the United States, you\n",
      "will have to check the laws of the country where you are located before\n",
      "using this eBook.\n",
      "\n",
      "Title: Frankenstein\n",
      "       or, The Modern Prometheus\n",
      "\n",
      "Author: Mary Wollstonecraft (Godwin) Shelley\n",
      "\n",
      "Release Date: 31, 1993 [eBook #84]\n",
      "[Most recently updated: November 13, 2020]\n",
      "\n",
      "Language: English\n",
      "\n",
      "Character set encoding: UTF-8\n",
      "\n",
      "Produced by: Judith Boss, Christy Phillips, Lynn Hanninen, and David Meltzer. HTML version by Al Haines.\n",
      "Further corrections by Menno de Leeuw.\n",
      "\n",
      "*** START OF THE PROJECT GUTENBERG EBOOK FRANKENSTEIN ***\n",
      "\n",
      "\n",
      "\n",
      "\n",
      "Frankenstein;\n",
      "\n",
      "or, the Modern Prom\n"
     ]
    }
   ],
   "source": [
    "frank = open('data/frankenstein.txt').read()\n",
    "\n",
    "# print only the first 1000 characters\n",
    "print(frank[:1000])"
   ]
  },
  {
   "cell_type": "code",
   "execution_count": 18,
   "id": "df82b537",
   "metadata": {},
   "outputs": [],
   "source": [
    "# Step 1. link the pandas library to our current notebook\n",
    "import pandas as pd"
   ]
  },
  {
   "cell_type": "code",
   "execution_count": 19,
   "id": "af8e4945",
   "metadata": {},
   "outputs": [],
   "source": [
    "# Step 2. enter the file path in pandas's read_csv() function  \n",
    "gap = pd.read_csv(\"data/gapminder-FiveYearData.csv\")"
   ]
  },
  {
   "cell_type": "code",
   "execution_count": 20,
   "id": "ec2d9799",
   "metadata": {},
   "outputs": [
    {
     "name": "stdout",
     "output_type": "stream",
     "text": [
      "          country  year         pop continent  lifeExp   gdpPercap\n",
      "0     Afghanistan  1952   8425333.0      Asia   28.801  779.445314\n",
      "1     Afghanistan  1957   9240934.0      Asia   30.332  820.853030\n",
      "2     Afghanistan  1962  10267083.0      Asia   31.997  853.100710\n",
      "3     Afghanistan  1967  11537966.0      Asia   34.020  836.197138\n",
      "4     Afghanistan  1972  13079460.0      Asia   36.088  739.981106\n",
      "...           ...   ...         ...       ...      ...         ...\n",
      "1699     Zimbabwe  1987   9216418.0    Africa   62.351  706.157306\n",
      "1700     Zimbabwe  1992  10704340.0    Africa   60.377  693.420786\n",
      "1701     Zimbabwe  1997  11404948.0    Africa   46.809  792.449960\n",
      "1702     Zimbabwe  2002  11926563.0    Africa   39.989  672.038623\n",
      "1703     Zimbabwe  2007  12311143.0    Africa   43.487  469.709298\n",
      "\n",
      "[1704 rows x 6 columns]\n"
     ]
    }
   ],
   "source": [
    "# Step 3. view the data\n",
    "print(gap)"
   ]
  },
  {
   "cell_type": "code",
   "execution_count": 21,
   "id": "df47d331",
   "metadata": {},
   "outputs": [
    {
     "data": {
      "text/html": [
       "<div>\n",
       "<style scoped>\n",
       "    .dataframe tbody tr th:only-of-type {\n",
       "        vertical-align: middle;\n",
       "    }\n",
       "\n",
       "    .dataframe tbody tr th {\n",
       "        vertical-align: top;\n",
       "    }\n",
       "\n",
       "    .dataframe thead th {\n",
       "        text-align: right;\n",
       "    }\n",
       "</style>\n",
       "<table border=\"1\" class=\"dataframe\">\n",
       "  <thead>\n",
       "    <tr style=\"text-align: right;\">\n",
       "      <th></th>\n",
       "      <th>country</th>\n",
       "      <th>year</th>\n",
       "      <th>pop</th>\n",
       "      <th>continent</th>\n",
       "      <th>lifeExp</th>\n",
       "      <th>gdpPercap</th>\n",
       "    </tr>\n",
       "  </thead>\n",
       "  <tbody>\n",
       "    <tr>\n",
       "      <th>0</th>\n",
       "      <td>Afghanistan</td>\n",
       "      <td>1952</td>\n",
       "      <td>8425333.0</td>\n",
       "      <td>Asia</td>\n",
       "      <td>28.801</td>\n",
       "      <td>779.445314</td>\n",
       "    </tr>\n",
       "    <tr>\n",
       "      <th>1</th>\n",
       "      <td>Afghanistan</td>\n",
       "      <td>1957</td>\n",
       "      <td>9240934.0</td>\n",
       "      <td>Asia</td>\n",
       "      <td>30.332</td>\n",
       "      <td>820.853030</td>\n",
       "    </tr>\n",
       "    <tr>\n",
       "      <th>2</th>\n",
       "      <td>Afghanistan</td>\n",
       "      <td>1962</td>\n",
       "      <td>10267083.0</td>\n",
       "      <td>Asia</td>\n",
       "      <td>31.997</td>\n",
       "      <td>853.100710</td>\n",
       "    </tr>\n",
       "    <tr>\n",
       "      <th>3</th>\n",
       "      <td>Afghanistan</td>\n",
       "      <td>1967</td>\n",
       "      <td>11537966.0</td>\n",
       "      <td>Asia</td>\n",
       "      <td>34.020</td>\n",
       "      <td>836.197138</td>\n",
       "    </tr>\n",
       "    <tr>\n",
       "      <th>4</th>\n",
       "      <td>Afghanistan</td>\n",
       "      <td>1972</td>\n",
       "      <td>13079460.0</td>\n",
       "      <td>Asia</td>\n",
       "      <td>36.088</td>\n",
       "      <td>739.981106</td>\n",
       "    </tr>\n",
       "    <tr>\n",
       "      <th>...</th>\n",
       "      <td>...</td>\n",
       "      <td>...</td>\n",
       "      <td>...</td>\n",
       "      <td>...</td>\n",
       "      <td>...</td>\n",
       "      <td>...</td>\n",
       "    </tr>\n",
       "    <tr>\n",
       "      <th>1699</th>\n",
       "      <td>Zimbabwe</td>\n",
       "      <td>1987</td>\n",
       "      <td>9216418.0</td>\n",
       "      <td>Africa</td>\n",
       "      <td>62.351</td>\n",
       "      <td>706.157306</td>\n",
       "    </tr>\n",
       "    <tr>\n",
       "      <th>1700</th>\n",
       "      <td>Zimbabwe</td>\n",
       "      <td>1992</td>\n",
       "      <td>10704340.0</td>\n",
       "      <td>Africa</td>\n",
       "      <td>60.377</td>\n",
       "      <td>693.420786</td>\n",
       "    </tr>\n",
       "    <tr>\n",
       "      <th>1701</th>\n",
       "      <td>Zimbabwe</td>\n",
       "      <td>1997</td>\n",
       "      <td>11404948.0</td>\n",
       "      <td>Africa</td>\n",
       "      <td>46.809</td>\n",
       "      <td>792.449960</td>\n",
       "    </tr>\n",
       "    <tr>\n",
       "      <th>1702</th>\n",
       "      <td>Zimbabwe</td>\n",
       "      <td>2002</td>\n",
       "      <td>11926563.0</td>\n",
       "      <td>Africa</td>\n",
       "      <td>39.989</td>\n",
       "      <td>672.038623</td>\n",
       "    </tr>\n",
       "    <tr>\n",
       "      <th>1703</th>\n",
       "      <td>Zimbabwe</td>\n",
       "      <td>2007</td>\n",
       "      <td>12311143.0</td>\n",
       "      <td>Africa</td>\n",
       "      <td>43.487</td>\n",
       "      <td>469.709298</td>\n",
       "    </tr>\n",
       "  </tbody>\n",
       "</table>\n",
       "<p>1704 rows × 6 columns</p>\n",
       "</div>"
      ],
      "text/plain": [
       "          country  year         pop continent  lifeExp   gdpPercap\n",
       "0     Afghanistan  1952   8425333.0      Asia   28.801  779.445314\n",
       "1     Afghanistan  1957   9240934.0      Asia   30.332  820.853030\n",
       "2     Afghanistan  1962  10267083.0      Asia   31.997  853.100710\n",
       "3     Afghanistan  1967  11537966.0      Asia   34.020  836.197138\n",
       "4     Afghanistan  1972  13079460.0      Asia   36.088  739.981106\n",
       "...           ...   ...         ...       ...      ...         ...\n",
       "1699     Zimbabwe  1987   9216418.0    Africa   62.351  706.157306\n",
       "1700     Zimbabwe  1992  10704340.0    Africa   60.377  693.420786\n",
       "1701     Zimbabwe  1997  11404948.0    Africa   46.809  792.449960\n",
       "1702     Zimbabwe  2002  11926563.0    Africa   39.989  672.038623\n",
       "1703     Zimbabwe  2007  12311143.0    Africa   43.487  469.709298\n",
       "\n",
       "[1704 rows x 6 columns]"
      ]
     },
     "execution_count": 21,
     "metadata": {},
     "output_type": "execute_result"
    }
   ],
   "source": [
    "gap"
   ]
  },
  {
   "cell_type": "code",
   "execution_count": 22,
   "id": "164c3f6f",
   "metadata": {},
   "outputs": [],
   "source": [
    "# x 89 5"
   ]
  },
  {
   "cell_type": "code",
   "execution_count": 23,
   "id": "1e727140",
   "metadata": {},
   "outputs": [],
   "source": [
    "### indentation\n",
    "# def example():\n",
    "#     test = \"this is an example function\"\n",
    "#     print(test)\n",
    "#      return example"
   ]
  },
  {
   "cell_type": "code",
   "execution_count": 24,
   "id": "16ead4f5",
   "metadata": {},
   "outputs": [],
   "source": [
    "# x"
   ]
  },
  {
   "cell_type": "code",
   "execution_count": 25,
   "id": "682d42ff",
   "metadata": {
    "scrolled": true
   },
   "outputs": [],
   "source": [
    "# example()"
   ]
  },
  {
   "cell_type": "code",
   "execution_count": 26,
   "id": "5288a57a",
   "metadata": {},
   "outputs": [],
   "source": [
    "# \"5\" + 5"
   ]
  },
  {
   "cell_type": "code",
   "execution_count": 27,
   "id": "a767d2c3",
   "metadata": {},
   "outputs": [],
   "source": [
    "my_list = ['green', True, 0.5, 4, ['cat', 'dog', 'pig']]\n",
    "# my_list[5]"
   ]
  },
  {
   "cell_type": "code",
   "execution_count": 28,
   "id": "b8b43437",
   "metadata": {},
   "outputs": [],
   "source": [
    "# document = open('fakedocument.txt').read()"
   ]
  }
 ],
 "metadata": {
  "kernelspec": {
   "display_name": "Python 3 (ipykernel)",
   "language": "python",
   "name": "python3"
  },
  "language_info": {
   "codemirror_mode": {
    "name": "ipython",
    "version": 3
   },
   "file_extension": ".py",
   "mimetype": "text/x-python",
   "name": "python",
   "nbconvert_exporter": "python",
   "pygments_lexer": "ipython3",
   "version": "3.9.13"
  }
 },
 "nbformat": 4,
 "nbformat_minor": 5
}