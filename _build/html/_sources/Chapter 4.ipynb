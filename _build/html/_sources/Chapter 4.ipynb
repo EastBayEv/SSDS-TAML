{
 "cells": [
  {
   "cell_type": "markdown",
   "id": "92f0dd85",
   "metadata": {},
   "source": [
    "# Chapter 4 - The BERT algorithm"
   ]
  },
  {
   "cell_type": "markdown",
   "id": "3ec7f58e",
   "metadata": {},
   "source": [
    "2022 February 16"
   ]
  },
  {
   "cell_type": "code",
   "execution_count": null,
   "id": "7c17a948",
   "metadata": {},
   "outputs": [],
   "source": [
    "# forthcoming"
   ]
  }
 ],
 "metadata": {
  "kernelspec": {
   "display_name": "Python 3 (ipykernel)",
   "language": "python",
   "name": "python3"
  },
  "language_info": {
   "codemirror_mode": {
    "name": "ipython",
    "version": 3
   },
   "file_extension": ".py",
   "mimetype": "text/x-python",
   "name": "python",
   "nbconvert_exporter": "python",
   "pygments_lexer": "ipython3",
   "version": "3.8.8"
  }
 },
 "nbformat": 4,
 "nbformat_minor": 5
}
