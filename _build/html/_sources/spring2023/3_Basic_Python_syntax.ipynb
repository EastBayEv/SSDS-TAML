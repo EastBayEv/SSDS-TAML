{
 "cells": [
  {
   "cell_type": "markdown",
   "id": "20a1f09c",
   "metadata": {},
   "source": [
    "# Chapter 3 - Basic Python syntax\n",
    "2023 April 6"
   ]
  },
  {
   "cell_type": "markdown",
   "id": "ee2093b9",
   "metadata": {},
   "source": [
    "<a target=\"_blank\" href=\"https://colab.research.google.com/github/EastBayEv/SSDS-TAML/blob/main/spring2023/3_Basic_Python_syntax.ipynb\">\n",
    "  <img src=\"https://colab.research.google.com/assets/colab-badge.svg\" alt=\"Open In Colab\"/>\n",
    "</a>"
   ]
  },
  {
   "cell_type": "markdown",
   "id": "b5b96ec5",
   "metadata": {},
   "source": [
    "![boiler](img/boiler.jpg)"
   ]
  },
  {
   "cell_type": "markdown",
   "id": "a637c9b1",
   "metadata": {},
   "source": [
    "This chapter explains foundational Python syntax that you can reuse to accomplish many basic data creation, importing, and exporting tasks. "
   ]
  },
  {
   "cell_type": "markdown",
   "id": "35c5fd6f",
   "metadata": {},
   "source": [
    "## Variable assignment\n",
    "\n",
    "In Python, data are saved in **variables.** Variable names should be simple and descriptive. \n",
    "\n",
    "The process is saving something in a variable is called **variable assignment.** These variables with our saved data are **objects** that, like everything in Python, can be manipulated. \n",
    "\n",
    "Assign a variable by typing its name to the **left** of the equals sign. Whatever is written to the **right** of the equals sign will be saved in the variable. \n",
    "\n",
    "Save a single number inside of a variable named with a single letter. You could read the below lines as \"x is defined as one\", \"two is assigned to y\", or most simply put, \"z is three\":"
   ]
  },
  {
   "cell_type": "code",
   "execution_count": 1,
   "id": "4070bdbd",
   "metadata": {},
   "outputs": [],
   "source": [
    "# define one variable\n",
    "x = 1"
   ]
  },
  {
   "cell_type": "code",
   "execution_count": 2,
   "id": "beea0fd3",
   "metadata": {},
   "outputs": [],
   "source": [
    "# assign multiple variables in a single code cell\n",
    "x = 1\n",
    "y = 2\n",
    "z = 3"
   ]
  },
  {
   "cell_type": "markdown",
   "id": "b68a9fd6",
   "metadata": {},
   "source": [
    "## Use `print()` to show it on the screen"
   ]
  },
  {
   "cell_type": "code",
   "execution_count": 3,
   "id": "ca646c59",
   "metadata": {},
   "outputs": [
    {
     "name": "stdout",
     "output_type": "stream",
     "text": [
      "1\n"
     ]
    }
   ],
   "source": [
    "print(x)"
   ]
  },
  {
   "cell_type": "code",
   "execution_count": 4,
   "id": "bcfd3cf4",
   "metadata": {},
   "outputs": [
    {
     "data": {
      "text/plain": [
       "1"
      ]
     },
     "execution_count": 4,
     "metadata": {},
     "output_type": "execute_result"
    }
   ],
   "source": [
    "# \"call\" the variables directly!\n",
    "x"
   ]
  },
  {
   "cell_type": "code",
   "execution_count": 5,
   "id": "db060747",
   "metadata": {},
   "outputs": [
    {
     "data": {
      "text/plain": [
       "2"
      ]
     },
     "execution_count": 5,
     "metadata": {},
     "output_type": "execute_result"
    }
   ],
   "source": [
    "y"
   ]
  },
  {
   "cell_type": "code",
   "execution_count": 6,
   "id": "2feb97ca",
   "metadata": {},
   "outputs": [
    {
     "name": "stdout",
     "output_type": "stream",
     "text": [
      "1.5\n"
     ]
    }
   ],
   "source": [
    "print(x / y * z)"
   ]
  },
  {
   "cell_type": "code",
   "execution_count": 7,
   "id": "e47aec7f",
   "metadata": {},
   "outputs": [
    {
     "data": {
      "text/plain": [
       "1.5"
      ]
     },
     "execution_count": 7,
     "metadata": {},
     "output_type": "execute_result"
    }
   ],
   "source": [
    "x / y * z"
   ]
  },
  {
   "cell_type": "markdown",
   "id": "eb8b8ac1",
   "metadata": {},
   "source": [
    "## Functions, arguments, and methods\n",
    "\n",
    "Functions, arguments, and methods form the core user framework for Python programming. \n",
    "1. **Functions:** Perform self-contained actions on a thing.\n",
    "\n",
    "2. **Argument(s):** The \"things\" (text, values, expressions, datasets, etc.)\n",
    "\n",
    "> Note **\"parameters\"** are the variables as notated during function definition. Arguments are the values we pass into these placeholders while calling the function.  \n",
    "![params](img/params_vs_args.png)"
   ]
  },
  {
   "cell_type": "code",
   "execution_count": 8,
   "id": "6681b100",
   "metadata": {},
   "outputs": [],
   "source": [
    "# Example custom function\n",
    "def print_name(first, last):\n",
    "    return(\"My name is: \" + first + \" \" + last)"
   ]
  },
  {
   "cell_type": "code",
   "execution_count": 9,
   "id": "5fb43150",
   "metadata": {},
   "outputs": [
    {
     "data": {
      "text/plain": [
       "'My name is: Nerd Squirrel'"
      ]
     },
     "execution_count": 9,
     "metadata": {},
     "output_type": "execute_result"
    }
   ],
   "source": [
    "print_name(\"Nerd\", \"Squirrel\")"
   ]
  },
  {
   "cell_type": "markdown",
   "id": "515d6834",
   "metadata": {},
   "source": [
    "3. **Methods:** Type-specific functions (i.e., can only use a specific type of data and not other types). Use \"dot\" notation to utilize methods on a variable or other object. \n",
    "\n",
    "> For example, you will type `gap = pd.read_csv('data/gapminder-FiveYearData.csv')` to use the `read_csv()` method from the pandas library (imported as the alias `pd`) to load the Gapminder data."
   ]
  },
  {
   "cell_type": "markdown",
   "id": "f96fec38",
   "metadata": {},
   "source": [
    "## Data types\n",
    "\n",
    "Everything in Python has a type which determines how we can use it. Data are no exception! Be careful, it is easy to get confused when trying to complete multiple tasks that use lots of different variables!\n",
    "\n",
    "Use the `type` function to get the type of any variable if you're unsure. Below are four core data types: \n",
    "\n",
    "1. `str`: Character string; text. Always wrapped in quotations (single or double are fine)\n",
    "2. `bool`: Boolean `True`/`False`. `True` is stored under the hood as 1, `False` is stored as 0\n",
    "3. `float`: Decimals (floating-point)\n",
    "4. `int`: Whole numbers (positive and negative, including zero)"
   ]
  },
  {
   "cell_type": "code",
   "execution_count": 10,
   "id": "91093866",
   "metadata": {},
   "outputs": [
    {
     "name": "stdout",
     "output_type": "stream",
     "text": [
      "This is string data\n",
      "<class 'str'>\n"
     ]
    }
   ],
   "source": [
    "# 1. String data\n",
    "x1 = \"This is string data\"\n",
    "print(x1)\n",
    "print(type(x1))"
   ]
  },
  {
   "cell_type": "code",
   "execution_count": 11,
   "id": "7787f2fc",
   "metadata": {},
   "outputs": [
    {
     "name": "stdout",
     "output_type": "stream",
     "text": [
      "True\n",
      "<class 'bool'>\n"
     ]
    }
   ],
   "source": [
    "# 2. Boolean data\n",
    "x2 = True\n",
    "print(x2)\n",
    "print(type(x2))"
   ]
  },
  {
   "cell_type": "code",
   "execution_count": 12,
   "id": "2dda3e66",
   "metadata": {},
   "outputs": [
    {
     "name": "stdout",
     "output_type": "stream",
     "text": [
      "3.14\n",
      "<class 'float'>\n"
     ]
    }
   ],
   "source": [
    "# 3. float (decimals)\n",
    "# use a decimal to create floats\n",
    "pi = 3.14\n",
    "print(pi)\n",
    "print(type(pi))"
   ]
  },
  {
   "cell_type": "code",
   "execution_count": 13,
   "id": "c656d939",
   "metadata": {},
   "outputs": [
    {
     "name": "stdout",
     "output_type": "stream",
     "text": [
      "4\n",
      "<class 'int'>\n"
     ]
    }
   ],
   "source": [
    "# 4. integer (whole numbers)\n",
    "# do not use a decimal for integers\n",
    "amount = 4\n",
    "print(amount)\n",
    "print(type(amount))"
   ]
  },
  {
   "cell_type": "markdown",
   "id": "50d29a61",
   "metadata": {},
   "source": [
    "## String addition versus integer addition"
   ]
  },
  {
   "cell_type": "code",
   "execution_count": 14,
   "id": "08c430fe",
   "metadata": {},
   "outputs": [
    {
     "data": {
      "text/plain": [
       "'11'"
      ]
     },
     "execution_count": 14,
     "metadata": {},
     "output_type": "execute_result"
    }
   ],
   "source": [
    "# character strings\n",
    "'1' + '1'"
   ]
  },
  {
   "cell_type": "code",
   "execution_count": 15,
   "id": "1868a6f3",
   "metadata": {},
   "outputs": [
    {
     "data": {
      "text/plain": [
       "2"
      ]
     },
     "execution_count": 15,
     "metadata": {},
     "output_type": "execute_result"
    }
   ],
   "source": [
    "# integers\n",
    "1 + 1"
   ]
  },
  {
   "cell_type": "markdown",
   "id": "faca9b32",
   "metadata": {},
   "source": [
    "## Data structures\n",
    "\n",
    "Data can be stored in a variety of ways. Regardless, we can **index** (positionally reference) a portion of a larger data structure or collection. \n",
    "\n",
    "### Python is zero-indexed!\n",
    "\n",
    "Python is a zero-indexed programming language and means that you start counting from zero. Thus, the first element in a collection is referenced by 0 instead of 1. \n",
    "\n",
    "Four structures are discussed below:\n",
    "1. **Lists** are ordered groups of data that are both created and indexed with square brackets `[]`\n",
    "2. **Dictionaries** are _unordered_ groups of \"key`:`value\" pairs. Use the key to access the value. Curly braces `{}` are used to create and index dictionaries, while a colon `:` separates a key from its corresponding value. \n",
    "3. **Character strings** can contain text of virtually any length\n",
    "4. **Data Frames** are tabular data organized into rows and columns. Think of an MS Excel spreadsheet!"
   ]
  },
  {
   "cell_type": "markdown",
   "id": "109b2118",
   "metadata": {},
   "source": [
    "## 1. List"
   ]
  },
  {
   "cell_type": "code",
   "execution_count": 17,
   "id": "6551cb75",
   "metadata": {},
   "outputs": [
    {
     "data": {
      "text/plain": [
       "'shark'"
      ]
     },
     "execution_count": 17,
     "metadata": {},
     "output_type": "execute_result"
    }
   ],
   "source": [
    "# Define a list with with square brackets. This list contains two character strings 'shark' and 'dolphin'\n",
    "animals = ['shark', 'dolphin']\n",
    "\n",
    "# Print the first list item to the screen\n",
    "animals[0]"
   ]
  },
  {
   "cell_type": "code",
   "execution_count": 18,
   "id": "803c6ec4",
   "metadata": {},
   "outputs": [
    {
     "data": {
      "text/plain": [
       "'dolphin'"
      ]
     },
     "execution_count": 18,
     "metadata": {},
     "output_type": "execute_result"
    }
   ],
   "source": [
    "# Call the second thing (remember Python is zero-indexed)\n",
    "animals[1]"
   ]
  },
  {
   "cell_type": "markdown",
   "id": "e68f4dd2",
   "metadata": {},
   "source": [
    "Lists can contain elements of almost any data type, including other lists! \n",
    "\n",
    "When this is the case, we can use multi-indices to extract just the piece of data we want. For example, to return only the element \"tree\":"
   ]
  },
  {
   "cell_type": "code",
   "execution_count": 20,
   "id": "d2eb72ec",
   "metadata": {},
   "outputs": [
    {
     "name": "stdout",
     "output_type": "stream",
     "text": [
      "tree\n"
     ]
    }
   ],
   "source": [
    "# Lists can contain other structures, such as other lists\n",
    "# To get an element from a list within a list, double-index the original list!\n",
    "animals = ['shark', 'dolphin', ['dog', 'cat'], ['tree', 'cactus']]\n",
    "print(animals[3][0])"
   ]
  },
  {
   "cell_type": "markdown",
   "id": "870846e5",
   "metadata": {},
   "source": [
    "Or, to just return the element \"cat\":"
   ]
  },
  {
   "cell_type": "code",
   "execution_count": 21,
   "id": "653560c7",
   "metadata": {},
   "outputs": [
    {
     "name": "stdout",
     "output_type": "stream",
     "text": [
      "['shark', 'dolphin', ['dog', 'cat'], ['tree', 'cactus']]\n"
     ]
    }
   ],
   "source": [
    "# print this 'animals' list\n",
    "print(animals)"
   ]
  },
  {
   "cell_type": "code",
   "execution_count": 22,
   "id": "d403006e",
   "metadata": {},
   "outputs": [
    {
     "name": "stdout",
     "output_type": "stream",
     "text": [
      "['dog', 'cat']\n"
     ]
    }
   ],
   "source": [
    "# print just the 3rd thing - the sublist containing 'dog' and 'cat'\n",
    "print(animals[2])"
   ]
  },
  {
   "cell_type": "code",
   "execution_count": 23,
   "id": "17c201d3",
   "metadata": {},
   "outputs": [
    {
     "name": "stdout",
     "output_type": "stream",
     "text": [
      "cat\n"
     ]
    }
   ],
   "source": [
    "# print only 'cat'\n",
    "print(animals[2][1])"
   ]
  },
  {
   "cell_type": "markdown",
   "id": "912a72da",
   "metadata": {},
   "source": [
    "Lists can also contain elements of different types:"
   ]
  },
  {
   "cell_type": "code",
   "execution_count": 24,
   "id": "bce31368",
   "metadata": {},
   "outputs": [
    {
     "name": "stdout",
     "output_type": "stream",
     "text": [
      "<class 'str'>\n",
      "<class 'float'>\n"
     ]
    }
   ],
   "source": [
    "# Define a heterogeneous list\n",
    "chimera = ['lion', 0.5, 'griffin', 0.5]\n",
    "print(type(chimera[0]))\n",
    "print(type(chimera[1]))"
   ]
  },
  {
   "cell_type": "markdown",
   "id": "6e2198a5",
   "metadata": {},
   "source": [
    "## 2. Dictionary"
   ]
  },
  {
   "cell_type": "code",
   "execution_count": 25,
   "id": "1bdc7e4a",
   "metadata": {},
   "outputs": [
    {
     "data": {
      "text/plain": [
       "{'name': 'apple',\n",
       " 'color': ['red', 'green'],\n",
       " 'recipes': ['pie', 'salad', 'sauce']}"
      ]
     },
     "execution_count": 25,
     "metadata": {},
     "output_type": "execute_result"
    }
   ],
   "source": [
    "# Define two dictionaries - apple and orange\n",
    "apple = {'name': 'apple', 'color': ['red', 'green'], 'recipes': ['pie', 'salad', 'sauce']}\n",
    "orange = {'name': 'orange', 'color': 'orange', 'recipes': ['juice', 'marmalade', 'gratin']}\n",
    "apple"
   ]
  },
  {
   "cell_type": "code",
   "execution_count": 26,
   "id": "91297bac",
   "metadata": {},
   "outputs": [
    {
     "data": {
      "text/plain": [
       "{'name': 'orange',\n",
       " 'color': 'orange',\n",
       " 'recipes': ['juice', 'marmalade', 'gratin']}"
      ]
     },
     "execution_count": 26,
     "metadata": {},
     "output_type": "execute_result"
    }
   ],
   "source": [
    "orange"
   ]
  },
  {
   "cell_type": "markdown",
   "id": "0a06b385",
   "metadata": {},
   "source": [
    "Combine two dictionaries into one by placing them in a list value `[apple, orange]`, with a key named `fruits`. Call the key to see the value(s)!"
   ]
  },
  {
   "cell_type": "code",
   "execution_count": 27,
   "id": "76f2dd9c",
   "metadata": {},
   "outputs": [
    {
     "data": {
      "text/plain": [
       "{'fruits': [{'name': 'apple',\n",
       "   'color': ['red', 'green'],\n",
       "   'recipes': ['pie', 'salad', 'sauce']},\n",
       "  {'name': 'orange',\n",
       "   'color': 'orange',\n",
       "   'recipes': ['juice', 'marmalade', 'gratin']}]}"
      ]
     },
     "execution_count": 27,
     "metadata": {},
     "output_type": "execute_result"
    }
   ],
   "source": [
    "fruits = {'fruits': [apple, orange]}\n",
    "\n",
    "fruits"
   ]
  },
  {
   "cell_type": "markdown",
   "id": "7762a1bd",
   "metadata": {},
   "source": [
    "To index just \"juice\" - under the 'recipes' key for the `orange` dictionary, combine dictionary key and list techniques to tunnel into the hierarchical structure of the dictionary and extract just what you want:"
   ]
  },
  {
   "cell_type": "code",
   "execution_count": 28,
   "id": "5219b76a",
   "metadata": {},
   "outputs": [
    {
     "data": {
      "text/plain": [
       "{'fruits': [{'name': 'apple',\n",
       "   'color': ['red', 'green'],\n",
       "   'recipes': ['pie', 'salad', 'sauce']},\n",
       "  {'name': 'orange',\n",
       "   'color': 'orange',\n",
       "   'recipes': ['juice', 'marmalade', 'gratin']}]}"
      ]
     },
     "execution_count": 28,
     "metadata": {},
     "output_type": "execute_result"
    }
   ],
   "source": [
    "# Call the newly combined dictionary\n",
    "fruits"
   ]
  },
  {
   "cell_type": "code",
   "execution_count": 29,
   "id": "391c7d64",
   "metadata": {},
   "outputs": [
    {
     "data": {
      "text/plain": [
       "[{'name': 'apple',\n",
       "  'color': ['red', 'green'],\n",
       "  'recipes': ['pie', 'salad', 'sauce']},\n",
       " {'name': 'orange',\n",
       "  'color': 'orange',\n",
       "  'recipes': ['juice', 'marmalade', 'gratin']}]"
      ]
     },
     "execution_count": 29,
     "metadata": {},
     "output_type": "execute_result"
    }
   ],
   "source": [
    "# Reference the 'fruits' key\n",
    "fruits['fruits']"
   ]
  },
  {
   "cell_type": "code",
   "execution_count": 30,
   "id": "b0f09ea6",
   "metadata": {},
   "outputs": [
    {
     "data": {
      "text/plain": [
       "{'name': 'orange',\n",
       " 'color': 'orange',\n",
       " 'recipes': ['juice', 'marmalade', 'gratin']}"
      ]
     },
     "execution_count": 30,
     "metadata": {},
     "output_type": "execute_result"
    }
   ],
   "source": [
    "# Index the second thing (orange)\n",
    "fruits['fruits'][1]"
   ]
  },
  {
   "cell_type": "code",
   "execution_count": 31,
   "id": "bb2a3e72",
   "metadata": {},
   "outputs": [
    {
     "data": {
      "text/plain": [
       "['juice', 'marmalade', 'gratin']"
      ]
     },
     "execution_count": 31,
     "metadata": {},
     "output_type": "execute_result"
    }
   ],
   "source": [
    "# Call the 'recipes' key from 'orange' to see the items list\n",
    "fruits['fruits'][1]['recipes']"
   ]
  },
  {
   "cell_type": "code",
   "execution_count": 32,
   "id": "09e86a09",
   "metadata": {},
   "outputs": [
    {
     "data": {
      "text/plain": [
       "'juice'"
      ]
     },
     "execution_count": 32,
     "metadata": {},
     "output_type": "execute_result"
    }
   ],
   "source": [
    "# Return the first thing from the 'recipes' key of the 'orange' dictionary inside of 'fruits'!\n",
    "fruits['fruits'][1]['recipes'][0]"
   ]
  },
  {
   "cell_type": "markdown",
   "id": "18b4e267",
   "metadata": {},
   "source": [
    "## Data import\n",
    "\n",
    "Python offers a variety of methods for importing data. Thankfully, it is quite straightforward to import data from .csv and .txt files. Other formats, such as .xml and .json, are also supported. \n",
    "\n",
    "Below, let's import: \n",
    "1. Text from a .txt file\n",
    "2. A dataframe from a .csv file"
   ]
  },
  {
   "cell_type": "markdown",
   "id": "cb234df8",
   "metadata": {},
   "source": [
    "### A note about importing data into Google Colab\n",
    "\n",
    "Navigating Google Colab's file system can be challenging since it is slightly different from working on your local machine. \n",
    "\n",
    "Run the code below to import the dataset into a temporary subfolder named \"data\" inside of the main Colab \"/content\" directory.\n",
    "\n",
    "**Run Steps 1-3 below to save a data file in your Google Drive, which can then be importend to your Colab environment**\n",
    "\n",
    "> NOTE: Colab is a temporary environment with an idle timeout of 90 minutes and an absolute timeout of 12 hours.\n",
    ">\n",
    ">There are other ways to use Colab's file system, such as mounting your Google Drive, but if you are having trouble in Colab refer back to these steps to import data used in this bootcamp. Contact SSDS if you want to learn more. "
   ]
  },
  {
   "cell_type": "code",
   "execution_count": 31,
   "id": "6b1df726",
   "metadata": {},
   "outputs": [
    {
     "name": "stdout",
     "output_type": "stream",
     "text": [
      "mkdir: data: File exists\n",
      "1_How_to_use_this_book.ipynb\n",
      "2_Python_environments.ipynb\n",
      "3_Basic_Python_syntax.ipynb\n",
      "4_Numeric_data_wrangling.ipynb\n",
      "5_Data_visualization_essentials.ipynb\n",
      "6_Core_concepts_vocabularies.ipynb\n",
      "7_English_text_preprocessing_basics.ipynb\n",
      "8_spaCy_textaCy.ipynb\n",
      "9_BERTopic.ipynb\n",
      "Appendix.ipynb\n",
      "Solutions.ipynb\n",
      "\u001b[34mdata\u001b[m\u001b[m\n",
      "\u001b[34mimg\u001b[m\u001b[m\n"
     ]
    }
   ],
   "source": [
    "# Step 1. Create the directory\n",
    "!mkdir data\n",
    "\n",
    "# Step 2. “List” the contents of the current working directory\n",
    "!ls\n",
    "\n",
    "# Step 3. Use wget to download the data file\n",
    "# learn more about wget: https://www.gnu.org/software/wget/?\n",
    "# !wget -P  data/ https://raw.githubusercontent.com/EastBayEv/SSDS-TAML/main/spring2023/data/frankenstein.txt"
   ]
  },
  {
   "cell_type": "markdown",
   "id": "68026686",
   "metadata": {},
   "source": [
    "### Import text data as a character string\n",
    "\n",
    "Import text as a single string using the `open().read()` Python convention.\n",
    "\n",
    "Review your basic building blocks from above: \n",
    "1. `frank` is the name of the variable we will save the text inside of\n",
    "2. `open` is the function we will use to open the text file\n",
    "3. `'data/frankenstein.txt'` is the argument that we provide to the `open` function. This matches the `file` path argument and needs to contain the location for the Frankenstein book.\n",
    "4. `.read()` reads the file as text. "
   ]
  },
  {
   "cell_type": "code",
   "execution_count": 33,
   "id": "12a1d5c1",
   "metadata": {},
   "outputs": [
    {
     "name": "stdout",
     "output_type": "stream",
     "text": [
      "The Project Gutenberg eBook of Frankenstein, by Mary Wollstonecraft (Godwin) Shelley\n",
      "\n",
      "This eBook is for the use of anyone anywhere in the United States and\n",
      "most other parts of the world at no cost and with almost no restrictions\n",
      "whatsoever. You may copy it, give it away or re-use it under the terms\n",
      "of the Project Gutenberg License included with this eBook or online at\n",
      "www.gutenberg.org. If you are not located in the United States, you\n",
      "will have to check the laws of the country where you are located before\n",
      "using this eBook.\n",
      "\n",
      "Title: Frankenstein\n",
      "       or, The Modern Prometheus\n",
      "\n",
      "Author: Mary Wollstonecraft (Godwin) Shelley\n",
      "\n",
      "Release Date: 31, 1993 [eBook #84]\n",
      "[Most recently updated: November 13, 2020]\n",
      "\n",
      "Language: English\n",
      "\n",
      "Character set encoding: UTF-8\n",
      "\n",
      "Produced by: Judith Boss, Christy Phillips, Lynn Hanninen, and David Meltzer. HTML version by Al Haines.\n",
      "Further corrections by Menno de Leeuw.\n",
      "\n",
      "*** START OF THE PROJECT GUTENBERG EBOOK FRANKENSTEIN ***\n",
      "\n",
      "\n",
      "\n",
      "\n",
      "Frankenstein;\n",
      "\n",
      "or, the Modern Prom\n"
     ]
    }
   ],
   "source": [
    "frank = open('data/frankenstein.txt').read()\n",
    "# print(frank)\n",
    "\n",
    "# print only the first 1000 characters\n",
    "print(frank[:1000])"
   ]
  },
  {
   "cell_type": "markdown",
   "id": "85ef1b8d",
   "metadata": {},
   "source": [
    "### Import data frames with the pandas library\n",
    "\n",
    "Data frames are programming speak for tabular spreadsheets organized into rows and columns and often stored in useful formats such as .csv (i.e., a spreadsheet)\n",
    "\n",
    ".csv stands for \"comma-separated values\" and means that these data are stored as text files with a comma used to delineate column breaks. \n",
    "\n",
    "For this part, we will use the [pandas](https://pandas.pydata.org/docs/getting_started/intro_tutorials/02_read_write.html) Python library. Remember how to install user-defined libraries from Chapter 2? This is a two step process."
   ]
  },
  {
   "cell_type": "code",
   "execution_count": 34,
   "id": "50b0388b",
   "metadata": {},
   "outputs": [],
   "source": [
    "# Step 1. Physically download and install the library's files (unhashtab the line below to run)\n",
    "# !pip install pandas"
   ]
  },
  {
   "cell_type": "code",
   "execution_count": 35,
   "id": "df82b537",
   "metadata": {},
   "outputs": [],
   "source": [
    "# Step 2. link the pandas library to our current notebook\n",
    "# pd is the alias, or shorthand, way to reference the pandas library\n",
    "import pandas as pd "
   ]
  },
  {
   "cell_type": "markdown",
   "id": "d834289d",
   "metadata": {},
   "source": [
    "Now, you can use dot notation (type `pd.`)to access the functions within the pandas library. \n",
    "\n",
    "We want the `read.csv` method. Like the .txt file import above, we must provide the file path of the location of the .csv file we want to import. \n",
    "\n",
    "Save it in the variable named `gap`"
   ]
  },
  {
   "cell_type": "markdown",
   "id": "18993cc6",
   "metadata": {},
   "source": [
    "## What is Gross Domestic Product? (GDP)\n",
    "\n",
    "GDP is a general estimate of global societal well-being. Learn more about GDP here: https://en.wikipedia.org/wiki/Gross_domestic_product. \n",
    "\n",
    "Learn more about GDP \"per capita\" (per person): https://databank.worldbank.org/metadataglossary/statistical-capacity-indicators/series/5.51.01.10.gdp"
   ]
  },
  {
   "cell_type": "code",
   "execution_count": 36,
   "id": "b8259472",
   "metadata": {},
   "outputs": [],
   "source": [
    "# Colab users: grab the data! Unhashtag the line below\n",
    "# !wget -P data/ https://raw.githubusercontent.com/EastBayEv/SSDS-TAML/main/spring2023/data/gapminder-FiveYearData.csv"
   ]
  },
  {
   "cell_type": "code",
   "execution_count": 37,
   "id": "af8e4945",
   "metadata": {},
   "outputs": [],
   "source": [
    "gap = pd.read_csv(\"data/gapminder-FiveYearData.csv\")"
   ]
  },
  {
   "cell_type": "code",
   "execution_count": 38,
   "id": "ec2d9799",
   "metadata": {},
   "outputs": [
    {
     "name": "stdout",
     "output_type": "stream",
     "text": [
      "          country  year         pop continent  lifeExp   gdpPercap\n",
      "0     Afghanistan  1952   8425333.0      Asia   28.801  779.445314\n",
      "1     Afghanistan  1957   9240934.0      Asia   30.332  820.853030\n",
      "2     Afghanistan  1962  10267083.0      Asia   31.997  853.100710\n",
      "3     Afghanistan  1967  11537966.0      Asia   34.020  836.197138\n",
      "4     Afghanistan  1972  13079460.0      Asia   36.088  739.981106\n",
      "...           ...   ...         ...       ...      ...         ...\n",
      "1699     Zimbabwe  1987   9216418.0    Africa   62.351  706.157306\n",
      "1700     Zimbabwe  1992  10704340.0    Africa   60.377  693.420786\n",
      "1701     Zimbabwe  1997  11404948.0    Africa   46.809  792.449960\n",
      "1702     Zimbabwe  2002  11926563.0    Africa   39.989  672.038623\n",
      "1703     Zimbabwe  2007  12311143.0    Africa   43.487  469.709298\n",
      "\n",
      "[1704 rows x 6 columns]\n"
     ]
    }
   ],
   "source": [
    "# View the data\n",
    "print(gap)"
   ]
  },
  {
   "cell_type": "code",
   "execution_count": 39,
   "id": "df47d331",
   "metadata": {},
   "outputs": [
    {
     "data": {
      "text/html": [
       "<div>\n",
       "<style scoped>\n",
       "    .dataframe tbody tr th:only-of-type {\n",
       "        vertical-align: middle;\n",
       "    }\n",
       "\n",
       "    .dataframe tbody tr th {\n",
       "        vertical-align: top;\n",
       "    }\n",
       "\n",
       "    .dataframe thead th {\n",
       "        text-align: right;\n",
       "    }\n",
       "</style>\n",
       "<table border=\"1\" class=\"dataframe\">\n",
       "  <thead>\n",
       "    <tr style=\"text-align: right;\">\n",
       "      <th></th>\n",
       "      <th>country</th>\n",
       "      <th>year</th>\n",
       "      <th>pop</th>\n",
       "      <th>continent</th>\n",
       "      <th>lifeExp</th>\n",
       "      <th>gdpPercap</th>\n",
       "    </tr>\n",
       "  </thead>\n",
       "  <tbody>\n",
       "    <tr>\n",
       "      <th>0</th>\n",
       "      <td>Afghanistan</td>\n",
       "      <td>1952</td>\n",
       "      <td>8425333.0</td>\n",
       "      <td>Asia</td>\n",
       "      <td>28.801</td>\n",
       "      <td>779.445314</td>\n",
       "    </tr>\n",
       "    <tr>\n",
       "      <th>1</th>\n",
       "      <td>Afghanistan</td>\n",
       "      <td>1957</td>\n",
       "      <td>9240934.0</td>\n",
       "      <td>Asia</td>\n",
       "      <td>30.332</td>\n",
       "      <td>820.853030</td>\n",
       "    </tr>\n",
       "    <tr>\n",
       "      <th>2</th>\n",
       "      <td>Afghanistan</td>\n",
       "      <td>1962</td>\n",
       "      <td>10267083.0</td>\n",
       "      <td>Asia</td>\n",
       "      <td>31.997</td>\n",
       "      <td>853.100710</td>\n",
       "    </tr>\n",
       "    <tr>\n",
       "      <th>3</th>\n",
       "      <td>Afghanistan</td>\n",
       "      <td>1967</td>\n",
       "      <td>11537966.0</td>\n",
       "      <td>Asia</td>\n",
       "      <td>34.020</td>\n",
       "      <td>836.197138</td>\n",
       "    </tr>\n",
       "    <tr>\n",
       "      <th>4</th>\n",
       "      <td>Afghanistan</td>\n",
       "      <td>1972</td>\n",
       "      <td>13079460.0</td>\n",
       "      <td>Asia</td>\n",
       "      <td>36.088</td>\n",
       "      <td>739.981106</td>\n",
       "    </tr>\n",
       "    <tr>\n",
       "      <th>...</th>\n",
       "      <td>...</td>\n",
       "      <td>...</td>\n",
       "      <td>...</td>\n",
       "      <td>...</td>\n",
       "      <td>...</td>\n",
       "      <td>...</td>\n",
       "    </tr>\n",
       "    <tr>\n",
       "      <th>1699</th>\n",
       "      <td>Zimbabwe</td>\n",
       "      <td>1987</td>\n",
       "      <td>9216418.0</td>\n",
       "      <td>Africa</td>\n",
       "      <td>62.351</td>\n",
       "      <td>706.157306</td>\n",
       "    </tr>\n",
       "    <tr>\n",
       "      <th>1700</th>\n",
       "      <td>Zimbabwe</td>\n",
       "      <td>1992</td>\n",
       "      <td>10704340.0</td>\n",
       "      <td>Africa</td>\n",
       "      <td>60.377</td>\n",
       "      <td>693.420786</td>\n",
       "    </tr>\n",
       "    <tr>\n",
       "      <th>1701</th>\n",
       "      <td>Zimbabwe</td>\n",
       "      <td>1997</td>\n",
       "      <td>11404948.0</td>\n",
       "      <td>Africa</td>\n",
       "      <td>46.809</td>\n",
       "      <td>792.449960</td>\n",
       "    </tr>\n",
       "    <tr>\n",
       "      <th>1702</th>\n",
       "      <td>Zimbabwe</td>\n",
       "      <td>2002</td>\n",
       "      <td>11926563.0</td>\n",
       "      <td>Africa</td>\n",
       "      <td>39.989</td>\n",
       "      <td>672.038623</td>\n",
       "    </tr>\n",
       "    <tr>\n",
       "      <th>1703</th>\n",
       "      <td>Zimbabwe</td>\n",
       "      <td>2007</td>\n",
       "      <td>12311143.0</td>\n",
       "      <td>Africa</td>\n",
       "      <td>43.487</td>\n",
       "      <td>469.709298</td>\n",
       "    </tr>\n",
       "  </tbody>\n",
       "</table>\n",
       "<p>1704 rows × 6 columns</p>\n",
       "</div>"
      ],
      "text/plain": [
       "          country  year         pop continent  lifeExp   gdpPercap\n",
       "0     Afghanistan  1952   8425333.0      Asia   28.801  779.445314\n",
       "1     Afghanistan  1957   9240934.0      Asia   30.332  820.853030\n",
       "2     Afghanistan  1962  10267083.0      Asia   31.997  853.100710\n",
       "3     Afghanistan  1967  11537966.0      Asia   34.020  836.197138\n",
       "4     Afghanistan  1972  13079460.0      Asia   36.088  739.981106\n",
       "...           ...   ...         ...       ...      ...         ...\n",
       "1699     Zimbabwe  1987   9216418.0    Africa   62.351  706.157306\n",
       "1700     Zimbabwe  1992  10704340.0    Africa   60.377  693.420786\n",
       "1701     Zimbabwe  1997  11404948.0    Africa   46.809  792.449960\n",
       "1702     Zimbabwe  2002  11926563.0    Africa   39.989  672.038623\n",
       "1703     Zimbabwe  2007  12311143.0    Africa   43.487  469.709298\n",
       "\n",
       "[1704 rows x 6 columns]"
      ]
     },
     "execution_count": 39,
     "metadata": {},
     "output_type": "execute_result"
    }
   ],
   "source": [
    "gap"
   ]
  },
  {
   "cell_type": "markdown",
   "id": "181fb269",
   "metadata": {},
   "source": [
    "## Getting help\n",
    "\n",
    "The help pages in Python are generally quite useful and tell you everything you need to know - you just don't know it yet! Type a question mark `?` before a funciton to view its help pages."
   ]
  },
  {
   "cell_type": "code",
   "execution_count": 39,
   "id": "b895df69",
   "metadata": {},
   "outputs": [],
   "source": [
    "# ?pd.read_csv"
   ]
  },
  {
   "cell_type": "markdown",
   "id": "c1abb337",
   "metadata": {},
   "source": [
    "## Error messages\n",
    "\n",
    "Python's learning curve can feel creative and beyond frustrating at the same time. Just remember that everyone encounters errors - lots of them. When you do, start debugging by investigating the type of error message you receive. \n",
    "\n",
    "Scroll to the end of the error message and read the last line to find the type of error.  \n",
    "\n",
    "*Helpful debugging tools/strategies:*\n",
    "1. Googling the error text, and referring to a forum like StackOverflow  \n",
    "2. (IDE-dependent) Placing breakpoints in your program and using the debugger tool to step through the program  \n",
    "3. Strategically place print() statements to know where your program is reaching/failing to reach  \n",
    "4. Ask a friend! A fresh set of eyes goes a long way when you're working on code.\n",
    "5. Restart your IDE and/or your machine.  \n",
    "6. [Schedule an SSDS consultation](https://library.stanford.edu/research/software-and-services-data-science/schedule-consulting-appointment-contact-us)\n",
    "\n",
    "## Exercises\n",
    "\n",
    "1. Unhashtag the line of code for each error message below\n",
    "2. Run each cell\n",
    "3. Inspect the error messages. Are they helpful?"
   ]
  },
  {
   "cell_type": "markdown",
   "id": "8b9e0154",
   "metadata": {},
   "source": [
    "### Syntax errors\n",
    "\n",
    "**Invalid syntax error** \n",
    "\n",
    "You have entered invalid syntax, or something python does not understand."
   ]
  },
  {
   "cell_type": "code",
   "execution_count": 40,
   "id": "164c3f6f",
   "metadata": {},
   "outputs": [],
   "source": [
    "# x 89 5"
   ]
  },
  {
   "cell_type": "markdown",
   "id": "f2db8247",
   "metadata": {},
   "source": [
    "**Indentation error**\n",
    "\n",
    "Your indentation does not conform to the rules. \n",
    "\n",
    "Highlight the code in the cell below and press `command` and `/` (Mac) or `Ctrl` and `/` on Windows to block comment/uncomment multiple lines of code:"
   ]
  },
  {
   "cell_type": "code",
   "execution_count": 41,
   "id": "1e727140",
   "metadata": {},
   "outputs": [],
   "source": [
    "# def example():\n",
    "#     test = \"this is an example function\"\n",
    "#     print(test)\n",
    "#      return example"
   ]
  },
  {
   "cell_type": "markdown",
   "id": "feebf29b",
   "metadata": {},
   "source": [
    "### Runtime errors\n",
    "\n",
    "**Name error** \n",
    "\n",
    "You try to call a variable you have not yet assigned"
   ]
  },
  {
   "cell_type": "code",
   "execution_count": 42,
   "id": "16ead4f5",
   "metadata": {},
   "outputs": [],
   "source": [
    "# p"
   ]
  },
  {
   "cell_type": "markdown",
   "id": "9f7069a3",
   "metadata": {},
   "source": [
    "Or, you try to call a function from a library that you have not yet imported"
   ]
  },
  {
   "cell_type": "code",
   "execution_count": 43,
   "id": "682d42ff",
   "metadata": {
    "scrolled": true
   },
   "outputs": [],
   "source": [
    "# example()"
   ]
  },
  {
   "cell_type": "markdown",
   "id": "97d926ac",
   "metadata": {},
   "source": [
    "**Type error**\n",
    "\n",
    "You write code with incompatible types"
   ]
  },
  {
   "cell_type": "code",
   "execution_count": 44,
   "id": "5288a57a",
   "metadata": {},
   "outputs": [],
   "source": [
    "# \"5\" + 5"
   ]
  },
  {
   "cell_type": "markdown",
   "id": "14d010a6",
   "metadata": {},
   "source": [
    "**Index error**\n",
    "\n",
    "You try to reference something that is out of range"
   ]
  },
  {
   "cell_type": "code",
   "execution_count": 45,
   "id": "a767d2c3",
   "metadata": {},
   "outputs": [],
   "source": [
    "my_list = ['green', True, 0.5, 4, ['cat', 'dog', 'pig']]\n",
    "# my_list[5]"
   ]
  },
  {
   "cell_type": "markdown",
   "id": "092f0a83",
   "metadata": {},
   "source": [
    "### File errors\n",
    "\n",
    "**File not found**\n",
    "\n",
    "You try to import something that does not exist"
   ]
  },
  {
   "cell_type": "code",
   "execution_count": 46,
   "id": "b8b43437",
   "metadata": {},
   "outputs": [],
   "source": [
    "# document = open('fakedtextfile.txt').read()"
   ]
  },
  {
   "cell_type": "markdown",
   "id": "c32c589e",
   "metadata": {},
   "source": [
    "## Exercises\n",
    "\n",
    "1. Define one variable for each of the four data types introduced above: 1) string, 2) boolean, 3) float, and 4) integer. \n",
    "2. Define two lists that contain four elements each. \n",
    "3. Define a dictionary that containts the two lists from #2 above.\n",
    "4. Import the file \"dracula.txt\". Save it in a variable named `drac`\n",
    "5. Import the file \"penguins.csv\". Save it in a variable named `pen`\n",
    "6. Figure out how to find help to export just the first 1000 characters of `drac` as a .txt file named \"dracula_short.txt\"\n",
    "7. Figure out how to export the `pen` dataframe as a file named \"penguins_saved.csv\"\n",
    "\n",
    "If you encounter error messages, which ones? \n",
    "\n",
    "> Note: See the Solutions chapter for code to copy files from your Colab environment to your Google Drive! "
   ]
  },
  {
   "cell_type": "markdown",
   "id": "e3942bc6",
   "metadata": {},
   "source": [
    "## Numeric data wrangling\n",
    "\n",
    "Importing numeric data from a .csv file is one thing, but wrangling it into a format that suits your needs is another. Read Chapter 4 \"Numeric data wrangling\" to learn how to use the pandas library to subset numeric data! \n",
    "\n",
    "Chapter 7 contains information about preprocessing text data. "
   ]
  }
 ],
 "metadata": {
  "kernelspec": {
   "display_name": "Python 3 (ipykernel)",
   "language": "python",
   "name": "python3"
  },
  "language_info": {
   "codemirror_mode": {
    "name": "ipython",
    "version": 3
   },
   "file_extension": ".py",
   "mimetype": "text/x-python",
   "name": "python",
   "nbconvert_exporter": "python",
   "pygments_lexer": "ipython3",
   "version": "3.8.13"
  }
 },
 "nbformat": 4,
 "nbformat_minor": 5
}
