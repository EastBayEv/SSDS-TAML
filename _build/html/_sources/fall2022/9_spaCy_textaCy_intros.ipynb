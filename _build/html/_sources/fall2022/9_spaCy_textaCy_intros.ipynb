{
 "cells": [
  {
   "cell_type": "markdown",
   "id": "cae50206",
   "metadata": {},
   "source": [
    "# Chapter 9 - spaCy and textaCy\n",
    "\n",
    "2022 August 22"
   ]
  },
  {
   "cell_type": "code",
   "execution_count": null,
   "id": "4e0e8b85",
   "metadata": {},
   "outputs": [],
   "source": []
  },
  {
   "cell_type": "markdown",
   "id": "086fd2d8",
   "metadata": {},
   "source": [
    "## Topic modeling\n",
    "\n",
    "There are many different approaches to modeling abstract topics in text data, such as [top2vec](https://github.com/ddangelov/Top2Vec) and [lda2vec](https://github.com/cemoody/lda2vec). \n",
    "\n",
    "Click ahead to see our coverage of the BERTopic algorithm in Chapter 10! "
   ]
  }
 ],
 "metadata": {
  "kernelspec": {
   "display_name": "Python 3 (ipykernel)",
   "language": "python",
   "name": "python3"
  },
  "language_info": {
   "codemirror_mode": {
    "name": "ipython",
    "version": 3
   },
   "file_extension": ".py",
   "mimetype": "text/x-python",
   "name": "python",
   "nbconvert_exporter": "python",
   "pygments_lexer": "ipython3",
   "version": "3.8.13"
  }
 },
 "nbformat": 4,
 "nbformat_minor": 5
}
