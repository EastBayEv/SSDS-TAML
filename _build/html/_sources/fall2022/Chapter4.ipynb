{
 "cells": [
  {
   "cell_type": "markdown",
   "id": "cae50206",
   "metadata": {},
   "source": [
    "# Chapter 4 - spaCy and textaCy\n",
    "\n",
    "2022 August 22"
   ]
  },
  {
   "cell_type": "code",
   "execution_count": null,
   "id": "4e0e8b85",
   "metadata": {},
   "outputs": [],
   "source": []
  }
 ],
 "metadata": {
  "kernelspec": {
   "display_name": "Python 3 (ipykernel)",
   "language": "python",
   "name": "python3"
  },
  "language_info": {
   "codemirror_mode": {
    "name": "ipython",
    "version": 3
   },
   "file_extension": ".py",
   "mimetype": "text/x-python",
   "name": "python",
   "nbconvert_exporter": "python",
   "pygments_lexer": "ipython3",
   "version": "3.8.13"
  }
 },
 "nbformat": 4,
 "nbformat_minor": 5
}
