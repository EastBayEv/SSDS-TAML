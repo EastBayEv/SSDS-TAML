{
 "cells": [
  {
   "cell_type": "markdown",
   "id": "ca3db675",
   "metadata": {},
   "source": [
    "# Chapter 2 - Start coding\n",
    "\n",
    "You can program Python in several different environments: \n",
    "\n",
    "1. Google Colab\n",
    "2. Jupyter Lab via Binder\n",
    "3. Local Anaconda environment\n",
    "4. Text editor\n",
    "\n",
    "No matter which option you choose, the content is identical, although there are a few slight differences in the interfaces. Furthermore, one interface might be better than the others for a given task. "
   ]
  },
  {
   "cell_type": "markdown",
   "id": "ec198295",
   "metadata": {},
   "source": [
    "## 1. Google Colaboratory\n",
    "\n",
    "Right-click the Colab badge at the top of each chapter that contains runnable code. \n",
    "\n",
    "Click the `Run` button in the toolbar, or press `shift` and `enter` on your keyboard to execute the cell. \n",
    "\n",
    "* Although there are some differences (keyboard shortcuts and runtimes, for example), Google Colab functions similarly to Jupyter Lab and Notebooks. \n",
    "\n",
    "**Save your work** by clicking \"File\" --> \"Download\"\n",
    "![](img/colab_save_notebook.png)"
   ]
  },
  {
   "cell_type": "markdown",
   "id": "be0716a9",
   "metadata": {},
   "source": [
    "## 2. Jupyter Lab \n",
    "\n",
    "JupyterLab is another way to access these materials. It is a web-based interactive development environment (IDE) which allows you to write and run code in your browser. \n",
    "\n",
    "Right click the \"Launch Binder\" button below and open it in a new browser tab. \n",
    "\n",
    "[![Binder](https://mybinder.org/badge_logo.svg)](https://mybinder.org/v2/gh/EastBayEv/SSDS-TAML/HEAD)"
   ]
  },
  {
   "cell_type": "markdown",
   "id": "2c26afee",
   "metadata": {},
   "source": [
    "### Click \"Python 3 (ipykernel)\" \n",
    "\n",
    "* Click \"Python 3 (ipykernel) under the \"Notebook\" header to launch a blank notebook. \n",
    "* Otherwise, navigate the file structure in the top left corner to open an existing notewook.\n",
    "![setkernel](img/kernel.png)"
   ]
  },
  {
   "cell_type": "markdown",
   "id": "6cab6126",
   "metadata": {},
   "source": [
    "### Cells are code by default\n",
    "\n",
    "In the first cell, type:\n",
    "    \n",
    "> print(\"Your Name Here\") "
   ]
  },
  {
   "cell_type": "markdown",
   "id": "48e94812",
   "metadata": {},
   "source": [
    "### Insert new cells\n",
    "\n",
    "Click the \"plus\" button to insert a new cell. It can be found between the \"save disk\" and \"scissors\" icons. \n",
    "![addcell](img/addcell.png)  \n",
    "\n",
    "Alternatively, click on an area outside of any cells in the notebook, and press 'A' or 'B' to create new cell above or below your current one, respectively. "
   ]
  },
  {
   "cell_type": "markdown",
   "id": "b248d0b0",
   "metadata": {},
   "source": [
    "### Switch between code and text cells\n",
    "\n",
    "Switch between code and text cells by clicking the dropdown menu. \n",
    "![switch](img/switch.png)"
   ]
  },
  {
   "cell_type": "markdown",
   "id": "ec650368",
   "metadata": {},
   "source": [
    "### Edit a markdown cell\n",
    "\n",
    "Double-click a markdown cell to edit it. Press `shift + enter` to render the text. \n",
    "\n",
    "Go through the cells on this page and check out [Markdown Cheatsheet](https://github.com/adam-p/markdown-here/wiki/Markdown-Cheatsheet) (direct links to different sections below) to explore formatting rules and shortcuts. \n",
    "\n",
    "**Table of Contents**  \n",
    "[Headers](https://github.com/adam-p/markdown-here/wiki/Markdown-Cheatsheet#headers)  \n",
    "[Emphasis](https://github.com/adam-p/markdown-here/wiki/Markdown-Cheatsheet#emphasis)  \n",
    "[Lists](https://github.com/adam-p/markdown-here/wiki/Markdown-Cheatsheet#lists)  \n",
    "[Links](https://github.com/adam-p/markdown-here/wiki/Markdown-Cheatsheet#links)  \n",
    "[Images](https://github.com/adam-p/markdown-here/wiki/Markdown-Cheatsheet#images)  \n",
    "[Code and Syntax Highlighting](https://github.com/adam-p/markdown-here/wiki/Markdown-Cheatsheet#code)  \n",
    "[Footnotes](https://github.com/adam-p/markdown-here/wiki/Markdown-Cheatsheet#footnotes)  \n",
    "[Tables](https://github.com/adam-p/markdown-here/wiki/Markdown-Cheatsheet#tables)  \n",
    "[Blockquotes](https://github.com/adam-p/markdown-here/wiki/Markdown-Cheatsheet#blockquotes)  \n",
    "[Inline HTML](https://github.com/adam-p/markdown-here/wiki/Markdown-Cheatsheet#html)  \n",
    "[Horizontal Rule](https://github.com/adam-p/markdown-here/wiki/Markdown-Cheatsheet#hr)  \n",
    "[Line Breaks](https://github.com/adam-p/markdown-here/wiki/Markdown-Cheatsheet#lines)  \n",
    "[YouTube Videos](https://github.com/adam-p/markdown-here/wiki/Markdown-Cheatsheet#videos)"
   ]
  },
  {
   "cell_type": "markdown",
   "id": "6bed7720",
   "metadata": {},
   "source": [
    "### Save your work\n",
    "\n",
    "Click the \"disk\" icon to save your work. Right-click the tab to give your notebook a name:\n",
    "\n",
    "![rename](img/rename.png)"
   ]
  },
  {
   "cell_type": "markdown",
   "id": "db531116",
   "metadata": {},
   "source": [
    "* Click \"File\" --> \"Download\" to save your Jupyter Notebook (extension `.ipynb`) before exiting a Jupyter Lab session. \n",
    "* There are many other options, take some time to explore the top menu and buttons.  \n",
    "\n",
    "![download](img/dl.png)"
   ]
  },
  {
   "cell_type": "markdown",
   "id": "a18f0d80",
   "metadata": {},
   "source": [
    "### Close and halt\n",
    "\n",
    "Safely close the notebook by clicking \"File\" --> \"Close and Halt\" before closing your browser."
   ]
  },
  {
   "cell_type": "markdown",
   "id": "c5a45a28",
   "metadata": {},
   "source": [
    "![closehalt](img/close.png)"
   ]
  },
  {
   "cell_type": "markdown",
   "id": "73e81cfb",
   "metadata": {},
   "source": [
    "## 3. Local Python installation\n",
    "\n",
    "Despite the increasing number of cloud-based solutions, it is always good to have a local installation on your own computer. Point your web browswer here to install Python Anaconda distribution 3.9 (as of January 2022): https://www.anaconda.com/products/individual\n",
    "\n",
    "* Download the installation file for your operating system, open it, and follow the instructions to install. \n",
    "* Once installation completes, open the application named \"Anaconda Navigator\". It looks like this: \n",
    "\n",
    "![navigator](img/navigator.png)\n",
    "\n",
    "* Click the \"Launch\" button under either Jupyter Notebook or Jupyter Lab. \n",
    "* Open the `.ipynb` notebook you just downloaded from JupyterLab in your local installation and repeat the steps above."
   ]
  },
  {
   "cell_type": "markdown",
   "id": "0b87c0bd",
   "metadata": {},
   "source": [
    "### Download the workshop materials\n",
    "\n",
    "Copy these materials for use on your local installation. \n",
    "\n",
    "1. Visit: https://github.com/EastBayEv/SSDS-TAML\n",
    "2. Click the green \"Code\" button\n",
    "![code](img/code.png)\n",
    "3. Click \"Download ZIP\"\n",
    "![zip](img/zip.png)\n",
    "4. Extract this folder someplace familiar such as your Desktop.\n",
    "5. Open Anaconda Navigator, launch JupyterLab, and navigate your directories to launch these notebooks.\n",
    "\n",
    "#### git clone\n",
    "Git users open a Terminal and type: `git clone https://github.com/EastBayEv/SSDS-TAML.git`"
   ]
  },
  {
   "cell_type": "markdown",
   "id": "8e510d19",
   "metadata": {},
   "source": [
    "### Install external libraries\n",
    "\n",
    "Install user-defined software libraries to enhance Python's functionality. In a new notebook cell type `!pip install <library name>`, e.g.: \n",
    "* `!pip install pandas` \n",
    "* `!pip install seaborn`"
   ]
  },
  {
   "cell_type": "markdown",
   "id": "2fda8ca3",
   "metadata": {},
   "source": [
    "### Dead kernel? \n",
    "\n",
    "The notebook kernel will fail from time to time, which is normal. Simply click \"Kernel\" from the File menu and one of the \"Restart\" options."
   ]
  },
  {
   "cell_type": "markdown",
   "id": "0eb382bc",
   "metadata": {},
   "source": [
    "![restart](img/restart.png)"
   ]
  },
  {
   "cell_type": "markdown",
   "id": "e171f7fd",
   "metadata": {},
   "source": [
    "> NOTE: about the terminal, you will see it run processes in the background like this:\n",
    "\n",
    "![terminal](img/terminal.png)"
   ]
  },
  {
   "cell_type": "markdown",
   "id": "b0d54a43",
   "metadata": {},
   "source": [
    "### If you accidentally delete a Jupyter Notebook ...\n",
    "\n",
    "Check your operating system's Recycle Bin!"
   ]
  },
  {
   "cell_type": "markdown",
   "id": "00fce703",
   "metadata": {},
   "source": [
    "## 4. Text editors\n",
    "\n",
    "You might find that Jupyter environments are too limiting for your task. Using a text editor to write your scripts and run them via the command line is another common option. Contact SSDS if you want to learn more!"
   ]
  },
  {
   "cell_type": "markdown",
   "id": "38d5ac42",
   "metadata": {},
   "source": [
    "## Python basics\n",
    "\n",
    "Open Chapter 3 \"Boilerplate code\" to start learning basic Python syntax."
   ]
  }
 ],
 "metadata": {
  "kernelspec": {
   "display_name": "Python 3 (ipykernel)",
   "language": "python",
   "name": "python3"
  },
  "language_info": {
   "codemirror_mode": {
    "name": "ipython",
    "version": 3
   },
   "file_extension": ".py",
   "mimetype": "text/x-python",
   "name": "python",
   "nbconvert_exporter": "python",
   "pygments_lexer": "ipython3",
   "version": "3.8.13"
  }
 },
 "nbformat": 4,
 "nbformat_minor": 5
}
