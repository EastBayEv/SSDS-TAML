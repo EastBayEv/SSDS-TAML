{
 "cells": [
  {
   "cell_type": "markdown",
   "id": "ca3db675",
   "metadata": {},
   "source": [
    "# i. How to use this book"
   ]
  },
  {
   "cell_type": "markdown",
   "id": "8c98c3b7",
   "metadata": {},
   "source": [
    "## Organization\n",
    "\n",
    "The interface is divided into three sections. \n",
    "1. **The center portion** contains the main text. Here, goals, concepts, objectives, and code will be presented and explained. "
   ]
  },
  {
   "cell_type": "code",
   "execution_count": 1,
   "id": "37d3cb41",
   "metadata": {
    "scrolled": true
   },
   "outputs": [
    {
     "name": "stdout",
     "output_type": "stream",
     "text": [
      "\n",
      "Welcome to Stanford Libraries!\n",
      "\n",
      "Your lucky card for Monday 2022-08-22 is: jack of clubs\n"
     ]
    }
   ],
   "source": [
    "# card trick\n",
    "\n",
    "import random\n",
    "import calendar\n",
    "from datetime import date, datetime\n",
    "deck = 'ace two three four five six seven eight nine ten jack queen king'.split()\n",
    "suit = 'spades clubs hearts diamonds'.split()\n",
    "today = calendar.day_name[date.today().weekday()]\n",
    "date = datetime.today().strftime('%Y-%m-%d')\n",
    "select_value = random.sample(deck, 1)[0]\n",
    "select_suit = random.sample(suit, 1)[0]\n",
    "print(\"\\nWelcome to Stanford Libraries!\")\n",
    "print(\"\\nYour lucky card for \" + today + \" \" + date + \" is: \" + select_value + \" of \" + select_suit)"
   ]
  },
  {
   "cell_type": "markdown",
   "id": "5d2d086c",
   "metadata": {},
   "source": [
    "2. **The left sidebar** shows the search field and shortcuts to session materials.\n",
    "    * Use the `left and right arrow keys` to browse the different chapters. \n",
    "3. **The right sidebar** contains the section header shortcuts. \n",
    "    * Use the `up and down arrow keys` to scroll the page."
   ]
  },
  {
   "cell_type": "markdown",
   "id": "637bdbb1",
   "metadata": {},
   "source": [
    "## Jupyter icons\n",
    "Note the buttons at the top of each page. \n",
    "![icons](img/icons.png)\n",
    "* The rocketship icon appears only on pages with executable code. \n",
    "Hover your mouse over it and click \"Binder\" to launch all of the materials there. Or, click \"Live Code\" to run code on this webpage. "
   ]
  },
  {
   "cell_type": "markdown",
   "id": "223919be",
   "metadata": {},
   "source": [
    "> **Card trick**  \n",
    "> * Click \"Live Code\" underneath the rocketship icon way up top. \n",
    "> * Scroll to the \"card trick\" Python code above. \n",
    "> * Click \"run\" to draw your lucky card. \n",
    "> ![](img/joker.png)"
   ]
  },
  {
   "cell_type": "markdown",
   "id": "a7f6cf2d",
   "metadata": {},
   "source": [
    "* Click the square icon to enter fullscreen mode. Press the escape key to exit. \n",
    "* Move your mouse over the Octocat icon. Click \"Repository\" to visit the GitHub site. Or, click \"Open Issue\" to contribute to this book. \n",
    "* The download icon can be used to export the contents of this book. \n",
    "* Click the left facing arrow `<-` to hide the left sidebar."
   ]
  },
  {
   "cell_type": "markdown",
   "id": "73be4912",
   "metadata": {},
   "source": [
    "## Two parts to each coding walkthrough: \n",
    "1. The \"Code\" lesson that contains exercises we will walk through together. \n",
    "2. One \"Quiz\", designed as a multi-part mini research project. This is accompanied by a solution notebook if you need a hint or to check your work.\n",
    "\n",
    "Any extra time will be reserved for consulting, talking about projects, etc."
   ]
  },
  {
   "cell_type": "markdown",
   "id": "379287a9",
   "metadata": {},
   "source": [
    "## Copy/paste - Boilerplate code\n",
    "\n",
    "The first three lessons of this book contain: \n",
    "1. The schedule\n",
    "2. Book organization\n",
    "3. How to start coding\n",
    "\n",
    "The next three contain copy/paste code for applying to your own projct:\n",
    "\n",
    "4. Data types/structures and error messages  \n",
    "5. Importing and wrangling data  \n",
    "6. Visualizing data"
   ]
  }
 ],
 "metadata": {
  "kernelspec": {
   "display_name": "Python 3 (ipykernel)",
   "language": "python",
   "name": "python3"
  },
  "language_info": {
   "codemirror_mode": {
    "name": "ipython",
    "version": 3
   },
   "file_extension": ".py",
   "mimetype": "text/x-python",
   "name": "python",
   "nbconvert_exporter": "python",
   "pygments_lexer": "ipython3",
   "version": "3.9.13"
  }
 },
 "nbformat": 4,
 "nbformat_minor": 5
}