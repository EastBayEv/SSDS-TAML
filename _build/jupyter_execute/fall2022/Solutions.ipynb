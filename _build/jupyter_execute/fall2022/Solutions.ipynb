{
 "cells": [
  {
   "cell_type": "markdown",
   "id": "94301b87",
   "metadata": {},
   "source": [
    "# Solutions\n",
    "\n",
    "<a target=\"_blank\" href=\"https://colab.research.google.com/github/EastBayEv/SSDS-TAML/blob/main/fall2022/Solutions.ipynb\">\n",
    "  <img src=\"https://colab.research.google.com/assets/colab-badge.svg\" alt=\"Open In Colab\"/>\n",
    "</a>\n",
    "\n",
    "Example solutions for challenge exercises from each chapter in this book."
   ]
  },
  {
   "cell_type": "markdown",
   "id": "39ad0a35",
   "metadata": {},
   "source": [
    "## Chapter 1 - Exercises\n",
    "\n",
    "1. You will find challenge exercises to work on at the end of each chapter. They will require you to write code such as that found in the cell at the top of this notebook. \n",
    "\n",
    "2. Click the \"Colab\" badge at the top of this notebook to open it in the Colaboratory environment. Press `shift` and `enter` simultaneously on your keyboard to run the code and draw your lucky card!\n",
    "\n",
    "> Remember: Press `shift` and `enter` on your keyboard to run a cell."
   ]
  },
  {
   "cell_type": "code",
   "execution_count": 1,
   "id": "38ed086b",
   "metadata": {},
   "outputs": [],
   "source": [
    "# import necessary librarys to make the code work\n",
    "import random\n",
    "import calendar\n",
    "from datetime import date, datetime"
   ]
  },
  {
   "cell_type": "code",
   "execution_count": 2,
   "id": "de290751",
   "metadata": {},
   "outputs": [
    {
     "name": "stdout",
     "output_type": "stream",
     "text": [
      "['ace', 'two', 'three', 'four', 'five', 'six', 'seven', 'eight', 'nine', 'ten', 'jack', 'queen', 'king']\n",
      "['spades', 'clubs', 'hearts', 'diamonds']\n"
     ]
    }
   ],
   "source": [
    "# define the deck and suits as character strings and split them on the spaces\n",
    "deck = 'ace two three four five six seven eight nine ten jack queen king'.split()\n",
    "suit = 'spades clubs hearts diamonds'.split()\n",
    "print(deck)\n",
    "print(suit)"
   ]
  },
  {
   "cell_type": "code",
   "execution_count": 3,
   "id": "61e18c49",
   "metadata": {},
   "outputs": [
    {
     "name": "stdout",
     "output_type": "stream",
     "text": [
      "Tuesday\n",
      "2022-09-20\n"
     ]
    }
   ],
   "source": [
    "# define today's day and date\n",
    "today = calendar.day_name[date.today().weekday()]\n",
    "date = datetime.today().strftime('%Y-%m-%d')\n",
    "print(today)\n",
    "print(date)"
   ]
  },
  {
   "cell_type": "code",
   "execution_count": 4,
   "id": "7b9576f7",
   "metadata": {},
   "outputs": [
    {
     "name": "stdout",
     "output_type": "stream",
     "text": [
      "ten\n",
      "diamonds\n"
     ]
    }
   ],
   "source": [
    "# randomly sample the card value and suit\n",
    "select_value = random.sample(deck, 1)[0]\n",
    "select_suit = random.sample(suit, 1)[0]\n",
    "print(select_value)\n",
    "print(select_suit)"
   ]
  },
  {
   "cell_type": "code",
   "execution_count": 5,
   "id": "f8c86e28",
   "metadata": {},
   "outputs": [
    {
     "name": "stdout",
     "output_type": "stream",
     "text": [
      "\n",
      "Welcome to TAML at SSDS!\n",
      "\n",
      "Your lucky card for Tuesday 2022-09-20 is: ten of diamonds\n"
     ]
    }
   ],
   "source": [
    "# combine the character strings and variables into the final statement\n",
    "print(\"\\nWelcome to TAML at SSDS!\")\n",
    "print(\"\\nYour lucky card for \" + today + \" \" + date + \" is: \" + select_value + \" of \" + select_suit)"
   ]
  },
  {
   "cell_type": "markdown",
   "id": "39274f70",
   "metadata": {},
   "source": [
    "## Chapter 2 - Exercises\n",
    "\n",
    "1. (Required) Set up your Google Colaboratory (Colab) environment following the instructions in #1 listed above. \n",
    "2. (Optional) Check that you can correctly open these notebooks in Jupyter Lab. \n",
    "3. (Optional) Install Python Anaconda distribution on your machine.\n",
    "\n",
    "> See 2_Python_environments.ipynb for instructions."
   ]
  },
  {
   "cell_type": "markdown",
   "id": "ec442662",
   "metadata": {},
   "source": [
    "## Chapter 3 - Exercises\n",
    "\n",
    "1. Define one variablez for each of the four data types introduced above: 1) string, 2) boolean, 3) float, and 4) integer. \n",
    "2. Define two lists that contain four elements each. \n",
    "3. Define a dictionary that containts the two lists from #2 above.\n",
    "4. Import the file \"dracula.txt\". Save it in a variable named `drac`\n",
    "5. Import the file \"penguins.csv\". Save it in a variable named `pen`\n",
    "6. Figure out how to find help to export just the first 1000 characters of `drac` as a .txt file named \"dracula_short.txt\"\n",
    "7. Figure out how to export the `pen` dataframe as a file named \"penguins_saved.csv\"\n",
    "\n",
    "If you encounter error messages, which ones? "
   ]
  },
  {
   "cell_type": "code",
   "execution_count": 6,
   "id": "927492eb",
   "metadata": {},
   "outputs": [
    {
     "name": "stdout",
     "output_type": "stream",
     "text": [
      "Hello!\n",
      "This is a sentence.\n"
     ]
    }
   ],
   "source": [
    "#1 \n",
    "string1 = \"Hello!\"\n",
    "string2 = \"This is a sentence.\"\n",
    "print(string1)\n",
    "print(string2)"
   ]
  },
  {
   "cell_type": "code",
   "execution_count": 7,
   "id": "09459b70",
   "metadata": {},
   "outputs": [
    {
     "name": "stdout",
     "output_type": "stream",
     "text": [
      "True\n",
      "False\n"
     ]
    }
   ],
   "source": [
    "bool1 = True\n",
    "bool2 = False\n",
    "print(bool1)\n",
    "print(bool2)"
   ]
  },
  {
   "cell_type": "code",
   "execution_count": 8,
   "id": "16257b2b",
   "metadata": {},
   "outputs": [
    {
     "name": "stdout",
     "output_type": "stream",
     "text": [
      "3.14\n",
      "12.345\n"
     ]
    }
   ],
   "source": [
    "float1 = 3.14\n",
    "float2 = 12.345\n",
    "print(float1)\n",
    "print(float2)"
   ]
  },
  {
   "cell_type": "code",
   "execution_count": 9,
   "id": "3a207521",
   "metadata": {},
   "outputs": [
    {
     "name": "stdout",
     "output_type": "stream",
     "text": [
      "8\n",
      "4356\n"
     ]
    }
   ],
   "source": [
    "integer1 = 8\n",
    "integer2 = 4356\n",
    "print(integer1)\n",
    "print(integer2)"
   ]
  },
  {
   "cell_type": "code",
   "execution_count": 10,
   "id": "8f673220",
   "metadata": {},
   "outputs": [
    {
     "name": "stdout",
     "output_type": "stream",
     "text": [
      "[4356, 'This is a sentence.', 3.14, 'My name is:']\n",
      "[3, True, 'What?', 'Hello!']\n"
     ]
    }
   ],
   "source": [
    "#2\n",
    "list1 = [integer2, string2, float1, \"My name is:\"]\n",
    "list2 = [3, True, \"What?\", string1]\n",
    "print(list1)\n",
    "print(list2)"
   ]
  },
  {
   "cell_type": "code",
   "execution_count": 11,
   "id": "926b9ae6",
   "metadata": {},
   "outputs": [
    {
     "data": {
      "text/plain": [
       "{'direction': 'up',\n",
       " 'code': 1234,\n",
       " 'first_list': [4356, 'This is a sentence.', 3.14, 'My name is:'],\n",
       " 'second_list': [3, True, 'What?', 'Hello!']}"
      ]
     },
     "execution_count": 11,
     "metadata": {},
     "output_type": "execute_result"
    }
   ],
   "source": [
    "#3\n",
    "dict_one = {\"direction\": \"up\",\n",
    "           \"code\": 1234,\n",
    "           \"first_list\": list1,\n",
    "           \"second_list\": list2}\n",
    "dict_one"
   ]
  },
  {
   "cell_type": "code",
   "execution_count": 12,
   "id": "a81c4f8d",
   "metadata": {},
   "outputs": [],
   "source": [
    "#4\n",
    "# !wget -P data/ https://raw.githubusercontent.com/EastBayEv/SSDS-TAML/main/fall2022/data/dracula.txt\n",
    "drac = open(\"data/dracula.txt\").read()\n",
    "# print(drac)"
   ]
  },
  {
   "cell_type": "code",
   "execution_count": 13,
   "id": "8fde0bd0",
   "metadata": {},
   "outputs": [
    {
     "data": {
      "text/html": [
       "<div>\n",
       "<style scoped>\n",
       "    .dataframe tbody tr th:only-of-type {\n",
       "        vertical-align: middle;\n",
       "    }\n",
       "\n",
       "    .dataframe tbody tr th {\n",
       "        vertical-align: top;\n",
       "    }\n",
       "\n",
       "    .dataframe thead th {\n",
       "        text-align: right;\n",
       "    }\n",
       "</style>\n",
       "<table border=\"1\" class=\"dataframe\">\n",
       "  <thead>\n",
       "    <tr style=\"text-align: right;\">\n",
       "      <th></th>\n",
       "      <th>species</th>\n",
       "      <th>island</th>\n",
       "      <th>bill_length_mm</th>\n",
       "      <th>bill_depth_mm</th>\n",
       "      <th>flipper_length_mm</th>\n",
       "      <th>body_mass_g</th>\n",
       "      <th>sex</th>\n",
       "    </tr>\n",
       "  </thead>\n",
       "  <tbody>\n",
       "    <tr>\n",
       "      <th>0</th>\n",
       "      <td>Adelie</td>\n",
       "      <td>Torgersen</td>\n",
       "      <td>39.1</td>\n",
       "      <td>18.7</td>\n",
       "      <td>181.0</td>\n",
       "      <td>3750.0</td>\n",
       "      <td>MALE</td>\n",
       "    </tr>\n",
       "    <tr>\n",
       "      <th>1</th>\n",
       "      <td>Adelie</td>\n",
       "      <td>Torgersen</td>\n",
       "      <td>39.5</td>\n",
       "      <td>17.4</td>\n",
       "      <td>186.0</td>\n",
       "      <td>3800.0</td>\n",
       "      <td>FEMALE</td>\n",
       "    </tr>\n",
       "    <tr>\n",
       "      <th>2</th>\n",
       "      <td>Adelie</td>\n",
       "      <td>Torgersen</td>\n",
       "      <td>40.3</td>\n",
       "      <td>18.0</td>\n",
       "      <td>195.0</td>\n",
       "      <td>3250.0</td>\n",
       "      <td>FEMALE</td>\n",
       "    </tr>\n",
       "    <tr>\n",
       "      <th>3</th>\n",
       "      <td>Adelie</td>\n",
       "      <td>Torgersen</td>\n",
       "      <td>NaN</td>\n",
       "      <td>NaN</td>\n",
       "      <td>NaN</td>\n",
       "      <td>NaN</td>\n",
       "      <td>NaN</td>\n",
       "    </tr>\n",
       "    <tr>\n",
       "      <th>4</th>\n",
       "      <td>Adelie</td>\n",
       "      <td>Torgersen</td>\n",
       "      <td>36.7</td>\n",
       "      <td>19.3</td>\n",
       "      <td>193.0</td>\n",
       "      <td>3450.0</td>\n",
       "      <td>FEMALE</td>\n",
       "    </tr>\n",
       "    <tr>\n",
       "      <th>...</th>\n",
       "      <td>...</td>\n",
       "      <td>...</td>\n",
       "      <td>...</td>\n",
       "      <td>...</td>\n",
       "      <td>...</td>\n",
       "      <td>...</td>\n",
       "      <td>...</td>\n",
       "    </tr>\n",
       "    <tr>\n",
       "      <th>339</th>\n",
       "      <td>Gentoo</td>\n",
       "      <td>Biscoe</td>\n",
       "      <td>NaN</td>\n",
       "      <td>NaN</td>\n",
       "      <td>NaN</td>\n",
       "      <td>NaN</td>\n",
       "      <td>NaN</td>\n",
       "    </tr>\n",
       "    <tr>\n",
       "      <th>340</th>\n",
       "      <td>Gentoo</td>\n",
       "      <td>Biscoe</td>\n",
       "      <td>46.8</td>\n",
       "      <td>14.3</td>\n",
       "      <td>215.0</td>\n",
       "      <td>4850.0</td>\n",
       "      <td>FEMALE</td>\n",
       "    </tr>\n",
       "    <tr>\n",
       "      <th>341</th>\n",
       "      <td>Gentoo</td>\n",
       "      <td>Biscoe</td>\n",
       "      <td>50.4</td>\n",
       "      <td>15.7</td>\n",
       "      <td>222.0</td>\n",
       "      <td>5750.0</td>\n",
       "      <td>MALE</td>\n",
       "    </tr>\n",
       "    <tr>\n",
       "      <th>342</th>\n",
       "      <td>Gentoo</td>\n",
       "      <td>Biscoe</td>\n",
       "      <td>45.2</td>\n",
       "      <td>14.8</td>\n",
       "      <td>212.0</td>\n",
       "      <td>5200.0</td>\n",
       "      <td>FEMALE</td>\n",
       "    </tr>\n",
       "    <tr>\n",
       "      <th>343</th>\n",
       "      <td>Gentoo</td>\n",
       "      <td>Biscoe</td>\n",
       "      <td>49.9</td>\n",
       "      <td>16.1</td>\n",
       "      <td>213.0</td>\n",
       "      <td>5400.0</td>\n",
       "      <td>MALE</td>\n",
       "    </tr>\n",
       "  </tbody>\n",
       "</table>\n",
       "<p>344 rows × 7 columns</p>\n",
       "</div>"
      ],
      "text/plain": [
       "    species     island  bill_length_mm  bill_depth_mm  flipper_length_mm  \\\n",
       "0    Adelie  Torgersen            39.1           18.7              181.0   \n",
       "1    Adelie  Torgersen            39.5           17.4              186.0   \n",
       "2    Adelie  Torgersen            40.3           18.0              195.0   \n",
       "3    Adelie  Torgersen             NaN            NaN                NaN   \n",
       "4    Adelie  Torgersen            36.7           19.3              193.0   \n",
       "..      ...        ...             ...            ...                ...   \n",
       "339  Gentoo     Biscoe             NaN            NaN                NaN   \n",
       "340  Gentoo     Biscoe            46.8           14.3              215.0   \n",
       "341  Gentoo     Biscoe            50.4           15.7              222.0   \n",
       "342  Gentoo     Biscoe            45.2           14.8              212.0   \n",
       "343  Gentoo     Biscoe            49.9           16.1              213.0   \n",
       "\n",
       "     body_mass_g     sex  \n",
       "0         3750.0    MALE  \n",
       "1         3800.0  FEMALE  \n",
       "2         3250.0  FEMALE  \n",
       "3            NaN     NaN  \n",
       "4         3450.0  FEMALE  \n",
       "..           ...     ...  \n",
       "339          NaN     NaN  \n",
       "340       4850.0  FEMALE  \n",
       "341       5750.0    MALE  \n",
       "342       5200.0  FEMALE  \n",
       "343       5400.0    MALE  \n",
       "\n",
       "[344 rows x 7 columns]"
      ]
     },
     "execution_count": 13,
     "metadata": {},
     "output_type": "execute_result"
    }
   ],
   "source": [
    "#5\n",
    "import pandas as pd\n",
    "# !wget -P data/ https://raw.githubusercontent.com/EastBayEv/SSDS-TAML/main/fall2022/data/penguins.csv\n",
    "pen = pd.read_csv(\"data/penguins.csv\")\n",
    "pen"
   ]
  },
  {
   "cell_type": "code",
   "execution_count": 14,
   "id": "2dda67b5",
   "metadata": {},
   "outputs": [],
   "source": [
    "#6\n",
    "# first slice the string you want to save\n",
    "drac_short = drac[:1000]\n",
    "\n",
    "# second, open in write mode and write the file to the data directory!\n",
    "with open('data/dracula_short.txt', 'w', encoding='utf-8') as f:\n",
    "    f.write(drac_short)"
   ]
  },
  {
   "cell_type": "code",
   "execution_count": 15,
   "id": "056ad88a",
   "metadata": {},
   "outputs": [],
   "source": [
    "# You can also copy files from Colab to your Google Drive\n",
    "# Mount your GDrive\n",
    "# from google.colab import drive\n",
    "# drive.mount('/content/drive')\n",
    "\n",
    "# Copy a file from Colab to GDrive\n",
    "# !cp data/dracula_short.txt /content/drive/MyDrive"
   ]
  },
  {
   "cell_type": "code",
   "execution_count": 16,
   "id": "e5834543",
   "metadata": {},
   "outputs": [],
   "source": [
    "#7\n",
    "pen.to_csv(\"data/penguins_saved.csv\")\n",
    "\n",
    "# !cp data/penguins_saved.csv /content/drive/MyDrive"
   ]
  },
  {
   "cell_type": "markdown",
   "id": "1dcf99df",
   "metadata": {},
   "source": [
    "## Chapter 4 - Exercises\n",
    "\n",
    "1. Load the file \"gapminder-FiveYearData.csv\" and save it in a variable named `gap`\n",
    "2. Print the column names\n",
    "3. Compute the mean for one numeric column\n",
    "4. Compute the mean for all numeric columns\n",
    "5. Tabulate frequencies for the \"continent\" column\n",
    "6. Compute mean lifeExp and dgpPercap by continent\n",
    "7. Create a subset of `gap` that contains only countries with lifeExp greater than 75 and gdpPercap less than 5000."
   ]
  },
  {
   "cell_type": "code",
   "execution_count": 17,
   "id": "e8350a86",
   "metadata": {},
   "outputs": [
    {
     "data": {
      "text/html": [
       "<div>\n",
       "<style scoped>\n",
       "    .dataframe tbody tr th:only-of-type {\n",
       "        vertical-align: middle;\n",
       "    }\n",
       "\n",
       "    .dataframe tbody tr th {\n",
       "        vertical-align: top;\n",
       "    }\n",
       "\n",
       "    .dataframe thead th {\n",
       "        text-align: right;\n",
       "    }\n",
       "</style>\n",
       "<table border=\"1\" class=\"dataframe\">\n",
       "  <thead>\n",
       "    <tr style=\"text-align: right;\">\n",
       "      <th></th>\n",
       "      <th>country</th>\n",
       "      <th>year</th>\n",
       "      <th>pop</th>\n",
       "      <th>continent</th>\n",
       "      <th>lifeExp</th>\n",
       "      <th>gdpPercap</th>\n",
       "    </tr>\n",
       "  </thead>\n",
       "  <tbody>\n",
       "    <tr>\n",
       "      <th>0</th>\n",
       "      <td>Afghanistan</td>\n",
       "      <td>1952</td>\n",
       "      <td>8425333.0</td>\n",
       "      <td>Asia</td>\n",
       "      <td>28.801</td>\n",
       "      <td>779.445314</td>\n",
       "    </tr>\n",
       "    <tr>\n",
       "      <th>1</th>\n",
       "      <td>Afghanistan</td>\n",
       "      <td>1957</td>\n",
       "      <td>9240934.0</td>\n",
       "      <td>Asia</td>\n",
       "      <td>30.332</td>\n",
       "      <td>820.853030</td>\n",
       "    </tr>\n",
       "    <tr>\n",
       "      <th>2</th>\n",
       "      <td>Afghanistan</td>\n",
       "      <td>1962</td>\n",
       "      <td>10267083.0</td>\n",
       "      <td>Asia</td>\n",
       "      <td>31.997</td>\n",
       "      <td>853.100710</td>\n",
       "    </tr>\n",
       "    <tr>\n",
       "      <th>3</th>\n",
       "      <td>Afghanistan</td>\n",
       "      <td>1967</td>\n",
       "      <td>11537966.0</td>\n",
       "      <td>Asia</td>\n",
       "      <td>34.020</td>\n",
       "      <td>836.197138</td>\n",
       "    </tr>\n",
       "    <tr>\n",
       "      <th>4</th>\n",
       "      <td>Afghanistan</td>\n",
       "      <td>1972</td>\n",
       "      <td>13079460.0</td>\n",
       "      <td>Asia</td>\n",
       "      <td>36.088</td>\n",
       "      <td>739.981106</td>\n",
       "    </tr>\n",
       "    <tr>\n",
       "      <th>...</th>\n",
       "      <td>...</td>\n",
       "      <td>...</td>\n",
       "      <td>...</td>\n",
       "      <td>...</td>\n",
       "      <td>...</td>\n",
       "      <td>...</td>\n",
       "    </tr>\n",
       "    <tr>\n",
       "      <th>1699</th>\n",
       "      <td>Zimbabwe</td>\n",
       "      <td>1987</td>\n",
       "      <td>9216418.0</td>\n",
       "      <td>Africa</td>\n",
       "      <td>62.351</td>\n",
       "      <td>706.157306</td>\n",
       "    </tr>\n",
       "    <tr>\n",
       "      <th>1700</th>\n",
       "      <td>Zimbabwe</td>\n",
       "      <td>1992</td>\n",
       "      <td>10704340.0</td>\n",
       "      <td>Africa</td>\n",
       "      <td>60.377</td>\n",
       "      <td>693.420786</td>\n",
       "    </tr>\n",
       "    <tr>\n",
       "      <th>1701</th>\n",
       "      <td>Zimbabwe</td>\n",
       "      <td>1997</td>\n",
       "      <td>11404948.0</td>\n",
       "      <td>Africa</td>\n",
       "      <td>46.809</td>\n",
       "      <td>792.449960</td>\n",
       "    </tr>\n",
       "    <tr>\n",
       "      <th>1702</th>\n",
       "      <td>Zimbabwe</td>\n",
       "      <td>2002</td>\n",
       "      <td>11926563.0</td>\n",
       "      <td>Africa</td>\n",
       "      <td>39.989</td>\n",
       "      <td>672.038623</td>\n",
       "    </tr>\n",
       "    <tr>\n",
       "      <th>1703</th>\n",
       "      <td>Zimbabwe</td>\n",
       "      <td>2007</td>\n",
       "      <td>12311143.0</td>\n",
       "      <td>Africa</td>\n",
       "      <td>43.487</td>\n",
       "      <td>469.709298</td>\n",
       "    </tr>\n",
       "  </tbody>\n",
       "</table>\n",
       "<p>1704 rows × 6 columns</p>\n",
       "</div>"
      ],
      "text/plain": [
       "          country  year         pop continent  lifeExp   gdpPercap\n",
       "0     Afghanistan  1952   8425333.0      Asia   28.801  779.445314\n",
       "1     Afghanistan  1957   9240934.0      Asia   30.332  820.853030\n",
       "2     Afghanistan  1962  10267083.0      Asia   31.997  853.100710\n",
       "3     Afghanistan  1967  11537966.0      Asia   34.020  836.197138\n",
       "4     Afghanistan  1972  13079460.0      Asia   36.088  739.981106\n",
       "...           ...   ...         ...       ...      ...         ...\n",
       "1699     Zimbabwe  1987   9216418.0    Africa   62.351  706.157306\n",
       "1700     Zimbabwe  1992  10704340.0    Africa   60.377  693.420786\n",
       "1701     Zimbabwe  1997  11404948.0    Africa   46.809  792.449960\n",
       "1702     Zimbabwe  2002  11926563.0    Africa   39.989  672.038623\n",
       "1703     Zimbabwe  2007  12311143.0    Africa   43.487  469.709298\n",
       "\n",
       "[1704 rows x 6 columns]"
      ]
     },
     "execution_count": 17,
     "metadata": {},
     "output_type": "execute_result"
    }
   ],
   "source": [
    "#1\n",
    "import pandas as pd\n",
    "# !wget -P data/ https://raw.githubusercontent.com/EastBayEv/SSDS-TAML/main/fall2022/data/gapminder-FiveYearData.csv\n",
    "gap = pd.read_csv(\"data/gapminder-FiveYearData.csv\")\n",
    "gap"
   ]
  },
  {
   "cell_type": "code",
   "execution_count": 18,
   "id": "f4f8c17e",
   "metadata": {},
   "outputs": [
    {
     "data": {
      "text/plain": [
       "Index(['country', 'year', 'pop', 'continent', 'lifeExp', 'gdpPercap'], dtype='object')"
      ]
     },
     "execution_count": 18,
     "metadata": {},
     "output_type": "execute_result"
    }
   ],
   "source": [
    "#2\n",
    "gap.columns"
   ]
  },
  {
   "cell_type": "code",
   "execution_count": 19,
   "id": "edaaac7d",
   "metadata": {},
   "outputs": [
    {
     "data": {
      "text/plain": [
       "59.474439366197174"
      ]
     },
     "execution_count": 19,
     "metadata": {},
     "output_type": "execute_result"
    }
   ],
   "source": [
    "#3\n",
    "gap[\"lifeExp\"].mean()"
   ]
  },
  {
   "cell_type": "code",
   "execution_count": 20,
   "id": "155bf29a",
   "metadata": {},
   "outputs": [
    {
     "data": {
      "text/html": [
       "<div>\n",
       "<style scoped>\n",
       "    .dataframe tbody tr th:only-of-type {\n",
       "        vertical-align: middle;\n",
       "    }\n",
       "\n",
       "    .dataframe tbody tr th {\n",
       "        vertical-align: top;\n",
       "    }\n",
       "\n",
       "    .dataframe thead th {\n",
       "        text-align: right;\n",
       "    }\n",
       "</style>\n",
       "<table border=\"1\" class=\"dataframe\">\n",
       "  <thead>\n",
       "    <tr style=\"text-align: right;\">\n",
       "      <th></th>\n",
       "      <th>year</th>\n",
       "      <th>pop</th>\n",
       "      <th>lifeExp</th>\n",
       "      <th>gdpPercap</th>\n",
       "    </tr>\n",
       "  </thead>\n",
       "  <tbody>\n",
       "    <tr>\n",
       "      <th>count</th>\n",
       "      <td>1704.00000</td>\n",
       "      <td>1.704000e+03</td>\n",
       "      <td>1704.000000</td>\n",
       "      <td>1704.000000</td>\n",
       "    </tr>\n",
       "    <tr>\n",
       "      <th>mean</th>\n",
       "      <td>1979.50000</td>\n",
       "      <td>2.960121e+07</td>\n",
       "      <td>59.474439</td>\n",
       "      <td>7215.327081</td>\n",
       "    </tr>\n",
       "    <tr>\n",
       "      <th>std</th>\n",
       "      <td>17.26533</td>\n",
       "      <td>1.061579e+08</td>\n",
       "      <td>12.917107</td>\n",
       "      <td>9857.454543</td>\n",
       "    </tr>\n",
       "    <tr>\n",
       "      <th>min</th>\n",
       "      <td>1952.00000</td>\n",
       "      <td>6.001100e+04</td>\n",
       "      <td>23.599000</td>\n",
       "      <td>241.165876</td>\n",
       "    </tr>\n",
       "    <tr>\n",
       "      <th>25%</th>\n",
       "      <td>1965.75000</td>\n",
       "      <td>2.793664e+06</td>\n",
       "      <td>48.198000</td>\n",
       "      <td>1202.060309</td>\n",
       "    </tr>\n",
       "    <tr>\n",
       "      <th>50%</th>\n",
       "      <td>1979.50000</td>\n",
       "      <td>7.023596e+06</td>\n",
       "      <td>60.712500</td>\n",
       "      <td>3531.846988</td>\n",
       "    </tr>\n",
       "    <tr>\n",
       "      <th>75%</th>\n",
       "      <td>1993.25000</td>\n",
       "      <td>1.958522e+07</td>\n",
       "      <td>70.845500</td>\n",
       "      <td>9325.462346</td>\n",
       "    </tr>\n",
       "    <tr>\n",
       "      <th>max</th>\n",
       "      <td>2007.00000</td>\n",
       "      <td>1.318683e+09</td>\n",
       "      <td>82.603000</td>\n",
       "      <td>113523.132900</td>\n",
       "    </tr>\n",
       "  </tbody>\n",
       "</table>\n",
       "</div>"
      ],
      "text/plain": [
       "             year           pop      lifeExp      gdpPercap\n",
       "count  1704.00000  1.704000e+03  1704.000000    1704.000000\n",
       "mean   1979.50000  2.960121e+07    59.474439    7215.327081\n",
       "std      17.26533  1.061579e+08    12.917107    9857.454543\n",
       "min    1952.00000  6.001100e+04    23.599000     241.165876\n",
       "25%    1965.75000  2.793664e+06    48.198000    1202.060309\n",
       "50%    1979.50000  7.023596e+06    60.712500    3531.846988\n",
       "75%    1993.25000  1.958522e+07    70.845500    9325.462346\n",
       "max    2007.00000  1.318683e+09    82.603000  113523.132900"
      ]
     },
     "execution_count": 20,
     "metadata": {},
     "output_type": "execute_result"
    }
   ],
   "source": [
    "# or\n",
    "gap.describe()"
   ]
  },
  {
   "cell_type": "code",
   "execution_count": 21,
   "id": "d76c1e27",
   "metadata": {},
   "outputs": [
    {
     "name": "stdout",
     "output_type": "stream",
     "text": [
      "year         1.979500e+03\n",
      "pop          2.960121e+07\n",
      "lifeExp      5.947444e+01\n",
      "gdpPercap    7.215327e+03\n",
      "dtype: float64\n"
     ]
    },
    {
     "name": "stderr",
     "output_type": "stream",
     "text": [
      "/var/folders/9g/fhnd1v790cj5ccxlv4rcvsy40000gq/T/ipykernel_29690/1146573181.py:2: FutureWarning: Dropping of nuisance columns in DataFrame reductions (with 'numeric_only=None') is deprecated; in a future version this will raise TypeError.  Select only valid columns before calling the reduction.\n",
      "  print(gap.mean())\n"
     ]
    }
   ],
   "source": [
    "#4\n",
    "print(gap.mean())"
   ]
  },
  {
   "cell_type": "code",
   "execution_count": 22,
   "id": "dc31465c",
   "metadata": {},
   "outputs": [
    {
     "data": {
      "text/plain": [
       "Africa      624\n",
       "Asia        396\n",
       "Europe      360\n",
       "Americas    300\n",
       "Oceania      24\n",
       "Name: continent, dtype: int64"
      ]
     },
     "execution_count": 22,
     "metadata": {},
     "output_type": "execute_result"
    }
   ],
   "source": [
    "#5\n",
    "gap[\"continent\"].value_counts()"
   ]
  },
  {
   "cell_type": "code",
   "execution_count": 23,
   "id": "9f10a176",
   "metadata": {},
   "outputs": [
    {
     "data": {
      "text/html": [
       "<div>\n",
       "<style scoped>\n",
       "    .dataframe tbody tr th:only-of-type {\n",
       "        vertical-align: middle;\n",
       "    }\n",
       "\n",
       "    .dataframe tbody tr th {\n",
       "        vertical-align: top;\n",
       "    }\n",
       "\n",
       "    .dataframe thead th {\n",
       "        text-align: right;\n",
       "    }\n",
       "</style>\n",
       "<table border=\"1\" class=\"dataframe\">\n",
       "  <thead>\n",
       "    <tr style=\"text-align: right;\">\n",
       "      <th></th>\n",
       "      <th>mean_le</th>\n",
       "      <th>mean_gdp</th>\n",
       "    </tr>\n",
       "    <tr>\n",
       "      <th>continent</th>\n",
       "      <th></th>\n",
       "      <th></th>\n",
       "    </tr>\n",
       "  </thead>\n",
       "  <tbody>\n",
       "    <tr>\n",
       "      <th>Africa</th>\n",
       "      <td>48.865330</td>\n",
       "      <td>2193.754578</td>\n",
       "    </tr>\n",
       "    <tr>\n",
       "      <th>Americas</th>\n",
       "      <td>64.658737</td>\n",
       "      <td>7136.110356</td>\n",
       "    </tr>\n",
       "    <tr>\n",
       "      <th>Asia</th>\n",
       "      <td>60.064903</td>\n",
       "      <td>7902.150428</td>\n",
       "    </tr>\n",
       "    <tr>\n",
       "      <th>Europe</th>\n",
       "      <td>71.903686</td>\n",
       "      <td>14469.475533</td>\n",
       "    </tr>\n",
       "    <tr>\n",
       "      <th>Oceania</th>\n",
       "      <td>74.326208</td>\n",
       "      <td>18621.609223</td>\n",
       "    </tr>\n",
       "  </tbody>\n",
       "</table>\n",
       "</div>"
      ],
      "text/plain": [
       "             mean_le      mean_gdp\n",
       "continent                         \n",
       "Africa     48.865330   2193.754578\n",
       "Americas   64.658737   7136.110356\n",
       "Asia       60.064903   7902.150428\n",
       "Europe     71.903686  14469.475533\n",
       "Oceania    74.326208  18621.609223"
      ]
     },
     "execution_count": 23,
     "metadata": {},
     "output_type": "execute_result"
    }
   ],
   "source": [
    "#6\n",
    "le_gdp_by_continent = gap.groupby(\"continent\").agg(mean_le = (\"lifeExp\", \"mean\"), \n",
    "                                                  mean_gdp = (\"gdpPercap\", \"mean\"))\n",
    "le_gdp_by_continent"
   ]
  },
  {
   "cell_type": "code",
   "execution_count": 24,
   "id": "795e0590",
   "metadata": {},
   "outputs": [
    {
     "data": {
      "text/html": [
       "<div>\n",
       "<style scoped>\n",
       "    .dataframe tbody tr th:only-of-type {\n",
       "        vertical-align: middle;\n",
       "    }\n",
       "\n",
       "    .dataframe tbody tr th {\n",
       "        vertical-align: top;\n",
       "    }\n",
       "\n",
       "    .dataframe thead th {\n",
       "        text-align: right;\n",
       "    }\n",
       "</style>\n",
       "<table border=\"1\" class=\"dataframe\">\n",
       "  <thead>\n",
       "    <tr style=\"text-align: right;\">\n",
       "      <th></th>\n",
       "      <th>country</th>\n",
       "      <th>year</th>\n",
       "      <th>pop</th>\n",
       "      <th>continent</th>\n",
       "      <th>lifeExp</th>\n",
       "      <th>gdpPercap</th>\n",
       "    </tr>\n",
       "  </thead>\n",
       "  <tbody>\n",
       "    <tr>\n",
       "      <th>22</th>\n",
       "      <td>Albania</td>\n",
       "      <td>2002</td>\n",
       "      <td>3508512.0</td>\n",
       "      <td>Europe</td>\n",
       "      <td>75.651</td>\n",
       "      <td>4604.211737</td>\n",
       "    </tr>\n",
       "  </tbody>\n",
       "</table>\n",
       "</div>"
      ],
      "text/plain": [
       "    country  year        pop continent  lifeExp    gdpPercap\n",
       "22  Albania  2002  3508512.0    Europe   75.651  4604.211737"
      ]
     },
     "execution_count": 24,
     "metadata": {},
     "output_type": "execute_result"
    }
   ],
   "source": [
    "#7 \n",
    "gap_75_1000 = gap[(gap[\"lifeExp\"] > 75) & (gap[\"gdpPercap\"] < 5000)]\n",
    "gap_75_1000"
   ]
  },
  {
   "cell_type": "markdown",
   "id": "d7110eb9",
   "metadata": {},
   "source": [
    "## Chapter 5 - Penguins Exercises\n",
    "\n",
    "Learn more about the biological and spatial characteristics of penguins! \n",
    "\n",
    "1. Use seaborn to make a scatterplot of two continuous variables. Color each point by species. \n",
    "2. Make the same scatterplot as #1 above. This time, color each point by sex. \n",
    "3. Make the same scatterplot as #1 above again. This time color each point by island.\n",
    "4. Use the `sns.FacetGrid` method to make faceted plots to examine \"flipper_length_mm\" on the x-axis, and \"body_mass_g\" on the y-axis. "
   ]
  },
  {
   "cell_type": "code",
   "execution_count": 25,
   "id": "6523e401",
   "metadata": {},
   "outputs": [],
   "source": [
    "import pandas as pd\n",
    "import seaborn as sns\n",
    "# !wget -P data/ https://raw.githubusercontent.com/EastBayEv/SSDS-TAML/main/fall2022/data/penguins.csv\n",
    "peng = pd.read_csv(\"data/penguins.csv\")"
   ]
  },
  {
   "cell_type": "code",
   "execution_count": 26,
   "id": "d5c2ee64",
   "metadata": {},
   "outputs": [],
   "source": [
    "# set seaborn figure size, background theme, and axis and tick label size\n",
    "sns.set(rc={'figure.figsize':(10, 7)})\n",
    "sns.set(font_scale = 2)\n",
    "sns.set_theme(style='ticks')"
   ]
  },
  {
   "cell_type": "code",
   "execution_count": 27,
   "id": "b962e8e5",
   "metadata": {},
   "outputs": [
    {
     "data": {
      "text/html": [
       "<div>\n",
       "<style scoped>\n",
       "    .dataframe tbody tr th:only-of-type {\n",
       "        vertical-align: middle;\n",
       "    }\n",
       "\n",
       "    .dataframe tbody tr th {\n",
       "        vertical-align: top;\n",
       "    }\n",
       "\n",
       "    .dataframe thead th {\n",
       "        text-align: right;\n",
       "    }\n",
       "</style>\n",
       "<table border=\"1\" class=\"dataframe\">\n",
       "  <thead>\n",
       "    <tr style=\"text-align: right;\">\n",
       "      <th></th>\n",
       "      <th>species</th>\n",
       "      <th>island</th>\n",
       "      <th>bill_length_mm</th>\n",
       "      <th>bill_depth_mm</th>\n",
       "      <th>flipper_length_mm</th>\n",
       "      <th>body_mass_g</th>\n",
       "      <th>sex</th>\n",
       "    </tr>\n",
       "  </thead>\n",
       "  <tbody>\n",
       "    <tr>\n",
       "      <th>0</th>\n",
       "      <td>Adelie</td>\n",
       "      <td>Torgersen</td>\n",
       "      <td>39.1</td>\n",
       "      <td>18.7</td>\n",
       "      <td>181.0</td>\n",
       "      <td>3750.0</td>\n",
       "      <td>MALE</td>\n",
       "    </tr>\n",
       "    <tr>\n",
       "      <th>1</th>\n",
       "      <td>Adelie</td>\n",
       "      <td>Torgersen</td>\n",
       "      <td>39.5</td>\n",
       "      <td>17.4</td>\n",
       "      <td>186.0</td>\n",
       "      <td>3800.0</td>\n",
       "      <td>FEMALE</td>\n",
       "    </tr>\n",
       "    <tr>\n",
       "      <th>2</th>\n",
       "      <td>Adelie</td>\n",
       "      <td>Torgersen</td>\n",
       "      <td>40.3</td>\n",
       "      <td>18.0</td>\n",
       "      <td>195.0</td>\n",
       "      <td>3250.0</td>\n",
       "      <td>FEMALE</td>\n",
       "    </tr>\n",
       "    <tr>\n",
       "      <th>3</th>\n",
       "      <td>Adelie</td>\n",
       "      <td>Torgersen</td>\n",
       "      <td>NaN</td>\n",
       "      <td>NaN</td>\n",
       "      <td>NaN</td>\n",
       "      <td>NaN</td>\n",
       "      <td>NaN</td>\n",
       "    </tr>\n",
       "    <tr>\n",
       "      <th>4</th>\n",
       "      <td>Adelie</td>\n",
       "      <td>Torgersen</td>\n",
       "      <td>36.7</td>\n",
       "      <td>19.3</td>\n",
       "      <td>193.0</td>\n",
       "      <td>3450.0</td>\n",
       "      <td>FEMALE</td>\n",
       "    </tr>\n",
       "    <tr>\n",
       "      <th>...</th>\n",
       "      <td>...</td>\n",
       "      <td>...</td>\n",
       "      <td>...</td>\n",
       "      <td>...</td>\n",
       "      <td>...</td>\n",
       "      <td>...</td>\n",
       "      <td>...</td>\n",
       "    </tr>\n",
       "    <tr>\n",
       "      <th>339</th>\n",
       "      <td>Gentoo</td>\n",
       "      <td>Biscoe</td>\n",
       "      <td>NaN</td>\n",
       "      <td>NaN</td>\n",
       "      <td>NaN</td>\n",
       "      <td>NaN</td>\n",
       "      <td>NaN</td>\n",
       "    </tr>\n",
       "    <tr>\n",
       "      <th>340</th>\n",
       "      <td>Gentoo</td>\n",
       "      <td>Biscoe</td>\n",
       "      <td>46.8</td>\n",
       "      <td>14.3</td>\n",
       "      <td>215.0</td>\n",
       "      <td>4850.0</td>\n",
       "      <td>FEMALE</td>\n",
       "    </tr>\n",
       "    <tr>\n",
       "      <th>341</th>\n",
       "      <td>Gentoo</td>\n",
       "      <td>Biscoe</td>\n",
       "      <td>50.4</td>\n",
       "      <td>15.7</td>\n",
       "      <td>222.0</td>\n",
       "      <td>5750.0</td>\n",
       "      <td>MALE</td>\n",
       "    </tr>\n",
       "    <tr>\n",
       "      <th>342</th>\n",
       "      <td>Gentoo</td>\n",
       "      <td>Biscoe</td>\n",
       "      <td>45.2</td>\n",
       "      <td>14.8</td>\n",
       "      <td>212.0</td>\n",
       "      <td>5200.0</td>\n",
       "      <td>FEMALE</td>\n",
       "    </tr>\n",
       "    <tr>\n",
       "      <th>343</th>\n",
       "      <td>Gentoo</td>\n",
       "      <td>Biscoe</td>\n",
       "      <td>49.9</td>\n",
       "      <td>16.1</td>\n",
       "      <td>213.0</td>\n",
       "      <td>5400.0</td>\n",
       "      <td>MALE</td>\n",
       "    </tr>\n",
       "  </tbody>\n",
       "</table>\n",
       "<p>344 rows × 7 columns</p>\n",
       "</div>"
      ],
      "text/plain": [
       "    species     island  bill_length_mm  bill_depth_mm  flipper_length_mm  \\\n",
       "0    Adelie  Torgersen            39.1           18.7              181.0   \n",
       "1    Adelie  Torgersen            39.5           17.4              186.0   \n",
       "2    Adelie  Torgersen            40.3           18.0              195.0   \n",
       "3    Adelie  Torgersen             NaN            NaN                NaN   \n",
       "4    Adelie  Torgersen            36.7           19.3              193.0   \n",
       "..      ...        ...             ...            ...                ...   \n",
       "339  Gentoo     Biscoe             NaN            NaN                NaN   \n",
       "340  Gentoo     Biscoe            46.8           14.3              215.0   \n",
       "341  Gentoo     Biscoe            50.4           15.7              222.0   \n",
       "342  Gentoo     Biscoe            45.2           14.8              212.0   \n",
       "343  Gentoo     Biscoe            49.9           16.1              213.0   \n",
       "\n",
       "     body_mass_g     sex  \n",
       "0         3750.0    MALE  \n",
       "1         3800.0  FEMALE  \n",
       "2         3250.0  FEMALE  \n",
       "3            NaN     NaN  \n",
       "4         3450.0  FEMALE  \n",
       "..           ...     ...  \n",
       "339          NaN     NaN  \n",
       "340       4850.0  FEMALE  \n",
       "341       5750.0    MALE  \n",
       "342       5200.0  FEMALE  \n",
       "343       5400.0    MALE  \n",
       "\n",
       "[344 rows x 7 columns]"
      ]
     },
     "execution_count": 27,
     "metadata": {},
     "output_type": "execute_result"
    }
   ],
   "source": [
    "peng"
   ]
  },
  {
   "cell_type": "code",
   "execution_count": 28,
   "id": "a5edcdc1",
   "metadata": {},
   "outputs": [
    {
     "data": {
      "image/png": "[encoded data removed]",
      "text/plain": [
       "<Figure size 432x288 with 1 Axes>"
      ]
     },
     "metadata": {
      "filenames": {
       "image/png": "/Users/evanmuzzall/Desktop/SSDS-TAML/_build/jupyter_execute/fall2022/Solutions_33_0.png"
      },
      "needs_background": "light"
     },
     "output_type": "display_data"
    }
   ],
   "source": [
    "#1\n",
    "sns.scatterplot(data = peng, x = \"flipper_length_mm\", y = \"body_mass_g\", \n",
    "                hue = \"species\",\n",
    "               s = 250, alpha = 0.75);"
   ]
  },
  {
   "cell_type": "code",
   "execution_count": 29,
   "id": "206f6af3",
   "metadata": {},
   "outputs": [
    {
     "data": {
      "image/png": "[encoded data removed]",
      "text/plain": [
       "<Figure size 432x288 with 1 Axes>"
      ]
     },
     "metadata": {
      "filenames": {
       "image/png": "/Users/evanmuzzall/Desktop/SSDS-TAML/_build/jupyter_execute/fall2022/Solutions_34_0.png"
      },
      "needs_background": "light"
     },
     "output_type": "display_data"
    }
   ],
   "source": [
    "#2\n",
    "sns.scatterplot(data = peng, x = \"flipper_length_mm\", y = \"body_mass_g\", \n",
    "                hue = \"sex\",\n",
    "               s = 250, alpha = 0.75, \n",
    "                \n",
    "               palette = [\"red\", \"green\"]).legend(title = \"Species\",\n",
    "                                                  fontsize = 20, \n",
    "                                                  title_fontsize = 30,\n",
    "                                                 loc = \"best\");"
   ]
  },
  {
   "cell_type": "code",
   "execution_count": 30,
   "id": "11548288",
   "metadata": {},
   "outputs": [
    {
     "data": {
      "image/png": "[encoded data removed]",
      "text/plain": [
       "<Figure size 432x288 with 1 Axes>"
      ]
     },
     "metadata": {
      "filenames": {
       "image/png": "/Users/evanmuzzall/Desktop/SSDS-TAML/_build/jupyter_execute/fall2022/Solutions_35_0.png"
      },
      "needs_background": "light"
     },
     "output_type": "display_data"
    }
   ],
   "source": [
    "#3\n",
    "sns.scatterplot(data = peng, x = \"flipper_length_mm\", y = \"body_mass_g\", \n",
    "                hue = \"island\").legend(loc = \"lower right\");"
   ]
  },
  {
   "cell_type": "code",
   "execution_count": 31,
   "id": "e694e64b",
   "metadata": {},
   "outputs": [
    {
     "data": {
      "image/png": "[encoded data removed]",
      "text/plain": [
       "<Figure size 648x432 with 6 Axes>"
      ]
     },
     "metadata": {
      "filenames": {
       "image/png": "/Users/evanmuzzall/Desktop/SSDS-TAML/_build/jupyter_execute/fall2022/Solutions_36_0.png"
      },
      "needs_background": "light"
     },
     "output_type": "display_data"
    }
   ],
   "source": [
    "#4\n",
    "facet_plot = sns.FacetGrid(data = peng, col = \"island\",  row = \"sex\")\n",
    "facet_plot.map(sns.scatterplot, \"flipper_length_mm\", \"body_mass_g\");"
   ]
  },
  {
   "cell_type": "markdown",
   "id": "7c19a139",
   "metadata": {},
   "source": [
    "## Chapter 5 - Gapminder Exercises\n",
    "\n",
    "1. Figure out how to make a line plot that shows gdpPercap through time. \n",
    "2. Figure out how to make a second line plot that shows lifeExp through time. \n",
    "3. How can you plot gdpPercap with a different colored line for each continent? \n",
    "4. Plot lifeExp with a different colored line for each continent. "
   ]
  },
  {
   "cell_type": "code",
   "execution_count": 32,
   "id": "82ee2333",
   "metadata": {},
   "outputs": [],
   "source": [
    "import pandas as pd\n",
    "import seaborn as sns\n",
    "# !wget -P data/ https://raw.githubusercontent.com/EastBayEv/SSDS-TAML/main/fall2022/data/gapminder-FiveYearData.csv\n",
    "gap = pd.read_csv(\"data/gapminder-FiveYearData.csv\")"
   ]
  },
  {
   "cell_type": "code",
   "execution_count": 33,
   "id": "382ebb71",
   "metadata": {},
   "outputs": [
    {
     "data": {
      "image/png": "[encoded data removed]",
      "text/plain": [
       "<Figure size 432x288 with 1 Axes>"
      ]
     },
     "metadata": {
      "filenames": {
       "image/png": "/Users/evanmuzzall/Desktop/SSDS-TAML/_build/jupyter_execute/fall2022/Solutions_39_0.png"
      },
      "needs_background": "light"
     },
     "output_type": "display_data"
    }
   ],
   "source": [
    "#1\n",
    "sns.lineplot(data = gap, x = \"year\", y = \"gdpPercap\", ci = 95);"
   ]
  },
  {
   "cell_type": "code",
   "execution_count": 34,
   "id": "b266764f",
   "metadata": {},
   "outputs": [
    {
     "data": {
      "image/png": "[encoded data removed]",
      "text/plain": [
       "<Figure size 432x288 with 1 Axes>"
      ]
     },
     "metadata": {
      "filenames": {
       "image/png": "/Users/evanmuzzall/Desktop/SSDS-TAML/_build/jupyter_execute/fall2022/Solutions_40_0.png"
      },
      "needs_background": "light"
     },
     "output_type": "display_data"
    }
   ],
   "source": [
    "#2\n",
    "sns.lineplot(data = gap, x = \"year\", y = \"lifeExp\", ci = False);"
   ]
  },
  {
   "cell_type": "code",
   "execution_count": 35,
   "id": "296577e9",
   "metadata": {},
   "outputs": [
    {
     "data": {
      "image/png": "[encoded data removed]",
      "text/plain": [
       "<Figure size 432x288 with 1 Axes>"
      ]
     },
     "metadata": {
      "filenames": {
       "image/png": "/Users/evanmuzzall/Desktop/SSDS-TAML/_build/jupyter_execute/fall2022/Solutions_41_0.png"
      },
      "needs_background": "light"
     },
     "output_type": "display_data"
    }
   ],
   "source": [
    "#3\n",
    "sns.lineplot(data = gap, x = \"year\", y = \"gdpPercap\", hue = \"continent\", ci = False);"
   ]
  },
  {
   "cell_type": "code",
   "execution_count": 36,
   "id": "97cbe605",
   "metadata": {},
   "outputs": [
    {
     "data": {
      "image/png": "[encoded data removed]",
      "text/plain": [
       "<Figure size 432x288 with 1 Axes>"
      ]
     },
     "metadata": {
      "filenames": {
       "image/png": "/Users/evanmuzzall/Desktop/SSDS-TAML/_build/jupyter_execute/fall2022/Solutions_42_0.png"
      },
      "needs_background": "light"
     },
     "output_type": "display_data"
    }
   ],
   "source": [
    "#4\n",
    "sns.lineplot(data = gap, x = \"year\", y = \"lifeExp\", \n",
    "             hue = \"continent\", ci = False);"
   ]
  },
  {
   "cell_type": "code",
   "execution_count": 37,
   "id": "f760ab2c",
   "metadata": {},
   "outputs": [
    {
     "data": {
      "image/png": "[encoded data removed]",
      "text/plain": [
       "<Figure size 432x288 with 1 Axes>"
      ]
     },
     "metadata": {
      "filenames": {
       "image/png": "/Users/evanmuzzall/Desktop/SSDS-TAML/_build/jupyter_execute/fall2022/Solutions_43_0.png"
      },
      "needs_background": "light"
     },
     "output_type": "display_data"
    }
   ],
   "source": [
    "#4 with custom colors\n",
    "sns.lineplot(data = gap, x = \"year\", y = \"lifeExp\", \n",
    "             hue = \"continent\", \n",
    "             ci = False, \n",
    "            palette = [\"#00FFFF\", \"#458B74\", \"#E3CF57\", \"#8A2BE2\", \"#CD3333\"]);\n",
    "\n",
    "# color hex codes: https://www.webucator.com/article/python-color-constants-module/\n",
    "# seaborn color palettes: https://www.reddit.com/r/visualization/comments/qc0b36/all_seaborn_color_palettes_together_so_you_dont/"
   ]
  },
  {
   "cell_type": "markdown",
   "id": "afac45c4",
   "metadata": {},
   "source": [
    "## Chapter 6 - Exercise\n",
    "\n",
    "1. Compare our \"by hand\" OLS results to those producd by sklearn's `LinearRegression` function. Are they the same? \n",
    "    * Slope = 4\n",
    "    * Intercept = -4\n",
    "    * RMSE = 2.82843\n",
    "    * y_hat = y_hat = B0 + B1 * data.x"
   ]
  },
  {
   "cell_type": "code",
   "execution_count": 38,
   "id": "a0f5ef0a",
   "metadata": {},
   "outputs": [],
   "source": [
    "#1 \n",
    "from sklearn.linear_model import LinearRegression\n",
    "from sklearn.metrics import mean_squared_error"
   ]
  },
  {
   "cell_type": "code",
   "execution_count": 39,
   "id": "f213a920",
   "metadata": {},
   "outputs": [
    {
     "data": {
      "text/html": [
       "<div>\n",
       "<style scoped>\n",
       "    .dataframe tbody tr th:only-of-type {\n",
       "        vertical-align: middle;\n",
       "    }\n",
       "\n",
       "    .dataframe tbody tr th {\n",
       "        vertical-align: top;\n",
       "    }\n",
       "\n",
       "    .dataframe thead th {\n",
       "        text-align: right;\n",
       "    }\n",
       "</style>\n",
       "<table border=\"1\" class=\"dataframe\">\n",
       "  <thead>\n",
       "    <tr style=\"text-align: right;\">\n",
       "      <th></th>\n",
       "      <th>x</th>\n",
       "      <th>y</th>\n",
       "    </tr>\n",
       "  </thead>\n",
       "  <tbody>\n",
       "    <tr>\n",
       "      <th>0</th>\n",
       "      <td>1</td>\n",
       "      <td>2</td>\n",
       "    </tr>\n",
       "    <tr>\n",
       "      <th>1</th>\n",
       "      <td>2</td>\n",
       "      <td>4</td>\n",
       "    </tr>\n",
       "    <tr>\n",
       "      <th>2</th>\n",
       "      <td>3</td>\n",
       "      <td>6</td>\n",
       "    </tr>\n",
       "    <tr>\n",
       "      <th>3</th>\n",
       "      <td>4</td>\n",
       "      <td>8</td>\n",
       "    </tr>\n",
       "    <tr>\n",
       "      <th>4</th>\n",
       "      <td>5</td>\n",
       "      <td>20</td>\n",
       "    </tr>\n",
       "  </tbody>\n",
       "</table>\n",
       "</div>"
      ],
      "text/plain": [
       "   x   y\n",
       "0  1   2\n",
       "1  2   4\n",
       "2  3   6\n",
       "3  4   8\n",
       "4  5  20"
      ]
     },
     "execution_count": 39,
     "metadata": {},
     "output_type": "execute_result"
    }
   ],
   "source": [
    "# Recreate dataset\n",
    "import pandas as pd\n",
    "data = pd.DataFrame({\"x\": [1,2,3,4,5],\n",
    "                     \"y\": [2,4,6,8,20]})\n",
    "data"
   ]
  },
  {
   "cell_type": "code",
   "execution_count": 40,
   "id": "3bb3d85b",
   "metadata": {},
   "outputs": [],
   "source": [
    "# Our \"by hand\" OLS regression information:\n",
    "B1 = 4\n",
    "B0 = -4\n",
    "RMSE = 2.82843\n",
    "y_hat = B0 + B1 * data.x"
   ]
  },
  {
   "cell_type": "code",
   "execution_count": 41,
   "id": "63bd8e86",
   "metadata": {},
   "outputs": [
    {
     "name": "stdout",
     "output_type": "stream",
     "text": [
      "R-squared: 0.8\n"
     ]
    }
   ],
   "source": [
    "# use scikit-learn to compute R-squared value\n",
    "lin_mod = LinearRegression().fit(data[['x']], data[['y']])\n",
    "print(\"R-squared: \" + str(lin_mod.score(data[['x']], data[['y']])))"
   ]
  },
  {
   "cell_type": "code",
   "execution_count": 42,
   "id": "c8dce2bd",
   "metadata": {},
   "outputs": [
    {
     "name": "stdout",
     "output_type": "stream",
     "text": [
      "scikit-learn slope: [[4.]]\n",
      "scikit-learn intercept: [-4.]\n"
     ]
    }
   ],
   "source": [
    "# use scikit-learn to compute slope and intercept\n",
    "print(\"scikit-learn slope: \" + str(lin_mod.coef_))\n",
    "print(\"scikit-learn intercept: \" + str(lin_mod.intercept_))"
   ]
  },
  {
   "cell_type": "code",
   "execution_count": 43,
   "id": "98e6300a",
   "metadata": {},
   "outputs": [
    {
     "name": "stdout",
     "output_type": "stream",
     "text": [
      "True\n",
      "True\n"
     ]
    }
   ],
   "source": [
    "# compare to our by \"hand\" versions. Both are the same!\n",
    "print(int(lin_mod.coef_) == B1)\n",
    "print(int(lin_mod.intercept_) == B0)"
   ]
  },
  {
   "cell_type": "code",
   "execution_count": 44,
   "id": "e8ad2ef3",
   "metadata": {},
   "outputs": [
    {
     "name": "stdout",
     "output_type": "stream",
     "text": [
      "2.82843\n"
     ]
    }
   ],
   "source": [
    "# use scikit-learn to compute RMSE\n",
    "RMSE_scikit = round(mean_squared_error(data.y, y_hat, squared = False), 5)\n",
    "print(RMSE_scikit)"
   ]
  },
  {
   "cell_type": "code",
   "execution_count": 45,
   "id": "4e83fc13",
   "metadata": {},
   "outputs": [
    {
     "name": "stdout",
     "output_type": "stream",
     "text": [
      "True\n"
     ]
    }
   ],
   "source": [
    "# Does our hand-computed RMSE equal that of scikit-learn at 5 digits?? Yes!\n",
    "print(round(RMSE, 5) == round(RMSE_scikit, 5))"
   ]
  },
  {
   "cell_type": "markdown",
   "id": "4672a0e1",
   "metadata": {},
   "source": [
    "## Chapter 7 - Exercises - redwoods webscraping\n",
    "\n",
    "This also works with data scraped from the web. Below is very brief BeautifulSoup example to save the contents of the Sequoioideae (redwood trees) Wikipedia page in a variable named `text`. \n",
    "\n",
    "1. Read through the code below\n",
    "2. Practice by repeating for a webpage of your choice"
   ]
  },
  {
   "cell_type": "code",
   "execution_count": 46,
   "id": "108272fd",
   "metadata": {},
   "outputs": [],
   "source": [
    "#1 \n",
    "# See 7_English_preprocessing_basics.ipynb"
   ]
  },
  {
   "cell_type": "code",
   "execution_count": 47,
   "id": "b98dc5cf",
   "metadata": {},
   "outputs": [],
   "source": [
    "#2\n",
    "from bs4 import BeautifulSoup\n",
    "import requests\n",
    "import regex as re\n",
    "import nltk"
   ]
  },
  {
   "cell_type": "code",
   "execution_count": 48,
   "id": "abb6be51",
   "metadata": {},
   "outputs": [],
   "source": [
    "url = \"https://en.wikipedia.org/wiki/Observable_universe\"\n",
    "response = requests.get(url)\n",
    "soup = BeautifulSoup(response.text, 'html')"
   ]
  },
  {
   "cell_type": "code",
   "execution_count": 49,
   "id": "709afc69",
   "metadata": {},
   "outputs": [],
   "source": [
    "text = \"\"\n",
    "\n",
    "for paragraph in soup.find_all('p'):\n",
    "    text += paragraph.text"
   ]
  },
  {
   "cell_type": "code",
   "execution_count": 50,
   "id": "d50c402c",
   "metadata": {},
   "outputs": [],
   "source": [
    "text = re.sub(r'\\[[0-9]*\\]',' ',text)\n",
    "text = re.sub(r'\\s+',' ',text)\n",
    "text = re.sub(r'\\d',' ',text)\n",
    "text = re.sub(r'[^\\w\\s]','',text)\n",
    "text = text.lower()\n",
    "text = re.sub(r'\\s+',' ',text)"
   ]
  },
  {
   "cell_type": "code",
   "execution_count": 51,
   "id": "bf3368e3",
   "metadata": {},
   "outputs": [],
   "source": [
    "# print(text)"
   ]
  },
  {
   "cell_type": "markdown",
   "id": "2c076531",
   "metadata": {},
   "source": [
    "## Chapter 7 - Exercise - _Dracula_ versus _Frankenstein_\n",
    "\n",
    "1. Practice your text pre-processing skills on the classic novel Dracula! Here you'll just be performing the standardization operations on a text string instead of a DataFrame, so be sure to adapt the practices you saw with the UN HRC corpus processing appropriately. \n",
    "\n",
    "    Can you:\n",
    "    * Remove non-alphanumeric characters & punctuation?\n",
    "    * Remove digits?\n",
    "    * Remove unicode characters?\n",
    "    * Remove extraneous spaces?\n",
    "    * Standardize casing?\n",
    "    * Lemmatize tokens?\n",
    "\n",
    "2. Investigate classic horror novel vocabulary. Create a single TF-IDF sparse matrix that contains the vocabulary for _Frankenstein_ and _Dracula_. You should only have two rows (one for each of these novels), but potentially thousands of columns to represent the vocabulary across the two texts. What are the 20 most unique words in each? Make a dataframe or visualization to illustrate the differences.\n",
    "\n",
    "3. [Read through this 20 newsgroups dataset example](https://scikit-learn.org/0.19/datasets/twenty_newsgroups.html) to get familiar with newspaper data. Do you best to understand and explain what is happening at each step of the workflow. \"The 20 newsgroups dataset comprises around 18000 newsgroups posts on 20 topics split in two subsets: one for training (or development) and the other one for testing (or for performance evaluation). The split between the train and test set is based upon a messages posted before and after a specific date.\""
   ]
  },
  {
   "cell_type": "code",
   "execution_count": 52,
   "id": "396f0c46",
   "metadata": {},
   "outputs": [
    {
     "name": "stderr",
     "output_type": "stream",
     "text": [
      "[nltk_data] Downloading package stopwords to\n",
      "[nltk_data]     /Users/evanmuzzall/nltk_data...\n",
      "[nltk_data]   Package stopwords is already up-to-date!\n"
     ]
    }
   ],
   "source": [
    "# 1\n",
    "import regex as re\n",
    "from string import punctuation\n",
    "import nltk\n",
    "nltk.download('stopwords')\n",
    "from nltk.corpus import stopwords\n",
    "import pandas as pd\n",
    "from collections import Counter\n",
    "import seaborn as sns"
   ]
  },
  {
   "cell_type": "markdown",
   "id": "fd72fb63",
   "metadata": {},
   "source": [
    "### Import dracula.txt"
   ]
  },
  {
   "cell_type": "code",
   "execution_count": 53,
   "id": "2c0c9348",
   "metadata": {},
   "outputs": [
    {
     "name": "stdout",
     "output_type": "stream",
     "text": [
      "The Project Gutenberg eBook of Dracula, by Bram Stoker\n",
      "\n",
      "This eBook is for the use of anyone anywhere\n"
     ]
    }
   ],
   "source": [
    "# !wget -P data/ https://raw.githubusercontent.com/EastBayEv/SSDS-TAML/main/fall2022/data/dracula.txt\n",
    "text = open(\"data/dracula.txt\").read()\n",
    "\n",
    "# print just the first 100 characters\n",
    "print(text[:100])"
   ]
  },
  {
   "cell_type": "markdown",
   "id": "b7cae149",
   "metadata": {},
   "source": [
    "### Standardize Text \n",
    "\n",
    "### Casing and spacing\n",
    "\n",
    "Oftentimes in text analysis, identifying occurences of key word(s) is a necessary step. To do so, we may want \"apple,\" \"ApPLe,\" and \"apple      \" to be treated the same; i.e., as an occurence of the token, 'apple.' To achieve this, we can standardize text casing and spacing: "
   ]
  },
  {
   "cell_type": "code",
   "execution_count": 54,
   "id": "7f17f06b",
   "metadata": {},
   "outputs": [
    {
     "name": "stdout",
     "output_type": "stream",
     "text": [
      "hello! welcome      to        taml!\n",
      "Hello! Welcome to TAML!\n"
     ]
    }
   ],
   "source": [
    "# Converting all charazcters in a string to lowercase only requires one method: \n",
    "message = \"Hello! Welcome      to        TAML!\"\n",
    "print(message.lower())\n",
    "\n",
    "# To replace instances of multiple spaces with one, we can use the regex module's 'sub' function:\n",
    "# Documentation on regex can be found at: https://docs.python.org/3/library/re.html\n",
    "single_spaces_msg = re.sub('\\s+', ' ', message)\n",
    "print(single_spaces_msg)"
   ]
  },
  {
   "cell_type": "markdown",
   "id": "f7925be2",
   "metadata": {},
   "source": [
    "### Remove punctuation\n",
    "\n",
    "Remember that Python methods can be chained together. \n",
    "\n",
    "Below, a standard for loop loops through the `punctuation` module to replace any of these characters with nothing."
   ]
  },
  {
   "cell_type": "code",
   "execution_count": 55,
   "id": "37fc2b77",
   "metadata": {},
   "outputs": [
    {
     "name": "stdout",
     "output_type": "stream",
     "text": [
      "!\"#$%&'()*+,-./:;<=>?@[\\]^_`{|}~\n"
     ]
    }
   ],
   "source": [
    "print(punctuation)"
   ]
  },
  {
   "cell_type": "code",
   "execution_count": 56,
   "id": "2c6ec5e4",
   "metadata": {},
   "outputs": [],
   "source": [
    "for char in punctuation:\n",
    "    text = text.lower().replace(char, \"\")"
   ]
  },
  {
   "cell_type": "code",
   "execution_count": 57,
   "id": "ea78270e",
   "metadata": {},
   "outputs": [
    {
     "name": "stdout",
     "output_type": "stream",
     "text": [
      "the project gutenberg ebook of dracula by bram stoker\n",
      "\n",
      "this ebook is for the use of anyone anywhere \n"
     ]
    }
   ],
   "source": [
    "print(text[:100])"
   ]
  },
  {
   "cell_type": "markdown",
   "id": "57696aaf",
   "metadata": {},
   "source": [
    "### Tokenize the text\n",
    "\n",
    "Split each word on spaces."
   ]
  },
  {
   "cell_type": "code",
   "execution_count": 58,
   "id": "bac917db",
   "metadata": {},
   "outputs": [],
   "source": [
    "# .split() returns a list of the tokens in a string, separated by the specified delimiter (default: \" \")\n",
    "tokens = text.split()"
   ]
  },
  {
   "cell_type": "code",
   "execution_count": 59,
   "id": "b9fc4bae",
   "metadata": {},
   "outputs": [
    {
     "name": "stdout",
     "output_type": "stream",
     "text": [
      "['the', 'project', 'gutenberg', 'ebook', 'of', 'dracula', 'by', 'bram', 'stoker', 'this', 'ebook', 'is', 'for', 'the', 'use', 'of', 'anyone', 'anywhere', 'in', 'the']\n"
     ]
    }
   ],
   "source": [
    "# View the first 20\n",
    "print(tokens[:20])"
   ]
  },
  {
   "cell_type": "markdown",
   "id": "36e3f993",
   "metadata": {},
   "source": [
    "### Remove stop words\n",
    "\n",
    "Below is a list comprehension (a sort of shortcut for loop, or chunk of repeating code) that can accomplish this task for us."
   ]
  },
  {
   "cell_type": "code",
   "execution_count": 60,
   "id": "ab023aff",
   "metadata": {},
   "outputs": [],
   "source": [
    "filtered_text = [word for word in tokens if word not in stopwords.words('english')]"
   ]
  },
  {
   "cell_type": "code",
   "execution_count": 61,
   "id": "34251cff",
   "metadata": {},
   "outputs": [
    {
     "name": "stdout",
     "output_type": "stream",
     "text": [
      "['project', 'gutenberg', 'ebook', 'dracula', 'bram', 'stoker', 'ebook', 'use', 'anyone', 'anywhere', 'united', 'states', 'parts', 'world', 'cost', 'almost', 'restrictions', 'whatsoever', 'may', 'copy', 'give', 'away', 'reuse', 'terms', 'project', 'gutenberg', 'license', 'included', 'ebook', 'online', 'wwwgutenbergorg', 'located', 'united', 'states', 'check', 'laws', 'country', 'located', 'using', 'ebook', 'title', 'dracula', 'author', 'bram', 'stoker', 'release', 'date', 'october', '1995', 'ebook', '345', 'recently', 'updated', 'september', '5', '2022', 'language', 'english', 'produced', 'chuck', 'greif', 'online', 'distributed', 'proofreading', 'team', 'start', 'project', 'gutenberg', 'ebook', 'dracula', 'dracula', 'bram', 'stoker', 'illustration', 'colophon', 'new', 'york', 'grosset', 'dunlap', 'publishers', 'copyright', '1897', 'united', 'states', 'america', 'according', 'act', 'congress', 'bram', 'stoker', 'rights', 'reserved', 'printed', 'united', 'states', 'country', 'life', 'press', 'garden', 'city']\n"
     ]
    }
   ],
   "source": [
    "# show only the first 100 words\n",
    "# do you see any stopwords?\n",
    "print(filtered_text[:100])"
   ]
  },
  {
   "cell_type": "markdown",
   "id": "d82d0f9e",
   "metadata": {},
   "source": [
    "### Lemmatizing/Stemming tokens\n",
    "\n",
    "Lemmatizating and stemming are related, but are different practices. Both aim to reduce the inflectional forms of a token to a common base/root. However, how they go about doing so is the key differentiating factor.  \n",
    "\n",
    "Stemming operates by removes the prefixs and/or suffixes of a word. Examples include: \n",
    "* flooding to flood \n",
    "* studies to studi\n",
    "* risky to risk \n",
    "\n",
    "Lemmatization attempts to contextualize a word, arriving at it's base meaning. Lemmatization reductions can occur across various dimensions of speech. Examples include: \n",
    "* Plural to singular (corpora to corpus)\n",
    "* Condition (better to good)\n",
    "* Gerund (running to run)\n",
    "\n",
    "One technique is not strictly better than the other - it's a matter of project needs and proper application. "
   ]
  },
  {
   "cell_type": "code",
   "execution_count": 62,
   "id": "bba7a32f",
   "metadata": {},
   "outputs": [],
   "source": [
    "stmer = nltk.PorterStemmer()\n",
    "\n",
    "lmtzr = nltk.WordNetLemmatizer()"
   ]
  },
  {
   "cell_type": "code",
   "execution_count": 63,
   "id": "874567f0",
   "metadata": {},
   "outputs": [
    {
     "name": "stdout",
     "output_type": "stream",
     "text": [
      "['project', 'gutenberg', 'ebook', 'dracula', 'bram', 'stoker', 'ebook', 'use', 'anyon', 'anywher', 'unit', 'state', 'part', 'world', 'cost', 'almost', 'restrict', 'whatsoev', 'may', 'copi']\n",
      "['project', 'gutenberg', 'ebook', 'dracula', 'bram', 'stoker', 'ebook', 'use', 'anyone', 'anywhere', 'united', 'state', 'part', 'world', 'cost', 'almost', 'restriction', 'whatsoever', 'may', 'copy']\n"
     ]
    }
   ],
   "source": [
    "# do you see any differences?\n",
    "token_stem  = [ stmer.stem(token) for token in filtered_text]\n",
    "\n",
    "token_lemma = [ lmtzr.lemmatize(token) for token in filtered_text ]\n",
    "\n",
    "print(token_stem[:20])\n",
    "\n",
    "print(token_lemma[:20])"
   ]
  },
  {
   "cell_type": "markdown",
   "id": "38bfdb64",
   "metadata": {},
   "source": [
    "### Part of speech tags\n",
    "\n",
    "Part of speech tags are labels given to each word in a text such as verbs, adverbs, nouns, pronouns, adjectives, conjunctions, and their various derivations and subcategories. "
   ]
  },
  {
   "cell_type": "code",
   "execution_count": 64,
   "id": "ee66cd07",
   "metadata": {},
   "outputs": [
    {
     "name": "stdout",
     "output_type": "stream",
     "text": [
      "[('They', 'PRP'), ('refuse', 'VBP'), ('to', 'TO'), ('permit', 'VB'), ('us', 'PRP'), ('to', 'TO'), ('obtain', 'VB'), ('the', 'DT'), ('refuse', 'NN'), ('permit.', 'NN')]\n"
     ]
    }
   ],
   "source": [
    "tagged = nltk.pos_tag(token_lemma)\n",
    "\n",
    "# Let's see a quick example: \n",
    "ex_string = 'They refuse to permit us to obtain the refuse permit.'\n",
    "print(nltk.pos_tag(ex_string.split())) "
   ]
  },
  {
   "cell_type": "markdown",
   "id": "27eab0a2",
   "metadata": {},
   "source": [
    "The output of .pos_tag is a list of tuples (immutable pairs), where the first element is a text token and the second is a part of speech. Note that, in our example string, the token 'refuse' shows up twice - once as a verb, and once as a noun. In the output to .pos_tag, the first tuple with 'refuse' has the 'VBP' tag (present tense verb) and the second tuple has the 'NN' tag (noun). Nifty!"
   ]
  },
  {
   "cell_type": "code",
   "execution_count": 65,
   "id": "1a1b4794",
   "metadata": {},
   "outputs": [],
   "source": [
    "chunked = nltk.chunk.ne_chunk(tagged)"
   ]
  },
  {
   "cell_type": "markdown",
   "id": "dc42f7ee",
   "metadata": {},
   "source": [
    "## Convert to dataframe"
   ]
  },
  {
   "cell_type": "code",
   "execution_count": 66,
   "id": "347c83ff",
   "metadata": {},
   "outputs": [
    {
     "data": {
      "text/html": [
       "<div>\n",
       "<style scoped>\n",
       "    .dataframe tbody tr th:only-of-type {\n",
       "        vertical-align: middle;\n",
       "    }\n",
       "\n",
       "    .dataframe tbody tr th {\n",
       "        vertical-align: top;\n",
       "    }\n",
       "\n",
       "    .dataframe thead th {\n",
       "        text-align: right;\n",
       "    }\n",
       "</style>\n",
       "<table border=\"1\" class=\"dataframe\">\n",
       "  <thead>\n",
       "    <tr style=\"text-align: right;\">\n",
       "      <th></th>\n",
       "      <th>word</th>\n",
       "      <th>pos</th>\n",
       "    </tr>\n",
       "  </thead>\n",
       "  <tbody>\n",
       "    <tr>\n",
       "      <th>0</th>\n",
       "      <td>project</td>\n",
       "      <td>NN</td>\n",
       "    </tr>\n",
       "    <tr>\n",
       "      <th>1</th>\n",
       "      <td>gutenberg</td>\n",
       "      <td>NN</td>\n",
       "    </tr>\n",
       "    <tr>\n",
       "      <th>2</th>\n",
       "      <td>ebook</td>\n",
       "      <td>NN</td>\n",
       "    </tr>\n",
       "    <tr>\n",
       "      <th>3</th>\n",
       "      <td>dracula</td>\n",
       "      <td>NN</td>\n",
       "    </tr>\n",
       "    <tr>\n",
       "      <th>4</th>\n",
       "      <td>bram</td>\n",
       "      <td>NN</td>\n",
       "    </tr>\n",
       "    <tr>\n",
       "      <th>5</th>\n",
       "      <td>stoker</td>\n",
       "      <td>NN</td>\n",
       "    </tr>\n",
       "    <tr>\n",
       "      <th>6</th>\n",
       "      <td>ebook</td>\n",
       "      <td>NN</td>\n",
       "    </tr>\n",
       "    <tr>\n",
       "      <th>7</th>\n",
       "      <td>use</td>\n",
       "      <td>NN</td>\n",
       "    </tr>\n",
       "    <tr>\n",
       "      <th>8</th>\n",
       "      <td>anyone</td>\n",
       "      <td>NN</td>\n",
       "    </tr>\n",
       "    <tr>\n",
       "      <th>9</th>\n",
       "      <td>anywhere</td>\n",
       "      <td>RB</td>\n",
       "    </tr>\n",
       "  </tbody>\n",
       "</table>\n",
       "</div>"
      ],
      "text/plain": [
       "        word pos\n",
       "0    project  NN\n",
       "1  gutenberg  NN\n",
       "2      ebook  NN\n",
       "3    dracula  NN\n",
       "4       bram  NN\n",
       "5     stoker  NN\n",
       "6      ebook  NN\n",
       "7        use  NN\n",
       "8     anyone  NN\n",
       "9   anywhere  RB"
      ]
     },
     "execution_count": 66,
     "metadata": {},
     "output_type": "execute_result"
    }
   ],
   "source": [
    "df = pd.DataFrame(chunked, columns=['word', 'pos'])\n",
    "df.head(n = 10)"
   ]
  },
  {
   "cell_type": "code",
   "execution_count": 67,
   "id": "ae03af57",
   "metadata": {},
   "outputs": [
    {
     "data": {
      "text/plain": [
       "(73541, 2)"
      ]
     },
     "execution_count": 67,
     "metadata": {},
     "output_type": "execute_result"
    }
   ],
   "source": [
    "df.shape"
   ]
  },
  {
   "cell_type": "markdown",
   "id": "63d5944a",
   "metadata": {},
   "source": [
    "## Visualize the 20 most frequent words"
   ]
  },
  {
   "cell_type": "code",
   "execution_count": 68,
   "id": "ea3e081b",
   "metadata": {},
   "outputs": [
    {
     "data": {
      "text/plain": [
       "[('said', 569),\n",
       " ('one', 509),\n",
       " ('could', 493),\n",
       " ('u', 463),\n",
       " ('must', 451),\n",
       " ('would', 428),\n",
       " ('shall', 427),\n",
       " ('time', 425),\n",
       " ('know', 420),\n",
       " ('may', 416),\n",
       " ('see', 398),\n",
       " ('come', 377),\n",
       " ('van', 322),\n",
       " ('hand', 310),\n",
       " ('came', 307),\n",
       " ('helsing', 300),\n",
       " ('went', 298),\n",
       " ('lucy', 296),\n",
       " ('go', 296),\n",
       " ('like', 278)]"
      ]
     },
     "execution_count": 68,
     "metadata": {},
     "output_type": "execute_result"
    }
   ],
   "source": [
    "top = df.copy()\n",
    "\n",
    "count_words = Counter(top['word'])\n",
    "count_words.most_common()[:20]"
   ]
  },
  {
   "cell_type": "code",
   "execution_count": 69,
   "id": "9e6c09c7",
   "metadata": {},
   "outputs": [
    {
     "data": {
      "text/html": [
       "<div>\n",
       "<style scoped>\n",
       "    .dataframe tbody tr th:only-of-type {\n",
       "        vertical-align: middle;\n",
       "    }\n",
       "\n",
       "    .dataframe tbody tr th {\n",
       "        vertical-align: top;\n",
       "    }\n",
       "\n",
       "    .dataframe thead th {\n",
       "        text-align: right;\n",
       "    }\n",
       "</style>\n",
       "<table border=\"1\" class=\"dataframe\">\n",
       "  <thead>\n",
       "    <tr style=\"text-align: right;\">\n",
       "      <th></th>\n",
       "      <th>word</th>\n",
       "      <th>count</th>\n",
       "    </tr>\n",
       "  </thead>\n",
       "  <tbody>\n",
       "    <tr>\n",
       "      <th>205</th>\n",
       "      <td>said</td>\n",
       "      <td>569</td>\n",
       "    </tr>\n",
       "    <tr>\n",
       "      <th>252</th>\n",
       "      <td>one</td>\n",
       "      <td>509</td>\n",
       "    </tr>\n",
       "    <tr>\n",
       "      <th>151</th>\n",
       "      <td>could</td>\n",
       "      <td>493</td>\n",
       "    </tr>\n",
       "    <tr>\n",
       "      <th>176</th>\n",
       "      <td>u</td>\n",
       "      <td>463</td>\n",
       "    </tr>\n",
       "    <tr>\n",
       "      <th>315</th>\n",
       "      <td>must</td>\n",
       "      <td>451</td>\n",
       "    </tr>\n",
       "    <tr>\n",
       "      <th>158</th>\n",
       "      <td>would</td>\n",
       "      <td>428</td>\n",
       "    </tr>\n",
       "    <tr>\n",
       "      <th>274</th>\n",
       "      <td>shall</td>\n",
       "      <td>427</td>\n",
       "    </tr>\n",
       "    <tr>\n",
       "      <th>161</th>\n",
       "      <td>time</td>\n",
       "      <td>425</td>\n",
       "    </tr>\n",
       "    <tr>\n",
       "      <th>220</th>\n",
       "      <td>know</td>\n",
       "      <td>420</td>\n",
       "    </tr>\n",
       "    <tr>\n",
       "      <th>17</th>\n",
       "      <td>may</td>\n",
       "      <td>416</td>\n",
       "    </tr>\n",
       "    <tr>\n",
       "      <th>378</th>\n",
       "      <td>see</td>\n",
       "      <td>398</td>\n",
       "    </tr>\n",
       "    <tr>\n",
       "      <th>680</th>\n",
       "      <td>come</td>\n",
       "      <td>377</td>\n",
       "    </tr>\n",
       "    <tr>\n",
       "      <th>120</th>\n",
       "      <td>van</td>\n",
       "      <td>322</td>\n",
       "    </tr>\n",
       "    <tr>\n",
       "      <th>1165</th>\n",
       "      <td>hand</td>\n",
       "      <td>310</td>\n",
       "    </tr>\n",
       "    <tr>\n",
       "      <th>184</th>\n",
       "      <td>came</td>\n",
       "      <td>307</td>\n",
       "    </tr>\n",
       "    <tr>\n",
       "      <th>121</th>\n",
       "      <td>helsing</td>\n",
       "      <td>300</td>\n",
       "    </tr>\n",
       "    <tr>\n",
       "      <th>542</th>\n",
       "      <td>went</td>\n",
       "      <td>298</td>\n",
       "    </tr>\n",
       "    <tr>\n",
       "      <th>155</th>\n",
       "      <td>go</td>\n",
       "      <td>296</td>\n",
       "    </tr>\n",
       "    <tr>\n",
       "      <th>100</th>\n",
       "      <td>lucy</td>\n",
       "      <td>296</td>\n",
       "    </tr>\n",
       "    <tr>\n",
       "      <th>403</th>\n",
       "      <td>like</td>\n",
       "      <td>278</td>\n",
       "    </tr>\n",
       "  </tbody>\n",
       "</table>\n",
       "</div>"
      ],
      "text/plain": [
       "         word  count\n",
       "205      said    569\n",
       "252       one    509\n",
       "151     could    493\n",
       "176         u    463\n",
       "315      must    451\n",
       "158     would    428\n",
       "274     shall    427\n",
       "161      time    425\n",
       "220      know    420\n",
       "17        may    416\n",
       "378       see    398\n",
       "680      come    377\n",
       "120       van    322\n",
       "1165     hand    310\n",
       "184      came    307\n",
       "121   helsing    300\n",
       "542      went    298\n",
       "155        go    296\n",
       "100      lucy    296\n",
       "403      like    278"
      ]
     },
     "execution_count": 69,
     "metadata": {},
     "output_type": "execute_result"
    }
   ],
   "source": [
    "words_df = pd.DataFrame(count_words.items(), columns=['word', 'count']).sort_values(by = 'count', ascending=False)\n",
    "words_df[:20]"
   ]
  },
  {
   "cell_type": "code",
   "execution_count": 70,
   "id": "e2e0ba47",
   "metadata": {},
   "outputs": [
    {
     "data": {
      "image/png": "[encoded data removed]",
      "text/plain": [
       "<Figure size 432x288 with 1 Axes>"
      ]
     },
     "metadata": {
      "filenames": {
       "image/png": "/Users/evanmuzzall/Desktop/SSDS-TAML/_build/jupyter_execute/fall2022/Solutions_89_0.png"
      },
      "needs_background": "light"
     },
     "output_type": "display_data"
    }
   ],
   "source": [
    "# What would you need to do to improve an approach to word visualization such as this one?\n",
    "top_plot = sns.barplot(x = 'word', y = 'count', data = words_df[:20])\n",
    "top_plot.set_xticklabels(top_plot.get_xticklabels(),rotation = 40);"
   ]
  },
  {
   "cell_type": "code",
   "execution_count": 71,
   "id": "1e558590",
   "metadata": {},
   "outputs": [
    {
     "ename": "ModuleNotFoundError",
     "evalue": "No module named 'spacy'",
     "output_type": "error",
     "traceback": [
      "\u001b[0;31m---------------------------------------------------------------------------\u001b[0m",
      "\u001b[0;31mModuleNotFoundError\u001b[0m                       Traceback (most recent call last)",
      "Input \u001b[0;32mIn [71]\u001b[0m, in \u001b[0;36m<cell line: 2>\u001b[0;34m()\u001b[0m\n\u001b[1;32m      1\u001b[0m \u001b[38;5;66;03m#2\u001b[39;00m\n\u001b[0;32m----> 2\u001b[0m \u001b[38;5;28;01mimport\u001b[39;00m \u001b[38;5;21;01mspacy\u001b[39;00m\n\u001b[1;32m      3\u001b[0m \u001b[38;5;28;01mimport\u001b[39;00m \u001b[38;5;21;01mregex\u001b[39;00m \u001b[38;5;28;01mas\u001b[39;00m \u001b[38;5;21;01mre\u001b[39;00m\n\u001b[1;32m      4\u001b[0m \u001b[38;5;28;01mfrom\u001b[39;00m \u001b[38;5;21;01msklearn\u001b[39;00m\u001b[38;5;21;01m.\u001b[39;00m\u001b[38;5;21;01mfeature_extraction\u001b[39;00m\u001b[38;5;21;01m.\u001b[39;00m\u001b[38;5;21;01mtext\u001b[39;00m \u001b[38;5;28;01mimport\u001b[39;00m TfidfVectorizer\n",
      "\u001b[0;31mModuleNotFoundError\u001b[0m: No module named 'spacy'"
     ]
    }
   ],
   "source": [
    "#2\n",
    "import spacy\n",
    "import regex as re\n",
    "from sklearn.feature_extraction.text import TfidfVectorizer"
   ]
  },
  {
   "cell_type": "code",
   "execution_count": 55,
   "id": "284eafa2",
   "metadata": {},
   "outputs": [
    {
     "name": "stdout",
     "output_type": "stream",
     "text": [
      "mkdir: data/novels/: File exists\r\n"
     ]
    }
   ],
   "source": [
    "# Create a new directory to house the two novels\n",
    "!mkdir data/novels/\n",
    "\n",
    "# Download the two novels\n",
    "# !wget -P data/novels/ https://raw.githubusercontent.com/EastBayEv/SSDS-TAML/main/fall2022/data/dracula.txt\n",
    "# !wget -P data/novels/ https://raw.githubusercontent.com/EastBayEv/SSDS-TAML/main/fall2022/data/frankenstein.txt"
   ]
  },
  {
   "cell_type": "code",
   "execution_count": 54,
   "id": "87bdb5c0",
   "metadata": {},
   "outputs": [
    {
     "name": "stdout",
     "output_type": "stream",
     "text": [
      "dracula.txt      frankenstein.txt\r\n"
     ]
    }
   ],
   "source": [
    "# See that they are there!\n",
    "!ls data/novels"
   ]
  },
  {
   "cell_type": "code",
   "execution_count": 55,
   "id": "6017ddf9",
   "metadata": {},
   "outputs": [
    {
     "data": {
      "text/plain": [
       "['frankenstein.txt', 'dracula.txt']"
      ]
     },
     "execution_count": 55,
     "metadata": {},
     "output_type": "execute_result"
    }
   ],
   "source": [
    "import os\n",
    "corpus = os.listdir('data/novels/')\n",
    "\n",
    "# View the contents of this directory\n",
    "corpus"
   ]
  },
  {
   "cell_type": "code",
   "execution_count": 56,
   "id": "60d2943d",
   "metadata": {},
   "outputs": [],
   "source": [
    "empty_dictionary = {}\n",
    "\n",
    "# Loop through the folder of documents to open and read each one\n",
    "for document in corpus:\n",
    "    with open('data/novels/' + document, 'r', encoding = 'utf-8') as to_open:\n",
    "         empty_dictionary[document] = to_open.read()\n",
    "\n",
    "# Populate the data frame with two columns: file name and document text\n",
    "novels = (pd.DataFrame.from_dict(empty_dictionary, \n",
    "                                       orient = 'index')\n",
    "                .reset_index().rename(index = str, \n",
    "                                      columns = {'index': 'file_name', 0: 'document_text'}))"
   ]
  },
  {
   "cell_type": "code",
   "execution_count": 57,
   "id": "4d2e9f0f",
   "metadata": {},
   "outputs": [
    {
     "data": {
      "text/html": [
       "<div>\n",
       "<style scoped>\n",
       "    .dataframe tbody tr th:only-of-type {\n",
       "        vertical-align: middle;\n",
       "    }\n",
       "\n",
       "    .dataframe tbody tr th {\n",
       "        vertical-align: top;\n",
       "    }\n",
       "\n",
       "    .dataframe thead th {\n",
       "        text-align: right;\n",
       "    }\n",
       "</style>\n",
       "<table border=\"1\" class=\"dataframe\">\n",
       "  <thead>\n",
       "    <tr style=\"text-align: right;\">\n",
       "      <th></th>\n",
       "      <th>file_name</th>\n",
       "      <th>document_text</th>\n",
       "    </tr>\n",
       "  </thead>\n",
       "  <tbody>\n",
       "    <tr>\n",
       "      <th>0</th>\n",
       "      <td>frankenstein.txt</td>\n",
       "      <td>The Project Gutenberg eBook of Frankenstein, b...</td>\n",
       "    </tr>\n",
       "    <tr>\n",
       "      <th>1</th>\n",
       "      <td>dracula.txt</td>\n",
       "      <td>The Project Gutenberg eBook of Dracula, by Bra...</td>\n",
       "    </tr>\n",
       "  </tbody>\n",
       "</table>\n",
       "</div>"
      ],
      "text/plain": [
       "          file_name                                      document_text\n",
       "0  frankenstein.txt  The Project Gutenberg eBook of Frankenstein, b...\n",
       "1       dracula.txt  The Project Gutenberg eBook of Dracula, by Bra..."
      ]
     },
     "execution_count": 57,
     "metadata": {},
     "output_type": "execute_result"
    }
   ],
   "source": [
    "novels"
   ]
  },
  {
   "cell_type": "code",
   "execution_count": 58,
   "id": "617e6172",
   "metadata": {},
   "outputs": [
    {
     "data": {
      "text/html": [
       "<div>\n",
       "<style scoped>\n",
       "    .dataframe tbody tr th:only-of-type {\n",
       "        vertical-align: middle;\n",
       "    }\n",
       "\n",
       "    .dataframe tbody tr th {\n",
       "        vertical-align: top;\n",
       "    }\n",
       "\n",
       "    .dataframe thead th {\n",
       "        text-align: right;\n",
       "    }\n",
       "</style>\n",
       "<table border=\"1\" class=\"dataframe\">\n",
       "  <thead>\n",
       "    <tr style=\"text-align: right;\">\n",
       "      <th></th>\n",
       "      <th>file_name</th>\n",
       "      <th>document_text</th>\n",
       "      <th>clean_text</th>\n",
       "    </tr>\n",
       "  </thead>\n",
       "  <tbody>\n",
       "    <tr>\n",
       "      <th>0</th>\n",
       "      <td>frankenstein.txt</td>\n",
       "      <td>The Project Gutenberg eBook of Frankenstein, b...</td>\n",
       "      <td>The Project Gutenberg eBook of Frankenstein  b...</td>\n",
       "    </tr>\n",
       "    <tr>\n",
       "      <th>1</th>\n",
       "      <td>dracula.txt</td>\n",
       "      <td>The Project Gutenberg eBook of Dracula, by Bra...</td>\n",
       "      <td>The Project Gutenberg eBook of Dracula  by Bra...</td>\n",
       "    </tr>\n",
       "  </tbody>\n",
       "</table>\n",
       "</div>"
      ],
      "text/plain": [
       "          file_name                                      document_text  \\\n",
       "0  frankenstein.txt  The Project Gutenberg eBook of Frankenstein, b...   \n",
       "1       dracula.txt  The Project Gutenberg eBook of Dracula, by Bra...   \n",
       "\n",
       "                                          clean_text  \n",
       "0  The Project Gutenberg eBook of Frankenstein  b...  \n",
       "1  The Project Gutenberg eBook of Dracula  by Bra...  "
      ]
     },
     "execution_count": 58,
     "metadata": {},
     "output_type": "execute_result"
    }
   ],
   "source": [
    "novels['clean_text'] = novels['document_text'].str.replace(r'[^\\w\\s]', ' ', regex = True)\n",
    "novels"
   ]
  },
  {
   "cell_type": "code",
   "execution_count": 59,
   "id": "2423df23",
   "metadata": {},
   "outputs": [
    {
     "data": {
      "text/html": [
       "<div>\n",
       "<style scoped>\n",
       "    .dataframe tbody tr th:only-of-type {\n",
       "        vertical-align: middle;\n",
       "    }\n",
       "\n",
       "    .dataframe tbody tr th {\n",
       "        vertical-align: top;\n",
       "    }\n",
       "\n",
       "    .dataframe thead th {\n",
       "        text-align: right;\n",
       "    }\n",
       "</style>\n",
       "<table border=\"1\" class=\"dataframe\">\n",
       "  <thead>\n",
       "    <tr style=\"text-align: right;\">\n",
       "      <th></th>\n",
       "      <th>file_name</th>\n",
       "      <th>document_text</th>\n",
       "      <th>clean_text</th>\n",
       "    </tr>\n",
       "  </thead>\n",
       "  <tbody>\n",
       "    <tr>\n",
       "      <th>0</th>\n",
       "      <td>frankenstein.txt</td>\n",
       "      <td>The Project Gutenberg eBook of Frankenstein, b...</td>\n",
       "      <td>The Project Gutenberg eBook of Frankenstein  b...</td>\n",
       "    </tr>\n",
       "    <tr>\n",
       "      <th>1</th>\n",
       "      <td>dracula.txt</td>\n",
       "      <td>The Project Gutenberg eBook of Dracula, by Bra...</td>\n",
       "      <td>The Project Gutenberg eBook of Dracula  by Bra...</td>\n",
       "    </tr>\n",
       "  </tbody>\n",
       "</table>\n",
       "</div>"
      ],
      "text/plain": [
       "          file_name                                      document_text  \\\n",
       "0  frankenstein.txt  The Project Gutenberg eBook of Frankenstein, b...   \n",
       "1       dracula.txt  The Project Gutenberg eBook of Dracula, by Bra...   \n",
       "\n",
       "                                          clean_text  \n",
       "0  The Project Gutenberg eBook of Frankenstein  b...  \n",
       "1  The Project Gutenberg eBook of Dracula  by Bra...  "
      ]
     },
     "execution_count": 59,
     "metadata": {},
     "output_type": "execute_result"
    }
   ],
   "source": [
    "novels['clean_text'] = novels['clean_text'].str.replace(r'\\d', ' ', regex = True)\n",
    "novels"
   ]
  },
  {
   "cell_type": "code",
   "execution_count": 60,
   "id": "d57d493f",
   "metadata": {},
   "outputs": [
    {
     "data": {
      "text/html": [
       "<div>\n",
       "<style scoped>\n",
       "    .dataframe tbody tr th:only-of-type {\n",
       "        vertical-align: middle;\n",
       "    }\n",
       "\n",
       "    .dataframe tbody tr th {\n",
       "        vertical-align: top;\n",
       "    }\n",
       "\n",
       "    .dataframe thead th {\n",
       "        text-align: right;\n",
       "    }\n",
       "</style>\n",
       "<table border=\"1\" class=\"dataframe\">\n",
       "  <thead>\n",
       "    <tr style=\"text-align: right;\">\n",
       "      <th></th>\n",
       "      <th>file_name</th>\n",
       "      <th>document_text</th>\n",
       "      <th>clean_text</th>\n",
       "    </tr>\n",
       "  </thead>\n",
       "  <tbody>\n",
       "    <tr>\n",
       "      <th>0</th>\n",
       "      <td>frankenstein.txt</td>\n",
       "      <td>The Project Gutenberg eBook of Frankenstein, b...</td>\n",
       "      <td>The Project Gutenberg eBook of Frankenstein  b...</td>\n",
       "    </tr>\n",
       "    <tr>\n",
       "      <th>1</th>\n",
       "      <td>dracula.txt</td>\n",
       "      <td>The Project Gutenberg eBook of Dracula, by Bra...</td>\n",
       "      <td>The Project Gutenberg eBook of Dracula  by Bra...</td>\n",
       "    </tr>\n",
       "  </tbody>\n",
       "</table>\n",
       "</div>"
      ],
      "text/plain": [
       "          file_name                                      document_text  \\\n",
       "0  frankenstein.txt  The Project Gutenberg eBook of Frankenstein, b...   \n",
       "1       dracula.txt  The Project Gutenberg eBook of Dracula, by Bra...   \n",
       "\n",
       "                                          clean_text  \n",
       "0  The Project Gutenberg eBook of Frankenstein  b...  \n",
       "1  The Project Gutenberg eBook of Dracula  by Bra...  "
      ]
     },
     "execution_count": 60,
     "metadata": {},
     "output_type": "execute_result"
    }
   ],
   "source": [
    "novels['clean_text'] = novels['clean_text'].str.encode('ascii', 'ignore').str.decode('ascii')\n",
    "novels"
   ]
  },
  {
   "cell_type": "code",
   "execution_count": 61,
   "id": "a151ef2c",
   "metadata": {},
   "outputs": [
    {
     "data": {
      "text/html": [
       "<div>\n",
       "<style scoped>\n",
       "    .dataframe tbody tr th:only-of-type {\n",
       "        vertical-align: middle;\n",
       "    }\n",
       "\n",
       "    .dataframe tbody tr th {\n",
       "        vertical-align: top;\n",
       "    }\n",
       "\n",
       "    .dataframe thead th {\n",
       "        text-align: right;\n",
       "    }\n",
       "</style>\n",
       "<table border=\"1\" class=\"dataframe\">\n",
       "  <thead>\n",
       "    <tr style=\"text-align: right;\">\n",
       "      <th></th>\n",
       "      <th>file_name</th>\n",
       "      <th>document_text</th>\n",
       "      <th>clean_text</th>\n",
       "    </tr>\n",
       "  </thead>\n",
       "  <tbody>\n",
       "    <tr>\n",
       "      <th>0</th>\n",
       "      <td>frankenstein.txt</td>\n",
       "      <td>The Project Gutenberg eBook of Frankenstein, b...</td>\n",
       "      <td>The Project Gutenberg eBook of Frankenstein by...</td>\n",
       "    </tr>\n",
       "    <tr>\n",
       "      <th>1</th>\n",
       "      <td>dracula.txt</td>\n",
       "      <td>The Project Gutenberg eBook of Dracula, by Bra...</td>\n",
       "      <td>The Project Gutenberg eBook of Dracula by Bram...</td>\n",
       "    </tr>\n",
       "  </tbody>\n",
       "</table>\n",
       "</div>"
      ],
      "text/plain": [
       "          file_name                                      document_text  \\\n",
       "0  frankenstein.txt  The Project Gutenberg eBook of Frankenstein, b...   \n",
       "1       dracula.txt  The Project Gutenberg eBook of Dracula, by Bra...   \n",
       "\n",
       "                                          clean_text  \n",
       "0  The Project Gutenberg eBook of Frankenstein by...  \n",
       "1  The Project Gutenberg eBook of Dracula by Bram...  "
      ]
     },
     "execution_count": 61,
     "metadata": {},
     "output_type": "execute_result"
    }
   ],
   "source": [
    "novels['clean_text'] = novels['clean_text'].str.replace(r'\\s+', ' ', regex = True)\n",
    "novels"
   ]
  },
  {
   "cell_type": "code",
   "execution_count": 62,
   "id": "e577bc93",
   "metadata": {},
   "outputs": [
    {
     "data": {
      "text/html": [
       "<div>\n",
       "<style scoped>\n",
       "    .dataframe tbody tr th:only-of-type {\n",
       "        vertical-align: middle;\n",
       "    }\n",
       "\n",
       "    .dataframe tbody tr th {\n",
       "        vertical-align: top;\n",
       "    }\n",
       "\n",
       "    .dataframe thead th {\n",
       "        text-align: right;\n",
       "    }\n",
       "</style>\n",
       "<table border=\"1\" class=\"dataframe\">\n",
       "  <thead>\n",
       "    <tr style=\"text-align: right;\">\n",
       "      <th></th>\n",
       "      <th>file_name</th>\n",
       "      <th>document_text</th>\n",
       "      <th>clean_text</th>\n",
       "    </tr>\n",
       "  </thead>\n",
       "  <tbody>\n",
       "    <tr>\n",
       "      <th>0</th>\n",
       "      <td>frankenstein.txt</td>\n",
       "      <td>The Project Gutenberg eBook of Frankenstein, b...</td>\n",
       "      <td>the project gutenberg ebook of frankenstein by...</td>\n",
       "    </tr>\n",
       "    <tr>\n",
       "      <th>1</th>\n",
       "      <td>dracula.txt</td>\n",
       "      <td>The Project Gutenberg eBook of Dracula, by Bra...</td>\n",
       "      <td>the project gutenberg ebook of dracula by bram...</td>\n",
       "    </tr>\n",
       "  </tbody>\n",
       "</table>\n",
       "</div>"
      ],
      "text/plain": [
       "          file_name                                      document_text  \\\n",
       "0  frankenstein.txt  The Project Gutenberg eBook of Frankenstein, b...   \n",
       "1       dracula.txt  The Project Gutenberg eBook of Dracula, by Bra...   \n",
       "\n",
       "                                          clean_text  \n",
       "0  the project gutenberg ebook of frankenstein by...  \n",
       "1  the project gutenberg ebook of dracula by bram...  "
      ]
     },
     "execution_count": 62,
     "metadata": {},
     "output_type": "execute_result"
    }
   ],
   "source": [
    "novels['clean_text'] = novels['clean_text'].str.lower()\n",
    "novels"
   ]
  },
  {
   "cell_type": "code",
   "execution_count": 63,
   "id": "83c7fddb",
   "metadata": {},
   "outputs": [],
   "source": [
    "# !python -m spacy download en_core_web_sm"
   ]
  },
  {
   "cell_type": "code",
   "execution_count": 64,
   "id": "87c6135d",
   "metadata": {},
   "outputs": [
    {
     "data": {
      "text/html": [
       "<div>\n",
       "<style scoped>\n",
       "    .dataframe tbody tr th:only-of-type {\n",
       "        vertical-align: middle;\n",
       "    }\n",
       "\n",
       "    .dataframe tbody tr th {\n",
       "        vertical-align: top;\n",
       "    }\n",
       "\n",
       "    .dataframe thead th {\n",
       "        text-align: right;\n",
       "    }\n",
       "</style>\n",
       "<table border=\"1\" class=\"dataframe\">\n",
       "  <thead>\n",
       "    <tr style=\"text-align: right;\">\n",
       "      <th></th>\n",
       "      <th>file_name</th>\n",
       "      <th>document_text</th>\n",
       "      <th>clean_text</th>\n",
       "    </tr>\n",
       "  </thead>\n",
       "  <tbody>\n",
       "    <tr>\n",
       "      <th>0</th>\n",
       "      <td>frankenstein.txt</td>\n",
       "      <td>The Project Gutenberg eBook of Frankenstein, b...</td>\n",
       "      <td>the project gutenberg ebook of frankenstein by...</td>\n",
       "    </tr>\n",
       "    <tr>\n",
       "      <th>1</th>\n",
       "      <td>dracula.txt</td>\n",
       "      <td>The Project Gutenberg eBook of Dracula, by Bra...</td>\n",
       "      <td>the project gutenberg ebook of dracula by bram...</td>\n",
       "    </tr>\n",
       "  </tbody>\n",
       "</table>\n",
       "</div>"
      ],
      "text/plain": [
       "          file_name                                      document_text  \\\n",
       "0  frankenstein.txt  The Project Gutenberg eBook of Frankenstein, b...   \n",
       "1       dracula.txt  The Project Gutenberg eBook of Dracula, by Bra...   \n",
       "\n",
       "                                          clean_text  \n",
       "0  the project gutenberg ebook of frankenstein by...  \n",
       "1  the project gutenberg ebook of dracula by bram...  "
      ]
     },
     "execution_count": 64,
     "metadata": {},
     "output_type": "execute_result"
    }
   ],
   "source": [
    "nlp = spacy.load('en_core_web_sm')\n",
    "novels['clean_text'] = novels['clean_text'].apply(lambda row: ' '.join([w.lemma_ for w in nlp(row)]))\n",
    "novels"
   ]
  },
  {
   "cell_type": "code",
   "execution_count": 65,
   "id": "98808b80",
   "metadata": {},
   "outputs": [],
   "source": [
    "tf_vectorizer = TfidfVectorizer(ngram_range = (1, 3), \n",
    "                                stop_words = 'english', \n",
    "                                max_df = 0.50\n",
    "                                )\n",
    "tf_sparse = tf_vectorizer.fit_transform(novels['clean_text'])"
   ]
  },
  {
   "cell_type": "code",
   "execution_count": 66,
   "id": "fff5685d",
   "metadata": {},
   "outputs": [
    {
     "data": {
      "text/plain": [
       "(2, 168048)"
      ]
     },
     "execution_count": 66,
     "metadata": {},
     "output_type": "execute_result"
    }
   ],
   "source": [
    "tf_sparse.shape"
   ]
  },
  {
   "cell_type": "code",
   "execution_count": 67,
   "id": "deedde3e",
   "metadata": {},
   "outputs": [
    {
     "name": "stderr",
     "output_type": "stream",
     "text": [
      "/Users/evanmuzzall/opt/anaconda3/lib/python3.8/site-packages/sklearn/utils/deprecation.py:87: FutureWarning: Function get_feature_names is deprecated; get_feature_names is deprecated in 1.0 and will be removed in 1.2. Please use get_feature_names_out instead.\n",
      "  warnings.warn(msg, category=FutureWarning)\n"
     ]
    },
    {
     "data": {
      "text/html": [
       "<div>\n",
       "<style scoped>\n",
       "    .dataframe tbody tr th:only-of-type {\n",
       "        vertical-align: middle;\n",
       "    }\n",
       "\n",
       "    .dataframe tbody tr th {\n",
       "        vertical-align: top;\n",
       "    }\n",
       "\n",
       "    .dataframe thead th {\n",
       "        text-align: right;\n",
       "    }\n",
       "</style>\n",
       "<table border=\"1\" class=\"dataframe\">\n",
       "  <thead>\n",
       "    <tr style=\"text-align: right;\">\n",
       "      <th></th>\n",
       "      <th>aback</th>\n",
       "      <th>aback moment</th>\n",
       "      <th>aback moment know</th>\n",
       "      <th>abaft</th>\n",
       "      <th>abaft bi</th>\n",
       "      <th>abaft bi bank</th>\n",
       "      <th>abaft krok</th>\n",
       "      <th>abaft krok hooal</th>\n",
       "      <th>abandon abortion</th>\n",
       "      <th>abandon abortion spurn</th>\n",
       "      <th>...</th>\n",
       "      <th>zophagous life eat</th>\n",
       "      <th>zophagous patient</th>\n",
       "      <th>zophagous patient effect</th>\n",
       "      <th>zophagous patient outburst</th>\n",
       "      <th>zophagous patient report</th>\n",
       "      <th>zophagous wild</th>\n",
       "      <th>zophagous wild raving</th>\n",
       "      <th>zophagy</th>\n",
       "      <th>zophagy puzzle</th>\n",
       "      <th>zophagy puzzle little</th>\n",
       "    </tr>\n",
       "  </thead>\n",
       "  <tbody>\n",
       "    <tr>\n",
       "      <th>0</th>\n",
       "      <td>0.000000</td>\n",
       "      <td>0.000000</td>\n",
       "      <td>0.000000</td>\n",
       "      <td>0.000000</td>\n",
       "      <td>0.000000</td>\n",
       "      <td>0.000000</td>\n",
       "      <td>0.000000</td>\n",
       "      <td>0.000000</td>\n",
       "      <td>0.002998</td>\n",
       "      <td>0.002998</td>\n",
       "      <td>...</td>\n",
       "      <td>0.000000</td>\n",
       "      <td>0.000000</td>\n",
       "      <td>0.000000</td>\n",
       "      <td>0.000000</td>\n",
       "      <td>0.000000</td>\n",
       "      <td>0.000000</td>\n",
       "      <td>0.000000</td>\n",
       "      <td>0.000000</td>\n",
       "      <td>0.000000</td>\n",
       "      <td>0.000000</td>\n",
       "    </tr>\n",
       "    <tr>\n",
       "      <th>1</th>\n",
       "      <td>0.001011</td>\n",
       "      <td>0.001011</td>\n",
       "      <td>0.001011</td>\n",
       "      <td>0.002021</td>\n",
       "      <td>0.001011</td>\n",
       "      <td>0.001011</td>\n",
       "      <td>0.001011</td>\n",
       "      <td>0.001011</td>\n",
       "      <td>0.000000</td>\n",
       "      <td>0.000000</td>\n",
       "      <td>...</td>\n",
       "      <td>0.001011</td>\n",
       "      <td>0.003032</td>\n",
       "      <td>0.001011</td>\n",
       "      <td>0.001011</td>\n",
       "      <td>0.001011</td>\n",
       "      <td>0.001011</td>\n",
       "      <td>0.001011</td>\n",
       "      <td>0.001011</td>\n",
       "      <td>0.001011</td>\n",
       "      <td>0.001011</td>\n",
       "    </tr>\n",
       "  </tbody>\n",
       "</table>\n",
       "<p>2 rows × 168048 columns</p>\n",
       "</div>"
      ],
      "text/plain": [
       "      aback  aback moment  aback moment know     abaft  abaft bi  \\\n",
       "0  0.000000      0.000000           0.000000  0.000000  0.000000   \n",
       "1  0.001011      0.001011           0.001011  0.002021  0.001011   \n",
       "\n",
       "   abaft bi bank  abaft krok  abaft krok hooal  abandon abortion  \\\n",
       "0       0.000000    0.000000          0.000000          0.002998   \n",
       "1       0.001011    0.001011          0.001011          0.000000   \n",
       "\n",
       "   abandon abortion spurn  ...  zophagous life eat  zophagous patient  \\\n",
       "0                0.002998  ...            0.000000           0.000000   \n",
       "1                0.000000  ...            0.001011           0.003032   \n",
       "\n",
       "   zophagous patient effect  zophagous patient outburst  \\\n",
       "0                  0.000000                    0.000000   \n",
       "1                  0.001011                    0.001011   \n",
       "\n",
       "   zophagous patient report  zophagous wild  zophagous wild raving   zophagy  \\\n",
       "0                  0.000000        0.000000               0.000000  0.000000   \n",
       "1                  0.001011        0.001011               0.001011  0.001011   \n",
       "\n",
       "   zophagy puzzle  zophagy puzzle little  \n",
       "0        0.000000               0.000000  \n",
       "1        0.001011               0.001011  \n",
       "\n",
       "[2 rows x 168048 columns]"
      ]
     },
     "execution_count": 67,
     "metadata": {},
     "output_type": "execute_result"
    }
   ],
   "source": [
    "tfidf_df = pd.DataFrame(tf_sparse.todense(), columns = tf_vectorizer.get_feature_names())\n",
    "tfidf_df"
   ]
  },
  {
   "cell_type": "code",
   "execution_count": 68,
   "id": "b7a96fc6",
   "metadata": {},
   "outputs": [
    {
     "data": {
      "text/plain": [
       "van            0.326435\n",
       "helsing        0.310265\n",
       "van helsing    0.310265\n",
       "lucy           0.304201\n",
       "elizabeth      0.275854\n",
       "mina           0.246595\n",
       "jonathan       0.210212\n",
       "count          0.202127\n",
       "dr             0.191010\n",
       "harker         0.178882\n",
       "clerval        0.176906\n",
       "justine        0.164913\n",
       "felix          0.149920\n",
       "seward         0.140478\n",
       "diary          0.120265\n",
       "dr seward      0.118244\n",
       "perceive       0.116938\n",
       "box            0.116223\n",
       "geneva         0.107943\n",
       "misfortune     0.098948\n",
       "dtype: float64"
      ]
     },
     "execution_count": 68,
     "metadata": {},
     "output_type": "execute_result"
    }
   ],
   "source": [
    "tfidf_df.max().sort_values(ascending = False).head(n = 20)"
   ]
  },
  {
   "cell_type": "code",
   "execution_count": 69,
   "id": "e4f6bf86",
   "metadata": {},
   "outputs": [
    {
     "data": {
      "text/plain": [
       "['frankenstein', 'dracula']"
      ]
     },
     "execution_count": 69,
     "metadata": {},
     "output_type": "execute_result"
    }
   ],
   "source": [
    "titles = novels['file_name'].str.slice(stop = -4)\n",
    "titles = list(titles)\n",
    "titles"
   ]
  },
  {
   "cell_type": "code",
   "execution_count": 70,
   "id": "cec845b0",
   "metadata": {},
   "outputs": [
    {
     "data": {
      "text/html": [
       "<div>\n",
       "<style scoped>\n",
       "    .dataframe tbody tr th:only-of-type {\n",
       "        vertical-align: middle;\n",
       "    }\n",
       "\n",
       "    .dataframe tbody tr th {\n",
       "        vertical-align: top;\n",
       "    }\n",
       "\n",
       "    .dataframe thead th {\n",
       "        text-align: right;\n",
       "    }\n",
       "</style>\n",
       "<table border=\"1\" class=\"dataframe\">\n",
       "  <thead>\n",
       "    <tr style=\"text-align: right;\">\n",
       "      <th></th>\n",
       "      <th>aback</th>\n",
       "      <th>aback moment</th>\n",
       "      <th>aback moment know</th>\n",
       "      <th>abaft</th>\n",
       "      <th>abaft bi</th>\n",
       "      <th>abaft bi bank</th>\n",
       "      <th>abaft krok</th>\n",
       "      <th>abaft krok hooal</th>\n",
       "      <th>abandon abortion</th>\n",
       "      <th>abandon abortion spurn</th>\n",
       "      <th>...</th>\n",
       "      <th>zophagous patient</th>\n",
       "      <th>zophagous patient effect</th>\n",
       "      <th>zophagous patient outburst</th>\n",
       "      <th>zophagous patient report</th>\n",
       "      <th>zophagous wild</th>\n",
       "      <th>zophagous wild raving</th>\n",
       "      <th>zophagy</th>\n",
       "      <th>zophagy puzzle</th>\n",
       "      <th>zophagy puzzle little</th>\n",
       "      <th>TITLE</th>\n",
       "    </tr>\n",
       "  </thead>\n",
       "  <tbody>\n",
       "    <tr>\n",
       "      <th>0</th>\n",
       "      <td>0.000000</td>\n",
       "      <td>0.000000</td>\n",
       "      <td>0.000000</td>\n",
       "      <td>0.000000</td>\n",
       "      <td>0.000000</td>\n",
       "      <td>0.000000</td>\n",
       "      <td>0.000000</td>\n",
       "      <td>0.000000</td>\n",
       "      <td>0.002998</td>\n",
       "      <td>0.002998</td>\n",
       "      <td>...</td>\n",
       "      <td>0.000000</td>\n",
       "      <td>0.000000</td>\n",
       "      <td>0.000000</td>\n",
       "      <td>0.000000</td>\n",
       "      <td>0.000000</td>\n",
       "      <td>0.000000</td>\n",
       "      <td>0.000000</td>\n",
       "      <td>0.000000</td>\n",
       "      <td>0.000000</td>\n",
       "      <td>frankenstein</td>\n",
       "    </tr>\n",
       "    <tr>\n",
       "      <th>1</th>\n",
       "      <td>0.001011</td>\n",
       "      <td>0.001011</td>\n",
       "      <td>0.001011</td>\n",
       "      <td>0.002021</td>\n",
       "      <td>0.001011</td>\n",
       "      <td>0.001011</td>\n",
       "      <td>0.001011</td>\n",
       "      <td>0.001011</td>\n",
       "      <td>0.000000</td>\n",
       "      <td>0.000000</td>\n",
       "      <td>...</td>\n",
       "      <td>0.003032</td>\n",
       "      <td>0.001011</td>\n",
       "      <td>0.001011</td>\n",
       "      <td>0.001011</td>\n",
       "      <td>0.001011</td>\n",
       "      <td>0.001011</td>\n",
       "      <td>0.001011</td>\n",
       "      <td>0.001011</td>\n",
       "      <td>0.001011</td>\n",
       "      <td>dracula</td>\n",
       "    </tr>\n",
       "  </tbody>\n",
       "</table>\n",
       "<p>2 rows × 168049 columns</p>\n",
       "</div>"
      ],
      "text/plain": [
       "      aback  aback moment  aback moment know     abaft  abaft bi  \\\n",
       "0  0.000000      0.000000           0.000000  0.000000  0.000000   \n",
       "1  0.001011      0.001011           0.001011  0.002021  0.001011   \n",
       "\n",
       "   abaft bi bank  abaft krok  abaft krok hooal  abandon abortion  \\\n",
       "0       0.000000    0.000000          0.000000          0.002998   \n",
       "1       0.001011    0.001011          0.001011          0.000000   \n",
       "\n",
       "   abandon abortion spurn  ...  zophagous patient  zophagous patient effect  \\\n",
       "0                0.002998  ...           0.000000                  0.000000   \n",
       "1                0.000000  ...           0.003032                  0.001011   \n",
       "\n",
       "   zophagous patient outburst  zophagous patient report  zophagous wild  \\\n",
       "0                    0.000000                  0.000000        0.000000   \n",
       "1                    0.001011                  0.001011        0.001011   \n",
       "\n",
       "   zophagous wild raving   zophagy  zophagy puzzle  zophagy puzzle little  \\\n",
       "0               0.000000  0.000000        0.000000               0.000000   \n",
       "1               0.001011  0.001011        0.001011               0.001011   \n",
       "\n",
       "          TITLE  \n",
       "0  frankenstein  \n",
       "1       dracula  \n",
       "\n",
       "[2 rows x 168049 columns]"
      ]
     },
     "execution_count": 70,
     "metadata": {},
     "output_type": "execute_result"
    }
   ],
   "source": [
    "tfidf_df['TITLE'] = titles\n",
    "tfidf_df"
   ]
  },
  {
   "cell_type": "code",
   "execution_count": 71,
   "id": "edd0f765",
   "metadata": {},
   "outputs": [
    {
     "data": {
      "text/plain": [
       "elizabeth                  0.275854\n",
       "clerval                    0.176906\n",
       "justine                    0.164913\n",
       "felix                      0.149920\n",
       "perceive                   0.116938\n",
       "geneva                     0.107943\n",
       "misfortune                 0.098948\n",
       "frankenstein               0.092951\n",
       "beheld                     0.083955\n",
       "victor                     0.083955\n",
       "murderer                   0.080957\n",
       "henry                      0.077959\n",
       "cousin                     0.077959\n",
       "safie                      0.074960\n",
       "william                    0.074960\n",
       "cottager                   0.071962\n",
       "chapter chapter            0.068963\n",
       "chapter chapter chapter    0.065965\n",
       "creator                    0.062967\n",
       "exclaim                    0.059968\n",
       "dtype: float64"
      ]
     },
     "execution_count": 71,
     "metadata": {},
     "output_type": "execute_result"
    }
   ],
   "source": [
    "# dracula top 20 words\n",
    "title = tfidf_df[tfidf_df['TITLE'] == 'frankenstein']\n",
    "title.max(numeric_only = True).sort_values(ascending = False).head(20)"
   ]
  },
  {
   "cell_type": "code",
   "execution_count": 72,
   "id": "e3164a81",
   "metadata": {},
   "outputs": [
    {
     "data": {
      "text/plain": [
       "van            0.326435\n",
       "helsing        0.310265\n",
       "van helsing    0.310265\n",
       "lucy           0.304201\n",
       "mina           0.246595\n",
       "jonathan       0.210212\n",
       "count          0.202127\n",
       "dr             0.191010\n",
       "harker         0.178882\n",
       "seward         0.140478\n",
       "diary          0.120265\n",
       "dr seward      0.118244\n",
       "box            0.116223\n",
       "sort           0.096010\n",
       "madam          0.095000\n",
       "madam mina     0.087925\n",
       "don            0.086915\n",
       "quincey        0.085904\n",
       "godalming      0.079840\n",
       "morris         0.078829\n",
       "dtype: float64"
      ]
     },
     "execution_count": 72,
     "metadata": {},
     "output_type": "execute_result"
    }
   ],
   "source": [
    "# dracula top 20 words\n",
    "title = tfidf_df[tfidf_df['TITLE'] == 'dracula']\n",
    "title.max(numeric_only = True).sort_values(ascending = False).head(20)"
   ]
  },
  {
   "cell_type": "markdown",
   "id": "cfbd7871",
   "metadata": {},
   "source": [
    "## Chapter 8 - Exercise\n",
    "\n",
    "1. Read through the spacy101 guide and begin to apply its principles to your own corpus: https://spacy.io/usage/spacy-101"
   ]
  },
  {
   "cell_type": "markdown",
   "id": "eda2b35a",
   "metadata": {},
   "source": [
    "## Chapter 9 - Exercise\n",
    "\n",
    "1. Repeat the steps in this notebook with your own data. However, real data does not come with a `fetch` function. What importation steps do you need to consider so your own corpus works?"
   ]
  }
 ],
 "metadata": {
  "kernelspec": {
   "display_name": "Python 3 (ipykernel)",
   "language": "python",
   "name": "python3"
  },
  "language_info": {
   "codemirror_mode": {
    "name": "ipython",
    "version": 3
   },
   "file_extension": ".py",
   "mimetype": "text/x-python",
   "name": "python",
   "nbconvert_exporter": "python",
   "pygments_lexer": "ipython3",
   "version": "3.9.13"
  }
 },
 "nbformat": 4,
 "nbformat_minor": 5
}