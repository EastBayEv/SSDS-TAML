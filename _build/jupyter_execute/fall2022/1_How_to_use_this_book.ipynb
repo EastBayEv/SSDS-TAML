{
 "cells": [
  {
   "cell_type": "markdown",
   "id": "dd25a331",
   "metadata": {},
   "source": [
    "# Chapter 1 - How to use this book"
   ]
  },
  {
   "cell_type": "markdown",
   "id": "436c707e",
   "metadata": {},
   "source": [
    "<a target=\"_blank\" href=\"https://colab.research.google.com/github/EastBayEv/SSDS-TAML/blob/main/fall2022/1_How_to_use_this_book.ipynb\">\n",
    "  <img src=\"https://colab.research.google.com/assets/colab-badge.svg\" alt=\"Open In Colab\"/>\n",
    "</a>"
   ]
  },
  {
   "cell_type": "markdown",
   "id": "c369d5d9",
   "metadata": {},
   "source": [
    "This book provides a reference for the code we present and discuss in the Text Analysis and Machine Learning (TAML) group. While you can actually run the code in the book itself (although it might take awhile to load! see below), think of this book as the single point to access the content, conceptual introductions, and vocabulary terms. \n",
    "\n",
    "Additionally, each chapter with runnable code has a link to open the materials in a Google Colab Python environment. Simply click the Colab badge to open the notebook for a specific chapter. \n",
    "\n",
    "* [Instructions for setting up Google Colaboratory]()\n",
    "\n",
    "This book is divided into three sections. \n",
    "\n",
    "1. **The center portion** contains the main text. Here, goals, concepts, vocabulary, objectives, and code will be presented and explained. \n",
    "\n",
    "Below is a crude program that randomly draws a lucky card by randomly sampling a card and suit, joins them together to form the welcome message, and shows the output on the screen. "
   ]
  },
  {
   "cell_type": "code",
   "execution_count": 1,
   "id": "37d3cb41",
   "metadata": {
    "scrolled": true
   },
   "outputs": [
    {
     "name": "stdout",
     "output_type": "stream",
     "text": [
      "\n",
      "Welcome to TAML at SSDS!\n",
      "\n",
      "Your lucky card for Thursday 2022-08-25 is: nine of diamonds\n"
     ]
    }
   ],
   "source": [
    "# Lucky card\n",
    "\n",
    "import random\n",
    "import calendar\n",
    "from datetime import date, datetime\n",
    "deck = 'ace two three four five six seven eight nine ten jack queen king'.split()\n",
    "suit = 'spades clubs hearts diamonds'.split()\n",
    "today = calendar.day_name[date.today().weekday()]\n",
    "date = datetime.today().strftime('%Y-%m-%d')\n",
    "select_value = random.sample(deck, 1)[0]\n",
    "select_suit = random.sample(suit, 1)[0]\n",
    "print(\"\\nWelcome to TAML at SSDS!\")\n",
    "print(\"\\nYour lucky card for \" + today + \" \" + date + \" is: \" + select_value + \" of \" + select_suit)"
   ]
  },
  {
   "cell_type": "markdown",
   "id": "5d2d086c",
   "metadata": {},
   "source": [
    "2. **The left sidebar** shows the search field and shortcuts to session materials.\n",
    "    * Use the `left and right arrow keys` to browse the different chapters. \n",
    "3. **The right sidebar** contains the section header shortcuts. \n",
    "    * Use the `up and down arrow keys` to scroll the page."
   ]
  },
  {
   "cell_type": "markdown",
   "id": "637bdbb1",
   "metadata": {},
   "source": [
    "## Jupyter icons\n",
    "Note the buttons at the top of each page. \n",
    "![icons](img/icons.png)\n",
    "* The rocketship icon appears only on pages with executable code. \n",
    "Hover your mouse over it and click \"Binder\" to launch all of the materials there. Or, click \"Live Code\" to run code on this webpage, although it might take a long time to load! "
   ]
  },
  {
   "cell_type": "markdown",
   "id": "a7f6cf2d",
   "metadata": {},
   "source": [
    "* Click the square icon to enter fullscreen mode. Press the escape key to exit. \n",
    "* Move your mouse over the Octocat icon. Click \"Repository\" to visit the GitHub site. Or, click \"Open Issue\" to contribute to this book. \n",
    "* The download icon can be used to export the contents of this book. \n",
    "* Click the left facing arrow `<-` to hide the left sidebar."
   ]
  },
  {
   "cell_type": "markdown",
   "id": "73be4912",
   "metadata": {},
   "source": [
    "## Format\n",
    "\n",
    "TAML's format consists of 2-hour sessions, divided into the following sections:\n",
    "\n",
    "* Lecture overview of concepts, vocabulary, and workflows (varying length)\n",
    "* Short break\n",
    "* Time to work on challenge exercises and ask questions\n",
    "* Discussion of solutions to challenge exercises\n",
    "\n",
    "> Be aware that we won't always go through all of the exercises due to time constraints (especially during the Fall Quarter 2022 Bootcamp), but that they are there along with solutions for you to practice on your own. \n",
    "\n",
    "Any extra time will be reserved for consulting, talking about projects, etc."
   ]
  },
  {
   "cell_type": "markdown",
   "id": "ef201b11",
   "metadata": {},
   "source": [
    "## Exercises\n",
    "\n",
    "1. You will find challenge exercises to work on at the end of each chapter. They will frequently require you to write code such as that found in the cell at the top of this notebook. \n",
    "\n",
    "2. Click the \"Colab\" badge at the top of this notebook to open it in the Colaboratory environment. Press `shift` and `enter` simultaneously on your keyboard to run the code and draw your lucky card!"
   ]
  },
  {
   "cell_type": "markdown",
   "id": "b59acfbf",
   "metadata": {},
   "source": [
    "## Solutions\n",
    "\n",
    "Solutions to the challenge exercises can be found in the \"Solutions\" chapter."
   ]
  },
  {
   "cell_type": "markdown",
   "id": "379287a9",
   "metadata": {},
   "source": [
    "## Python environments\n",
    "\n",
    "Read Chapter 2 \"Python environments\" to learn a few different ways you can start coding in Python. "
   ]
  }
 ],
 "metadata": {
  "kernelspec": {
   "display_name": "Python 3 (ipykernel)",
   "language": "python",
   "name": "python3"
  },
  "language_info": {
   "codemirror_mode": {
    "name": "ipython",
    "version": 3
   },
   "file_extension": ".py",
   "mimetype": "text/x-python",
   "name": "python",
   "nbconvert_exporter": "python",
   "pygments_lexer": "ipython3",
   "version": "3.9.13"
  }
 },
 "nbformat": 4,
 "nbformat_minor": 5
}