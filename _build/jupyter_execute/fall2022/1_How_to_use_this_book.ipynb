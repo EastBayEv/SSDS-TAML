{
 "cells": [
  {
   "cell_type": "markdown",
   "id": "dd25a331",
   "metadata": {},
   "source": [
    "# Chapter 1 - How to use this book\n",
    "2022 August 25"
   ]
  },
  {
   "cell_type": "markdown",
   "id": "436c707e",
   "metadata": {},
   "source": [
    "<a target=\"_blank\" href=\"https://colab.research.google.com/github/EastBayEv/SSDS-TAML/blob/main/fall2022/1_How_to_use_this_book.ipynb\">\n",
    "  <img src=\"https://colab.research.google.com/assets/colab-badge.svg\" alt=\"Open In Colab\"/>\n",
    "</a>"
   ]
  },
  {
   "cell_type": "markdown",
   "id": "c369d5d9",
   "metadata": {},
   "source": [
    "This book provides a reference for the code we present and discuss in the Text Analysis and Machine Learning (TAML) group. While you can actually run the code in the book itself (although it might take awhile to load! see below), think of this book as the single point to access the content, conceptual introductions, vocabulary terms, and code. \n",
    "\n",
    "At the top of each chaper you will see a badge that says \"Open in Colab\" to open these materials in a Google Colab Python environment. Simply click the Colab badge to open that notebook for a given chapter. \n",
    "\n",
    "This book is divided into three sections: **1) center portion, 2) left sidebar, and 3) right sidebar.**\n",
    "\n",
    "1. **The center portion** contains the main text. Here, goals, concepts, vocabulary, objectives, and code will be presented and explained. \n",
    "\n",
    "## Lucky card\n",
    "\n",
    "Below is a crude program that displays a welcome message. It draws a card by randomly sampling a card and suit, joins them together to form the welcome message, and then shows the output on the screen. You will how to understand and write code similar to this throughout the book!"
   ]
  },
  {
   "cell_type": "code",
   "execution_count": 1,
   "id": "37d3cb41",
   "metadata": {
    "scrolled": true
   },
   "outputs": [
    {
     "name": "stdout",
     "output_type": "stream",
     "text": [
      "\n",
      "Welcome to TAML at SSDS!\n",
      "\n",
      "Your lucky card for Wednesday 2022-09-21 is: ten of hearts\n"
     ]
    }
   ],
   "source": [
    "import random\n",
    "import calendar\n",
    "from datetime import date, datetime\n",
    "deck = 'ace two three four five six seven eight nine ten jack queen king'.split()\n",
    "suit = 'spades clubs hearts diamonds'.split()\n",
    "today = calendar.day_name[date.today().weekday()]\n",
    "date = datetime.today().strftime('%Y-%m-%d')\n",
    "select_value = random.sample(deck, 1)[0]\n",
    "select_suit = random.sample(suit, 1)[0]\n",
    "print(\"\\nWelcome to TAML at SSDS!\")\n",
    "print(\"\\nYour lucky card for \" + today + \" \" + date + \" is: \" + select_value + \" of \" + select_suit)"
   ]
  },
  {
   "cell_type": "markdown",
   "id": "5d2d086c",
   "metadata": {},
   "source": [
    "2. **The left sidebar** shows the table of contents. \n",
    "    * Use the `left and right arrow keys` to browse the different chapters. \n",
    "\n",
    "<br/>\n",
    "\n",
    "3. **The right sidebar** contains clickable section headers for the chapter you are currently viewing. \n",
    "    * Use the `up and down arrow keys` to scroll the page."
   ]
  },
  {
   "cell_type": "markdown",
   "id": "637bdbb1",
   "metadata": {},
   "source": [
    "## Jupyter icons\n",
    "Notice the icons at the top of each page. \n",
    "![icons](img/icons.png)\n",
    "* The **rocketship** icon appears on pages with executable code. \n",
    "Hover your mouse over it and click \"Binder\" to launch all of the materials there in a Jupyter Lab on Binder. Or, click **\"Live Code\"** to be able to run the code on the webpage, although this might take a long time to load! "
   ]
  },
  {
   "cell_type": "markdown",
   "id": "a7f6cf2d",
   "metadata": {},
   "source": [
    "* Click the **square** icon to enter fullscreen mode. Press the escape key to exit. \n",
    "* Move your mouse over the **Octocat** icon. Click \"Repository\" to visit the GitHub site. Or, click \"Open Issue\" to contribute to this book. \n",
    "* The **download** icon can be used to download this book. \n",
    "* Click the **three lines** (toggle navigation) to hide the left sidebar."
   ]
  },
  {
   "cell_type": "markdown",
   "id": "73be4912",
   "metadata": {},
   "source": [
    "## Format\n",
    "\n",
    "TAML's format consists of 2-hour sessions, divided into the following sections:\n",
    "\n",
    "* Lecture overviews of various lengths that introduce concepts, vocabulary, and workflows\n",
    "* Short break\n",
    "* Time to work on challenge exercises and ask questions\n",
    "* Discussion of solutions to challenge exercises"
   ]
  },
  {
   "cell_type": "markdown",
   "id": "ef201b11",
   "metadata": {},
   "source": [
    "## Exercises\n",
    "\n",
    "1. You will find challenge exercises to work on at the end of each chapter. They will require you to write code such as that found in the cell at the top of this notebook. \n",
    "\n",
    "2. Click the \"Colab\" badge at the top of this notebook to open it in the Colaboratory environment. Press `shift` and `enter` simultaneously on your keyboard to run the code and draw your lucky card!\n",
    "\n",
    "> NOTE: Colab will prompt you with \"Warning: This notebook was not authored by Google.\"\n",
    ">\n",
    "> Click \"Run anyway\""
   ]
  },
  {
   "cell_type": "markdown",
   "id": "b59acfbf",
   "metadata": {},
   "source": [
    "## Solutions\n",
    "\n",
    "Solutions to the challenge exercises can be found in the \"Solutions\" chapter.\n",
    "\n",
    "* Be aware that we won't always go through all of the challenge exercises in-class due to time constraints! \n",
    "* Any extra time will be reserved for consulting, talking about projects, etc."
   ]
  },
  {
   "cell_type": "markdown",
   "id": "379287a9",
   "metadata": {},
   "source": [
    "## Python environments\n",
    "\n",
    "Read Chapter 2 \"Python environments\" to learn a few different ways you can start coding in Python. The TAML Group currently uses the Google Colab environment, so be sure to follow the instructions for setting up your Colab account!"
   ]
  }
 ],
 "metadata": {
  "kernelspec": {
   "display_name": "Python 3 (ipykernel)",
   "language": "python",
   "name": "python3"
  },
  "language_info": {
   "codemirror_mode": {
    "name": "ipython",
    "version": 3
   },
   "file_extension": ".py",
   "mimetype": "text/x-python",
   "name": "python",
   "nbconvert_exporter": "python",
   "pygments_lexer": "ipython3",
   "version": "3.9.13"
  }
 },
 "nbformat": 4,
 "nbformat_minor": 5
}