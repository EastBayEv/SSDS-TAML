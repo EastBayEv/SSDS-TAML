{
 "cells": [
  {
   "cell_type": "markdown",
   "id": "8e86b614",
   "metadata": {},
   "source": [
    "# Chapter 2 - Core machine learning concepts; building text vocabularies"
   ]
  },
  {
   "cell_type": "markdown",
   "id": "e1ce396a",
   "metadata": {},
   "source": [
    "2022 January 26"
   ]
  },
  {
   "cell_type": "markdown",
   "id": "6ced0afe",
   "metadata": {},
   "source": [
    "![ml](img/ml.png)\n",
    "\n",
    "[towardsdatascience.com - figure above and quotes below](https://towardsdatascience.com/artificial-intelligence-vs-machine-learning-vs-deep-learning-2210ba8cc4ac) "
   ]
  },
  {
   "cell_type": "code",
   "execution_count": 1,
   "id": "18a40d52",
   "metadata": {},
   "outputs": [
    {
     "name": "stdout",
     "output_type": "stream",
     "text": [
      "Requirement already satisfied: sklearn in /Users/evanmuzzall/.local/share/virtualenvs/SSDS-TAML-xaUfvlpM/lib/python3.9/site-packages (0.0)\r\n",
      "Requirement already satisfied: scikit-learn in /Users/evanmuzzall/.local/share/virtualenvs/SSDS-TAML-xaUfvlpM/lib/python3.9/site-packages (from sklearn) (1.1.2)\r\n",
      "Requirement already satisfied: scipy>=1.3.2 in /Users/evanmuzzall/.local/share/virtualenvs/SSDS-TAML-xaUfvlpM/lib/python3.9/site-packages (from scikit-learn->sklearn) (1.9.0)\r\n",
      "Requirement already satisfied: threadpoolctl>=2.0.0 in /Users/evanmuzzall/.local/share/virtualenvs/SSDS-TAML-xaUfvlpM/lib/python3.9/site-packages (from scikit-learn->sklearn) (3.1.0)\r\n",
      "Requirement already satisfied: joblib>=1.0.0 in /Users/evanmuzzall/.local/share/virtualenvs/SSDS-TAML-xaUfvlpM/lib/python3.9/site-packages (from scikit-learn->sklearn) (1.1.0)\r\n",
      "Requirement already satisfied: numpy>=1.17.3 in /Users/evanmuzzall/.local/share/virtualenvs/SSDS-TAML-xaUfvlpM/lib/python3.9/site-packages (from scikit-learn->sklearn) (1.23.1)\r\n"
     ]
    }
   ],
   "source": [
    "!pip install sklearn"
   ]
  },
  {
   "cell_type": "code",
   "execution_count": 2,
   "id": "e714542f",
   "metadata": {},
   "outputs": [],
   "source": [
    "import matplotlib.pyplot as plt\n",
    "import pandas as pd\n",
    "import seaborn as sns\n",
    "import numpy as np\n",
    "import math\n",
    "import sklearn\n",
    "from sklearn.linear_model import LinearRegression\n",
    "from sklearn.metrics import mean_squared_error\n",
    "from sklearn.linear_model import LogisticRegression\n",
    "from sklearn.model_selection import train_test_split\n",
    "from sklearn import metrics\n",
    "from sklearn.feature_extraction.text import CountVectorizer\n",
    "from sklearn.feature_extraction import DictVectorizer\n",
    "import scipy.sparse"
   ]
  },
  {
   "cell_type": "markdown",
   "id": "33591902",
   "metadata": {},
   "source": [
    "## What is machine learning?\n",
    "\n",
    "Machine learning is a toolbox for modeling, investigating, and understanding data. To understand machine learning, a handful of key terms need to be defined. "
   ]
  },
  {
   "cell_type": "markdown",
   "id": "14af74c1",
   "metadata": {},
   "source": [
    "[scikit-learn](https://scikit-learn.org/stable/) provides the foundation for this introductory machine learning session. \n",
    "\n",
    "Be sure to bookmark the below resources. Try them out with data from the `data/` folder as well as your own data! \n",
    "\n",
    "* scikit-learn tutorials: https://scikit-learn.org/stable/tutorial/index.html\n",
    "* scikit-learn user guide: https://scikit-learn.org/stable/user_guide.html "
   ]
  },
  {
   "cell_type": "markdown",
   "id": "19a63bcf",
   "metadata": {},
   "source": [
    "## Key terms\n",
    "\n",
    "* **Artificial intelligence:** \"A program that can sense, reason, act, and adapt.\"\n",
    "\n",
    "* **Machine learning:** \"Algorithims whose performance improve as they are exposed to more data over time.\"\n",
    "\n",
    "* **Deep learning:** \"Subset of machine learning in which multilayered neural networks learn from vast amounts of data.\" \n",
    "\n",
    "* **Neural network:** A type of algorithm modeled after the human brain, consisting of multiple layers of nodes/neurons."
   ]
  },
  {
   "cell_type": "markdown",
   "id": "3034e69e",
   "metadata": {},
   "source": [
    "### _x_ and _y_ variables\n",
    "\n",
    "* **_x_** variables are the independent variables. You will also see these referred to in a variety of contexts as features, covariates, predictors, input, or explanatory variables. \n",
    "\n",
    "* The **_y_** variable is the dependent variable. This is also referred to as the response, outcome, and target variable. "
   ]
  },
  {
   "cell_type": "markdown",
   "id": "4a6e010a",
   "metadata": {},
   "source": [
    "### Types of machine learning:\n",
    "\n",
    "* **Supervised machine learning:** algorithms train models that (best) learn the relationships between the **_x_** and **_y_** variables on a labeled dataset (called the **training set**, where the ground truth **_y_** variable is known). The performance of the trained model is then evaluated after it predicts the outcome on new data that the model has never seen before (called the **test set**) where where ground truth **_y_** label is unknown. \n",
    "\n",
    "The equation looks like:  $y=f(x)+ϵ$\n",
    "* $f$ is the unknown function that relates **_x_** to **_y_** and is estimated\n",
    "* $ϵ$ is random error independent of x and averages to zero"
   ]
  },
  {
   "cell_type": "markdown",
   "id": "c79ee9a0",
   "metadata": {},
   "source": [
    "### Data splitting: Training and test performance\n",
    "\n",
    "Preparation for supervised methods requires a split of the dataset into training and test sets. \n",
    "\n",
    "* **Training set:** is comprised of the data that will be used by the model to learn the relationships between the **_x_** and **_y_** variables. This \"usually\" consists of a majority portion of the rows in the dataset, such as 70%. \n",
    "\n",
    "* **Test set:** consists of the holdout data that the trained model has not yet seen and where the trained model will try predict the unknown labels. This \"usually\" consists of the remaining 30% of rows. \n",
    "\n",
    "> NOTE: These values are somewhat arbitrary. It could be argued that the more training data that are available, the \"better\" your model might be. Conversely, more test data could lead to higher performance on the test data. \n",
    "\n",
    "> Furthermore, if you have millions of rows of data, a splits of 50:50 or 99:1 might also work fine depending on the context. "
   ]
  },
  {
   "cell_type": "markdown",
   "id": "71f583a3",
   "metadata": {},
   "source": [
    "* **Performance** is generally assessed through cost or loss functions such as misclassification error, sensitivity/specificity, precision/recall, (root) mean squared error, R-squared, AIC, BIC, and other [confusion matrix derivations](https://en.wikipedia.org/wiki/Confusion_matrix). \n",
    "\n",
    "* **Cross-validation** is the best way to split your data, because it repeats the train/test data splitting process $k$ number of times and rotates the test set each time so that every observation is included in a test set at least once. Performance results are then averaged to compute predictive performance. "
   ]
  },
  {
   "cell_type": "markdown",
   "id": "0376e8f3",
   "metadata": {},
   "source": [
    "![cv_wiki](img/cv_wiki.png)"
   ]
  },
  {
   "cell_type": "markdown",
   "id": "a6006057",
   "metadata": {},
   "source": [
    "### Model evaluation\n",
    "\n",
    "![bv](img/bv.png)\n",
    "\n",
    "* **Underfit:** A model is underfit if it performs poorly on the training data because it could not discern the relationship(s) between the **_x_** and **_y_** variables.\n",
    "\n",
    "* **Overfit:** A model is overfit if it performs well on the training dataset but poorly on the test set. \n",
    "\n",
    "* **Bias/variance tradeoff:** \n",
    "\n",
    "* **Bias** refers to the systematic error due to incorrect assumptions about the machine learning process or the framing of the problem itself. High bias models generally underfit and/or contain large amounts of error. \n",
    "* **Variance** refers to changes in the model predictive accuracy due to fluctuations in the training set or when using different training datasets, and how much the model can adjust to each. High variance could be due to model complexity, noise in the dataset, and overfitting. \n",
    "* The **tradeoff** means that models with high bias will have low variance, and vice-versa. The goal is to find the optimal combination of these two factors for your problem. "
   ]
  },
  {
   "cell_type": "markdown",
   "id": "89c58433",
   "metadata": {},
   "source": [
    "### Classification versus regression\n",
    "\n",
    "* **Supervised classification:** models probability that **_y_** is 1 given the covariates **_x_** and is performed when **_y_** is categorical (either binary yes/no or multinomial): $Pr(y=1|x)$ \n",
    "    * Medical diagnosis\n",
    "    * Image classification\n",
    "    * Fraud detection\n",
    "    * Sentiment analysis"
   ]
  },
  {
   "cell_type": "markdown",
   "id": "590d9737",
   "metadata": {},
   "source": [
    "* **Supervised regression:** models the conditional mean probability $E(y|x)$ and is performed when **_y_** is continuous (i.e., integer or float).\n",
    "    * Life expectancy\n",
    "    * Population growth\n",
    "    * Weather forecasting\n",
    "    * Stock market prediction"
   ]
  },
  {
   "cell_type": "markdown",
   "id": "31ce23ea",
   "metadata": {},
   "source": [
    "* **Supervised algorithms** include: \n",
    "    * Regressions: ordinary least squares, generalized linear model, lasso\n",
    "    * Tree-based methods: decision tree, random forest, boosted trees\n",
    "    * Kernel-based methods: various; transform non-linear to linear space"
   ]
  },
  {
   "cell_type": "markdown",
   "id": "36625f4f",
   "metadata": {},
   "source": [
    "View scikit-learn's interactive documentation for estimator (algorithm) selection: https://scikit-learn.org/stable/tutorial/machine_learning_map/index.html\n",
    "\n",
    "![skest](img/skest.png)"
   ]
  },
  {
   "cell_type": "markdown",
   "id": "3d92205b",
   "metadata": {},
   "source": [
    "* **Unsupervised machine learning:** algorithms are used to sort unlabeled datasets, without attempting to predict anything. \n",
    "\n",
    "    * The equation could simply look like: $\\sim\\ x$\n",
    "\n",
    "    * Algorithms include: \n",
    "        * Clustering: hierarchical agglomerative, k-means, centroid, density-based, DBSCAN, GLRM  \n",
    "\n",
    "        * Dimension reduction: PCA, t-SNE, UMAP\n",
    "\n",
    "        * **Reinforcement:** algorithims are used to make real-time decisions and skill acquisition in fields such as game-theory and robotics. \n",
    "\n",
    "        * **Other:** semi-supervised, etc."
   ]
  },
  {
   "cell_type": "markdown",
   "id": "15bf01ae",
   "metadata": {},
   "source": [
    "* **Bias in research**\n",
    "\n",
    "![bias_res](img/bias_res.png)"
   ]
  },
  {
   "cell_type": "markdown",
   "id": "fa9471ca",
   "metadata": {},
   "source": [
    "* **Ethical considerations:** \n",
    "\n",
    "    * Begin to familiarize yourself with the many ethnical points to consider along with their real-world implications:\n",
    "    \n",
    "        * [Howard et al, 2017. Addressing bias in machine learning algorithms: A pilot study on emotion recognition for intelligent systems](https://ieeexplore.ieee.org/abstract/document/8025197?casa_token=xyJcglvpeyUAAAAA:_tpPmFLycMFQuTd4UC52Y2C5yxXignXv7OE1rgv01YwzOs2o9j_bMvIQPwD8IW2NT5awRJcl4g)\n",
    "        * [Noble, 2018. Algorithms of oppression: How search engines reinforce racism](https://nyupress.org/9781479837243/algorithms-of-oppression/)\n",
    "        * [Yapo and Weiss, 2018. Ethical implications of bias in machine learning](https://aisel.aisnet.org/hicss-51/os/topics_in_os/6/)\n",
    "        * [Mehrabi et al, 2021. A survey on bias and fairness in machine learning](https://dl.acm.org/doi/abs/10.1145/3457607?casa_token=HkkFHCUfRh0AAAAA%3Az5PprDD4p2VDEyZD7KeJzl67tlpTTA48RsIlqcqDYLROEfyJMTzHRjdYYN8SheqDRkvt_H1XXojANQ)"
   ]
  },
  {
   "cell_type": "markdown",
   "id": "706d7bc2",
   "metadata": {},
   "source": [
    "## OLS example - by \"hand\"\n",
    "\n",
    "Ordinary least squares regression provides a great example of the machine learning process and some of the key terms defined above. "
   ]
  },
  {
   "cell_type": "markdown",
   "id": "cff5c773",
   "metadata": {},
   "source": [
    "### Generate toy data"
   ]
  },
  {
   "cell_type": "code",
   "execution_count": 3,
   "id": "fa60c7e9",
   "metadata": {},
   "outputs": [
    {
     "data": {
      "text/html": [
       "<div>\n",
       "<style scoped>\n",
       "    .dataframe tbody tr th:only-of-type {\n",
       "        vertical-align: middle;\n",
       "    }\n",
       "\n",
       "    .dataframe tbody tr th {\n",
       "        vertical-align: top;\n",
       "    }\n",
       "\n",
       "    .dataframe thead th {\n",
       "        text-align: right;\n",
       "    }\n",
       "</style>\n",
       "<table border=\"1\" class=\"dataframe\">\n",
       "  <thead>\n",
       "    <tr style=\"text-align: right;\">\n",
       "      <th></th>\n",
       "      <th>x</th>\n",
       "      <th>y</th>\n",
       "    </tr>\n",
       "  </thead>\n",
       "  <tbody>\n",
       "    <tr>\n",
       "      <th>0</th>\n",
       "      <td>1</td>\n",
       "      <td>2</td>\n",
       "    </tr>\n",
       "    <tr>\n",
       "      <th>1</th>\n",
       "      <td>2</td>\n",
       "      <td>4</td>\n",
       "    </tr>\n",
       "    <tr>\n",
       "      <th>2</th>\n",
       "      <td>3</td>\n",
       "      <td>6</td>\n",
       "    </tr>\n",
       "    <tr>\n",
       "      <th>3</th>\n",
       "      <td>4</td>\n",
       "      <td>8</td>\n",
       "    </tr>\n",
       "    <tr>\n",
       "      <th>4</th>\n",
       "      <td>5</td>\n",
       "      <td>20</td>\n",
       "    </tr>\n",
       "  </tbody>\n",
       "</table>\n",
       "</div>"
      ],
      "text/plain": [
       "   x   y\n",
       "0  1   2\n",
       "1  2   4\n",
       "2  3   6\n",
       "3  4   8\n",
       "4  5  20"
      ]
     },
     "execution_count": 3,
     "metadata": {},
     "output_type": "execute_result"
    }
   ],
   "source": [
    "import pandas as pd\n",
    "data = pd.DataFrame({\"x\": [1,2,3,4,5],\n",
    "                     \"y\": [2,4,6,8,20]})\n",
    "data"
   ]
  },
  {
   "cell_type": "markdown",
   "id": "9eef662f",
   "metadata": {},
   "source": [
    "### Calculate means of x and y"
   ]
  },
  {
   "cell_type": "code",
   "execution_count": 4,
   "id": "2ae424e9",
   "metadata": {},
   "outputs": [
    {
     "name": "stdout",
     "output_type": "stream",
     "text": [
      "mean of x: 3.0\n",
      "mean of y: 8.0\n"
     ]
    }
   ],
   "source": [
    "x_mean = round(sum(data.x) / len(data.x), 2)\n",
    "y_mean = round(sum(data.y) / len(data.y), 2)\n",
    "print(\"mean of x:\", x_mean)\n",
    "print(\"mean of y:\", y_mean)"
   ]
  },
  {
   "cell_type": "markdown",
   "id": "7c60b678",
   "metadata": {},
   "source": [
    "### Visualize the data (training data)\n",
    "\n",
    "Plot the known relationships between x and y. "
   ]
  },
  {
   "cell_type": "code",
   "execution_count": 5,
   "id": "c8a5782c",
   "metadata": {
    "scrolled": true
   },
   "outputs": [
    {
     "data": {
      "image/png": "[encoded data removed]",
      "text/plain": [
       "<Figure size 432x288 with 1 Axes>"
      ]
     },
     "metadata": {
      "filenames": {
       "image/png": "/Users/evanmuzzall/Desktop/SSDS-TAML/_build/jupyter_execute/fall2022/Chapter2_27_0.png"
      },
      "needs_background": "light"
     },
     "output_type": "display_data"
    }
   ],
   "source": [
    "plt.scatter(data.x, data.y);"
   ]
  },
  {
   "cell_type": "markdown",
   "id": "cac6b607",
   "metadata": {},
   "source": [
    "### Calculate error for each observation\n",
    "\n",
    "Error (least squares method) is the difference between each observation and the mean. Below this will be represented visually by the distance between each point and the line of best fit. "
   ]
  },
  {
   "cell_type": "code",
   "execution_count": 6,
   "id": "fd88aee9",
   "metadata": {},
   "outputs": [],
   "source": [
    "x_error = data.x - x_mean\n",
    "y_error = data.y - y_mean"
   ]
  },
  {
   "cell_type": "code",
   "execution_count": 7,
   "id": "5e887a3d",
   "metadata": {},
   "outputs": [
    {
     "name": "stdout",
     "output_type": "stream",
     "text": [
      "0    1\n",
      "1    2\n",
      "2    3\n",
      "3    4\n",
      "4    5\n",
      "Name: x, dtype: int64\n",
      "3.0\n",
      "0   -2.0\n",
      "1   -1.0\n",
      "2    0.0\n",
      "3    1.0\n",
      "4    2.0\n",
      "Name: x, dtype: float64\n"
     ]
    }
   ],
   "source": [
    "# x\n",
    "print(data.x)\n",
    "print(x_mean)\n",
    "print(x_error)"
   ]
  },
  {
   "cell_type": "code",
   "execution_count": 8,
   "id": "a2531df4",
   "metadata": {},
   "outputs": [
    {
     "name": "stdout",
     "output_type": "stream",
     "text": [
      "0     2\n",
      "1     4\n",
      "2     6\n",
      "3     8\n",
      "4    20\n",
      "Name: y, dtype: int64\n",
      "8.0\n",
      "0    -6.0\n",
      "1    -4.0\n",
      "2    -2.0\n",
      "3     0.0\n",
      "4    12.0\n",
      "Name: y, dtype: float64\n"
     ]
    }
   ],
   "source": [
    "# y\n",
    "print(data.y)\n",
    "print(y_mean)\n",
    "print(y_error)"
   ]
  },
  {
   "cell_type": "markdown",
   "id": "fcfb11e5",
   "metadata": {},
   "source": [
    "### Compute beta coefficients"
   ]
  },
  {
   "cell_type": "code",
   "execution_count": 9,
   "id": "17532d92",
   "metadata": {},
   "outputs": [
    {
     "name": "stdout",
     "output_type": "stream",
     "text": [
      "slope (B1) is:  4.0\n",
      "intercept (B0) is:  -4.0\n"
     ]
    }
   ],
   "source": [
    "## Estimate the B1 coefficient (slope)\n",
    "B1 = sum((data.x - x_mean) * (data.y - y_mean)) / sum((data.x - x_mean) **2)\n",
    "print(\"slope (B1) is: \", B1)\n",
    "\n",
    "## Estimate B0 coefficient (intercept)\n",
    "B0 = y_mean - (B1 * x_mean)\n",
    "print(\"intercept (B0) is: \", B0)"
   ]
  },
  {
   "cell_type": "markdown",
   "id": "2c73ddb3",
   "metadata": {},
   "source": [
    "### Plot best fit line"
   ]
  },
  {
   "cell_type": "code",
   "execution_count": 10,
   "id": "6fbe791c",
   "metadata": {},
   "outputs": [
    {
     "data": {
      "image/png": "[encoded data removed]",
      "text/plain": [
       "<Figure size 432x288 with 1 Axes>"
      ]
     },
     "metadata": {
      "filenames": {
       "image/png": "/Users/evanmuzzall/Desktop/SSDS-TAML/_build/jupyter_execute/fall2022/Chapter2_35_0.png"
      },
      "needs_background": "light"
     },
     "output_type": "display_data"
    }
   ],
   "source": [
    "import seaborn as sns\n",
    "import numpy as np\n",
    "sns.regplot(data = data, \n",
    "            x = \"x\", y = \"y\",\n",
    "           ci = None)\n",
    "plt.xticks(np.arange(min(data.x), max(data.x)+1, 1.0))\n",
    "plt.yticks(np.arange(min(data.y), max(data.y)+1, 2.0));"
   ]
  },
  {
   "cell_type": "markdown",
   "id": "a0ca6a47",
   "metadata": {},
   "source": [
    "### Generate the predictions (test set)"
   ]
  },
  {
   "cell_type": "code",
   "execution_count": 11,
   "id": "e03d4297",
   "metadata": {},
   "outputs": [
    {
     "name": "stdout",
     "output_type": "stream",
     "text": [
      "Ground truth y values:\n",
      "0     2\n",
      "1     4\n",
      "2     6\n",
      "3     8\n",
      "4    20\n",
      "Name: y, dtype: int64\n",
      "\n",
      "Predicted y values:\n",
      "0     0.0\n",
      "1     4.0\n",
      "2     8.0\n",
      "3    12.0\n",
      "4    16.0\n",
      "Name: x, dtype: float64\n"
     ]
    }
   ],
   "source": [
    "y_hat = B0 + B1 * data.x\n",
    "print(\"Ground truth y values:\")\n",
    "print(data.y)\n",
    "print()\n",
    "print(\"Predicted y values:\")\n",
    "print(y_hat)"
   ]
  },
  {
   "cell_type": "markdown",
   "id": "3f6ec39a",
   "metadata": {},
   "source": [
    "### Visualize the error for each observation\n",
    "\n",
    "![ls_err](img/ls_err.png)"
   ]
  },
  {
   "cell_type": "markdown",
   "id": "c811711c",
   "metadata": {},
   "source": [
    "### Evaluate the performance using RMSE\n",
    "\n",
    "Root mean squared error is a handy performance metric because it has the same units of whatever is plotted on the y-axis. \n",
    "\n",
    "In our toy example here, we are off an average of 2.82843 units on the y-axis of a given data point from the line of best fit. "
   ]
  },
  {
   "cell_type": "code",
   "execution_count": 12,
   "id": "348675fe",
   "metadata": {},
   "outputs": [
    {
     "name": "stdout",
     "output_type": "stream",
     "text": [
      "0     36.0\n",
      "1     16.0\n",
      "2      4.0\n",
      "3      0.0\n",
      "4    144.0\n",
      "Name: y, dtype: float64\n"
     ]
    }
   ],
   "source": [
    "# 1. Square each error\n",
    "y_error_sq = y_error ** 2\n",
    "print(y_error_sq)"
   ]
  },
  {
   "cell_type": "code",
   "execution_count": 13,
   "id": "d4ff42aa",
   "metadata": {},
   "outputs": [
    {
     "name": "stdout",
     "output_type": "stream",
     "text": [
      "200.0\n"
     ]
    }
   ],
   "source": [
    "# 2. Sum these values\n",
    "sum_error_sq = sum(y_error_sq)\n",
    "print(sum_error_sq)"
   ]
  },
  {
   "cell_type": "code",
   "execution_count": 14,
   "id": "41b8d8c0",
   "metadata": {},
   "outputs": [
    {
     "name": "stdout",
     "output_type": "stream",
     "text": [
      "2.82843\n"
     ]
    }
   ],
   "source": [
    "# 3. Calculate RMSE - the square root of summed squared error divided by the length of y\n",
    "import math\n",
    "RMSE = math.sqrt(sum_error_sq) / len(data.y)\n",
    "print(round(RMSE, 5))"
   ]
  },
  {
   "cell_type": "markdown",
   "id": "e1500428",
   "metadata": {},
   "source": [
    "### Compare our by \"hand\" results to the scikit-learn version! "
   ]
  },
  {
   "cell_type": "code",
   "execution_count": 15,
   "id": "c5e41a59",
   "metadata": {},
   "outputs": [
    {
     "name": "stdout",
     "output_type": "stream",
     "text": [
      "R-squared: 0.8\n"
     ]
    }
   ],
   "source": [
    "# use scikit-learn to compute R-squared value\n",
    "from sklearn.linear_model import LinearRegression\n",
    "\n",
    "lin_mod = LinearRegression().fit(data[['x']], data[['y']])\n",
    "print(\"R-squared: \" + str(lin_mod.score(data[['x']], data[['y']])))"
   ]
  },
  {
   "cell_type": "code",
   "execution_count": 16,
   "id": "63ec78b0",
   "metadata": {},
   "outputs": [
    {
     "name": "stdout",
     "output_type": "stream",
     "text": [
      "scikit-learn slope: [[4.]]\n",
      "scikit-learn intercept: [-4.]\n"
     ]
    }
   ],
   "source": [
    "# use scikit-learn to compute slope and intercept\n",
    "print(\"scikit-learn slope: \" + str(lin_mod.coef_))\n",
    "print(\"scikit-learn intercept: \" + str(lin_mod.intercept_))"
   ]
  },
  {
   "cell_type": "code",
   "execution_count": 17,
   "id": "dea3ce5b",
   "metadata": {},
   "outputs": [
    {
     "name": "stdout",
     "output_type": "stream",
     "text": [
      "True\n",
      "True\n"
     ]
    }
   ],
   "source": [
    "# compare to our by \"hand\" versions. Both are the same!\n",
    "print(int(lin_mod.coef_) == B1)\n",
    "print(int(lin_mod.intercept_) == B0)"
   ]
  },
  {
   "cell_type": "code",
   "execution_count": 18,
   "id": "5447def1",
   "metadata": {},
   "outputs": [
    {
     "name": "stdout",
     "output_type": "stream",
     "text": [
      "2.82843\n"
     ]
    }
   ],
   "source": [
    "# use scikit-learn to compute RMSE\n",
    "from sklearn.metrics import mean_squared_error\n",
    "\n",
    "RMSE_scikit = round(mean_squared_error(data.y, y_hat, squared = False), 5)\n",
    "print(RMSE_scikit)"
   ]
  },
  {
   "cell_type": "code",
   "execution_count": 19,
   "id": "3645c583",
   "metadata": {},
   "outputs": [
    {
     "name": "stdout",
     "output_type": "stream",
     "text": [
      "True\n"
     ]
    }
   ],
   "source": [
    "# Does our hand-computed RMSE equal that of scikit-learn at 5 digits?? Yes!\n",
    "print(round(RMSE, 5) == round(RMSE_scikit, 5))"
   ]
  },
  {
   "cell_type": "markdown",
   "id": "c05a4037",
   "metadata": {},
   "source": [
    "## Supervised machine learning - logistic regression\n",
    "\n",
    "Fortunately, you do not have to do any of this by hand thanks to scikit-learn! \n",
    "\n",
    "Here is a short workflow to fit a logistic regression model. Logistic regression is similar to linear regression $y \\sim\\ x$ but regresses for the probability of a categorical outcome. \n",
    "\n",
    "Let's calculate training and test set accuracy to predict whether a penguin is MALE or FEMALE based on thier biological and spatial characteristics. "
   ]
  },
  {
   "cell_type": "code",
   "execution_count": 20,
   "id": "5684c02c",
   "metadata": {},
   "outputs": [],
   "source": [
    "# load data\n",
    "penguins = pd.read_csv(\"data/penguins.csv\")"
   ]
  },
  {
   "cell_type": "code",
   "execution_count": 21,
   "id": "32f2deb5",
   "metadata": {},
   "outputs": [
    {
     "data": {
      "text/html": [
       "<div>\n",
       "<style scoped>\n",
       "    .dataframe tbody tr th:only-of-type {\n",
       "        vertical-align: middle;\n",
       "    }\n",
       "\n",
       "    .dataframe tbody tr th {\n",
       "        vertical-align: top;\n",
       "    }\n",
       "\n",
       "    .dataframe thead th {\n",
       "        text-align: right;\n",
       "    }\n",
       "</style>\n",
       "<table border=\"1\" class=\"dataframe\">\n",
       "  <thead>\n",
       "    <tr style=\"text-align: right;\">\n",
       "      <th></th>\n",
       "      <th>species</th>\n",
       "      <th>island</th>\n",
       "      <th>bill_length_mm</th>\n",
       "      <th>bill_depth_mm</th>\n",
       "      <th>flipper_length_mm</th>\n",
       "      <th>body_mass_g</th>\n",
       "      <th>sex</th>\n",
       "    </tr>\n",
       "  </thead>\n",
       "  <tbody>\n",
       "    <tr>\n",
       "      <th>0</th>\n",
       "      <td>Adelie</td>\n",
       "      <td>Torgersen</td>\n",
       "      <td>39.1</td>\n",
       "      <td>18.7</td>\n",
       "      <td>181.0</td>\n",
       "      <td>3750.0</td>\n",
       "      <td>MALE</td>\n",
       "    </tr>\n",
       "    <tr>\n",
       "      <th>1</th>\n",
       "      <td>Adelie</td>\n",
       "      <td>Torgersen</td>\n",
       "      <td>39.5</td>\n",
       "      <td>17.4</td>\n",
       "      <td>186.0</td>\n",
       "      <td>3800.0</td>\n",
       "      <td>FEMALE</td>\n",
       "    </tr>\n",
       "    <tr>\n",
       "      <th>2</th>\n",
       "      <td>Adelie</td>\n",
       "      <td>Torgersen</td>\n",
       "      <td>40.3</td>\n",
       "      <td>18.0</td>\n",
       "      <td>195.0</td>\n",
       "      <td>3250.0</td>\n",
       "      <td>FEMALE</td>\n",
       "    </tr>\n",
       "    <tr>\n",
       "      <th>3</th>\n",
       "      <td>Adelie</td>\n",
       "      <td>Torgersen</td>\n",
       "      <td>NaN</td>\n",
       "      <td>NaN</td>\n",
       "      <td>NaN</td>\n",
       "      <td>NaN</td>\n",
       "      <td>NaN</td>\n",
       "    </tr>\n",
       "    <tr>\n",
       "      <th>4</th>\n",
       "      <td>Adelie</td>\n",
       "      <td>Torgersen</td>\n",
       "      <td>36.7</td>\n",
       "      <td>19.3</td>\n",
       "      <td>193.0</td>\n",
       "      <td>3450.0</td>\n",
       "      <td>FEMALE</td>\n",
       "    </tr>\n",
       "  </tbody>\n",
       "</table>\n",
       "</div>"
      ],
      "text/plain": [
       "  species     island  bill_length_mm  bill_depth_mm  flipper_length_mm  \\\n",
       "0  Adelie  Torgersen            39.1           18.7              181.0   \n",
       "1  Adelie  Torgersen            39.5           17.4              186.0   \n",
       "2  Adelie  Torgersen            40.3           18.0              195.0   \n",
       "3  Adelie  Torgersen             NaN            NaN                NaN   \n",
       "4  Adelie  Torgersen            36.7           19.3              193.0   \n",
       "\n",
       "   body_mass_g     sex  \n",
       "0       3750.0    MALE  \n",
       "1       3800.0  FEMALE  \n",
       "2       3250.0  FEMALE  \n",
       "3          NaN     NaN  \n",
       "4       3450.0  FEMALE  "
      ]
     },
     "execution_count": 21,
     "metadata": {},
     "output_type": "execute_result"
    }
   ],
   "source": [
    "penguins.head()"
   ]
  },
  {
   "cell_type": "markdown",
   "id": "c46b64ef",
   "metadata": {},
   "source": [
    "### Preprocess the data - remove rows with NaN (missing) values"
   ]
  },
  {
   "cell_type": "code",
   "execution_count": 22,
   "id": "317cde69",
   "metadata": {},
   "outputs": [
    {
     "data": {
      "text/plain": [
       "11"
      ]
     },
     "execution_count": 22,
     "metadata": {},
     "output_type": "execute_result"
    }
   ],
   "source": [
    "# count number of rows with missing data in penguins. Eleven...\n",
    "penguins.isnull().any(axis=1).sum()"
   ]
  },
  {
   "cell_type": "code",
   "execution_count": 23,
   "id": "d4032569",
   "metadata": {},
   "outputs": [],
   "source": [
    "# make a copy with listwise deleted rows\n",
    "p_complete = penguins.dropna()"
   ]
  },
  {
   "cell_type": "code",
   "execution_count": 24,
   "id": "e7037d01",
   "metadata": {},
   "outputs": [
    {
     "data": {
      "text/plain": [
       "0"
      ]
     },
     "execution_count": 24,
     "metadata": {},
     "output_type": "execute_result"
    }
   ],
   "source": [
    "# count number of rows with missing data in p_complete. Zero! \n",
    "p_complete.isnull().any(axis=1).sum()"
   ]
  },
  {
   "cell_type": "markdown",
   "id": "7d845923",
   "metadata": {},
   "source": [
    "### Preprocess the data - convert categorical variables to indicators\n",
    "\n",
    "Check out this great tutorial on [one-hot encoding](https://stackabuse.com/one-hot-encoding-in-python-with-pandas-and-scikit-learn/) to learn more."
   ]
  },
  {
   "cell_type": "code",
   "execution_count": 25,
   "id": "93267a1d",
   "metadata": {},
   "outputs": [
    {
     "data": {
      "text/html": [
       "<div>\n",
       "<style scoped>\n",
       "    .dataframe tbody tr th:only-of-type {\n",
       "        vertical-align: middle;\n",
       "    }\n",
       "\n",
       "    .dataframe tbody tr th {\n",
       "        vertical-align: top;\n",
       "    }\n",
       "\n",
       "    .dataframe thead th {\n",
       "        text-align: right;\n",
       "    }\n",
       "</style>\n",
       "<table border=\"1\" class=\"dataframe\">\n",
       "  <thead>\n",
       "    <tr style=\"text-align: right;\">\n",
       "      <th></th>\n",
       "      <th>island_Biscoe</th>\n",
       "      <th>island_Dream</th>\n",
       "      <th>island_Torgersen</th>\n",
       "    </tr>\n",
       "  </thead>\n",
       "  <tbody>\n",
       "    <tr>\n",
       "      <th>0</th>\n",
       "      <td>0</td>\n",
       "      <td>0</td>\n",
       "      <td>1</td>\n",
       "    </tr>\n",
       "    <tr>\n",
       "      <th>1</th>\n",
       "      <td>0</td>\n",
       "      <td>0</td>\n",
       "      <td>1</td>\n",
       "    </tr>\n",
       "    <tr>\n",
       "      <th>2</th>\n",
       "      <td>0</td>\n",
       "      <td>0</td>\n",
       "      <td>1</td>\n",
       "    </tr>\n",
       "    <tr>\n",
       "      <th>4</th>\n",
       "      <td>0</td>\n",
       "      <td>0</td>\n",
       "      <td>1</td>\n",
       "    </tr>\n",
       "    <tr>\n",
       "      <th>5</th>\n",
       "      <td>0</td>\n",
       "      <td>0</td>\n",
       "      <td>1</td>\n",
       "    </tr>\n",
       "  </tbody>\n",
       "</table>\n",
       "</div>"
      ],
      "text/plain": [
       "   island_Biscoe  island_Dream  island_Torgersen\n",
       "0              0             0                 1\n",
       "1              0             0                 1\n",
       "2              0             0                 1\n",
       "4              0             0                 1\n",
       "5              0             0                 1"
      ]
     },
     "execution_count": 25,
     "metadata": {},
     "output_type": "execute_result"
    }
   ],
   "source": [
    "# convert island categorical variable into numeric indicators\n",
    "p_dummy_island = pd.get_dummies(p_complete.island, prefix = \"island\")\n",
    "p_dummy_island.head()"
   ]
  },
  {
   "cell_type": "code",
   "execution_count": 26,
   "id": "ac13358b",
   "metadata": {},
   "outputs": [
    {
     "data": {
      "text/html": [
       "<div>\n",
       "<style scoped>\n",
       "    .dataframe tbody tr th:only-of-type {\n",
       "        vertical-align: middle;\n",
       "    }\n",
       "\n",
       "    .dataframe tbody tr th {\n",
       "        vertical-align: top;\n",
       "    }\n",
       "\n",
       "    .dataframe thead th {\n",
       "        text-align: right;\n",
       "    }\n",
       "</style>\n",
       "<table border=\"1\" class=\"dataframe\">\n",
       "  <thead>\n",
       "    <tr style=\"text-align: right;\">\n",
       "      <th></th>\n",
       "      <th>species_Adelie</th>\n",
       "      <th>species_Chinstrap</th>\n",
       "      <th>species_Gentoo</th>\n",
       "    </tr>\n",
       "  </thead>\n",
       "  <tbody>\n",
       "    <tr>\n",
       "      <th>0</th>\n",
       "      <td>1</td>\n",
       "      <td>0</td>\n",
       "      <td>0</td>\n",
       "    </tr>\n",
       "    <tr>\n",
       "      <th>1</th>\n",
       "      <td>1</td>\n",
       "      <td>0</td>\n",
       "      <td>0</td>\n",
       "    </tr>\n",
       "    <tr>\n",
       "      <th>2</th>\n",
       "      <td>1</td>\n",
       "      <td>0</td>\n",
       "      <td>0</td>\n",
       "    </tr>\n",
       "    <tr>\n",
       "      <th>4</th>\n",
       "      <td>1</td>\n",
       "      <td>0</td>\n",
       "      <td>0</td>\n",
       "    </tr>\n",
       "    <tr>\n",
       "      <th>5</th>\n",
       "      <td>1</td>\n",
       "      <td>0</td>\n",
       "      <td>0</td>\n",
       "    </tr>\n",
       "  </tbody>\n",
       "</table>\n",
       "</div>"
      ],
      "text/plain": [
       "   species_Adelie  species_Chinstrap  species_Gentoo\n",
       "0               1                  0               0\n",
       "1               1                  0               0\n",
       "2               1                  0               0\n",
       "4               1                  0               0\n",
       "5               1                  0               0"
      ]
     },
     "execution_count": 26,
     "metadata": {},
     "output_type": "execute_result"
    }
   ],
   "source": [
    "# convert species categorical variable into numeric indicators\n",
    "p_dummy_species = pd.get_dummies(p_complete.species, prefix = \"species\")\n",
    "p_dummy_species.head()"
   ]
  },
  {
   "cell_type": "markdown",
   "id": "1f0e51b8",
   "metadata": {},
   "source": [
    "### Preprocess the data - remove the island and species variables from p_complete"
   ]
  },
  {
   "cell_type": "code",
   "execution_count": 27,
   "id": "a33b1081",
   "metadata": {},
   "outputs": [
    {
     "name": "stdout",
     "output_type": "stream",
     "text": [
      "Index(['species', 'island', 'bill_length_mm', 'bill_depth_mm',\n",
      "       'flipper_length_mm', 'body_mass_g', 'sex'],\n",
      "      dtype='object')\n"
     ]
    },
    {
     "data": {
      "text/html": [
       "<div>\n",
       "<style scoped>\n",
       "    .dataframe tbody tr th:only-of-type {\n",
       "        vertical-align: middle;\n",
       "    }\n",
       "\n",
       "    .dataframe tbody tr th {\n",
       "        vertical-align: top;\n",
       "    }\n",
       "\n",
       "    .dataframe thead th {\n",
       "        text-align: right;\n",
       "    }\n",
       "</style>\n",
       "<table border=\"1\" class=\"dataframe\">\n",
       "  <thead>\n",
       "    <tr style=\"text-align: right;\">\n",
       "      <th></th>\n",
       "      <th>bill_length_mm</th>\n",
       "      <th>bill_depth_mm</th>\n",
       "      <th>flipper_length_mm</th>\n",
       "      <th>body_mass_g</th>\n",
       "      <th>sex</th>\n",
       "    </tr>\n",
       "  </thead>\n",
       "  <tbody>\n",
       "    <tr>\n",
       "      <th>0</th>\n",
       "      <td>39.1</td>\n",
       "      <td>18.7</td>\n",
       "      <td>181.0</td>\n",
       "      <td>3750.0</td>\n",
       "      <td>MALE</td>\n",
       "    </tr>\n",
       "    <tr>\n",
       "      <th>1</th>\n",
       "      <td>39.5</td>\n",
       "      <td>17.4</td>\n",
       "      <td>186.0</td>\n",
       "      <td>3800.0</td>\n",
       "      <td>FEMALE</td>\n",
       "    </tr>\n",
       "    <tr>\n",
       "      <th>2</th>\n",
       "      <td>40.3</td>\n",
       "      <td>18.0</td>\n",
       "      <td>195.0</td>\n",
       "      <td>3250.0</td>\n",
       "      <td>FEMALE</td>\n",
       "    </tr>\n",
       "    <tr>\n",
       "      <th>4</th>\n",
       "      <td>36.7</td>\n",
       "      <td>19.3</td>\n",
       "      <td>193.0</td>\n",
       "      <td>3450.0</td>\n",
       "      <td>FEMALE</td>\n",
       "    </tr>\n",
       "    <tr>\n",
       "      <th>5</th>\n",
       "      <td>39.3</td>\n",
       "      <td>20.6</td>\n",
       "      <td>190.0</td>\n",
       "      <td>3650.0</td>\n",
       "      <td>MALE</td>\n",
       "    </tr>\n",
       "  </tbody>\n",
       "</table>\n",
       "</div>"
      ],
      "text/plain": [
       "   bill_length_mm  bill_depth_mm  flipper_length_mm  body_mass_g     sex\n",
       "0            39.1           18.7              181.0       3750.0    MALE\n",
       "1            39.5           17.4              186.0       3800.0  FEMALE\n",
       "2            40.3           18.0              195.0       3250.0  FEMALE\n",
       "4            36.7           19.3              193.0       3450.0  FEMALE\n",
       "5            39.3           20.6              190.0       3650.0    MALE"
      ]
     },
     "execution_count": 27,
     "metadata": {},
     "output_type": "execute_result"
    }
   ],
   "source": [
    "# view column names\n",
    "print(p_complete.columns)\n",
    "\n",
    "# drop the first and second columns\n",
    "p_complete = p_complete.drop(p_complete.columns[[0, 1]], axis=1)\n",
    "p_complete.head()"
   ]
  },
  {
   "cell_type": "markdown",
   "id": "c038e9e1",
   "metadata": {},
   "source": [
    "### Recombine the numeric indicators with the other variables"
   ]
  },
  {
   "cell_type": "code",
   "execution_count": 28,
   "id": "f0837503",
   "metadata": {},
   "outputs": [
    {
     "data": {
      "text/html": [
       "<div>\n",
       "<style scoped>\n",
       "    .dataframe tbody tr th:only-of-type {\n",
       "        vertical-align: middle;\n",
       "    }\n",
       "\n",
       "    .dataframe tbody tr th {\n",
       "        vertical-align: top;\n",
       "    }\n",
       "\n",
       "    .dataframe thead th {\n",
       "        text-align: right;\n",
       "    }\n",
       "</style>\n",
       "<table border=\"1\" class=\"dataframe\">\n",
       "  <thead>\n",
       "    <tr style=\"text-align: right;\">\n",
       "      <th></th>\n",
       "      <th>island_Biscoe</th>\n",
       "      <th>island_Dream</th>\n",
       "      <th>island_Torgersen</th>\n",
       "      <th>species_Adelie</th>\n",
       "      <th>species_Chinstrap</th>\n",
       "      <th>species_Gentoo</th>\n",
       "      <th>bill_length_mm</th>\n",
       "      <th>bill_depth_mm</th>\n",
       "      <th>flipper_length_mm</th>\n",
       "      <th>body_mass_g</th>\n",
       "      <th>sex</th>\n",
       "    </tr>\n",
       "  </thead>\n",
       "  <tbody>\n",
       "    <tr>\n",
       "      <th>0</th>\n",
       "      <td>0</td>\n",
       "      <td>0</td>\n",
       "      <td>1</td>\n",
       "      <td>1</td>\n",
       "      <td>0</td>\n",
       "      <td>0</td>\n",
       "      <td>39.1</td>\n",
       "      <td>18.7</td>\n",
       "      <td>181.0</td>\n",
       "      <td>3750.0</td>\n",
       "      <td>MALE</td>\n",
       "    </tr>\n",
       "    <tr>\n",
       "      <th>1</th>\n",
       "      <td>0</td>\n",
       "      <td>0</td>\n",
       "      <td>1</td>\n",
       "      <td>1</td>\n",
       "      <td>0</td>\n",
       "      <td>0</td>\n",
       "      <td>39.5</td>\n",
       "      <td>17.4</td>\n",
       "      <td>186.0</td>\n",
       "      <td>3800.0</td>\n",
       "      <td>FEMALE</td>\n",
       "    </tr>\n",
       "    <tr>\n",
       "      <th>2</th>\n",
       "      <td>0</td>\n",
       "      <td>0</td>\n",
       "      <td>1</td>\n",
       "      <td>1</td>\n",
       "      <td>0</td>\n",
       "      <td>0</td>\n",
       "      <td>40.3</td>\n",
       "      <td>18.0</td>\n",
       "      <td>195.0</td>\n",
       "      <td>3250.0</td>\n",
       "      <td>FEMALE</td>\n",
       "    </tr>\n",
       "    <tr>\n",
       "      <th>4</th>\n",
       "      <td>0</td>\n",
       "      <td>0</td>\n",
       "      <td>1</td>\n",
       "      <td>1</td>\n",
       "      <td>0</td>\n",
       "      <td>0</td>\n",
       "      <td>36.7</td>\n",
       "      <td>19.3</td>\n",
       "      <td>193.0</td>\n",
       "      <td>3450.0</td>\n",
       "      <td>FEMALE</td>\n",
       "    </tr>\n",
       "    <tr>\n",
       "      <th>5</th>\n",
       "      <td>0</td>\n",
       "      <td>0</td>\n",
       "      <td>1</td>\n",
       "      <td>1</td>\n",
       "      <td>0</td>\n",
       "      <td>0</td>\n",
       "      <td>39.3</td>\n",
       "      <td>20.6</td>\n",
       "      <td>190.0</td>\n",
       "      <td>3650.0</td>\n",
       "      <td>MALE</td>\n",
       "    </tr>\n",
       "  </tbody>\n",
       "</table>\n",
       "</div>"
      ],
      "text/plain": [
       "   island_Biscoe  island_Dream  island_Torgersen  species_Adelie  \\\n",
       "0              0             0                 1               1   \n",
       "1              0             0                 1               1   \n",
       "2              0             0                 1               1   \n",
       "4              0             0                 1               1   \n",
       "5              0             0                 1               1   \n",
       "\n",
       "   species_Chinstrap  species_Gentoo  bill_length_mm  bill_depth_mm  \\\n",
       "0                  0               0            39.1           18.7   \n",
       "1                  0               0            39.5           17.4   \n",
       "2                  0               0            40.3           18.0   \n",
       "4                  0               0            36.7           19.3   \n",
       "5                  0               0            39.3           20.6   \n",
       "\n",
       "   flipper_length_mm  body_mass_g     sex  \n",
       "0              181.0       3750.0    MALE  \n",
       "1              186.0       3800.0  FEMALE  \n",
       "2              195.0       3250.0  FEMALE  \n",
       "4              193.0       3450.0  FEMALE  \n",
       "5              190.0       3650.0    MALE  "
      ]
     },
     "execution_count": 28,
     "metadata": {},
     "output_type": "execute_result"
    }
   ],
   "source": [
    "clean_penguins = pd.concat([p_dummy_island, p_dummy_species, p_complete], axis=1) \n",
    "clean_penguins.head()"
   ]
  },
  {
   "cell_type": "markdown",
   "id": "8ea2295d",
   "metadata": {},
   "source": [
    "### Recode MALE as 1 and FEMALE as 0 "
   ]
  },
  {
   "cell_type": "code",
   "execution_count": 29,
   "id": "543f2d39",
   "metadata": {},
   "outputs": [],
   "source": [
    "clean_penguins['sex'] = clean_penguins['sex'].map({'MALE': 1, 'FEMALE': 0})"
   ]
  },
  {
   "cell_type": "code",
   "execution_count": 30,
   "id": "eda94e16",
   "metadata": {},
   "outputs": [
    {
     "data": {
      "text/html": [
       "<div>\n",
       "<style scoped>\n",
       "    .dataframe tbody tr th:only-of-type {\n",
       "        vertical-align: middle;\n",
       "    }\n",
       "\n",
       "    .dataframe tbody tr th {\n",
       "        vertical-align: top;\n",
       "    }\n",
       "\n",
       "    .dataframe thead th {\n",
       "        text-align: right;\n",
       "    }\n",
       "</style>\n",
       "<table border=\"1\" class=\"dataframe\">\n",
       "  <thead>\n",
       "    <tr style=\"text-align: right;\">\n",
       "      <th></th>\n",
       "      <th>island_Biscoe</th>\n",
       "      <th>island_Dream</th>\n",
       "      <th>island_Torgersen</th>\n",
       "      <th>species_Adelie</th>\n",
       "      <th>species_Chinstrap</th>\n",
       "      <th>species_Gentoo</th>\n",
       "      <th>bill_length_mm</th>\n",
       "      <th>bill_depth_mm</th>\n",
       "      <th>flipper_length_mm</th>\n",
       "      <th>body_mass_g</th>\n",
       "      <th>sex</th>\n",
       "    </tr>\n",
       "  </thead>\n",
       "  <tbody>\n",
       "    <tr>\n",
       "      <th>0</th>\n",
       "      <td>0</td>\n",
       "      <td>0</td>\n",
       "      <td>1</td>\n",
       "      <td>1</td>\n",
       "      <td>0</td>\n",
       "      <td>0</td>\n",
       "      <td>39.1</td>\n",
       "      <td>18.7</td>\n",
       "      <td>181.0</td>\n",
       "      <td>3750.0</td>\n",
       "      <td>1</td>\n",
       "    </tr>\n",
       "    <tr>\n",
       "      <th>1</th>\n",
       "      <td>0</td>\n",
       "      <td>0</td>\n",
       "      <td>1</td>\n",
       "      <td>1</td>\n",
       "      <td>0</td>\n",
       "      <td>0</td>\n",
       "      <td>39.5</td>\n",
       "      <td>17.4</td>\n",
       "      <td>186.0</td>\n",
       "      <td>3800.0</td>\n",
       "      <td>0</td>\n",
       "    </tr>\n",
       "    <tr>\n",
       "      <th>2</th>\n",
       "      <td>0</td>\n",
       "      <td>0</td>\n",
       "      <td>1</td>\n",
       "      <td>1</td>\n",
       "      <td>0</td>\n",
       "      <td>0</td>\n",
       "      <td>40.3</td>\n",
       "      <td>18.0</td>\n",
       "      <td>195.0</td>\n",
       "      <td>3250.0</td>\n",
       "      <td>0</td>\n",
       "    </tr>\n",
       "    <tr>\n",
       "      <th>4</th>\n",
       "      <td>0</td>\n",
       "      <td>0</td>\n",
       "      <td>1</td>\n",
       "      <td>1</td>\n",
       "      <td>0</td>\n",
       "      <td>0</td>\n",
       "      <td>36.7</td>\n",
       "      <td>19.3</td>\n",
       "      <td>193.0</td>\n",
       "      <td>3450.0</td>\n",
       "      <td>0</td>\n",
       "    </tr>\n",
       "    <tr>\n",
       "      <th>5</th>\n",
       "      <td>0</td>\n",
       "      <td>0</td>\n",
       "      <td>1</td>\n",
       "      <td>1</td>\n",
       "      <td>0</td>\n",
       "      <td>0</td>\n",
       "      <td>39.3</td>\n",
       "      <td>20.6</td>\n",
       "      <td>190.0</td>\n",
       "      <td>3650.0</td>\n",
       "      <td>1</td>\n",
       "    </tr>\n",
       "  </tbody>\n",
       "</table>\n",
       "</div>"
      ],
      "text/plain": [
       "   island_Biscoe  island_Dream  island_Torgersen  species_Adelie  \\\n",
       "0              0             0                 1               1   \n",
       "1              0             0                 1               1   \n",
       "2              0             0                 1               1   \n",
       "4              0             0                 1               1   \n",
       "5              0             0                 1               1   \n",
       "\n",
       "   species_Chinstrap  species_Gentoo  bill_length_mm  bill_depth_mm  \\\n",
       "0                  0               0            39.1           18.7   \n",
       "1                  0               0            39.5           17.4   \n",
       "2                  0               0            40.3           18.0   \n",
       "4                  0               0            36.7           19.3   \n",
       "5                  0               0            39.3           20.6   \n",
       "\n",
       "   flipper_length_mm  body_mass_g  sex  \n",
       "0              181.0       3750.0    1  \n",
       "1              186.0       3800.0    0  \n",
       "2              195.0       3250.0    0  \n",
       "4              193.0       3450.0    0  \n",
       "5              190.0       3650.0    1  "
      ]
     },
     "execution_count": 30,
     "metadata": {},
     "output_type": "execute_result"
    }
   ],
   "source": [
    "clean_penguins.head()"
   ]
  },
  {
   "cell_type": "markdown",
   "id": "1024e6e7",
   "metadata": {},
   "source": [
    "### Define your logistic regression object"
   ]
  },
  {
   "cell_type": "code",
   "execution_count": 31,
   "id": "6ba6b982",
   "metadata": {},
   "outputs": [],
   "source": [
    "from sklearn.linear_model import LogisticRegression\n",
    "\n",
    "lr = LogisticRegression(solver = 'liblinear')\n",
    "\n",
    "# Use something like the code below for multi-class classification\n",
    "# lr = LogisticRegression(multi_class='multinomial', solver='lbfgs')"
   ]
  },
  {
   "cell_type": "markdown",
   "id": "70e80dc6",
   "metadata": {},
   "source": [
    "### Split the `clean_penguins` dataset into training and test sets"
   ]
  },
  {
   "cell_type": "code",
   "execution_count": 32,
   "id": "48109767",
   "metadata": {},
   "outputs": [],
   "source": [
    "# Define x and y for both training and test sets\n",
    "from sklearn.model_selection import train_test_split\n",
    "\n",
    "x = clean_penguins[['island_Biscoe', 'island_Dream', 'island_Torgersen', 'species_Adelie',\n",
    "       'species_Chinstrap', 'species_Gentoo', 'bill_length_mm',\n",
    "       'bill_depth_mm', 'flipper_length_mm', 'body_mass_g']]\n",
    "y = np.array(clean_penguins['sex']) \n",
    "\n",
    "x_train, x_test, y_train, y_test = train_test_split(x, y, test_size = 0.3, random_state = 123)"
   ]
  },
  {
   "cell_type": "code",
   "execution_count": 33,
   "id": "86db42a7",
   "metadata": {},
   "outputs": [
    {
     "data": {
      "text/plain": [
       "(233, 10)"
      ]
     },
     "execution_count": 33,
     "metadata": {},
     "output_type": "execute_result"
    }
   ],
   "source": [
    "x_train.shape"
   ]
  },
  {
   "cell_type": "code",
   "execution_count": 34,
   "id": "11f0b856",
   "metadata": {},
   "outputs": [
    {
     "data": {
      "text/plain": [
       "(100, 10)"
      ]
     },
     "execution_count": 34,
     "metadata": {},
     "output_type": "execute_result"
    }
   ],
   "source": [
    "x_test.shape"
   ]
  },
  {
   "cell_type": "code",
   "execution_count": 35,
   "id": "e09f6660",
   "metadata": {},
   "outputs": [
    {
     "data": {
      "text/plain": [
       "233"
      ]
     },
     "execution_count": 35,
     "metadata": {},
     "output_type": "execute_result"
    }
   ],
   "source": [
    "len(y_train)"
   ]
  },
  {
   "cell_type": "code",
   "execution_count": 36,
   "id": "348dc22a",
   "metadata": {},
   "outputs": [
    {
     "data": {
      "text/plain": [
       "100"
      ]
     },
     "execution_count": 36,
     "metadata": {},
     "output_type": "execute_result"
    }
   ],
   "source": [
    "len(y_test)"
   ]
  },
  {
   "cell_type": "markdown",
   "id": "fb7a15b6",
   "metadata": {},
   "source": [
    "### Fit the model to the training data (0.84 accuracy)"
   ]
  },
  {
   "cell_type": "code",
   "execution_count": 37,
   "id": "9afeed1f",
   "metadata": {},
   "outputs": [
    {
     "data": {
      "text/html": [
       "<style>#sk-container-id-1 {color: black;background-color: white;}#sk-container-id-1 pre{padding: 0;}#sk-container-id-1 div.sk-toggleable {background-color: white;}#sk-container-id-1 label.sk-toggleable__label {cursor: pointer;display: block;width: 100%;margin-bottom: 0;padding: 0.3em;box-sizing: border-box;text-align: center;}#sk-container-id-1 label.sk-toggleable__label-arrow:before {content: \"▸\";float: left;margin-right: 0.25em;color: #696969;}#sk-container-id-1 label.sk-toggleable__label-arrow:hover:before {color: black;}#sk-container-id-1 div.sk-estimator:hover label.sk-toggleable__label-arrow:before {color: black;}#sk-container-id-1 div.sk-toggleable__content {max-height: 0;max-width: 0;overflow: hidden;text-align: left;background-color: #f0f8ff;}#sk-container-id-1 div.sk-toggleable__content pre {margin: 0.2em;color: black;border-radius: 0.25em;background-color: #f0f8ff;}#sk-container-id-1 input.sk-toggleable__control:checked~div.sk-toggleable__content {max-height: 200px;max-width: 100%;overflow: auto;}#sk-container-id-1 input.sk-toggleable__control:checked~label.sk-toggleable__label-arrow:before {content: \"▾\";}#sk-container-id-1 div.sk-estimator input.sk-toggleable__control:checked~label.sk-toggleable__label {background-color: #d4ebff;}#sk-container-id-1 div.sk-label input.sk-toggleable__control:checked~label.sk-toggleable__label {background-color: #d4ebff;}#sk-container-id-1 input.sk-hidden--visually {border: 0;clip: rect(1px 1px 1px 1px);clip: rect(1px, 1px, 1px, 1px);height: 1px;margin: -1px;overflow: hidden;padding: 0;position: absolute;width: 1px;}#sk-container-id-1 div.sk-estimator {font-family: monospace;background-color: #f0f8ff;border: 1px dotted black;border-radius: 0.25em;box-sizing: border-box;margin-bottom: 0.5em;}#sk-container-id-1 div.sk-estimator:hover {background-color: #d4ebff;}#sk-container-id-1 div.sk-parallel-item::after {content: \"\";width: 100%;border-bottom: 1px solid gray;flex-grow: 1;}#sk-container-id-1 div.sk-label:hover label.sk-toggleable__label {background-color: #d4ebff;}#sk-container-id-1 div.sk-serial::before {content: \"\";position: absolute;border-left: 1px solid gray;box-sizing: border-box;top: 0;bottom: 0;left: 50%;z-index: 0;}#sk-container-id-1 div.sk-serial {display: flex;flex-direction: column;align-items: center;background-color: white;padding-right: 0.2em;padding-left: 0.2em;position: relative;}#sk-container-id-1 div.sk-item {position: relative;z-index: 1;}#sk-container-id-1 div.sk-parallel {display: flex;align-items: stretch;justify-content: center;background-color: white;position: relative;}#sk-container-id-1 div.sk-item::before, #sk-container-id-1 div.sk-parallel-item::before {content: \"\";position: absolute;border-left: 1px solid gray;box-sizing: border-box;top: 0;bottom: 0;left: 50%;z-index: -1;}#sk-container-id-1 div.sk-parallel-item {display: flex;flex-direction: column;z-index: 1;position: relative;background-color: white;}#sk-container-id-1 div.sk-parallel-item:first-child::after {align-self: flex-end;width: 50%;}#sk-container-id-1 div.sk-parallel-item:last-child::after {align-self: flex-start;width: 50%;}#sk-container-id-1 div.sk-parallel-item:only-child::after {width: 0;}#sk-container-id-1 div.sk-dashed-wrapped {border: 1px dashed gray;margin: 0 0.4em 0.5em 0.4em;box-sizing: border-box;padding-bottom: 0.4em;background-color: white;}#sk-container-id-1 div.sk-label label {font-family: monospace;font-weight: bold;display: inline-block;line-height: 1.2em;}#sk-container-id-1 div.sk-label-container {text-align: center;}#sk-container-id-1 div.sk-container {/* jupyter's `normalize.less` sets `[hidden] { display: none; }` but bootstrap.min.css set `[hidden] { display: none !important; }` so we also need the `!important` here to be able to override the default hidden behavior on the sphinx rendered scikit-learn.org. See: https://github.com/scikit-learn/scikit-learn/issues/21755 */display: inline-block !important;position: relative;}#sk-container-id-1 div.sk-text-repr-fallback {display: none;}</style><div id=\"sk-container-id-1\" class=\"sk-top-container\"><div class=\"sk-text-repr-fallback\"><pre>LogisticRegression(solver=&#x27;liblinear&#x27;)</pre><b>In a Jupyter environment, please rerun this cell to show the HTML representation or trust the notebook. <br />On GitHub, the HTML representation is unable to render, please try loading this page with nbviewer.org.</b></div><div class=\"sk-container\" hidden><div class=\"sk-item\"><div class=\"sk-estimator sk-toggleable\"><input class=\"sk-toggleable__control sk-hidden--visually\" id=\"sk-estimator-id-1\" type=\"checkbox\" checked><label for=\"sk-estimator-id-1\" class=\"sk-toggleable__label sk-toggleable__label-arrow\">LogisticRegression</label><div class=\"sk-toggleable__content\"><pre>LogisticRegression(solver=&#x27;liblinear&#x27;)</pre></div></div></div></div></div>"
      ],
      "text/plain": [
       "LogisticRegression(solver='liblinear')"
      ]
     },
     "execution_count": 37,
     "metadata": {},
     "output_type": "execute_result"
    }
   ],
   "source": [
    "lr.fit(x_train, y_train)"
   ]
  },
  {
   "cell_type": "code",
   "execution_count": 38,
   "id": "c54e0ff8",
   "metadata": {
    "scrolled": true
   },
   "outputs": [
    {
     "data": {
      "text/plain": [
       "0.8412017167381974"
      ]
     },
     "execution_count": 38,
     "metadata": {},
     "output_type": "execute_result"
    }
   ],
   "source": [
    "# View the accuracy\n",
    "lr.score(x_train, y_train)"
   ]
  },
  {
   "cell_type": "markdown",
   "id": "e68389b8",
   "metadata": {},
   "source": [
    "### Generate predicted values on the test data"
   ]
  },
  {
   "cell_type": "code",
   "execution_count": 39,
   "id": "775d0f3e",
   "metadata": {},
   "outputs": [
    {
     "data": {
      "text/plain": [
       "array([1, 1, 0, 0, 1, 0, 0, 0, 1, 1, 0, 1, 1, 1, 0, 1, 0, 1, 0, 1, 1, 0,\n",
       "       1, 1, 1, 1, 1, 1, 0, 0, 0, 1, 1, 0, 0, 0, 0, 0, 1, 0, 0, 1, 1, 1,\n",
       "       1, 0, 1, 0, 1, 0, 1, 1, 1, 0, 0, 0, 1, 1, 1, 0, 1, 1, 1, 1, 1, 1,\n",
       "       0, 1, 0, 1, 1, 1, 0, 1, 1, 0, 1, 0, 1, 1, 1, 0, 1, 0, 0, 0, 0, 0,\n",
       "       0, 1, 1, 1, 0, 1, 1, 0, 1, 0, 0, 1])"
      ]
     },
     "execution_count": 39,
     "metadata": {},
     "output_type": "execute_result"
    }
   ],
   "source": [
    "# Generate predicted y values based on the x test set data\n",
    "predictions = lr.predict(x_test)\n",
    "predictions"
   ]
  },
  {
   "cell_type": "markdown",
   "id": "9f642ae2",
   "metadata": {},
   "source": [
    "### Calculate test set accuracy (0.81 accuracy)"
   ]
  },
  {
   "cell_type": "code",
   "execution_count": 40,
   "id": "86c05729",
   "metadata": {},
   "outputs": [
    {
     "name": "stdout",
     "output_type": "stream",
     "text": [
      "0.81\n"
     ]
    }
   ],
   "source": [
    "test_score = lr.score(x_test, y_test)\n",
    "print(test_score)"
   ]
  },
  {
   "cell_type": "code",
   "execution_count": 41,
   "id": "30dd3cb3",
   "metadata": {},
   "outputs": [
    {
     "name": "stdout",
     "output_type": "stream",
     "text": [
      "[[34 10]\n",
      " [ 9 47]]\n"
     ]
    }
   ],
   "source": [
    "from sklearn import metrics\n",
    "\n",
    "cm = metrics.confusion_matrix(y_test, predictions)\n",
    "print(cm)"
   ]
  },
  {
   "cell_type": "code",
   "execution_count": 42,
   "id": "28a623d0",
   "metadata": {},
   "outputs": [
    {
     "data": {
      "image/png": "[encoded data removed]",
      "text/plain": [
       "<Figure size 576x576 with 1 Axes>"
      ]
     },
     "metadata": {
      "filenames": {
       "image/png": "/Users/evanmuzzall/Desktop/SSDS-TAML/_build/jupyter_execute/fall2022/Chapter2_82_0.png"
      },
      "needs_background": "light"
     },
     "output_type": "display_data"
    }
   ],
   "source": [
    "# Fancy it up! Use plt.savefig() to export\n",
    "plt.figure(figsize=(8,8))\n",
    "sns.heatmap(cm, annot = True, fmt = \".0f\", \n",
    "            cbar = False, linewidths = 2, \n",
    "            square = True, cmap = 'YlGnBu', annot_kws={\"size\": 20})\n",
    "plt.ylabel('Ground truth y label')\n",
    "plt.xlabel('Predicted y label')\n",
    "all_sample_title = 'Accuracy Score: {0}'.format(test_score)\n",
    "plt.title(all_sample_title, size = 15);"
   ]
  },
  {
   "cell_type": "markdown",
   "id": "f5d184cd",
   "metadata": {},
   "source": [
    "## Building text vocabularies\n",
    "\n",
    "What about how text is predicted? If we have text as data, we also need to convert the _representation_ of text into a format that machine learning algorithms can understand. "
   ]
  },
  {
   "cell_type": "markdown",
   "id": "c80960ef",
   "metadata": {},
   "source": [
    "### Define a corpus "
   ]
  },
  {
   "cell_type": "code",
   "execution_count": 43,
   "id": "09379776",
   "metadata": {},
   "outputs": [
    {
     "data": {
      "text/plain": [
       "['First document text goes in this list of strings.',\n",
       " 'Second document text goes here as well.',\n",
       " 'Third document text text.',\n",
       " 'Document four!']"
      ]
     },
     "execution_count": 43,
     "metadata": {},
     "output_type": "execute_result"
    }
   ],
   "source": [
    "corpus = [\n",
    "    \"First document text goes in this list of strings.\",\n",
    "    \"Second document text goes here as well.\",\n",
    "    \"Third document text text.\",\n",
    "    \"Document four!\"\n",
    "    ]\n",
    "corpus"
   ]
  },
  {
   "cell_type": "markdown",
   "id": "a51816fa",
   "metadata": {},
   "source": [
    "### Bag of words model with `CountVectorizer`\n",
    "\n",
    "The bag of words models represents text as a bag of its word, ignoring syntactical elements like grammar and word order while only preserving the multiplicy/frequency of unique tokens. Typically, a bag of words model removes punctuation and casefolds the text to lowercase before counting the words (i.e. 'Apple' and 'apple' will both count toward instances of the word, 'apple'). "
   ]
  },
  {
   "cell_type": "code",
   "execution_count": 44,
   "id": "3e50d958",
   "metadata": {},
   "outputs": [
    {
     "data": {
      "text/plain": [
       "{'first': 2,\n",
       " 'document': 1,\n",
       " 'text': 11,\n",
       " 'goes': 4,\n",
       " 'in': 6,\n",
       " 'this': 13,\n",
       " 'list': 7,\n",
       " 'of': 8,\n",
       " 'strings': 10,\n",
       " 'second': 9,\n",
       " 'here': 5,\n",
       " 'as': 0,\n",
       " 'well': 14,\n",
       " 'third': 12,\n",
       " 'four': 3}"
      ]
     },
     "execution_count": 44,
     "metadata": {},
     "output_type": "execute_result"
    }
   ],
   "source": [
    "from sklearn.feature_extraction.text import CountVectorizer\n",
    "\n",
    "# create the bag of words\n",
    "vectorizer = CountVectorizer()\n",
    "\n",
    "# the .fit method will learn the vocabulary \n",
    "vectorizer.fit(corpus)\n",
    "\n",
    "# Print the vocabulary\n",
    "vectorizer.vocabulary_"
   ]
  },
  {
   "cell_type": "markdown",
   "id": "dec2e1d5",
   "metadata": {},
   "source": [
    "### Document term matrix\n",
    "\n",
    "A [document term matrix](https://en.wikipedia.org/wiki/Document-term_matrix) displays term frequencies in sparse format across a collection of docuemnts. The `.transform` method will help us here!\n",
    "\n",
    "* The first number is the document number\n",
    "* The second number is the word from the vocabulary\n",
    "* The third number is the number of times that word occurs"
   ]
  },
  {
   "cell_type": "code",
   "execution_count": 45,
   "id": "bb6aea66",
   "metadata": {},
   "outputs": [
    {
     "name": "stdout",
     "output_type": "stream",
     "text": [
      "  (0, 1)\t1\n",
      "  (0, 2)\t1\n",
      "  (0, 4)\t1\n",
      "  (0, 6)\t1\n",
      "  (0, 7)\t1\n",
      "  (0, 8)\t1\n",
      "  (0, 10)\t1\n",
      "  (0, 11)\t1\n",
      "  (0, 13)\t1\n",
      "  (1, 0)\t1\n",
      "  (1, 1)\t1\n",
      "  (1, 4)\t1\n",
      "  (1, 5)\t1\n",
      "  (1, 9)\t1\n",
      "  (1, 11)\t1\n",
      "  (1, 14)\t1\n",
      "  (2, 1)\t1\n",
      "  (2, 11)\t2\n",
      "  (2, 12)\t1\n",
      "  (3, 1)\t1\n",
      "  (3, 3)\t1\n"
     ]
    }
   ],
   "source": [
    "vector = vectorizer.transform(corpus)\n",
    "print(vector) "
   ]
  },
  {
   "cell_type": "markdown",
   "id": "0e2e70e2",
   "metadata": {},
   "source": [
    "### Present the sparse matrix"
   ]
  },
  {
   "cell_type": "code",
   "execution_count": 46,
   "id": "ece0ca6c",
   "metadata": {},
   "outputs": [
    {
     "name": "stdout",
     "output_type": "stream",
     "text": [
      "[[0 1 1 0 1 0 1 1 1 0 1 1 0 1 0]\n",
      " [1 1 0 0 1 1 0 0 0 1 0 1 0 0 1]\n",
      " [0 1 0 0 0 0 0 0 0 0 0 2 1 0 0]\n",
      " [0 1 0 1 0 0 0 0 0 0 0 0 0 0 0]]\n"
     ]
    }
   ],
   "source": [
    "# each row is a document, each column is a word from the vocabulary! \n",
    "# 1 means that word is present in that particular document\n",
    "print(vector.toarray())"
   ]
  },
  {
   "cell_type": "code",
   "execution_count": 47,
   "id": "fbf283da",
   "metadata": {},
   "outputs": [
    {
     "name": "stderr",
     "output_type": "stream",
     "text": [
      "/Users/evanmuzzall/.local/share/virtualenvs/SSDS-TAML-xaUfvlpM/lib/python3.9/site-packages/sklearn/utils/deprecation.py:87: FutureWarning: Function get_feature_names is deprecated; get_feature_names is deprecated in 1.0 and will be removed in 1.2. Please use get_feature_names_out instead.\n",
      "  warnings.warn(msg, category=FutureWarning)\n"
     ]
    },
    {
     "data": {
      "text/plain": [
       "['as',\n",
       " 'document',\n",
       " 'first',\n",
       " 'four',\n",
       " 'goes',\n",
       " 'here',\n",
       " 'in',\n",
       " 'list',\n",
       " 'of',\n",
       " 'second',\n",
       " 'strings',\n",
       " 'text',\n",
       " 'third',\n",
       " 'this',\n",
       " 'well']"
      ]
     },
     "execution_count": 47,
     "metadata": {},
     "output_type": "execute_result"
    }
   ],
   "source": [
    "# get the column names (alphabetical sort)\n",
    "vectorizer.get_feature_names()"
   ]
  },
  {
   "cell_type": "code",
   "execution_count": 48,
   "id": "355affef",
   "metadata": {},
   "outputs": [
    {
     "data": {
      "text/plain": [
       "array([[0, 1, 0, 0, 0, 0, 0, 0, 0, 0, 0, 0, 0, 0, 0]])"
      ]
     },
     "execution_count": 48,
     "metadata": {},
     "output_type": "execute_result"
    }
   ],
   "source": [
    "# What does this tell us? \n",
    "vectorizer.transform(['document']).toarray() "
   ]
  },
  {
   "cell_type": "code",
   "execution_count": 49,
   "id": "da3a9672",
   "metadata": {},
   "outputs": [
    {
     "data": {
      "text/plain": [
       "array([[0, 0, 0, 0, 0, 0, 0, 0, 0, 0, 0, 0, 0, 0, 0]])"
      ]
     },
     "execution_count": 49,
     "metadata": {},
     "output_type": "execute_result"
    }
   ],
   "source": [
    "# 'document' is present in our bag of words, and in the sparse matrix, occupies the second column!\n",
    "\n",
    "# What if we try to transform a token that isn't in our bag of words? \n",
    "vectorizer.transform(['abracadabra']).toarray()"
   ]
  },
  {
   "cell_type": "markdown",
   "id": "006dbf01",
   "metadata": {},
   "source": [
    "### N-grams\n",
    "\n",
    "While we have focused on single words above, we can apply this approach to multi-word phrases in order to try to predict linguistic instances and potentially better understand context of a corpus of documents. \n",
    "\n",
    "Use the below token patterns: \n",
    "* bigrams    `ngram_range = (1, 2)`\n",
    "* trigrams   `ngram_range = (1, 3)`\n",
    "* etc."
   ]
  },
  {
   "cell_type": "code",
   "execution_count": 50,
   "id": "6f6918a5",
   "metadata": {},
   "outputs": [
    {
     "data": {
      "text/html": [
       "<style>#sk-container-id-2 {color: black;background-color: white;}#sk-container-id-2 pre{padding: 0;}#sk-container-id-2 div.sk-toggleable {background-color: white;}#sk-container-id-2 label.sk-toggleable__label {cursor: pointer;display: block;width: 100%;margin-bottom: 0;padding: 0.3em;box-sizing: border-box;text-align: center;}#sk-container-id-2 label.sk-toggleable__label-arrow:before {content: \"▸\";float: left;margin-right: 0.25em;color: #696969;}#sk-container-id-2 label.sk-toggleable__label-arrow:hover:before {color: black;}#sk-container-id-2 div.sk-estimator:hover label.sk-toggleable__label-arrow:before {color: black;}#sk-container-id-2 div.sk-toggleable__content {max-height: 0;max-width: 0;overflow: hidden;text-align: left;background-color: #f0f8ff;}#sk-container-id-2 div.sk-toggleable__content pre {margin: 0.2em;color: black;border-radius: 0.25em;background-color: #f0f8ff;}#sk-container-id-2 input.sk-toggleable__control:checked~div.sk-toggleable__content {max-height: 200px;max-width: 100%;overflow: auto;}#sk-container-id-2 input.sk-toggleable__control:checked~label.sk-toggleable__label-arrow:before {content: \"▾\";}#sk-container-id-2 div.sk-estimator input.sk-toggleable__control:checked~label.sk-toggleable__label {background-color: #d4ebff;}#sk-container-id-2 div.sk-label input.sk-toggleable__control:checked~label.sk-toggleable__label {background-color: #d4ebff;}#sk-container-id-2 input.sk-hidden--visually {border: 0;clip: rect(1px 1px 1px 1px);clip: rect(1px, 1px, 1px, 1px);height: 1px;margin: -1px;overflow: hidden;padding: 0;position: absolute;width: 1px;}#sk-container-id-2 div.sk-estimator {font-family: monospace;background-color: #f0f8ff;border: 1px dotted black;border-radius: 0.25em;box-sizing: border-box;margin-bottom: 0.5em;}#sk-container-id-2 div.sk-estimator:hover {background-color: #d4ebff;}#sk-container-id-2 div.sk-parallel-item::after {content: \"\";width: 100%;border-bottom: 1px solid gray;flex-grow: 1;}#sk-container-id-2 div.sk-label:hover label.sk-toggleable__label {background-color: #d4ebff;}#sk-container-id-2 div.sk-serial::before {content: \"\";position: absolute;border-left: 1px solid gray;box-sizing: border-box;top: 0;bottom: 0;left: 50%;z-index: 0;}#sk-container-id-2 div.sk-serial {display: flex;flex-direction: column;align-items: center;background-color: white;padding-right: 0.2em;padding-left: 0.2em;position: relative;}#sk-container-id-2 div.sk-item {position: relative;z-index: 1;}#sk-container-id-2 div.sk-parallel {display: flex;align-items: stretch;justify-content: center;background-color: white;position: relative;}#sk-container-id-2 div.sk-item::before, #sk-container-id-2 div.sk-parallel-item::before {content: \"\";position: absolute;border-left: 1px solid gray;box-sizing: border-box;top: 0;bottom: 0;left: 50%;z-index: -1;}#sk-container-id-2 div.sk-parallel-item {display: flex;flex-direction: column;z-index: 1;position: relative;background-color: white;}#sk-container-id-2 div.sk-parallel-item:first-child::after {align-self: flex-end;width: 50%;}#sk-container-id-2 div.sk-parallel-item:last-child::after {align-self: flex-start;width: 50%;}#sk-container-id-2 div.sk-parallel-item:only-child::after {width: 0;}#sk-container-id-2 div.sk-dashed-wrapped {border: 1px dashed gray;margin: 0 0.4em 0.5em 0.4em;box-sizing: border-box;padding-bottom: 0.4em;background-color: white;}#sk-container-id-2 div.sk-label label {font-family: monospace;font-weight: bold;display: inline-block;line-height: 1.2em;}#sk-container-id-2 div.sk-label-container {text-align: center;}#sk-container-id-2 div.sk-container {/* jupyter's `normalize.less` sets `[hidden] { display: none; }` but bootstrap.min.css set `[hidden] { display: none !important; }` so we also need the `!important` here to be able to override the default hidden behavior on the sphinx rendered scikit-learn.org. See: https://github.com/scikit-learn/scikit-learn/issues/21755 */display: inline-block !important;position: relative;}#sk-container-id-2 div.sk-text-repr-fallback {display: none;}</style><div id=\"sk-container-id-2\" class=\"sk-top-container\"><div class=\"sk-text-repr-fallback\"><pre>CountVectorizer(ngram_range=(1, 2), token_pattern=&#x27;\\\\b\\\\w+\\\\b&#x27;)</pre><b>In a Jupyter environment, please rerun this cell to show the HTML representation or trust the notebook. <br />On GitHub, the HTML representation is unable to render, please try loading this page with nbviewer.org.</b></div><div class=\"sk-container\" hidden><div class=\"sk-item\"><div class=\"sk-estimator sk-toggleable\"><input class=\"sk-toggleable__control sk-hidden--visually\" id=\"sk-estimator-id-2\" type=\"checkbox\" checked><label for=\"sk-estimator-id-2\" class=\"sk-toggleable__label sk-toggleable__label-arrow\">CountVectorizer</label><div class=\"sk-toggleable__content\"><pre>CountVectorizer(ngram_range=(1, 2), token_pattern=&#x27;\\\\b\\\\w+\\\\b&#x27;)</pre></div></div></div></div></div>"
      ],
      "text/plain": [
       "CountVectorizer(ngram_range=(1, 2), token_pattern='\\\\b\\\\w+\\\\b')"
      ]
     },
     "execution_count": 50,
     "metadata": {},
     "output_type": "execute_result"
    }
   ],
   "source": [
    " # token pattern is written using regular expressions (regex for short): \n",
    " #      '\\b' signifies the empty string (\"\") at the beginning or end of a word, \n",
    " #      '\\w' is any character, \n",
    " #      '+' signifies that the regex can match one or more instances of the prior character (in this case, '\\w')\n",
    " # question: what does '\\b\\w+\\b' mean then? \n",
    "bigram_vectorizer = CountVectorizer(ngram_range = (1,2),\n",
    "                                    token_pattern = r'\\b\\w+\\b',\n",
    "                                    min_df = 1)\n",
    "bigram_vectorizer"
   ]
  },
  {
   "cell_type": "markdown",
   "id": "b63f156e",
   "metadata": {},
   "source": [
    "Since we specify bigrams, both unigrams _and_ bigrams are returned!"
   ]
  },
  {
   "cell_type": "code",
   "execution_count": 51,
   "id": "6841dc72",
   "metadata": {},
   "outputs": [
    {
     "data": {
      "text/plain": [
       "['welcome',\n",
       " 'to',\n",
       " 'stanford',\n",
       " 'libraries',\n",
       " 'welcome to',\n",
       " 'to stanford',\n",
       " 'stanford libraries']"
      ]
     },
     "execution_count": 51,
     "metadata": {},
     "output_type": "execute_result"
    }
   ],
   "source": [
    "from sklearn.feature_extraction import DictVectorizer\n",
    "bigram_analyzer = bigram_vectorizer.build_analyzer()\n",
    "bigram_analyzer('Welcome to Stanford Libraries!')"
   ]
  },
  {
   "cell_type": "markdown",
   "id": "1299456a",
   "metadata": {},
   "source": [
    "### Apply n-grams to our above corpus"
   ]
  },
  {
   "cell_type": "code",
   "execution_count": 52,
   "id": "11128ca0",
   "metadata": {},
   "outputs": [
    {
     "data": {
      "text/plain": [
       "['First document text goes in this list of strings.',\n",
       " 'Second document text goes here as well.',\n",
       " 'Third document text text.',\n",
       " 'Document four!']"
      ]
     },
     "execution_count": 52,
     "metadata": {},
     "output_type": "execute_result"
    }
   ],
   "source": [
    "corpus"
   ]
  },
  {
   "cell_type": "code",
   "execution_count": 53,
   "id": "7dc22339",
   "metadata": {},
   "outputs": [
    {
     "name": "stdout",
     "output_type": "stream",
     "text": [
      "[[0 0 1 0 1 1 1 0 1 0 1 0 0 1 1 1 1 1 1 0 0 1 1 1 0 0 0 1 1 0]\n",
      " [1 1 1 0 1 0 0 0 1 1 0 1 1 0 0 0 0 0 0 1 1 0 1 1 0 0 0 0 0 1]\n",
      " [0 0 1 0 1 0 0 0 0 0 0 0 0 0 0 0 0 0 0 0 0 0 2 0 1 1 1 0 0 0]\n",
      " [0 0 1 1 0 0 0 1 0 0 0 0 0 0 0 0 0 0 0 0 0 0 0 0 0 0 0 0 0 0]]\n"
     ]
    }
   ],
   "source": [
    "# perform the transformation\n",
    "x = bigram_vectorizer.fit_transform(corpus).toarray()\n",
    "print(x)"
   ]
  },
  {
   "cell_type": "code",
   "execution_count": 54,
   "id": "73487800",
   "metadata": {},
   "outputs": [
    {
     "data": {
      "text/plain": [
       "['as',\n",
       " 'as well',\n",
       " 'document',\n",
       " 'document four',\n",
       " 'document text',\n",
       " 'first',\n",
       " 'first document',\n",
       " 'four',\n",
       " 'goes',\n",
       " 'goes here',\n",
       " 'goes in',\n",
       " 'here',\n",
       " 'here as',\n",
       " 'in',\n",
       " 'in this',\n",
       " 'list',\n",
       " 'list of',\n",
       " 'of',\n",
       " 'of strings',\n",
       " 'second',\n",
       " 'second document',\n",
       " 'strings',\n",
       " 'text',\n",
       " 'text goes',\n",
       " 'text text',\n",
       " 'third',\n",
       " 'third document',\n",
       " 'this',\n",
       " 'this list',\n",
       " 'well']"
      ]
     },
     "execution_count": 54,
     "metadata": {},
     "output_type": "execute_result"
    }
   ],
   "source": [
    "# get the feature (column) names\n",
    "# remember the rows are our four documents!\n",
    "bigram_vectorizer.get_feature_names()"
   ]
  },
  {
   "cell_type": "code",
   "execution_count": 55,
   "id": "19d5e6a7",
   "metadata": {},
   "outputs": [
    {
     "data": {
      "text/plain": [
       "array([1, 0, 0, 0])"
      ]
     },
     "execution_count": 55,
     "metadata": {},
     "output_type": "execute_result"
    }
   ],
   "source": [
    "# search for vocabulary words across the documents\n",
    "feature_index = bigram_vectorizer.vocabulary_.get('first document')\n",
    "x[:, feature_index]"
   ]
  },
  {
   "cell_type": "markdown",
   "id": "40a1eb5c",
   "metadata": {},
   "source": [
    "### Data frame vocabulary across documents\n",
    "\n",
    "Our vocabulary consists of 29 unigrams and bigrams across the four documents."
   ]
  },
  {
   "cell_type": "code",
   "execution_count": 56,
   "id": "3b19b5ce",
   "metadata": {},
   "outputs": [
    {
     "name": "stdout",
     "output_type": "stream",
     "text": [
      "  (0, 5)\t1\n",
      "  (0, 2)\t1\n",
      "  (0, 22)\t1\n",
      "  (0, 8)\t1\n",
      "  (0, 13)\t1\n",
      "  (0, 27)\t1\n",
      "  (0, 15)\t1\n",
      "  (0, 17)\t1\n",
      "  (0, 21)\t1\n",
      "  (0, 6)\t1\n",
      "  (0, 4)\t1\n",
      "  (0, 23)\t1\n",
      "  (0, 10)\t1\n",
      "  (0, 14)\t1\n",
      "  (0, 28)\t1\n",
      "  (0, 16)\t1\n",
      "  (0, 18)\t1\n",
      "  (1, 2)\t1\n",
      "  (1, 22)\t1\n",
      "  (1, 8)\t1\n",
      "  (1, 4)\t1\n",
      "  (1, 23)\t1\n",
      "  (1, 19)\t1\n",
      "  (1, 11)\t1\n",
      "  (1, 0)\t1\n",
      "  (1, 29)\t1\n",
      "  (1, 20)\t1\n",
      "  (1, 9)\t1\n",
      "  (1, 12)\t1\n",
      "  (1, 1)\t1\n",
      "  (2, 2)\t1\n",
      "  (2, 22)\t2\n",
      "  (2, 4)\t1\n",
      "  (2, 25)\t1\n",
      "  (2, 26)\t1\n",
      "  (2, 24)\t1\n",
      "  (3, 2)\t1\n",
      "  (3, 7)\t1\n",
      "  (3, 3)\t1\n"
     ]
    }
   ],
   "source": [
    "# redefine x as sparse matrix (not array)\n",
    "x = bigram_vectorizer.fit_transform(corpus)\n",
    "print(x)"
   ]
  },
  {
   "cell_type": "code",
   "execution_count": 57,
   "id": "888aded3",
   "metadata": {
    "scrolled": true
   },
   "outputs": [
    {
     "data": {
      "text/html": [
       "<div>\n",
       "<style scoped>\n",
       "    .dataframe tbody tr th:only-of-type {\n",
       "        vertical-align: middle;\n",
       "    }\n",
       "\n",
       "    .dataframe tbody tr th {\n",
       "        vertical-align: top;\n",
       "    }\n",
       "\n",
       "    .dataframe thead th {\n",
       "        text-align: right;\n",
       "    }\n",
       "</style>\n",
       "<table border=\"1\" class=\"dataframe\">\n",
       "  <thead>\n",
       "    <tr style=\"text-align: right;\">\n",
       "      <th></th>\n",
       "      <th>as</th>\n",
       "      <th>as well</th>\n",
       "      <th>document</th>\n",
       "      <th>document four</th>\n",
       "      <th>document text</th>\n",
       "      <th>first</th>\n",
       "      <th>first document</th>\n",
       "      <th>four</th>\n",
       "      <th>goes</th>\n",
       "      <th>goes here</th>\n",
       "      <th>...</th>\n",
       "      <th>second document</th>\n",
       "      <th>strings</th>\n",
       "      <th>text</th>\n",
       "      <th>text goes</th>\n",
       "      <th>text text</th>\n",
       "      <th>third</th>\n",
       "      <th>third document</th>\n",
       "      <th>this</th>\n",
       "      <th>this list</th>\n",
       "      <th>well</th>\n",
       "    </tr>\n",
       "  </thead>\n",
       "  <tbody>\n",
       "    <tr>\n",
       "      <th>0</th>\n",
       "      <td>0</td>\n",
       "      <td>0</td>\n",
       "      <td>1</td>\n",
       "      <td>0</td>\n",
       "      <td>1</td>\n",
       "      <td>1</td>\n",
       "      <td>1</td>\n",
       "      <td>0</td>\n",
       "      <td>1</td>\n",
       "      <td>0</td>\n",
       "      <td>...</td>\n",
       "      <td>0</td>\n",
       "      <td>1</td>\n",
       "      <td>1</td>\n",
       "      <td>1</td>\n",
       "      <td>0</td>\n",
       "      <td>0</td>\n",
       "      <td>0</td>\n",
       "      <td>1</td>\n",
       "      <td>1</td>\n",
       "      <td>0</td>\n",
       "    </tr>\n",
       "    <tr>\n",
       "      <th>1</th>\n",
       "      <td>1</td>\n",
       "      <td>1</td>\n",
       "      <td>1</td>\n",
       "      <td>0</td>\n",
       "      <td>1</td>\n",
       "      <td>0</td>\n",
       "      <td>0</td>\n",
       "      <td>0</td>\n",
       "      <td>1</td>\n",
       "      <td>1</td>\n",
       "      <td>...</td>\n",
       "      <td>1</td>\n",
       "      <td>0</td>\n",
       "      <td>1</td>\n",
       "      <td>1</td>\n",
       "      <td>0</td>\n",
       "      <td>0</td>\n",
       "      <td>0</td>\n",
       "      <td>0</td>\n",
       "      <td>0</td>\n",
       "      <td>1</td>\n",
       "    </tr>\n",
       "    <tr>\n",
       "      <th>2</th>\n",
       "      <td>0</td>\n",
       "      <td>0</td>\n",
       "      <td>1</td>\n",
       "      <td>0</td>\n",
       "      <td>1</td>\n",
       "      <td>0</td>\n",
       "      <td>0</td>\n",
       "      <td>0</td>\n",
       "      <td>0</td>\n",
       "      <td>0</td>\n",
       "      <td>...</td>\n",
       "      <td>0</td>\n",
       "      <td>0</td>\n",
       "      <td>2</td>\n",
       "      <td>0</td>\n",
       "      <td>1</td>\n",
       "      <td>1</td>\n",
       "      <td>1</td>\n",
       "      <td>0</td>\n",
       "      <td>0</td>\n",
       "      <td>0</td>\n",
       "    </tr>\n",
       "    <tr>\n",
       "      <th>3</th>\n",
       "      <td>0</td>\n",
       "      <td>0</td>\n",
       "      <td>1</td>\n",
       "      <td>1</td>\n",
       "      <td>0</td>\n",
       "      <td>0</td>\n",
       "      <td>0</td>\n",
       "      <td>1</td>\n",
       "      <td>0</td>\n",
       "      <td>0</td>\n",
       "      <td>...</td>\n",
       "      <td>0</td>\n",
       "      <td>0</td>\n",
       "      <td>0</td>\n",
       "      <td>0</td>\n",
       "      <td>0</td>\n",
       "      <td>0</td>\n",
       "      <td>0</td>\n",
       "      <td>0</td>\n",
       "      <td>0</td>\n",
       "      <td>0</td>\n",
       "    </tr>\n",
       "  </tbody>\n",
       "</table>\n",
       "<p>4 rows × 30 columns</p>\n",
       "</div>"
      ],
      "text/plain": [
       "   as  as well  document  document four  document text  first  first document  \\\n",
       "0   0        0         1              0              1      1               1   \n",
       "1   1        1         1              0              1      0               0   \n",
       "2   0        0         1              0              1      0               0   \n",
       "3   0        0         1              1              0      0               0   \n",
       "\n",
       "   four  goes  goes here  ...  second document  strings  text  text goes  \\\n",
       "0     0     1          0  ...                0        1     1          1   \n",
       "1     0     1          1  ...                1        0     1          1   \n",
       "2     0     0          0  ...                0        0     2          0   \n",
       "3     1     0          0  ...                0        0     0          0   \n",
       "\n",
       "   text text  third  third document  this  this list  well  \n",
       "0          0      0               0     1          1     0  \n",
       "1          0      0               0     0          0     1  \n",
       "2          1      1               1     0          0     0  \n",
       "3          0      0               0     0          0     0  \n",
       "\n",
       "[4 rows x 30 columns]"
      ]
     },
     "execution_count": 57,
     "metadata": {},
     "output_type": "execute_result"
    }
   ],
   "source": [
    "import scipy.sparse\n",
    "corpus_df = pd.DataFrame(x.todense(), columns = bigram_vectorizer.get_feature_names())\n",
    "corpus_df"
   ]
  },
  {
   "cell_type": "code",
   "execution_count": 58,
   "id": "8671db5b",
   "metadata": {},
   "outputs": [
    {
     "data": {
      "text/plain": [
       "Index(['as', 'as well', 'document', 'document four', 'document text', 'first',\n",
       "       'first document', 'four', 'goes', 'goes here', 'goes in', 'here',\n",
       "       'here as', 'in', 'in this', 'list', 'list of', 'of', 'of strings',\n",
       "       'second', 'second document', 'strings', 'text', 'text goes',\n",
       "       'text text', 'third', 'third document', 'this', 'this list', 'well'],\n",
       "      dtype='object')"
      ]
     },
     "execution_count": 58,
     "metadata": {},
     "output_type": "execute_result"
    }
   ],
   "source": [
    "# The features (columns) are the vocabulary from the bigram version of our corpus variable above! \n",
    "corpus_df.columns"
   ]
  },
  {
   "cell_type": "markdown",
   "id": "3132284b",
   "metadata": {},
   "source": [
    "## Quiz - Classic horror novel vocabulary\n",
    "\n",
    "1. Create a single sparse data frame that contains the vocabulary for _Frankenstein_ and _Dracula_. You should only have two rows (one for each of these novels), but potentially thousands of columns to represent the vocabulary across the two texts. "
   ]
  }
 ],
 "metadata": {
  "kernelspec": {
   "display_name": "Python 3 (ipykernel)",
   "language": "python",
   "name": "python3"
  },
  "language_info": {
   "codemirror_mode": {
    "name": "ipython",
    "version": 3
   },
   "file_extension": ".py",
   "mimetype": "text/x-python",
   "name": "python",
   "nbconvert_exporter": "python",
   "pygments_lexer": "ipython3",
   "version": "3.9.13"
  },
  "vscode": {
   "interpreter": {
    "hash": "16c684165a00eba53f696e92e1de76bb4a10a33402bb31cdf5ab4f07210fc261"
   }
  }
 },
 "nbformat": 4,
 "nbformat_minor": 5
}