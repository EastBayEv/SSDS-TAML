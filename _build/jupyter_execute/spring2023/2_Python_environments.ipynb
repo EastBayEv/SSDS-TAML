{
 "cells": [
  {
   "cell_type": "markdown",
   "id": "8711c08b",
   "metadata": {},
   "source": [
    "# Chapter 2 - Python environments\n",
    "\n",
    "2023 April 6"
   ]
  },
  {
   "cell_type": "markdown",
   "id": "b265bf43",
   "metadata": {},
   "source": [
    "<a target=\"_blank\" href=\"https://colab.research.google.com/github/EastBayEv/SSDS-TAML/blob/main/spring2023/2_Python_environments.ipynb\">\n",
    "  <img src=\"https://colab.research.google.com/assets/colab-badge.svg\" alt=\"Open In Colab\"/>\n",
    "</a>"
   ]
  },
  {
   "cell_type": "markdown",
   "id": "ca3db675",
   "metadata": {},
   "source": [
    "## What is a programming language?\n",
    "\n",
    "For all intents and purposes, a programming language is a means to give instructions to a computer. [Read Python's executive summary here.](https://www.python.org/doc/essays/blurb/). You can write your Python code in different environments: \n",
    "\n",
    "1. Google Colab Notebook\n",
    "2. Local Anaconda Jupyter Notebook environment\n",
    "3. Jupyter Lab notebook via Binder\n",
    "4. Text editor and running scripts\n",
    "\n",
    "> Note that options 3 and 4 might not work for you right now, but know that they exist!\n",
    "\n",
    "It is hard to say which is \"better\" or \"best\", since this is dependent on the task at hand. In TAML sessions we will use Google Colab, which functions similar to a local Anaconda Jupyter Notebook. \n",
    "\n",
    "## Run the code\n",
    "\n",
    "Recall that `shift` and `enter` will run a code cell or render a markdown/text cell. It will also advance the cursor to the next cell. \n",
    "\n",
    "`control` and `enter` will run a cell, but will keep the cursor in the current cell. "
   ]
  },
  {
   "cell_type": "markdown",
   "id": "5e4e1c73",
   "metadata": {},
   "source": [
    "## 1. Google Colaboratory\n",
    "\n",
    "## REQUIRED: Set up your Colab environment before the bootcamp! \n",
    "\n",
    "Google Colab is the easiest way to run the TAML materials. Start by installing the extension to your Stanford Google Drive account. \n",
    "\n",
    "1. [Click here to visit the Google Colab sign in page](https://accounts.google.com/ServiceLogin/signinchooser?service=wise&passive=true&continue=http%3A%2F%2Fdrive.google.com%2F%3Futm_source%3Den&utm_medium=button&utm_campaign=web&utm_content=gotodrive&usp=gtd&ltmpl=drive&flowName=GlifWebSignIn&flowEntry=ServiceLogin)\n",
    "2. Enter your SUNet email address on the “Choose an account” screen\n",
    "3. Click “My Drive”\n",
    "4. Click the “+New” button and select “Google Colaboratory”\n",
    "\n",
    "![](img/colab_new.png)"
   ]
  },
  {
   "cell_type": "markdown",
   "id": "22ab654a",
   "metadata": {},
   "source": [
    "5. If you do not see this option, click “+ Connect more apps” and search for Colaboratory and the icon will appear.\n",
    "\n",
    "![](img/colab_search.png)\n",
    "\n",
    "6. Click the brown and orange Colaboratory icon and click “Install”\n",
    "\n",
    "![](img/colab_install.png)\n",
    "\n",
    "7. Click “Continue” and select your **stanford.edu account** if prompted\n",
    "\n",
    "![](img/colab_continue.png)\n",
    "\n",
    "8. You will see that Colaboratory was successfully installed/connected to Good Drive when finished. Click OK and Done to complete and close any remaining pop-up windows.\n",
    "\n",
    "![](img/colab_success.png)"
   ]
  },
  {
   "cell_type": "markdown",
   "id": "ec198295",
   "metadata": {},
   "source": [
    "## Code versus markdown cells\n",
    "\n",
    "Click the Colab badge at the top of each chapter in the book.\n",
    "\n",
    "Click the `Run` button in the toolbar, or press `shift` and `enter` on your keyboard to execute the cell. \n",
    "\n",
    "### Make note of the top menu toolbar\n",
    "\n",
    "* Click the **+ Code** button to add a code cell\n",
    "* Click the **+ Text** button to add a text/markdown cell\n",
    "* Click the **Menu** to view the table of contents\n",
    "* Click the **File folder** to view your available files\n",
    "\n",
    "![](img/colab_toolbar.png)\n",
    "\n",
    "### Save your work\n",
    "\n",
    "* Click the **Copy to Drive** toolbar button, or\n",
    "* Click \"File\" --> \"Download\" --> \"Download.ipynb\"\n",
    "\n",
    "![](img/colab_save_notebook.png)\n",
    "\n",
    "### Learn more\n",
    "\n",
    "Check out [Google Colab Tips for Power Users ](https://amitness.com/2020/06/google-colaboratory-tips/) for shortcuts. "
   ]
  },
  {
   "cell_type": "markdown",
   "id": "73e81cfb",
   "metadata": {},
   "source": [
    "## 3. Local Python installation\n",
    "\n",
    "Despite the increasing number of cloud-based solutions, it is always good to have a local installation on your own computer. Point your web browswer here to install Python Anaconda distribution 3.9 (as of August 2022): https://www.anaconda.com/products/individual\n",
    "\n",
    "* Download the installation file for your operating system, open it, and follow the instructions to install. \n",
    "* Once installation completes, open the application named \"Anaconda Navigator\". It looks like this: \n",
    "\n",
    "![navigator](img/navigator.png)\n",
    "\n",
    "* Click the \"Launch\" button under either Jupyter Notebook or Jupyter Lab. \n",
    "* Open the `.ipynb` notebook you just downloaded from JupyterLab in your local installation and repeat the steps above."
   ]
  },
  {
   "cell_type": "markdown",
   "id": "0b87c0bd",
   "metadata": {},
   "source": [
    "### Download the workshop materials\n",
    "\n",
    "You can also download the TAML materials for use on your local installation. \n",
    "\n",
    "1. Visit: https://github.com/EastBayEv/SSDS-TAML\n",
    "2. Click the green \"Code\" button\n",
    "3. Click \"Download ZIP\"\n",
    "![zip](img/zip.png)\n",
    "4. Extract this folder someplace familiar (we recommend your Desktop). \n",
    "5. Open Anaconda Navigator, launch JupyterLab, navigate your your file structure, and click the notebook file to launch it. \n",
    "\n",
    "### git clone\n",
    "Git users open a Terminal and type: `git clone https://github.com/EastBayEv/SSDS-TAML.git`"
   ]
  },
  {
   "cell_type": "markdown",
   "id": "8e510d19",
   "metadata": {},
   "source": [
    "### Install external libraries\n",
    "\n",
    "Install user-defined software libraries to enhance Python's functionality. In a new notebook cell type `!pip install <library name>`, e.g.: \n",
    "* `!pip install pandas` \n",
    "* `!pip install seaborn`"
   ]
  },
  {
   "cell_type": "markdown",
   "id": "2fda8ca3",
   "metadata": {},
   "source": [
    "### Dead kernel? \n",
    "\n",
    "The notebook kernel will fail from time to time, which is normal. Simply click \"Kernel\" from the File menu and one of the \"Restart\" options."
   ]
  },
  {
   "cell_type": "markdown",
   "id": "0eb382bc",
   "metadata": {},
   "source": [
    "![restart](img/restart.png)"
   ]
  },
  {
   "cell_type": "markdown",
   "id": "e171f7fd",
   "metadata": {},
   "source": [
    "> NOTE: about the terminal, you will see it run processes in the background like this - you can ignore this, but don't close it!\n",
    "\n",
    "![terminal](img/terminal.png)"
   ]
  },
  {
   "cell_type": "markdown",
   "id": "b0d54a43",
   "metadata": {},
   "source": [
    "### If you accidentally delete a Jupyter Notebook ...\n",
    "\n",
    "Check your operating system's Recycle Bin!"
   ]
  },
  {
   "cell_type": "markdown",
   "id": "b15dbe29",
   "metadata": {},
   "source": [
    "## 3. Jupyter Lab \n",
    "\n",
    "JupyterLab is another way to access these materials. It is a web-based interactive development environment (IDE) which allows you to write and run code in your browser. \n",
    "\n",
    "Cick the \"Launch Binder\" button below and open it in a new browser tab. \n",
    "\n",
    "[![Binder](https://mybinder.org/badge_logo.svg)](https://mybinder.org/v2/gh/EastBayEv/SSDS-TAML/HEAD)\n",
    "\n",
    "### Click \"Python 3 (ipykernel)\" \n",
    "\n",
    "* Click \"Python 3 (ipykernel) under the \"Notebook\" header to **open a blank notebook.**\n",
    "* Otherwise, navigate the file structure in the top left corner to **open an existing notebook.**\n",
    "![setkernel](img/kernel.png)\n",
    "\n",
    "### Cells are code by default\n",
    "\n",
    "Open a blank notebook and in the first cell, type:\n",
    "    \n",
    "> print(\"Your Name Here\") \n",
    "\n",
    "### Insert new cells\n",
    "\n",
    "Click the \"plus\" button to insert a new cell. It can be found between the \"save disk\" and \"scissors\" icons. \n",
    "![addcell](img/addcell.png)  \n",
    "\n",
    "Alternatively, click on an area outside of any cells in the notebook, and press the `a` or `b` key to create a new cell above or below your current one. \n",
    "\n",
    "### Switch between code and text cells\n",
    "\n",
    "Switch between code and text cells by clicking the dropdown menu. \n",
    "![switch](img/switch.png)\n",
    "\n",
    "### Edit a markdown cell\n",
    "\n",
    "Double-click a markdown cell to edit it. Press `shift + enter` to render the text. \n",
    "\n",
    "Go through the cells on this page and check out [Markdown Cheatsheet](https://github.com/adam-p/markdown-here/wiki/Markdown-Cheatsheet) (direct links to different sections below) to explore formatting rules and shortcuts. \n",
    "\n",
    "**Table of Contents**  \n",
    "[Headers](https://github.com/adam-p/markdown-here/wiki/Markdown-Cheatsheet#headers)  \n",
    "[Emphasis](https://github.com/adam-p/markdown-here/wiki/Markdown-Cheatsheet#emphasis)  \n",
    "[Lists](https://github.com/adam-p/markdown-here/wiki/Markdown-Cheatsheet#lists)  \n",
    "[Links](https://github.com/adam-p/markdown-here/wiki/Markdown-Cheatsheet#links)  \n",
    "[Images](https://github.com/adam-p/markdown-here/wiki/Markdown-Cheatsheet#images)  \n",
    "[Code and Syntax Highlighting](https://github.com/adam-p/markdown-here/wiki/Markdown-Cheatsheet#code)  \n",
    "[Footnotes](https://github.com/adam-p/markdown-here/wiki/Markdown-Cheatsheet#footnotes)  \n",
    "[Tables](https://github.com/adam-p/markdown-here/wiki/Markdown-Cheatsheet#tables)  \n",
    "[Blockquotes](https://github.com/adam-p/markdown-here/wiki/Markdown-Cheatsheet#blockquotes)  \n",
    "[Inline HTML](https://github.com/adam-p/markdown-here/wiki/Markdown-Cheatsheet#html)  \n",
    "[Horizontal Rule](https://github.com/adam-p/markdown-here/wiki/Markdown-Cheatsheet#hr)  \n",
    "[Line Breaks](https://github.com/adam-p/markdown-here/wiki/Markdown-Cheatsheet#lines)  \n",
    "[YouTube Videos](https://github.com/adam-p/markdown-here/wiki/Markdown-Cheatsheet#videos)\n",
    "\n",
    "### Save your work\n",
    "\n",
    "Click the \"disk\" icon to save your work. Right-click the tab and click \"Rename Notebook\" to give your notebook a name:\n",
    "\n",
    "![rename](img/rename.png)\n",
    "\n",
    "* Click \"File\" --> \"Download\" to save your Jupyter Notebook (extension `.ipynb`) before exiting a Jupyter Lab session. \n",
    "* There are many other options, take some time to explore the top menu and buttons.  \n",
    "\n",
    "![download](img/dl.png)\n",
    "\n",
    "### Close and halt\n",
    "\n",
    "Safely close the notebook by clicking \"File\" --> \"Close and Halt\" before closing your browser.\n",
    "\n",
    "![closehalt](img/close.png)"
   ]
  },
  {
   "cell_type": "markdown",
   "id": "00fce703",
   "metadata": {},
   "source": [
    "## 4. Text editors\n",
    "\n",
    "You might find that Jupyter environments are too limiting for your task. Using a text editor to write your scripts and run them via the command line is another common option. Other options exist, such as Sublime, Atom, Spyder, and more! "
   ]
  },
  {
   "cell_type": "markdown",
   "id": "1f276600",
   "metadata": {},
   "source": [
    "## Exercises\n",
    "\n",
    "1. Ensure you have set up the Google Colaboratory (Colab) environment following the instructions in #1 listed above. \n",
    "2. Download and check that you can correctly open these notebooks in a Jupyter Notebook on your local machine. "
   ]
  },
  {
   "cell_type": "markdown",
   "id": "38d5ac42",
   "metadata": {},
   "source": [
    "## Basic Python syntax\n",
    "\n",
    "Now that you understand a little about the environments in which we can program Python, open Chapter 3 \"Basic Python syntax\" to start coding!"
   ]
  }
 ],
 "metadata": {
  "kernelspec": {
   "display_name": "Python 3 (ipykernel)",
   "language": "python",
   "name": "python3"
  },
  "language_info": {
   "codemirror_mode": {
    "name": "ipython",
    "version": 3
   },
   "file_extension": ".py",
   "mimetype": "text/x-python",
   "name": "python",
   "nbconvert_exporter": "python",
   "pygments_lexer": "ipython3",
   "version": "3.8.13"
  }
 },
 "nbformat": 4,
 "nbformat_minor": 5
}