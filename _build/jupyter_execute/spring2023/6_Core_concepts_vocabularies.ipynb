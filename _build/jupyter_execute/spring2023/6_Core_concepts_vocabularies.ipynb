{
 "cells": [
  {
   "cell_type": "markdown",
   "id": "8e86b614",
   "metadata": {},
   "source": [
    "# Chapter 6 - Core machine learning concepts; building text vocabularies\n",
    "2023 April 21"
   ]
  },
  {
   "cell_type": "markdown",
   "id": "e8906f84",
   "metadata": {},
   "source": [
    "<a target=\"_blank\" href=\"https://colab.research.google.com/github/EastBayEv/SSDS-TAML/blob/main/spring2023/6_Core_concepts_vocabularies.ipynb\">\n",
    "  <img src=\"https://colab.research.google.com/assets/colab-badge.svg\" alt=\"Open In Colab\"/>\n",
    "</a>"
   ]
  },
  {
   "cell_type": "markdown",
   "id": "6ced0afe",
   "metadata": {},
   "source": [
    "![ml](img/ml.png)\n",
    "\n",
    "[towardsdatascience.com](https://towardsdatascience.com/artificial-intelligence-vs-machine-learning-vs-deep-learning-2210ba8cc4ac) \n",
    "\n",
    "[Click this text to see the Wiki Timeline of Machine Learning](https://en.wikipedia.org/wiki/Timeline_of_machine_learning)"
   ]
  },
  {
   "cell_type": "code",
   "execution_count": 1,
   "id": "18a40d52",
   "metadata": {},
   "outputs": [],
   "source": [
    "# !pip install sklearn"
   ]
  },
  {
   "cell_type": "markdown",
   "id": "656943d6",
   "metadata": {},
   "source": [
    "The sklearn documentation is superb. Try out the examples on your own after this lesson!\n",
    "* scikit-learn tutorials: https://scikit-learn.org/stable/tutorial/index.html\n",
    "* scikit-learn user guide: https://scikit-learn.org/stable/user_guide.html "
   ]
  },
  {
   "cell_type": "code",
   "execution_count": 2,
   "id": "e714542f",
   "metadata": {},
   "outputs": [
    {
     "name": "stderr",
     "output_type": "stream",
     "text": [
      "/Users/evanmuzzall/opt/anaconda3/lib/python3.8/site-packages/scipy/__init__.py:146: UserWarning: A NumPy version >=1.16.5 and <1.23.0 is required for this version of SciPy (detected version 1.23.5\n",
      "  warnings.warn(f\"A NumPy version >={np_minversion} and <{np_maxversion}\"\n"
     ]
    }
   ],
   "source": [
    "import matplotlib.pyplot as plt\n",
    "import pandas as pd\n",
    "import seaborn as sns\n",
    "import numpy as np\n",
    "import math\n",
    "import sklearn\n",
    "from sklearn.linear_model import LinearRegression\n",
    "from sklearn.metrics import mean_squared_error\n",
    "from sklearn.linear_model import LogisticRegression\n",
    "from sklearn.model_selection import train_test_split\n",
    "from sklearn import metrics\n",
    "from sklearn.feature_extraction.text import CountVectorizer\n",
    "from sklearn.feature_extraction import DictVectorizer\n",
    "import scipy.sparse"
   ]
  },
  {
   "cell_type": "markdown",
   "id": "33591902",
   "metadata": {},
   "source": [
    "## What is machine learning?\n",
    "\n",
    "Machine learning is a toolbox for modeling, investigating, and understanding data. \n",
    "\n",
    "## Key terms\n",
    "\n",
    "* **Artificial intelligence:** \"A program that can sense, reason, act, and adapt.\"\n",
    "* **Machine learning:** \"Algorithims whose performance improve as they are exposed to more data over time.\"\n",
    "* **Neural network:** A type of algorithm modeled after the human brain, consisting of multiple layers of nodes/neurons.\n",
    "* **Deep learning:** \"Subset of machine learning in which multilayered neural networks learn from vast amounts of data.\" "
   ]
  },
  {
   "cell_type": "markdown",
   "id": "3034e69e",
   "metadata": {},
   "source": [
    "## _x_ and _y_ variables\n",
    "\n",
    "* **_x_** variables are the independent variables. You will also see these referred to in a variety of contexts as features, covariates, predictors, input, or explanatory variables. \n",
    "\n",
    "* The **_y_** variable is the dependent variable. This is also referred to as the response, outcome, and target variable. "
   ]
  },
  {
   "cell_type": "markdown",
   "id": "4a6e010a",
   "metadata": {},
   "source": [
    "## Types of machine learning:\n",
    "\n",
    "* **Supervised machine learning:** algorithms train models that (best) learn the relationships between the **_x_** and **_y_** variables on a labeled dataset (called the **training set**, where the ground truth **_y_** variable is known). The performance of the trained model is then evaluated after it predicts the outcome on new data that the model has never seen before (called the **test set**) where where ground truth **_y_** label is unknown. \n",
    "\n",
    "The equation looks like:  $y=f(x)+ϵ$\n",
    "* $f$ is the unknown function that relates **_x_** to **_y_** and is estimated\n",
    "* $ϵ$ is random error independent of x and averages to zero\n",
    "\n",
    "> Supervised machine learning TL;DR - we use the x variables to predict the y variable.\n",
    "\n",
    "* **Unsupervised machine learning:** algorithms are used to sort unlabeled datasets, without attempting to predict anything. \n",
    "\n",
    "    * The equation could simply look like: $\\sim\\ x$\n",
    "    * Algorithms include: \n",
    "        * Clustering: hierarchical agglomerative, k-means, centroid, density-based, DBSCAN, GLRM  \n",
    "        * Dimension reduction: PCA, t-SNE, UMAP\n",
    "* **Reinforcement:** algorithims are used to make real-time decisions and skill acquisition in fields such as game-theory and robotics. \n",
    "* **Other:** semi-supervised, targeted, etc."
   ]
  },
  {
   "cell_type": "markdown",
   "id": "c79ee9a0",
   "metadata": {},
   "source": [
    "## Data splitting: Training and test performance\n",
    "\n",
    "Preparation for supervised methods requires a split of the dataset into training and test sets. \n",
    "\n",
    "* **Training set:** is comprised of the data that will be used by the model to learn the relationships between the **_x_** and **_y_** variables. This \"usually\" consists of a majority portion of the rows in the dataset, such as 70%. \n",
    "\n",
    "* **Test set:** consists of the holdout data that the trained model has not yet seen and where the trained model will try predict the unknown labels. This \"usually\" consists of the remaining 30% of rows. \n",
    "\n",
    "> NOTE: These values are somewhat arbitrary. It could be argued that the more training data that are available, the \"better\" your model might be. Conversely, more test data could lead to higher performance on the test data. \n",
    "\n",
    "> Furthermore, if you have millions of rows of data, a splits of 50:50 or 99:1 might also work fine depending on the context. "
   ]
  },
  {
   "cell_type": "markdown",
   "id": "71f583a3",
   "metadata": {},
   "source": [
    "* **Performance** is generally assessed through cost or loss functions such as misclassification error, sensitivity/specificity, precision/recall, (root) mean squared error, R-squared, AIC, BIC, and other [confusion matrix derivations](https://en.wikipedia.org/wiki/Confusion_matrix). \n",
    "\n",
    "* **Cross-validation** is the best way to split your data, because it repeats the train/test data splitting process $k$ number of times and rotates the test set each time so that every observation is included in a test set at least once. Performance results are then averaged to compute predictive performance. "
   ]
  },
  {
   "cell_type": "markdown",
   "id": "0376e8f3",
   "metadata": {},
   "source": [
    "![cv_wiki](img/cv_wiki.png)"
   ]
  },
  {
   "cell_type": "markdown",
   "id": "a6006057",
   "metadata": {},
   "source": [
    "## Model evaluation\n",
    "\n",
    "How do we know if a model performs well?\n",
    "\n",
    "![bv](img/bv.png)\n",
    "\n",
    "* **Underfit:** A model is underfit if it performs poorly on the training data because it could not discern the relationship(s) between the **_x_** and **_y_** variables.\n",
    "* **Overfit:** A model is overfit if it performs well on the training dataset but poorly on the test set. \n",
    "* **Bias/variance tradeoff:** \n",
    "    * **Bias** refers to the systematic error due to incorrect assumptions about the machine learning process or the framing of the problem itself. High bias models generally underfit and/or contain large amounts of error. \n",
    "    * **Variance** refers to changes in the model predictive accuracy due to fluctuations in the training set or when using different training datasets, and how much the model can adjust to each. High variance could be due to model complexity, noise in the dataset, and overfitting. \n",
    "    * The **tradeoff** means that models with high bias will have low variance, and vice-versa. The goal is to find the optimal combination of these two factors for your problem. "
   ]
  },
  {
   "cell_type": "markdown",
   "id": "89c58433",
   "metadata": {},
   "source": [
    "## Classification versus regression\n",
    "\n",
    "* **Supervised classification:** models probability that **_y_** is 1 given the covariates **_x_** and is performed when **_y_** is categorical (either binary yes/no or multinomial): $Pr(y=1|x)$ \n",
    "    * Medical diagnosis\n",
    "    * Image classification\n",
    "    * Fraud detection\n",
    "    * Sentiment analysis"
   ]
  },
  {
   "cell_type": "markdown",
   "id": "590d9737",
   "metadata": {},
   "source": [
    "* **Supervised regression:** models the conditional mean probability $E(y|x)$ and is performed when **_y_** is continuous (i.e., integer or float).\n",
    "    * Life expectancy\n",
    "    * Population growth\n",
    "    * Weather forecasting\n",
    "    * Stock market prediction"
   ]
  },
  {
   "cell_type": "markdown",
   "id": "31ce23ea",
   "metadata": {},
   "source": [
    "* **Supervised algorithms** include: \n",
    "    * Regressions: ordinary least squares, generalized linear model, lasso\n",
    "    * Tree-based methods: decision tree, random forest, boosted trees\n",
    "    * Kernel-based methods: various; transform non-linear to linear space\n",
    "* **Unsupervised algorithms** include: \n",
    "    * Clustering methods, dimension reduction methods, ordination techniques, PCA, tSNE, UMAP, etc."
   ]
  },
  {
   "cell_type": "markdown",
   "id": "36625f4f",
   "metadata": {},
   "source": [
    "View scikit-learn's interactive documentation for estimator (algorithm) selection: https://scikit-learn.org/stable/tutorial/machine_learning_map/index.html\n",
    "\n",
    "![skest](img/skest.png)"
   ]
  },
  {
   "cell_type": "markdown",
   "id": "15bf01ae",
   "metadata": {},
   "source": [
    "## Bias in research\n",
    "\n",
    "Computationally focused, data-centric research is frought with biases. The below figure illustrates several in the process. \n",
    "\n",
    "![citation unknown](img/bias_res.png)"
   ]
  },
  {
   "cell_type": "markdown",
   "id": "fa9471ca",
   "metadata": {},
   "source": [
    "## Ethical considerations\n",
    "\n",
    "Begin to familiarize yourself with the many ethnical points to consider along with their real-world implications:\n",
    "    \n",
    "* [Howard et al, 2017. Addressing bias in machine learning algorithms: A pilot study on emotion recognition for intelligent systems](https://ieeexplore.ieee.org/abstract/document/8025197?casa_token=xyJcglvpeyUAAAAA:_tpPmFLycMFQuTd4UC52Y2C5yxXignXv7OE1rgv01YwzOs2o9j_bMvIQPwD8IW2NT5awRJcl4g)\n",
    "* [Noble, 2018. Algorithms of oppression: How search engines reinforce racism](https://nyupress.org/9781479837243/algorithms-of-oppression/)\n",
    "* [Yapo and Weiss, 2018. Ethical implications of bias in machine learning](https://aisel.aisnet.org/hicss-51/os/topics_in_os/6/)\n",
    "* [Mehrabi et al, 2021. A survey on bias and fairness in machine learning](https://dl.acm.org/doi/abs/10.1145/3457607?casa_token=HkkFHCUfRh0AAAAA%3Az5PprDD4p2VDEyZD7KeJzl67tlpTTA48RsIlqcqDYLROEfyJMTzHRjdYYN8SheqDRkvt_H1XXojANQ)"
   ]
  },
  {
   "cell_type": "markdown",
   "id": "706d7bc2",
   "metadata": {},
   "source": [
    "## OLS example - by \"hand\"\n",
    "\n",
    "Ordinary least squares regression provides a great example of the machine learning process and some of the key terms defined above. "
   ]
  },
  {
   "cell_type": "markdown",
   "id": "cff5c773",
   "metadata": {},
   "source": [
    "### Generate toy data"
   ]
  },
  {
   "cell_type": "code",
   "execution_count": 3,
   "id": "fa60c7e9",
   "metadata": {},
   "outputs": [
    {
     "data": {
      "text/html": [
       "<div>\n",
       "<style scoped>\n",
       "    .dataframe tbody tr th:only-of-type {\n",
       "        vertical-align: middle;\n",
       "    }\n",
       "\n",
       "    .dataframe tbody tr th {\n",
       "        vertical-align: top;\n",
       "    }\n",
       "\n",
       "    .dataframe thead th {\n",
       "        text-align: right;\n",
       "    }\n",
       "</style>\n",
       "<table border=\"1\" class=\"dataframe\">\n",
       "  <thead>\n",
       "    <tr style=\"text-align: right;\">\n",
       "      <th></th>\n",
       "      <th>x</th>\n",
       "      <th>y</th>\n",
       "    </tr>\n",
       "  </thead>\n",
       "  <tbody>\n",
       "    <tr>\n",
       "      <th>0</th>\n",
       "      <td>1</td>\n",
       "      <td>2</td>\n",
       "    </tr>\n",
       "    <tr>\n",
       "      <th>1</th>\n",
       "      <td>2</td>\n",
       "      <td>4</td>\n",
       "    </tr>\n",
       "    <tr>\n",
       "      <th>2</th>\n",
       "      <td>3</td>\n",
       "      <td>6</td>\n",
       "    </tr>\n",
       "    <tr>\n",
       "      <th>3</th>\n",
       "      <td>4</td>\n",
       "      <td>8</td>\n",
       "    </tr>\n",
       "    <tr>\n",
       "      <th>4</th>\n",
       "      <td>5</td>\n",
       "      <td>20</td>\n",
       "    </tr>\n",
       "  </tbody>\n",
       "</table>\n",
       "</div>"
      ],
      "text/plain": [
       "   x   y\n",
       "0  1   2\n",
       "1  2   4\n",
       "2  3   6\n",
       "3  4   8\n",
       "4  5  20"
      ]
     },
     "execution_count": 3,
     "metadata": {},
     "output_type": "execute_result"
    }
   ],
   "source": [
    "import pandas as pd\n",
    "data = pd.DataFrame({\"x\": [1,2,3,4,5],\n",
    "                     \"y\": [2,4,6,8,20]})\n",
    "data"
   ]
  },
  {
   "cell_type": "markdown",
   "id": "9eef662f",
   "metadata": {},
   "source": [
    "### Calculate means of x and y"
   ]
  },
  {
   "cell_type": "code",
   "execution_count": 4,
   "id": "2ae424e9",
   "metadata": {},
   "outputs": [
    {
     "name": "stdout",
     "output_type": "stream",
     "text": [
      "mean of x: 3.0\n",
      "mean of y: 8.0\n"
     ]
    }
   ],
   "source": [
    "x_mean = round(sum(data.x) / len(data.x), 2)\n",
    "y_mean = round(sum(data.y) / len(data.y), 2)\n",
    "print(\"mean of x:\", x_mean)\n",
    "print(\"mean of y:\", y_mean)"
   ]
  },
  {
   "cell_type": "markdown",
   "id": "7c60b678",
   "metadata": {},
   "source": [
    "### Visualize the data (training data)\n",
    "\n",
    "Plot the known relationships between x and y. "
   ]
  },
  {
   "cell_type": "code",
   "execution_count": 5,
   "id": "c8a5782c",
   "metadata": {
    "scrolled": true
   },
   "outputs": [
    {
     "data": {
      "image/png": "[encoded data removed]",
      "text/plain": [
       "<Figure size 640x480 with 1 Axes>"
      ]
     },
     "metadata": {
      "filenames": {
       "image/png": "/Users/evanmuzzall/Desktop/SSDS-TAML/_build/jupyter_execute/spring2023/6_Core_concepts_vocabularies_25_0.png"
      }
     },
     "output_type": "display_data"
    }
   ],
   "source": [
    "plt.scatter(data.x, data.y);"
   ]
  },
  {
   "cell_type": "markdown",
   "id": "cac6b607",
   "metadata": {},
   "source": [
    "### Calculate error for each observation\n",
    "\n",
    "Error (least squares method) is the difference between each observation and the mean. Below this will be represented visually by the distance between each point and the line of best fit. "
   ]
  },
  {
   "cell_type": "code",
   "execution_count": 6,
   "id": "fd88aee9",
   "metadata": {},
   "outputs": [],
   "source": [
    "x_error = data.x - x_mean\n",
    "y_error = data.y - y_mean"
   ]
  },
  {
   "cell_type": "code",
   "execution_count": 7,
   "id": "5e887a3d",
   "metadata": {},
   "outputs": [
    {
     "name": "stdout",
     "output_type": "stream",
     "text": [
      "0    1\n",
      "1    2\n",
      "2    3\n",
      "3    4\n",
      "4    5\n",
      "Name: x, dtype: int64\n",
      "3.0\n",
      "0   -2.0\n",
      "1   -1.0\n",
      "2    0.0\n",
      "3    1.0\n",
      "4    2.0\n",
      "Name: x, dtype: float64\n"
     ]
    }
   ],
   "source": [
    "# x\n",
    "print(data.x)\n",
    "print(x_mean)\n",
    "print(x_error)"
   ]
  },
  {
   "cell_type": "code",
   "execution_count": 8,
   "id": "a2531df4",
   "metadata": {},
   "outputs": [
    {
     "name": "stdout",
     "output_type": "stream",
     "text": [
      "0     2\n",
      "1     4\n",
      "2     6\n",
      "3     8\n",
      "4    20\n",
      "Name: y, dtype: int64\n",
      "8.0\n",
      "0    -6.0\n",
      "1    -4.0\n",
      "2    -2.0\n",
      "3     0.0\n",
      "4    12.0\n",
      "Name: y, dtype: float64\n"
     ]
    }
   ],
   "source": [
    "# y\n",
    "print(data.y)\n",
    "print(y_mean)\n",
    "print(y_error)"
   ]
  },
  {
   "cell_type": "markdown",
   "id": "fcfb11e5",
   "metadata": {},
   "source": [
    "### Compute beta coefficients\n",
    "\n",
    "Beta coefficients are used to measure the amount of change in the y variable for a one-unit change in an x variable. "
   ]
  },
  {
   "cell_type": "code",
   "execution_count": 9,
   "id": "17532d92",
   "metadata": {},
   "outputs": [
    {
     "name": "stdout",
     "output_type": "stream",
     "text": [
      "slope (B1) is:  4.0\n",
      "intercept (B0) is:  -4.0\n"
     ]
    }
   ],
   "source": [
    "## Estimate the B1 coefficient (slope)\n",
    "B1 = sum((data.x - x_mean) * (data.y - y_mean)) / sum((data.x - x_mean) **2)\n",
    "print(\"slope (B1) is: \", B1)\n",
    "\n",
    "## Estimate B0 coefficient (intercept)\n",
    "B0 = y_mean - (B1 * x_mean)\n",
    "print(\"intercept (B0) is: \", B0)"
   ]
  },
  {
   "cell_type": "markdown",
   "id": "2c73ddb3",
   "metadata": {},
   "source": [
    "### Plot best fit line\n",
    "\n",
    "The best fit line is used to illustrate the minimum distance from the actual versus the predicted values."
   ]
  },
  {
   "cell_type": "code",
   "execution_count": 10,
   "id": "6fbe791c",
   "metadata": {},
   "outputs": [
    {
     "data": {
      "image/png": "[encoded data removed]",
      "text/plain": [
       "<Figure size 640x480 with 1 Axes>"
      ]
     },
     "metadata": {
      "filenames": {
       "image/png": "/Users/evanmuzzall/Desktop/SSDS-TAML/_build/jupyter_execute/spring2023/6_Core_concepts_vocabularies_33_0.png"
      }
     },
     "output_type": "display_data"
    }
   ],
   "source": [
    "import seaborn as sns\n",
    "import numpy as np\n",
    "sns.regplot(data = data, \n",
    "            x = \"x\", y = \"y\",\n",
    "           ci = None)\n",
    "plt.xticks(np.arange(min(data.x), max(data.x)+1, 1.0))\n",
    "plt.yticks(np.arange(min(data.y), max(data.y)+1, 2.0));"
   ]
  },
  {
   "cell_type": "markdown",
   "id": "a0ca6a47",
   "metadata": {},
   "source": [
    "### Generate the predictions (test set)"
   ]
  },
  {
   "cell_type": "code",
   "execution_count": 11,
   "id": "e03d4297",
   "metadata": {},
   "outputs": [
    {
     "name": "stdout",
     "output_type": "stream",
     "text": [
      "Ground truth y values:\n",
      "0     2\n",
      "1     4\n",
      "2     6\n",
      "3     8\n",
      "4    20\n",
      "Name: y, dtype: int64\n",
      "\n",
      "Predicted y values:\n",
      "0     0.0\n",
      "1     4.0\n",
      "2     8.0\n",
      "3    12.0\n",
      "4    16.0\n",
      "Name: x, dtype: float64\n"
     ]
    }
   ],
   "source": [
    "y_hat = B0 + B1 * data.x\n",
    "print(\"Ground truth y values:\")\n",
    "print(data.y)\n",
    "print()\n",
    "print(\"Predicted y values:\")\n",
    "print(y_hat)"
   ]
  },
  {
   "cell_type": "markdown",
   "id": "3f6ec39a",
   "metadata": {},
   "source": [
    "### Visualize the error for each observation\n",
    "\n",
    "![ls_err](img/ls_err.png)"
   ]
  },
  {
   "cell_type": "markdown",
   "id": "c811711c",
   "metadata": {},
   "source": [
    "### Evaluate the performance using RMSE\n",
    "\n",
    "Root mean squared error is a handy performance metric because it has the same units of whatever is plotted on the y-axis. \n",
    "\n",
    "In our toy example here, we are off an average of 2.82843 units on the y-axis of a given data point from the line of best fit. \n",
    "\n",
    "See the code below for how it is manually calculated."
   ]
  },
  {
   "cell_type": "code",
   "execution_count": 12,
   "id": "348675fe",
   "metadata": {},
   "outputs": [
    {
     "name": "stdout",
     "output_type": "stream",
     "text": [
      "0     36.0\n",
      "1     16.0\n",
      "2      4.0\n",
      "3      0.0\n",
      "4    144.0\n",
      "Name: y, dtype: float64\n"
     ]
    }
   ],
   "source": [
    "# 1. Square each error\n",
    "y_error_sq = y_error ** 2\n",
    "print(y_error_sq)"
   ]
  },
  {
   "cell_type": "code",
   "execution_count": 13,
   "id": "d4ff42aa",
   "metadata": {},
   "outputs": [
    {
     "name": "stdout",
     "output_type": "stream",
     "text": [
      "200.0\n"
     ]
    }
   ],
   "source": [
    "# 2. Sum these values\n",
    "sum_error_sq = sum(y_error_sq)\n",
    "print(sum_error_sq)"
   ]
  },
  {
   "cell_type": "code",
   "execution_count": 14,
   "id": "41b8d8c0",
   "metadata": {},
   "outputs": [
    {
     "name": "stdout",
     "output_type": "stream",
     "text": [
      "2.82843\n"
     ]
    }
   ],
   "source": [
    "# 3. Calculate RMSE - the square root of summed squared error divided by the length of y\n",
    "RMSE = math.sqrt(sum_error_sq) / len(data.y)\n",
    "print(round(RMSE, 5))"
   ]
  },
  {
   "cell_type": "markdown",
   "id": "c05a4037",
   "metadata": {},
   "source": [
    "## Supervised machine learning - logistic regression\n",
    "\n",
    "Fortunately, you do not have to do any of this by hand thanks to scikit-learn! \n",
    "\n",
    "Here is a short workflow to fit a logistic regression model. Logistic regression is similar to linear regression $y \\sim\\ x$ but can regress for the probability of a categorical outcome. \n",
    "\n",
    "Let's calculate training and test set accuracy to predict whether a penguin is MALE or FEMALE based on thier biological and spatial characteristics. "
   ]
  },
  {
   "cell_type": "code",
   "execution_count": 15,
   "id": "5684c02c",
   "metadata": {},
   "outputs": [],
   "source": [
    "# load data\n",
    "# !wget -P data/ https://raw.githubusercontent.com/EastBayEv/SSDS-TAML/main/spring2023/data/penguins.csv\n",
    "penguins = pd.read_csv(\"data/penguins.csv\")"
   ]
  },
  {
   "cell_type": "code",
   "execution_count": 16,
   "id": "32f2deb5",
   "metadata": {},
   "outputs": [
    {
     "data": {
      "text/html": [
       "<div>\n",
       "<style scoped>\n",
       "    .dataframe tbody tr th:only-of-type {\n",
       "        vertical-align: middle;\n",
       "    }\n",
       "\n",
       "    .dataframe tbody tr th {\n",
       "        vertical-align: top;\n",
       "    }\n",
       "\n",
       "    .dataframe thead th {\n",
       "        text-align: right;\n",
       "    }\n",
       "</style>\n",
       "<table border=\"1\" class=\"dataframe\">\n",
       "  <thead>\n",
       "    <tr style=\"text-align: right;\">\n",
       "      <th></th>\n",
       "      <th>species</th>\n",
       "      <th>island</th>\n",
       "      <th>bill_length_mm</th>\n",
       "      <th>bill_depth_mm</th>\n",
       "      <th>flipper_length_mm</th>\n",
       "      <th>body_mass_g</th>\n",
       "      <th>sex</th>\n",
       "    </tr>\n",
       "  </thead>\n",
       "  <tbody>\n",
       "    <tr>\n",
       "      <th>0</th>\n",
       "      <td>Adelie</td>\n",
       "      <td>Torgersen</td>\n",
       "      <td>39.1</td>\n",
       "      <td>18.7</td>\n",
       "      <td>181.0</td>\n",
       "      <td>3750.0</td>\n",
       "      <td>MALE</td>\n",
       "    </tr>\n",
       "    <tr>\n",
       "      <th>1</th>\n",
       "      <td>Adelie</td>\n",
       "      <td>Torgersen</td>\n",
       "      <td>39.5</td>\n",
       "      <td>17.4</td>\n",
       "      <td>186.0</td>\n",
       "      <td>3800.0</td>\n",
       "      <td>FEMALE</td>\n",
       "    </tr>\n",
       "    <tr>\n",
       "      <th>2</th>\n",
       "      <td>Adelie</td>\n",
       "      <td>Torgersen</td>\n",
       "      <td>40.3</td>\n",
       "      <td>18.0</td>\n",
       "      <td>195.0</td>\n",
       "      <td>3250.0</td>\n",
       "      <td>FEMALE</td>\n",
       "    </tr>\n",
       "    <tr>\n",
       "      <th>3</th>\n",
       "      <td>Adelie</td>\n",
       "      <td>Torgersen</td>\n",
       "      <td>NaN</td>\n",
       "      <td>NaN</td>\n",
       "      <td>NaN</td>\n",
       "      <td>NaN</td>\n",
       "      <td>NaN</td>\n",
       "    </tr>\n",
       "    <tr>\n",
       "      <th>4</th>\n",
       "      <td>Adelie</td>\n",
       "      <td>Torgersen</td>\n",
       "      <td>36.7</td>\n",
       "      <td>19.3</td>\n",
       "      <td>193.0</td>\n",
       "      <td>3450.0</td>\n",
       "      <td>FEMALE</td>\n",
       "    </tr>\n",
       "  </tbody>\n",
       "</table>\n",
       "</div>"
      ],
      "text/plain": [
       "  species     island  bill_length_mm  bill_depth_mm  flipper_length_mm  \\\n",
       "0  Adelie  Torgersen            39.1           18.7              181.0   \n",
       "1  Adelie  Torgersen            39.5           17.4              186.0   \n",
       "2  Adelie  Torgersen            40.3           18.0              195.0   \n",
       "3  Adelie  Torgersen             NaN            NaN                NaN   \n",
       "4  Adelie  Torgersen            36.7           19.3              193.0   \n",
       "\n",
       "   body_mass_g     sex  \n",
       "0       3750.0    MALE  \n",
       "1       3800.0  FEMALE  \n",
       "2       3250.0  FEMALE  \n",
       "3          NaN     NaN  \n",
       "4       3450.0  FEMALE  "
      ]
     },
     "execution_count": 16,
     "metadata": {},
     "output_type": "execute_result"
    }
   ],
   "source": [
    "penguins.head()"
   ]
  },
  {
   "cell_type": "markdown",
   "id": "37fc0218",
   "metadata": {},
   "source": [
    "## Balanced versus imbalanced samples\n",
    "\n",
    "Keep in mind that classification accuracy is a poor performance measure for imbalanced classes. Refer to the confusion matrix derivations for other metrics that are more appropriate to use for imbalanced samples. Rarely is accuracy the preferred method. Our use of it here can help you understand the other metrics. "
   ]
  },
  {
   "cell_type": "code",
   "execution_count": 17,
   "id": "ebc7daaa",
   "metadata": {},
   "outputs": [
    {
     "data": {
      "text/plain": [
       "sex\n",
       "MALE      168\n",
       "FEMALE    165\n",
       "dtype: int64"
      ]
     },
     "execution_count": 17,
     "metadata": {},
     "output_type": "execute_result"
    }
   ],
   "source": [
    "# You could say our penguins sample is balanced\n",
    "penguins.value_counts('sex')"
   ]
  },
  {
   "cell_type": "markdown",
   "id": "c46b64ef",
   "metadata": {},
   "source": [
    "### Preprocess the data - remove rows with NaN (missing) values"
   ]
  },
  {
   "cell_type": "code",
   "execution_count": 18,
   "id": "317cde69",
   "metadata": {},
   "outputs": [
    {
     "data": {
      "text/plain": [
       "11"
      ]
     },
     "execution_count": 18,
     "metadata": {},
     "output_type": "execute_result"
    }
   ],
   "source": [
    "# count number of rows with missing data in penguins. Eleven...\n",
    "penguins.isnull().any(axis=1).sum()"
   ]
  },
  {
   "cell_type": "code",
   "execution_count": 19,
   "id": "d4032569",
   "metadata": {},
   "outputs": [],
   "source": [
    "# make a copy with listwise deleted rows\n",
    "p_complete = penguins.dropna()"
   ]
  },
  {
   "cell_type": "code",
   "execution_count": 20,
   "id": "e7037d01",
   "metadata": {},
   "outputs": [
    {
     "data": {
      "text/plain": [
       "0"
      ]
     },
     "execution_count": 20,
     "metadata": {},
     "output_type": "execute_result"
    }
   ],
   "source": [
    "# count number of rows with missing data in p_complete. Zero! \n",
    "p_complete.isnull().any(axis=1).sum()"
   ]
  },
  {
   "cell_type": "markdown",
   "id": "7d845923",
   "metadata": {},
   "source": [
    "### Preprocess the data - convert categorical variables to indicators\n",
    "\n",
    "Check out this great tutorial on [one-hot encoding](https://stackabuse.com/one-hot-encoding-in-python-with-pandas-and-scikit-learn/) to learn more."
   ]
  },
  {
   "cell_type": "code",
   "execution_count": 21,
   "id": "93267a1d",
   "metadata": {},
   "outputs": [
    {
     "data": {
      "text/html": [
       "<div>\n",
       "<style scoped>\n",
       "    .dataframe tbody tr th:only-of-type {\n",
       "        vertical-align: middle;\n",
       "    }\n",
       "\n",
       "    .dataframe tbody tr th {\n",
       "        vertical-align: top;\n",
       "    }\n",
       "\n",
       "    .dataframe thead th {\n",
       "        text-align: right;\n",
       "    }\n",
       "</style>\n",
       "<table border=\"1\" class=\"dataframe\">\n",
       "  <thead>\n",
       "    <tr style=\"text-align: right;\">\n",
       "      <th></th>\n",
       "      <th>island_Biscoe</th>\n",
       "      <th>island_Dream</th>\n",
       "      <th>island_Torgersen</th>\n",
       "    </tr>\n",
       "  </thead>\n",
       "  <tbody>\n",
       "    <tr>\n",
       "      <th>0</th>\n",
       "      <td>0</td>\n",
       "      <td>0</td>\n",
       "      <td>1</td>\n",
       "    </tr>\n",
       "    <tr>\n",
       "      <th>1</th>\n",
       "      <td>0</td>\n",
       "      <td>0</td>\n",
       "      <td>1</td>\n",
       "    </tr>\n",
       "    <tr>\n",
       "      <th>2</th>\n",
       "      <td>0</td>\n",
       "      <td>0</td>\n",
       "      <td>1</td>\n",
       "    </tr>\n",
       "    <tr>\n",
       "      <th>4</th>\n",
       "      <td>0</td>\n",
       "      <td>0</td>\n",
       "      <td>1</td>\n",
       "    </tr>\n",
       "    <tr>\n",
       "      <th>5</th>\n",
       "      <td>0</td>\n",
       "      <td>0</td>\n",
       "      <td>1</td>\n",
       "    </tr>\n",
       "  </tbody>\n",
       "</table>\n",
       "</div>"
      ],
      "text/plain": [
       "   island_Biscoe  island_Dream  island_Torgersen\n",
       "0              0             0                 1\n",
       "1              0             0                 1\n",
       "2              0             0                 1\n",
       "4              0             0                 1\n",
       "5              0             0                 1"
      ]
     },
     "execution_count": 21,
     "metadata": {},
     "output_type": "execute_result"
    }
   ],
   "source": [
    "# convert island categorical variable into numeric indicators\n",
    "p_dummy_island = pd.get_dummies(p_complete.island, prefix = \"island\")\n",
    "p_dummy_island.head()"
   ]
  },
  {
   "cell_type": "code",
   "execution_count": 22,
   "id": "ac13358b",
   "metadata": {},
   "outputs": [
    {
     "data": {
      "text/html": [
       "<div>\n",
       "<style scoped>\n",
       "    .dataframe tbody tr th:only-of-type {\n",
       "        vertical-align: middle;\n",
       "    }\n",
       "\n",
       "    .dataframe tbody tr th {\n",
       "        vertical-align: top;\n",
       "    }\n",
       "\n",
       "    .dataframe thead th {\n",
       "        text-align: right;\n",
       "    }\n",
       "</style>\n",
       "<table border=\"1\" class=\"dataframe\">\n",
       "  <thead>\n",
       "    <tr style=\"text-align: right;\">\n",
       "      <th></th>\n",
       "      <th>species_Adelie</th>\n",
       "      <th>species_Chinstrap</th>\n",
       "      <th>species_Gentoo</th>\n",
       "    </tr>\n",
       "  </thead>\n",
       "  <tbody>\n",
       "    <tr>\n",
       "      <th>0</th>\n",
       "      <td>1</td>\n",
       "      <td>0</td>\n",
       "      <td>0</td>\n",
       "    </tr>\n",
       "    <tr>\n",
       "      <th>1</th>\n",
       "      <td>1</td>\n",
       "      <td>0</td>\n",
       "      <td>0</td>\n",
       "    </tr>\n",
       "    <tr>\n",
       "      <th>2</th>\n",
       "      <td>1</td>\n",
       "      <td>0</td>\n",
       "      <td>0</td>\n",
       "    </tr>\n",
       "    <tr>\n",
       "      <th>4</th>\n",
       "      <td>1</td>\n",
       "      <td>0</td>\n",
       "      <td>0</td>\n",
       "    </tr>\n",
       "    <tr>\n",
       "      <th>5</th>\n",
       "      <td>1</td>\n",
       "      <td>0</td>\n",
       "      <td>0</td>\n",
       "    </tr>\n",
       "  </tbody>\n",
       "</table>\n",
       "</div>"
      ],
      "text/plain": [
       "   species_Adelie  species_Chinstrap  species_Gentoo\n",
       "0               1                  0               0\n",
       "1               1                  0               0\n",
       "2               1                  0               0\n",
       "4               1                  0               0\n",
       "5               1                  0               0"
      ]
     },
     "execution_count": 22,
     "metadata": {},
     "output_type": "execute_result"
    }
   ],
   "source": [
    "# convert species categorical variable into numeric indicators\n",
    "p_dummy_species = pd.get_dummies(p_complete.species, prefix = \"species\")\n",
    "p_dummy_species.head()"
   ]
  },
  {
   "cell_type": "markdown",
   "id": "1f0e51b8",
   "metadata": {},
   "source": [
    "### Preprocess the data - remove the island and species variables from p_complete"
   ]
  },
  {
   "cell_type": "code",
   "execution_count": 23,
   "id": "a33b1081",
   "metadata": {},
   "outputs": [
    {
     "name": "stdout",
     "output_type": "stream",
     "text": [
      "Index(['species', 'island', 'bill_length_mm', 'bill_depth_mm',\n",
      "       'flipper_length_mm', 'body_mass_g', 'sex'],\n",
      "      dtype='object')\n"
     ]
    },
    {
     "data": {
      "text/html": [
       "<div>\n",
       "<style scoped>\n",
       "    .dataframe tbody tr th:only-of-type {\n",
       "        vertical-align: middle;\n",
       "    }\n",
       "\n",
       "    .dataframe tbody tr th {\n",
       "        vertical-align: top;\n",
       "    }\n",
       "\n",
       "    .dataframe thead th {\n",
       "        text-align: right;\n",
       "    }\n",
       "</style>\n",
       "<table border=\"1\" class=\"dataframe\">\n",
       "  <thead>\n",
       "    <tr style=\"text-align: right;\">\n",
       "      <th></th>\n",
       "      <th>bill_length_mm</th>\n",
       "      <th>bill_depth_mm</th>\n",
       "      <th>flipper_length_mm</th>\n",
       "      <th>body_mass_g</th>\n",
       "      <th>sex</th>\n",
       "    </tr>\n",
       "  </thead>\n",
       "  <tbody>\n",
       "    <tr>\n",
       "      <th>0</th>\n",
       "      <td>39.1</td>\n",
       "      <td>18.7</td>\n",
       "      <td>181.0</td>\n",
       "      <td>3750.0</td>\n",
       "      <td>MALE</td>\n",
       "    </tr>\n",
       "    <tr>\n",
       "      <th>1</th>\n",
       "      <td>39.5</td>\n",
       "      <td>17.4</td>\n",
       "      <td>186.0</td>\n",
       "      <td>3800.0</td>\n",
       "      <td>FEMALE</td>\n",
       "    </tr>\n",
       "    <tr>\n",
       "      <th>2</th>\n",
       "      <td>40.3</td>\n",
       "      <td>18.0</td>\n",
       "      <td>195.0</td>\n",
       "      <td>3250.0</td>\n",
       "      <td>FEMALE</td>\n",
       "    </tr>\n",
       "    <tr>\n",
       "      <th>4</th>\n",
       "      <td>36.7</td>\n",
       "      <td>19.3</td>\n",
       "      <td>193.0</td>\n",
       "      <td>3450.0</td>\n",
       "      <td>FEMALE</td>\n",
       "    </tr>\n",
       "    <tr>\n",
       "      <th>5</th>\n",
       "      <td>39.3</td>\n",
       "      <td>20.6</td>\n",
       "      <td>190.0</td>\n",
       "      <td>3650.0</td>\n",
       "      <td>MALE</td>\n",
       "    </tr>\n",
       "  </tbody>\n",
       "</table>\n",
       "</div>"
      ],
      "text/plain": [
       "   bill_length_mm  bill_depth_mm  flipper_length_mm  body_mass_g     sex\n",
       "0            39.1           18.7              181.0       3750.0    MALE\n",
       "1            39.5           17.4              186.0       3800.0  FEMALE\n",
       "2            40.3           18.0              195.0       3250.0  FEMALE\n",
       "4            36.7           19.3              193.0       3450.0  FEMALE\n",
       "5            39.3           20.6              190.0       3650.0    MALE"
      ]
     },
     "execution_count": 23,
     "metadata": {},
     "output_type": "execute_result"
    }
   ],
   "source": [
    "# view column names\n",
    "print(p_complete.columns)\n",
    "\n",
    "# drop the first and second columns\n",
    "p_complete = p_complete.drop(p_complete.columns[[0, 1]], axis=1)\n",
    "p_complete.head()"
   ]
  },
  {
   "cell_type": "markdown",
   "id": "c038e9e1",
   "metadata": {},
   "source": [
    "### Recombine the numeric indicators with the other variables"
   ]
  },
  {
   "cell_type": "code",
   "execution_count": 24,
   "id": "f0837503",
   "metadata": {},
   "outputs": [
    {
     "data": {
      "text/html": [
       "<div>\n",
       "<style scoped>\n",
       "    .dataframe tbody tr th:only-of-type {\n",
       "        vertical-align: middle;\n",
       "    }\n",
       "\n",
       "    .dataframe tbody tr th {\n",
       "        vertical-align: top;\n",
       "    }\n",
       "\n",
       "    .dataframe thead th {\n",
       "        text-align: right;\n",
       "    }\n",
       "</style>\n",
       "<table border=\"1\" class=\"dataframe\">\n",
       "  <thead>\n",
       "    <tr style=\"text-align: right;\">\n",
       "      <th></th>\n",
       "      <th>island_Biscoe</th>\n",
       "      <th>island_Dream</th>\n",
       "      <th>island_Torgersen</th>\n",
       "      <th>species_Adelie</th>\n",
       "      <th>species_Chinstrap</th>\n",
       "      <th>species_Gentoo</th>\n",
       "      <th>bill_length_mm</th>\n",
       "      <th>bill_depth_mm</th>\n",
       "      <th>flipper_length_mm</th>\n",
       "      <th>body_mass_g</th>\n",
       "      <th>sex</th>\n",
       "    </tr>\n",
       "  </thead>\n",
       "  <tbody>\n",
       "    <tr>\n",
       "      <th>0</th>\n",
       "      <td>0</td>\n",
       "      <td>0</td>\n",
       "      <td>1</td>\n",
       "      <td>1</td>\n",
       "      <td>0</td>\n",
       "      <td>0</td>\n",
       "      <td>39.1</td>\n",
       "      <td>18.7</td>\n",
       "      <td>181.0</td>\n",
       "      <td>3750.0</td>\n",
       "      <td>MALE</td>\n",
       "    </tr>\n",
       "    <tr>\n",
       "      <th>1</th>\n",
       "      <td>0</td>\n",
       "      <td>0</td>\n",
       "      <td>1</td>\n",
       "      <td>1</td>\n",
       "      <td>0</td>\n",
       "      <td>0</td>\n",
       "      <td>39.5</td>\n",
       "      <td>17.4</td>\n",
       "      <td>186.0</td>\n",
       "      <td>3800.0</td>\n",
       "      <td>FEMALE</td>\n",
       "    </tr>\n",
       "    <tr>\n",
       "      <th>2</th>\n",
       "      <td>0</td>\n",
       "      <td>0</td>\n",
       "      <td>1</td>\n",
       "      <td>1</td>\n",
       "      <td>0</td>\n",
       "      <td>0</td>\n",
       "      <td>40.3</td>\n",
       "      <td>18.0</td>\n",
       "      <td>195.0</td>\n",
       "      <td>3250.0</td>\n",
       "      <td>FEMALE</td>\n",
       "    </tr>\n",
       "    <tr>\n",
       "      <th>4</th>\n",
       "      <td>0</td>\n",
       "      <td>0</td>\n",
       "      <td>1</td>\n",
       "      <td>1</td>\n",
       "      <td>0</td>\n",
       "      <td>0</td>\n",
       "      <td>36.7</td>\n",
       "      <td>19.3</td>\n",
       "      <td>193.0</td>\n",
       "      <td>3450.0</td>\n",
       "      <td>FEMALE</td>\n",
       "    </tr>\n",
       "    <tr>\n",
       "      <th>5</th>\n",
       "      <td>0</td>\n",
       "      <td>0</td>\n",
       "      <td>1</td>\n",
       "      <td>1</td>\n",
       "      <td>0</td>\n",
       "      <td>0</td>\n",
       "      <td>39.3</td>\n",
       "      <td>20.6</td>\n",
       "      <td>190.0</td>\n",
       "      <td>3650.0</td>\n",
       "      <td>MALE</td>\n",
       "    </tr>\n",
       "  </tbody>\n",
       "</table>\n",
       "</div>"
      ],
      "text/plain": [
       "   island_Biscoe  island_Dream  island_Torgersen  species_Adelie  \\\n",
       "0              0             0                 1               1   \n",
       "1              0             0                 1               1   \n",
       "2              0             0                 1               1   \n",
       "4              0             0                 1               1   \n",
       "5              0             0                 1               1   \n",
       "\n",
       "   species_Chinstrap  species_Gentoo  bill_length_mm  bill_depth_mm  \\\n",
       "0                  0               0            39.1           18.7   \n",
       "1                  0               0            39.5           17.4   \n",
       "2                  0               0            40.3           18.0   \n",
       "4                  0               0            36.7           19.3   \n",
       "5                  0               0            39.3           20.6   \n",
       "\n",
       "   flipper_length_mm  body_mass_g     sex  \n",
       "0              181.0       3750.0    MALE  \n",
       "1              186.0       3800.0  FEMALE  \n",
       "2              195.0       3250.0  FEMALE  \n",
       "4              193.0       3450.0  FEMALE  \n",
       "5              190.0       3650.0    MALE  "
      ]
     },
     "execution_count": 24,
     "metadata": {},
     "output_type": "execute_result"
    }
   ],
   "source": [
    "clean_penguins = pd.concat([p_dummy_island, p_dummy_species, p_complete], axis=1) \n",
    "clean_penguins.head()"
   ]
  },
  {
   "cell_type": "markdown",
   "id": "8ea2295d",
   "metadata": {},
   "source": [
    "### Recode MALE as 1 and FEMALE as 0 "
   ]
  },
  {
   "cell_type": "code",
   "execution_count": 25,
   "id": "543f2d39",
   "metadata": {},
   "outputs": [],
   "source": [
    "clean_penguins['sex'] = clean_penguins['sex'].map({'MALE': 1, 'FEMALE': 0})"
   ]
  },
  {
   "cell_type": "code",
   "execution_count": 26,
   "id": "eda94e16",
   "metadata": {},
   "outputs": [
    {
     "data": {
      "text/html": [
       "<div>\n",
       "<style scoped>\n",
       "    .dataframe tbody tr th:only-of-type {\n",
       "        vertical-align: middle;\n",
       "    }\n",
       "\n",
       "    .dataframe tbody tr th {\n",
       "        vertical-align: top;\n",
       "    }\n",
       "\n",
       "    .dataframe thead th {\n",
       "        text-align: right;\n",
       "    }\n",
       "</style>\n",
       "<table border=\"1\" class=\"dataframe\">\n",
       "  <thead>\n",
       "    <tr style=\"text-align: right;\">\n",
       "      <th></th>\n",
       "      <th>island_Biscoe</th>\n",
       "      <th>island_Dream</th>\n",
       "      <th>island_Torgersen</th>\n",
       "      <th>species_Adelie</th>\n",
       "      <th>species_Chinstrap</th>\n",
       "      <th>species_Gentoo</th>\n",
       "      <th>bill_length_mm</th>\n",
       "      <th>bill_depth_mm</th>\n",
       "      <th>flipper_length_mm</th>\n",
       "      <th>body_mass_g</th>\n",
       "      <th>sex</th>\n",
       "    </tr>\n",
       "  </thead>\n",
       "  <tbody>\n",
       "    <tr>\n",
       "      <th>0</th>\n",
       "      <td>0</td>\n",
       "      <td>0</td>\n",
       "      <td>1</td>\n",
       "      <td>1</td>\n",
       "      <td>0</td>\n",
       "      <td>0</td>\n",
       "      <td>39.1</td>\n",
       "      <td>18.7</td>\n",
       "      <td>181.0</td>\n",
       "      <td>3750.0</td>\n",
       "      <td>1</td>\n",
       "    </tr>\n",
       "    <tr>\n",
       "      <th>1</th>\n",
       "      <td>0</td>\n",
       "      <td>0</td>\n",
       "      <td>1</td>\n",
       "      <td>1</td>\n",
       "      <td>0</td>\n",
       "      <td>0</td>\n",
       "      <td>39.5</td>\n",
       "      <td>17.4</td>\n",
       "      <td>186.0</td>\n",
       "      <td>3800.0</td>\n",
       "      <td>0</td>\n",
       "    </tr>\n",
       "    <tr>\n",
       "      <th>2</th>\n",
       "      <td>0</td>\n",
       "      <td>0</td>\n",
       "      <td>1</td>\n",
       "      <td>1</td>\n",
       "      <td>0</td>\n",
       "      <td>0</td>\n",
       "      <td>40.3</td>\n",
       "      <td>18.0</td>\n",
       "      <td>195.0</td>\n",
       "      <td>3250.0</td>\n",
       "      <td>0</td>\n",
       "    </tr>\n",
       "    <tr>\n",
       "      <th>4</th>\n",
       "      <td>0</td>\n",
       "      <td>0</td>\n",
       "      <td>1</td>\n",
       "      <td>1</td>\n",
       "      <td>0</td>\n",
       "      <td>0</td>\n",
       "      <td>36.7</td>\n",
       "      <td>19.3</td>\n",
       "      <td>193.0</td>\n",
       "      <td>3450.0</td>\n",
       "      <td>0</td>\n",
       "    </tr>\n",
       "    <tr>\n",
       "      <th>5</th>\n",
       "      <td>0</td>\n",
       "      <td>0</td>\n",
       "      <td>1</td>\n",
       "      <td>1</td>\n",
       "      <td>0</td>\n",
       "      <td>0</td>\n",
       "      <td>39.3</td>\n",
       "      <td>20.6</td>\n",
       "      <td>190.0</td>\n",
       "      <td>3650.0</td>\n",
       "      <td>1</td>\n",
       "    </tr>\n",
       "  </tbody>\n",
       "</table>\n",
       "</div>"
      ],
      "text/plain": [
       "   island_Biscoe  island_Dream  island_Torgersen  species_Adelie  \\\n",
       "0              0             0                 1               1   \n",
       "1              0             0                 1               1   \n",
       "2              0             0                 1               1   \n",
       "4              0             0                 1               1   \n",
       "5              0             0                 1               1   \n",
       "\n",
       "   species_Chinstrap  species_Gentoo  bill_length_mm  bill_depth_mm  \\\n",
       "0                  0               0            39.1           18.7   \n",
       "1                  0               0            39.5           17.4   \n",
       "2                  0               0            40.3           18.0   \n",
       "4                  0               0            36.7           19.3   \n",
       "5                  0               0            39.3           20.6   \n",
       "\n",
       "   flipper_length_mm  body_mass_g  sex  \n",
       "0              181.0       3750.0    1  \n",
       "1              186.0       3800.0    0  \n",
       "2              195.0       3250.0    0  \n",
       "4              193.0       3450.0    0  \n",
       "5              190.0       3650.0    1  "
      ]
     },
     "execution_count": 26,
     "metadata": {},
     "output_type": "execute_result"
    }
   ],
   "source": [
    "clean_penguins.head()"
   ]
  },
  {
   "cell_type": "markdown",
   "id": "1024e6e7",
   "metadata": {},
   "source": [
    "### Define the logistic regression object"
   ]
  },
  {
   "cell_type": "code",
   "execution_count": 27,
   "id": "6ba6b982",
   "metadata": {},
   "outputs": [],
   "source": [
    "from sklearn.linear_model import LogisticRegression\n",
    "\n",
    "lr = LogisticRegression(solver = 'liblinear')"
   ]
  },
  {
   "cell_type": "markdown",
   "id": "70e80dc6",
   "metadata": {},
   "source": [
    "### Split the `clean_penguins` dataset into training and test sets"
   ]
  },
  {
   "cell_type": "code",
   "execution_count": 28,
   "id": "48109767",
   "metadata": {},
   "outputs": [],
   "source": [
    "# Define x and y for both training and test sets\n",
    "from sklearn.model_selection import train_test_split\n",
    "\n",
    "x = clean_penguins[['island_Biscoe', 'island_Dream', 'island_Torgersen', 'species_Adelie',\n",
    "       'species_Chinstrap', 'species_Gentoo', 'bill_length_mm',\n",
    "       'bill_depth_mm', 'flipper_length_mm', 'body_mass_g']]\n",
    "y = np.array(clean_penguins['sex']) \n",
    "\n",
    "x_train, x_test, y_train, y_test = train_test_split(x, y, test_size = 0.3, random_state = 123)"
   ]
  },
  {
   "cell_type": "code",
   "execution_count": 29,
   "id": "6eac0c03",
   "metadata": {},
   "outputs": [],
   "source": [
    "# export clean_penguins\n",
    "# clean_penguins.to_csv(\"data/clean_penguins.csv\")"
   ]
  },
  {
   "cell_type": "code",
   "execution_count": 30,
   "id": "86db42a7",
   "metadata": {},
   "outputs": [
    {
     "data": {
      "text/plain": [
       "(233, 10)"
      ]
     },
     "execution_count": 30,
     "metadata": {},
     "output_type": "execute_result"
    }
   ],
   "source": [
    "x_train.shape"
   ]
  },
  {
   "cell_type": "code",
   "execution_count": 31,
   "id": "11f0b856",
   "metadata": {},
   "outputs": [
    {
     "data": {
      "text/plain": [
       "(100, 10)"
      ]
     },
     "execution_count": 31,
     "metadata": {},
     "output_type": "execute_result"
    }
   ],
   "source": [
    "x_test.shape"
   ]
  },
  {
   "cell_type": "code",
   "execution_count": 32,
   "id": "e09f6660",
   "metadata": {},
   "outputs": [
    {
     "data": {
      "text/plain": [
       "233"
      ]
     },
     "execution_count": 32,
     "metadata": {},
     "output_type": "execute_result"
    }
   ],
   "source": [
    "len(y_train)"
   ]
  },
  {
   "cell_type": "code",
   "execution_count": 33,
   "id": "348dc22a",
   "metadata": {},
   "outputs": [
    {
     "data": {
      "text/plain": [
       "100"
      ]
     },
     "execution_count": 33,
     "metadata": {},
     "output_type": "execute_result"
    }
   ],
   "source": [
    "len(y_test)"
   ]
  },
  {
   "cell_type": "markdown",
   "id": "fb7a15b6",
   "metadata": {},
   "source": [
    "### Fit the model to the training data\n",
    "\n",
    "And view the classification accuracy"
   ]
  },
  {
   "cell_type": "code",
   "execution_count": 34,
   "id": "9afeed1f",
   "metadata": {},
   "outputs": [
    {
     "data": {
      "text/plain": [
       "LogisticRegression(solver='liblinear')"
      ]
     },
     "execution_count": 34,
     "metadata": {},
     "output_type": "execute_result"
    }
   ],
   "source": [
    "lr.fit(x_train, y_train)"
   ]
  },
  {
   "cell_type": "code",
   "execution_count": 35,
   "id": "c54e0ff8",
   "metadata": {
    "scrolled": true
   },
   "outputs": [
    {
     "data": {
      "text/plain": [
       "0.8412017167381974"
      ]
     },
     "execution_count": 35,
     "metadata": {},
     "output_type": "execute_result"
    }
   ],
   "source": [
    "lr.score(x_train, y_train)"
   ]
  },
  {
   "cell_type": "markdown",
   "id": "e68389b8",
   "metadata": {},
   "source": [
    "### Generate predicted values on the test data"
   ]
  },
  {
   "cell_type": "code",
   "execution_count": 36,
   "id": "775d0f3e",
   "metadata": {},
   "outputs": [
    {
     "data": {
      "text/plain": [
       "array([1, 1, 0, 0, 1, 0, 0, 0, 1, 1, 0, 1, 1, 1, 0, 1, 0, 1, 0, 1, 1, 0,\n",
       "       1, 1, 1, 1, 1, 1, 0, 0, 0, 1, 1, 0, 0, 0, 0, 0, 1, 0, 0, 1, 1, 1,\n",
       "       1, 0, 1, 0, 1, 0, 1, 1, 1, 0, 0, 0, 1, 1, 1, 0, 1, 1, 1, 1, 1, 1,\n",
       "       0, 1, 0, 1, 1, 1, 0, 1, 1, 0, 1, 0, 1, 1, 1, 0, 1, 0, 0, 0, 0, 0,\n",
       "       0, 1, 1, 1, 0, 1, 1, 0, 1, 0, 0, 1])"
      ]
     },
     "execution_count": 36,
     "metadata": {},
     "output_type": "execute_result"
    }
   ],
   "source": [
    "# Generate predicted y values based on the x test set data\n",
    "predictions = lr.predict(x_test)\n",
    "predictions"
   ]
  },
  {
   "cell_type": "markdown",
   "id": "9f642ae2",
   "metadata": {},
   "source": [
    "### Calculate test set accuracy"
   ]
  },
  {
   "cell_type": "code",
   "execution_count": 37,
   "id": "86c05729",
   "metadata": {},
   "outputs": [
    {
     "name": "stdout",
     "output_type": "stream",
     "text": [
      "0.81\n"
     ]
    }
   ],
   "source": [
    "test_score = lr.score(x_test, y_test)\n",
    "print(test_score)"
   ]
  },
  {
   "cell_type": "code",
   "execution_count": 38,
   "id": "30dd3cb3",
   "metadata": {},
   "outputs": [
    {
     "name": "stdout",
     "output_type": "stream",
     "text": [
      "[[34 10]\n",
      " [ 9 47]]\n"
     ]
    }
   ],
   "source": [
    "from sklearn import metrics\n",
    "\n",
    "cm = metrics.confusion_matrix(y_test, predictions)\n",
    "print(cm)"
   ]
  },
  {
   "cell_type": "code",
   "execution_count": 39,
   "id": "28a623d0",
   "metadata": {},
   "outputs": [
    {
     "data": {
      "image/png": "[encoded data removed]",
      "text/plain": [
       "<Figure size 800x800 with 1 Axes>"
      ]
     },
     "metadata": {
      "filenames": {
       "image/png": "/Users/evanmuzzall/Desktop/SSDS-TAML/_build/jupyter_execute/spring2023/6_Core_concepts_vocabularies_77_0.png"
      }
     },
     "output_type": "display_data"
    }
   ],
   "source": [
    "# Fancy it up! Use plt.savefig() to export\n",
    "plt.figure(figsize=(8,8))\n",
    "sns.heatmap(cm, annot = True, fmt = \".0f\", \n",
    "            cbar = False, linewidths = 2, \n",
    "            square = True, cmap = 'YlGnBu', annot_kws={\"size\": 20})\n",
    "plt.ylabel('Ground truth y label')\n",
    "plt.xlabel('Predicted y label')\n",
    "all_sample_title = 'Accuracy Score: {0}'.format(test_score)\n",
    "plt.title(all_sample_title, size = 15);"
   ]
  },
  {
   "cell_type": "markdown",
   "id": "70ee66ae",
   "metadata": {},
   "source": [
    "## Exercise - scikit learn's `LinearRegression()` function\n",
    "\n",
    "1. Compare our \"by hand\" OLS results to those producd by sklearn's `LinearRegression` function. Are they the same? \n",
    "    * Slope = 4\n",
    "    * Intercept = -4\n",
    "    * RMSE = 2.82843\n",
    "    * y_hat = y_hat = B0 + B1 * data.x"
   ]
  },
  {
   "cell_type": "markdown",
   "id": "f5d184cd",
   "metadata": {},
   "source": [
    "## Building text vocabularies\n",
    "\n",
    "What about how text is predicted? If we have text as data, we also need to convert the _representation_ of text into a format that machine learning algorithms can understand. "
   ]
  },
  {
   "cell_type": "markdown",
   "id": "c80960ef",
   "metadata": {},
   "source": [
    "### Define a corpus "
   ]
  },
  {
   "cell_type": "code",
   "execution_count": 40,
   "id": "09379776",
   "metadata": {},
   "outputs": [
    {
     "data": {
      "text/plain": [
       "['First document text goes in this list of strings.',\n",
       " 'Second document text goes here as well.',\n",
       " 'Third document text text.',\n",
       " 'Document four!']"
      ]
     },
     "execution_count": 40,
     "metadata": {},
     "output_type": "execute_result"
    }
   ],
   "source": [
    "corpus = [\n",
    "    \"First document text goes in this list of strings.\",\n",
    "    \"Second document text goes here as well.\",\n",
    "    \"Third document text text.\",\n",
    "    \"Document four!\"\n",
    "    ]\n",
    "corpus"
   ]
  },
  {
   "cell_type": "markdown",
   "id": "b997bfc0",
   "metadata": {},
   "source": [
    "## Document encoding for machine learning\n",
    "\n",
    "### Key terms\n",
    "\n",
    "* **Document term matrix:** contains the frequencies (or TF-IDF scores) of vocabulary terms in a collection of documents in sparse format. \n",
    "    * Each row is a document in the corpus.\n",
    "    * Each column represents a term (uni-gram, bi-gram, etc.) called a feature.    \n",
    "\n",
    "![dtm](img/dtm.png)\n",
    "[modified from \"The Effects of Feature Scaling: From Bag-of-Words to Tf-Idf\"](https://www.oreilly.com/library/view/feature-engineering-for/9781491953235/ch04.html)\n",
    "\n",
    "* **Bag of words:** The simplest text analysis model that standardizes text in a document by removing punctuation, converting the words to lowercase, and counting the token frequencies.\n",
    "    * Numeric values indicate that a particular feature is found in a document that number of times.\n",
    "    * A 0 indicates that the feature is _not_ found in that document. \n",
    "    \n",
    "* **TF-IDF:** Term frequency–inverse document frequency; a weighted numerical statistic that indicates the uniqueness of a word is in a given document or corpus (see Chapter 7).\n",
    "\n",
    "    * For TF-IDF sparse matrices:\n",
    "        * A value closer to 1 indicate that a feature is more relevant to a particular document.\n",
    "        * A value closer to 0 indicates that that feature is less/not relevant to that document."
   ]
  },
  {
   "cell_type": "markdown",
   "id": "a51816fa",
   "metadata": {},
   "source": [
    "## Bag of words model with `CountVectorizer`\n",
    "\n",
    "The bag of words model represents text ignoring syntactical elements like grammar and word order while only preserving the multiplicy/frequency of unique tokens. Typically, a bag of words model removes punctuation and casefolds the text to lowercase before counting the words (i.e. 'Apple' and 'apple' will both count toward instances of the word, 'apple'). "
   ]
  },
  {
   "cell_type": "code",
   "execution_count": 41,
   "id": "3e50d958",
   "metadata": {},
   "outputs": [
    {
     "data": {
      "text/plain": [
       "{'first': 2,\n",
       " 'document': 1,\n",
       " 'text': 11,\n",
       " 'goes': 4,\n",
       " 'in': 6,\n",
       " 'this': 13,\n",
       " 'list': 7,\n",
       " 'of': 8,\n",
       " 'strings': 10,\n",
       " 'second': 9,\n",
       " 'here': 5,\n",
       " 'as': 0,\n",
       " 'well': 14,\n",
       " 'third': 12,\n",
       " 'four': 3}"
      ]
     },
     "execution_count": 41,
     "metadata": {},
     "output_type": "execute_result"
    }
   ],
   "source": [
    "from sklearn.feature_extraction.text import CountVectorizer\n",
    "\n",
    "# create the bag of words\n",
    "vectorizer = CountVectorizer()\n",
    "\n",
    "# the .fit method will learn the vocabulary \n",
    "vectorizer.fit(corpus)\n",
    "\n",
    "# Print the vocabulary\n",
    "vectorizer.vocabulary_"
   ]
  },
  {
   "cell_type": "code",
   "execution_count": 42,
   "id": "bb6aea66",
   "metadata": {},
   "outputs": [
    {
     "name": "stdout",
     "output_type": "stream",
     "text": [
      "  (0, 1)\t1\n",
      "  (0, 2)\t1\n",
      "  (0, 4)\t1\n",
      "  (0, 6)\t1\n",
      "  (0, 7)\t1\n",
      "  (0, 8)\t1\n",
      "  (0, 10)\t1\n",
      "  (0, 11)\t1\n",
      "  (0, 13)\t1\n",
      "  (1, 0)\t1\n",
      "  (1, 1)\t1\n",
      "  (1, 4)\t1\n",
      "  (1, 5)\t1\n",
      "  (1, 9)\t1\n",
      "  (1, 11)\t1\n",
      "  (1, 14)\t1\n",
      "  (2, 1)\t1\n",
      "  (2, 11)\t2\n",
      "  (2, 12)\t1\n",
      "  (3, 1)\t1\n",
      "  (3, 3)\t1\n"
     ]
    }
   ],
   "source": [
    "# The `.transform` method will help us here!\n",
    "# The first number is the document number\n",
    "# The second number is the word from the vocabulary\n",
    "# The third number is the number of times that word occurs\n",
    "vector = vectorizer.transform(corpus)\n",
    "print(vector) "
   ]
  },
  {
   "cell_type": "markdown",
   "id": "0e2e70e2",
   "metadata": {},
   "source": [
    "### Present the sparse matrix"
   ]
  },
  {
   "cell_type": "code",
   "execution_count": 43,
   "id": "ece0ca6c",
   "metadata": {},
   "outputs": [
    {
     "name": "stdout",
     "output_type": "stream",
     "text": [
      "[[0 1 1 0 1 0 1 1 1 0 1 1 0 1 0]\n",
      " [1 1 0 0 1 1 0 0 0 1 0 1 0 0 1]\n",
      " [0 1 0 0 0 0 0 0 0 0 0 2 1 0 0]\n",
      " [0 1 0 1 0 0 0 0 0 0 0 0 0 0 0]]\n"
     ]
    }
   ],
   "source": [
    "# each row is a document, each column is a word from the vocabulary! \n",
    "# 1 means that word is present in that particular document\n",
    "print(vector.toarray())"
   ]
  },
  {
   "cell_type": "code",
   "execution_count": 44,
   "id": "fbf283da",
   "metadata": {},
   "outputs": [
    {
     "name": "stderr",
     "output_type": "stream",
     "text": [
      "/Users/evanmuzzall/opt/anaconda3/lib/python3.8/site-packages/sklearn/utils/deprecation.py:87: FutureWarning: Function get_feature_names is deprecated; get_feature_names is deprecated in 1.0 and will be removed in 1.2. Please use get_feature_names_out instead.\n",
      "  warnings.warn(msg, category=FutureWarning)\n"
     ]
    },
    {
     "data": {
      "text/plain": [
       "['as',\n",
       " 'document',\n",
       " 'first',\n",
       " 'four',\n",
       " 'goes',\n",
       " 'here',\n",
       " 'in',\n",
       " 'list',\n",
       " 'of',\n",
       " 'second',\n",
       " 'strings',\n",
       " 'text',\n",
       " 'third',\n",
       " 'this',\n",
       " 'well']"
      ]
     },
     "execution_count": 44,
     "metadata": {},
     "output_type": "execute_result"
    }
   ],
   "source": [
    "# get the column names (alphabetical sort)\n",
    "vectorizer.get_feature_names()"
   ]
  },
  {
   "cell_type": "code",
   "execution_count": 45,
   "id": "355affef",
   "metadata": {},
   "outputs": [
    {
     "data": {
      "text/plain": [
       "array([[0, 0, 0, 0, 0, 0, 0, 0, 0, 0, 0, 1, 0, 0, 0]])"
      ]
     },
     "execution_count": 45,
     "metadata": {},
     "output_type": "execute_result"
    }
   ],
   "source": [
    "# What does this tell us? \n",
    "vectorizer.transform(['text']).toarray() "
   ]
  },
  {
   "cell_type": "code",
   "execution_count": 46,
   "id": "da3a9672",
   "metadata": {},
   "outputs": [
    {
     "data": {
      "text/plain": [
       "array([[0, 0, 0, 0, 0, 0, 0, 0, 0, 0, 0, 0, 0, 0, 0]])"
      ]
     },
     "execution_count": 46,
     "metadata": {},
     "output_type": "execute_result"
    }
   ],
   "source": [
    "# 'text' is present in our bag of words, and in the sparse matrix, occupies the twelfth column!\n",
    "\n",
    "# What if we try to transform a token that isn't in our bag of words? \n",
    "vectorizer.transform(['abracadabra']).toarray()"
   ]
  },
  {
   "cell_type": "markdown",
   "id": "006dbf01",
   "metadata": {},
   "source": [
    "### N-grams\n",
    "\n",
    "While we have focused on single words above, we can apply this approach to multi-word phrases in order to try to predict linguistic instances and potentially better understand context of a corpus of documents. \n",
    "\n",
    "Use the below token patterns: \n",
    "* bigrams    `ngram_range = (1, 2)`\n",
    "* trigrams   `ngram_range = (1, 3)`\n",
    "* etc."
   ]
  },
  {
   "cell_type": "code",
   "execution_count": 47,
   "id": "6f6918a5",
   "metadata": {},
   "outputs": [
    {
     "data": {
      "text/plain": [
       "CountVectorizer(ngram_range=(1, 2), token_pattern='\\\\b\\\\w+\\\\b')"
      ]
     },
     "execution_count": 47,
     "metadata": {},
     "output_type": "execute_result"
    }
   ],
   "source": [
    " # token pattern is written using regular expressions (regex for short): \n",
    " #      '\\b' signifies the empty string (\"\") at the beginning or end of a word, \n",
    " #      '\\w' is any character, \n",
    " #      '+' signifies that the regex can match one or more instances of the prior character (in this case, '\\w')\n",
    " # question: what does '\\b\\w+\\b' mean then? \n",
    "bigram_vectorizer = CountVectorizer(ngram_range = (1,2),\n",
    "                                    token_pattern = r'\\b\\w+\\b',\n",
    "                                    min_df = 1)\n",
    "bigram_vectorizer"
   ]
  },
  {
   "cell_type": "markdown",
   "id": "b63f156e",
   "metadata": {},
   "source": [
    "Since we specify bigrams, both unigrams _and_ bigrams are returned!"
   ]
  },
  {
   "cell_type": "code",
   "execution_count": 48,
   "id": "6841dc72",
   "metadata": {},
   "outputs": [
    {
     "data": {
      "text/plain": [
       "['welcome',\n",
       " 'to',\n",
       " 'stanford',\n",
       " 'libraries',\n",
       " 'welcome to',\n",
       " 'to stanford',\n",
       " 'stanford libraries']"
      ]
     },
     "execution_count": 48,
     "metadata": {},
     "output_type": "execute_result"
    }
   ],
   "source": [
    "from sklearn.feature_extraction import DictVectorizer\n",
    "bigram_analyzer = bigram_vectorizer.build_analyzer()\n",
    "bigram_analyzer('Welcome to Stanford Libraries!')"
   ]
  },
  {
   "cell_type": "markdown",
   "id": "1299456a",
   "metadata": {},
   "source": [
    "### Apply n-grams to our above corpus"
   ]
  },
  {
   "cell_type": "code",
   "execution_count": 49,
   "id": "11128ca0",
   "metadata": {},
   "outputs": [
    {
     "data": {
      "text/plain": [
       "['First document text goes in this list of strings.',\n",
       " 'Second document text goes here as well.',\n",
       " 'Third document text text.',\n",
       " 'Document four!']"
      ]
     },
     "execution_count": 49,
     "metadata": {},
     "output_type": "execute_result"
    }
   ],
   "source": [
    "corpus"
   ]
  },
  {
   "cell_type": "code",
   "execution_count": 50,
   "id": "7dc22339",
   "metadata": {},
   "outputs": [
    {
     "name": "stdout",
     "output_type": "stream",
     "text": [
      "[[0 0 1 0 1 1 1 0 1 0 1 0 0 1 1 1 1 1 1 0 0 1 1 1 0 0 0 1 1 0]\n",
      " [1 1 1 0 1 0 0 0 1 1 0 1 1 0 0 0 0 0 0 1 1 0 1 1 0 0 0 0 0 1]\n",
      " [0 0 1 0 1 0 0 0 0 0 0 0 0 0 0 0 0 0 0 0 0 0 2 0 1 1 1 0 0 0]\n",
      " [0 0 1 1 0 0 0 1 0 0 0 0 0 0 0 0 0 0 0 0 0 0 0 0 0 0 0 0 0 0]]\n"
     ]
    }
   ],
   "source": [
    "# perform the transformation\n",
    "x = bigram_vectorizer.fit_transform(corpus).toarray()\n",
    "print(x)"
   ]
  },
  {
   "cell_type": "code",
   "execution_count": 51,
   "id": "73487800",
   "metadata": {},
   "outputs": [
    {
     "data": {
      "text/plain": [
       "['as',\n",
       " 'as well',\n",
       " 'document',\n",
       " 'document four',\n",
       " 'document text',\n",
       " 'first',\n",
       " 'first document',\n",
       " 'four',\n",
       " 'goes',\n",
       " 'goes here',\n",
       " 'goes in',\n",
       " 'here',\n",
       " 'here as',\n",
       " 'in',\n",
       " 'in this',\n",
       " 'list',\n",
       " 'list of',\n",
       " 'of',\n",
       " 'of strings',\n",
       " 'second',\n",
       " 'second document',\n",
       " 'strings',\n",
       " 'text',\n",
       " 'text goes',\n",
       " 'text text',\n",
       " 'third',\n",
       " 'third document',\n",
       " 'this',\n",
       " 'this list',\n",
       " 'well']"
      ]
     },
     "execution_count": 51,
     "metadata": {},
     "output_type": "execute_result"
    }
   ],
   "source": [
    "# get the feature (column) names\n",
    "# remember the rows are our four documents!\n",
    "bigram_vectorizer.get_feature_names()"
   ]
  },
  {
   "cell_type": "code",
   "execution_count": 52,
   "id": "19d5e6a7",
   "metadata": {},
   "outputs": [
    {
     "data": {
      "text/plain": [
       "array([1, 0, 0, 0])"
      ]
     },
     "execution_count": 52,
     "metadata": {},
     "output_type": "execute_result"
    }
   ],
   "source": [
    "# search for vocabulary words across the documents\n",
    "feature_index = bigram_vectorizer.vocabulary_.get('first document')\n",
    "x[:, feature_index]"
   ]
  },
  {
   "cell_type": "markdown",
   "id": "40a1eb5c",
   "metadata": {},
   "source": [
    "### Data frame vocabulary across documents\n",
    "\n",
    "Our vocabulary for the `corpus` variable consists of 30 unigram and bigram **features** across the four documents."
   ]
  },
  {
   "cell_type": "code",
   "execution_count": 53,
   "id": "3b19b5ce",
   "metadata": {},
   "outputs": [
    {
     "name": "stdout",
     "output_type": "stream",
     "text": [
      "  (0, 5)\t1\n",
      "  (0, 2)\t1\n",
      "  (0, 22)\t1\n",
      "  (0, 8)\t1\n",
      "  (0, 13)\t1\n",
      "  (0, 27)\t1\n",
      "  (0, 15)\t1\n",
      "  (0, 17)\t1\n",
      "  (0, 21)\t1\n",
      "  (0, 6)\t1\n",
      "  (0, 4)\t1\n",
      "  (0, 23)\t1\n",
      "  (0, 10)\t1\n",
      "  (0, 14)\t1\n",
      "  (0, 28)\t1\n",
      "  (0, 16)\t1\n",
      "  (0, 18)\t1\n",
      "  (1, 2)\t1\n",
      "  (1, 22)\t1\n",
      "  (1, 8)\t1\n",
      "  (1, 4)\t1\n",
      "  (1, 23)\t1\n",
      "  (1, 19)\t1\n",
      "  (1, 11)\t1\n",
      "  (1, 0)\t1\n",
      "  (1, 29)\t1\n",
      "  (1, 20)\t1\n",
      "  (1, 9)\t1\n",
      "  (1, 12)\t1\n",
      "  (1, 1)\t1\n",
      "  (2, 2)\t1\n",
      "  (2, 22)\t2\n",
      "  (2, 4)\t1\n",
      "  (2, 25)\t1\n",
      "  (2, 26)\t1\n",
      "  (2, 24)\t1\n",
      "  (3, 2)\t1\n",
      "  (3, 7)\t1\n",
      "  (3, 3)\t1\n"
     ]
    }
   ],
   "source": [
    "# redefine x as sparse matrix (not array)\n",
    "x = bigram_vectorizer.fit_transform(corpus)\n",
    "print(x)"
   ]
  },
  {
   "cell_type": "code",
   "execution_count": 54,
   "id": "888aded3",
   "metadata": {
    "scrolled": true
   },
   "outputs": [
    {
     "data": {
      "text/html": [
       "<div>\n",
       "<style scoped>\n",
       "    .dataframe tbody tr th:only-of-type {\n",
       "        vertical-align: middle;\n",
       "    }\n",
       "\n",
       "    .dataframe tbody tr th {\n",
       "        vertical-align: top;\n",
       "    }\n",
       "\n",
       "    .dataframe thead th {\n",
       "        text-align: right;\n",
       "    }\n",
       "</style>\n",
       "<table border=\"1\" class=\"dataframe\">\n",
       "  <thead>\n",
       "    <tr style=\"text-align: right;\">\n",
       "      <th></th>\n",
       "      <th>as</th>\n",
       "      <th>as well</th>\n",
       "      <th>document</th>\n",
       "      <th>document four</th>\n",
       "      <th>document text</th>\n",
       "      <th>first</th>\n",
       "      <th>first document</th>\n",
       "      <th>four</th>\n",
       "      <th>goes</th>\n",
       "      <th>goes here</th>\n",
       "      <th>...</th>\n",
       "      <th>second document</th>\n",
       "      <th>strings</th>\n",
       "      <th>text</th>\n",
       "      <th>text goes</th>\n",
       "      <th>text text</th>\n",
       "      <th>third</th>\n",
       "      <th>third document</th>\n",
       "      <th>this</th>\n",
       "      <th>this list</th>\n",
       "      <th>well</th>\n",
       "    </tr>\n",
       "  </thead>\n",
       "  <tbody>\n",
       "    <tr>\n",
       "      <th>0</th>\n",
       "      <td>0</td>\n",
       "      <td>0</td>\n",
       "      <td>1</td>\n",
       "      <td>0</td>\n",
       "      <td>1</td>\n",
       "      <td>1</td>\n",
       "      <td>1</td>\n",
       "      <td>0</td>\n",
       "      <td>1</td>\n",
       "      <td>0</td>\n",
       "      <td>...</td>\n",
       "      <td>0</td>\n",
       "      <td>1</td>\n",
       "      <td>1</td>\n",
       "      <td>1</td>\n",
       "      <td>0</td>\n",
       "      <td>0</td>\n",
       "      <td>0</td>\n",
       "      <td>1</td>\n",
       "      <td>1</td>\n",
       "      <td>0</td>\n",
       "    </tr>\n",
       "    <tr>\n",
       "      <th>1</th>\n",
       "      <td>1</td>\n",
       "      <td>1</td>\n",
       "      <td>1</td>\n",
       "      <td>0</td>\n",
       "      <td>1</td>\n",
       "      <td>0</td>\n",
       "      <td>0</td>\n",
       "      <td>0</td>\n",
       "      <td>1</td>\n",
       "      <td>1</td>\n",
       "      <td>...</td>\n",
       "      <td>1</td>\n",
       "      <td>0</td>\n",
       "      <td>1</td>\n",
       "      <td>1</td>\n",
       "      <td>0</td>\n",
       "      <td>0</td>\n",
       "      <td>0</td>\n",
       "      <td>0</td>\n",
       "      <td>0</td>\n",
       "      <td>1</td>\n",
       "    </tr>\n",
       "    <tr>\n",
       "      <th>2</th>\n",
       "      <td>0</td>\n",
       "      <td>0</td>\n",
       "      <td>1</td>\n",
       "      <td>0</td>\n",
       "      <td>1</td>\n",
       "      <td>0</td>\n",
       "      <td>0</td>\n",
       "      <td>0</td>\n",
       "      <td>0</td>\n",
       "      <td>0</td>\n",
       "      <td>...</td>\n",
       "      <td>0</td>\n",
       "      <td>0</td>\n",
       "      <td>2</td>\n",
       "      <td>0</td>\n",
       "      <td>1</td>\n",
       "      <td>1</td>\n",
       "      <td>1</td>\n",
       "      <td>0</td>\n",
       "      <td>0</td>\n",
       "      <td>0</td>\n",
       "    </tr>\n",
       "    <tr>\n",
       "      <th>3</th>\n",
       "      <td>0</td>\n",
       "      <td>0</td>\n",
       "      <td>1</td>\n",
       "      <td>1</td>\n",
       "      <td>0</td>\n",
       "      <td>0</td>\n",
       "      <td>0</td>\n",
       "      <td>1</td>\n",
       "      <td>0</td>\n",
       "      <td>0</td>\n",
       "      <td>...</td>\n",
       "      <td>0</td>\n",
       "      <td>0</td>\n",
       "      <td>0</td>\n",
       "      <td>0</td>\n",
       "      <td>0</td>\n",
       "      <td>0</td>\n",
       "      <td>0</td>\n",
       "      <td>0</td>\n",
       "      <td>0</td>\n",
       "      <td>0</td>\n",
       "    </tr>\n",
       "  </tbody>\n",
       "</table>\n",
       "<p>4 rows × 30 columns</p>\n",
       "</div>"
      ],
      "text/plain": [
       "   as  as well  document  document four  document text  first  first document  \\\n",
       "0   0        0         1              0              1      1               1   \n",
       "1   1        1         1              0              1      0               0   \n",
       "2   0        0         1              0              1      0               0   \n",
       "3   0        0         1              1              0      0               0   \n",
       "\n",
       "   four  goes  goes here  ...  second document  strings  text  text goes  \\\n",
       "0     0     1          0  ...                0        1     1          1   \n",
       "1     0     1          1  ...                1        0     1          1   \n",
       "2     0     0          0  ...                0        0     2          0   \n",
       "3     1     0          0  ...                0        0     0          0   \n",
       "\n",
       "   text text  third  third document  this  this list  well  \n",
       "0          0      0               0     1          1     0  \n",
       "1          0      0               0     0          0     1  \n",
       "2          1      1               1     0          0     0  \n",
       "3          0      0               0     0          0     0  \n",
       "\n",
       "[4 rows x 30 columns]"
      ]
     },
     "execution_count": 54,
     "metadata": {},
     "output_type": "execute_result"
    }
   ],
   "source": [
    "import scipy.sparse\n",
    "corpus_df = pd.DataFrame(x.todense(), columns = bigram_vectorizer.get_feature_names())\n",
    "corpus_df"
   ]
  },
  {
   "cell_type": "code",
   "execution_count": 55,
   "id": "8671db5b",
   "metadata": {},
   "outputs": [
    {
     "data": {
      "text/plain": [
       "Index(['as', 'as well', 'document', 'document four', 'document text', 'first',\n",
       "       'first document', 'four', 'goes', 'goes here', 'goes in', 'here',\n",
       "       'here as', 'in', 'in this', 'list', 'list of', 'of', 'of strings',\n",
       "       'second', 'second document', 'strings', 'text', 'text goes',\n",
       "       'text text', 'third', 'third document', 'this', 'this list', 'well'],\n",
       "      dtype='object')"
      ]
     },
     "execution_count": 55,
     "metadata": {},
     "output_type": "execute_result"
    }
   ],
   "source": [
    "# The features (columns) are the vocabulary from the bigram version of our corpus variable above! \n",
    "corpus_df.columns"
   ]
  },
  {
   "cell_type": "markdown",
   "id": "3132284b",
   "metadata": {},
   "source": [
    "## Exercise - document term matrices\n",
    "\n",
    "1. Identify a document or corpus of your own to apply these steps to. "
   ]
  },
  {
   "cell_type": "markdown",
   "id": "e8d23df6",
   "metadata": {},
   "source": [
    "## What does this mean for predicting text?\n",
    "\n",
    "Read on in Chapter 7 \"English text preprocessing basics\" to learn about using this type of approach for predicting text. "
   ]
  }
 ],
 "metadata": {
  "kernelspec": {
   "display_name": "Python 3 (ipykernel)",
   "language": "python",
   "name": "python3"
  },
  "language_info": {
   "codemirror_mode": {
    "name": "ipython",
    "version": 3
   },
   "file_extension": ".py",
   "mimetype": "text/x-python",
   "name": "python",
   "nbconvert_exporter": "python",
   "pygments_lexer": "ipython3",
   "version": "3.8.13"
  },
  "vscode": {
   "interpreter": {
    "hash": "16c684165a00eba53f696e92e1de76bb4a10a33402bb31cdf5ab4f07210fc261"
   }
  }
 },
 "nbformat": 4,
 "nbformat_minor": 5
}