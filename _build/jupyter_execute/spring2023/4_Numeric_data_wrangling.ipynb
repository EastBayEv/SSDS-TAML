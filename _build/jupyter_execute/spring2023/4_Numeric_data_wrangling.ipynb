{
 "cells": [
  {
   "cell_type": "markdown",
   "id": "f540f43d",
   "metadata": {},
   "source": [
    "# Chapter 4 - Numeric data wrangling\n",
    "2023 April 7\n",
    "\n",
    "> For text preprocessing, see Chapter 7 \"English text preprocessing basics\""
   ]
  },
  {
   "cell_type": "markdown",
   "id": "4798d83e",
   "metadata": {},
   "source": [
    "<a target=\"_blank\" href=\"https://colab.research.google.com/github/EastBayEv/SSDS-TAML/blob/main/spring2023/4_Numeric_data_wrangling.ipynb\">\n",
    "  <img src=\"https://colab.research.google.com/assets/colab-badge.svg\" alt=\"Open In Colab\"/>\n",
    "</a>"
   ]
  },
  {
   "cell_type": "markdown",
   "id": "f7edf111",
   "metadata": {},
   "source": [
    "![wrangle](img/wrangle.png)"
   ]
  },
  {
   "cell_type": "markdown",
   "id": "92f03b45",
   "metadata": {},
   "source": [
    "## The pandas library\n",
    "\n",
    "Import the pandas library with the alias `pd`. This can be a useful shortcut to call its methods!\n",
    "\n",
    "Use \"dot notation\" to apply its methods to the gapminder dataset, which is stored in a tabular .csv file. \n",
    "\n",
    "To import the .csv file, use the `.read_csv()` pandas method. The only argument for now is the file path to a .csv file. \n",
    "\n",
    "[Learn more about the Gapminder data](https://www.gapminder.org/data/)"
   ]
  },
  {
   "cell_type": "code",
   "execution_count": 1,
   "id": "86631ea0",
   "metadata": {},
   "outputs": [],
   "source": [
    "import pandas as pd"
   ]
  },
  {
   "cell_type": "code",
   "execution_count": 2,
   "id": "245aa2f0",
   "metadata": {},
   "outputs": [],
   "source": [
    "# import the gapminder dataset\n",
    "# !wget -P data/ https://raw.githubusercontent.com/EastBayEv/SSDS-TAML/main/spring2023/data/gapminder-FiveYearData.csv\n",
    "gap = pd.read_csv(\"data/gapminder-FiveYearData.csv\")"
   ]
  },
  {
   "cell_type": "code",
   "execution_count": 3,
   "id": "da27c125",
   "metadata": {},
   "outputs": [
    {
     "name": "stdout",
     "output_type": "stream",
     "text": [
      "<class 'pandas.core.frame.DataFrame'>\n"
     ]
    }
   ],
   "source": [
    "print(type(gap))"
   ]
  },
  {
   "cell_type": "markdown",
   "id": "4ee06727",
   "metadata": {},
   "source": [
    "## Pandas methods\n",
    "\n",
    "Just a small handful of pandas methods will help you accomplish several key data wrangling tasks. How might the wrangling process look? \n",
    "\n",
    "1. First, look at the data\n",
    "2. Compute summary statistics\n",
    "3. Subset rows\n",
    "    * first row\n",
    "    * first three rows\n",
    "    * rows 10 thru 14\n",
    "4. Subset columns: \n",
    "    * one column\n",
    "    * multiple columns\n",
    "5. Row and column subset\n",
    "6. Subset by logical condition(s)"
   ]
  },
  {
   "cell_type": "markdown",
   "id": "6e682e67",
   "metadata": {},
   "source": [
    "## First, look at the data\n",
    "\n",
    "`print` or call the dataset to view its output. Use pandas methods to learn about the data!"
   ]
  },
  {
   "cell_type": "code",
   "execution_count": 4,
   "id": "8c6f7881",
   "metadata": {},
   "outputs": [
    {
     "name": "stdout",
     "output_type": "stream",
     "text": [
      "          country  year         pop continent  lifeExp   gdpPercap\n",
      "0     Afghanistan  1952   8425333.0      Asia   28.801  779.445314\n",
      "1     Afghanistan  1957   9240934.0      Asia   30.332  820.853030\n",
      "2     Afghanistan  1962  10267083.0      Asia   31.997  853.100710\n",
      "3     Afghanistan  1967  11537966.0      Asia   34.020  836.197138\n",
      "4     Afghanistan  1972  13079460.0      Asia   36.088  739.981106\n",
      "...           ...   ...         ...       ...      ...         ...\n",
      "1699     Zimbabwe  1987   9216418.0    Africa   62.351  706.157306\n",
      "1700     Zimbabwe  1992  10704340.0    Africa   60.377  693.420786\n",
      "1701     Zimbabwe  1997  11404948.0    Africa   46.809  792.449960\n",
      "1702     Zimbabwe  2002  11926563.0    Africa   39.989  672.038623\n",
      "1703     Zimbabwe  2007  12311143.0    Africa   43.487  469.709298\n",
      "\n",
      "[1704 rows x 6 columns]\n"
     ]
    }
   ],
   "source": [
    "print(gap)"
   ]
  },
  {
   "cell_type": "code",
   "execution_count": 5,
   "id": "ad2fc2d7",
   "metadata": {},
   "outputs": [
    {
     "data": {
      "text/html": [
       "<div>\n",
       "<style scoped>\n",
       "    .dataframe tbody tr th:only-of-type {\n",
       "        vertical-align: middle;\n",
       "    }\n",
       "\n",
       "    .dataframe tbody tr th {\n",
       "        vertical-align: top;\n",
       "    }\n",
       "\n",
       "    .dataframe thead th {\n",
       "        text-align: right;\n",
       "    }\n",
       "</style>\n",
       "<table border=\"1\" class=\"dataframe\">\n",
       "  <thead>\n",
       "    <tr style=\"text-align: right;\">\n",
       "      <th></th>\n",
       "      <th>country</th>\n",
       "      <th>year</th>\n",
       "      <th>pop</th>\n",
       "      <th>continent</th>\n",
       "      <th>lifeExp</th>\n",
       "      <th>gdpPercap</th>\n",
       "    </tr>\n",
       "  </thead>\n",
       "  <tbody>\n",
       "    <tr>\n",
       "      <th>0</th>\n",
       "      <td>Afghanistan</td>\n",
       "      <td>1952</td>\n",
       "      <td>8425333.0</td>\n",
       "      <td>Asia</td>\n",
       "      <td>28.801</td>\n",
       "      <td>779.445314</td>\n",
       "    </tr>\n",
       "    <tr>\n",
       "      <th>1</th>\n",
       "      <td>Afghanistan</td>\n",
       "      <td>1957</td>\n",
       "      <td>9240934.0</td>\n",
       "      <td>Asia</td>\n",
       "      <td>30.332</td>\n",
       "      <td>820.853030</td>\n",
       "    </tr>\n",
       "    <tr>\n",
       "      <th>2</th>\n",
       "      <td>Afghanistan</td>\n",
       "      <td>1962</td>\n",
       "      <td>10267083.0</td>\n",
       "      <td>Asia</td>\n",
       "      <td>31.997</td>\n",
       "      <td>853.100710</td>\n",
       "    </tr>\n",
       "    <tr>\n",
       "      <th>3</th>\n",
       "      <td>Afghanistan</td>\n",
       "      <td>1967</td>\n",
       "      <td>11537966.0</td>\n",
       "      <td>Asia</td>\n",
       "      <td>34.020</td>\n",
       "      <td>836.197138</td>\n",
       "    </tr>\n",
       "    <tr>\n",
       "      <th>4</th>\n",
       "      <td>Afghanistan</td>\n",
       "      <td>1972</td>\n",
       "      <td>13079460.0</td>\n",
       "      <td>Asia</td>\n",
       "      <td>36.088</td>\n",
       "      <td>739.981106</td>\n",
       "    </tr>\n",
       "    <tr>\n",
       "      <th>...</th>\n",
       "      <td>...</td>\n",
       "      <td>...</td>\n",
       "      <td>...</td>\n",
       "      <td>...</td>\n",
       "      <td>...</td>\n",
       "      <td>...</td>\n",
       "    </tr>\n",
       "    <tr>\n",
       "      <th>1699</th>\n",
       "      <td>Zimbabwe</td>\n",
       "      <td>1987</td>\n",
       "      <td>9216418.0</td>\n",
       "      <td>Africa</td>\n",
       "      <td>62.351</td>\n",
       "      <td>706.157306</td>\n",
       "    </tr>\n",
       "    <tr>\n",
       "      <th>1700</th>\n",
       "      <td>Zimbabwe</td>\n",
       "      <td>1992</td>\n",
       "      <td>10704340.0</td>\n",
       "      <td>Africa</td>\n",
       "      <td>60.377</td>\n",
       "      <td>693.420786</td>\n",
       "    </tr>\n",
       "    <tr>\n",
       "      <th>1701</th>\n",
       "      <td>Zimbabwe</td>\n",
       "      <td>1997</td>\n",
       "      <td>11404948.0</td>\n",
       "      <td>Africa</td>\n",
       "      <td>46.809</td>\n",
       "      <td>792.449960</td>\n",
       "    </tr>\n",
       "    <tr>\n",
       "      <th>1702</th>\n",
       "      <td>Zimbabwe</td>\n",
       "      <td>2002</td>\n",
       "      <td>11926563.0</td>\n",
       "      <td>Africa</td>\n",
       "      <td>39.989</td>\n",
       "      <td>672.038623</td>\n",
       "    </tr>\n",
       "    <tr>\n",
       "      <th>1703</th>\n",
       "      <td>Zimbabwe</td>\n",
       "      <td>2007</td>\n",
       "      <td>12311143.0</td>\n",
       "      <td>Africa</td>\n",
       "      <td>43.487</td>\n",
       "      <td>469.709298</td>\n",
       "    </tr>\n",
       "  </tbody>\n",
       "</table>\n",
       "<p>1704 rows × 6 columns</p>\n",
       "</div>"
      ],
      "text/plain": [
       "          country  year         pop continent  lifeExp   gdpPercap\n",
       "0     Afghanistan  1952   8425333.0      Asia   28.801  779.445314\n",
       "1     Afghanistan  1957   9240934.0      Asia   30.332  820.853030\n",
       "2     Afghanistan  1962  10267083.0      Asia   31.997  853.100710\n",
       "3     Afghanistan  1967  11537966.0      Asia   34.020  836.197138\n",
       "4     Afghanistan  1972  13079460.0      Asia   36.088  739.981106\n",
       "...           ...   ...         ...       ...      ...         ...\n",
       "1699     Zimbabwe  1987   9216418.0    Africa   62.351  706.157306\n",
       "1700     Zimbabwe  1992  10704340.0    Africa   60.377  693.420786\n",
       "1701     Zimbabwe  1997  11404948.0    Africa   46.809  792.449960\n",
       "1702     Zimbabwe  2002  11926563.0    Africa   39.989  672.038623\n",
       "1703     Zimbabwe  2007  12311143.0    Africa   43.487  469.709298\n",
       "\n",
       "[1704 rows x 6 columns]"
      ]
     },
     "execution_count": 5,
     "metadata": {},
     "output_type": "execute_result"
    }
   ],
   "source": [
    "gap"
   ]
  },
  {
   "cell_type": "markdown",
   "id": "69bffc0a",
   "metadata": {},
   "source": [
    "### `.head()`"
   ]
  },
  {
   "cell_type": "code",
   "execution_count": 6,
   "id": "bf0813f7",
   "metadata": {},
   "outputs": [
    {
     "data": {
      "text/html": [
       "<div>\n",
       "<style scoped>\n",
       "    .dataframe tbody tr th:only-of-type {\n",
       "        vertical-align: middle;\n",
       "    }\n",
       "\n",
       "    .dataframe tbody tr th {\n",
       "        vertical-align: top;\n",
       "    }\n",
       "\n",
       "    .dataframe thead th {\n",
       "        text-align: right;\n",
       "    }\n",
       "</style>\n",
       "<table border=\"1\" class=\"dataframe\">\n",
       "  <thead>\n",
       "    <tr style=\"text-align: right;\">\n",
       "      <th></th>\n",
       "      <th>country</th>\n",
       "      <th>year</th>\n",
       "      <th>pop</th>\n",
       "      <th>continent</th>\n",
       "      <th>lifeExp</th>\n",
       "      <th>gdpPercap</th>\n",
       "    </tr>\n",
       "  </thead>\n",
       "  <tbody>\n",
       "    <tr>\n",
       "      <th>0</th>\n",
       "      <td>Afghanistan</td>\n",
       "      <td>1952</td>\n",
       "      <td>8425333.0</td>\n",
       "      <td>Asia</td>\n",
       "      <td>28.801</td>\n",
       "      <td>779.445314</td>\n",
       "    </tr>\n",
       "    <tr>\n",
       "      <th>1</th>\n",
       "      <td>Afghanistan</td>\n",
       "      <td>1957</td>\n",
       "      <td>9240934.0</td>\n",
       "      <td>Asia</td>\n",
       "      <td>30.332</td>\n",
       "      <td>820.853030</td>\n",
       "    </tr>\n",
       "    <tr>\n",
       "      <th>2</th>\n",
       "      <td>Afghanistan</td>\n",
       "      <td>1962</td>\n",
       "      <td>10267083.0</td>\n",
       "      <td>Asia</td>\n",
       "      <td>31.997</td>\n",
       "      <td>853.100710</td>\n",
       "    </tr>\n",
       "    <tr>\n",
       "      <th>3</th>\n",
       "      <td>Afghanistan</td>\n",
       "      <td>1967</td>\n",
       "      <td>11537966.0</td>\n",
       "      <td>Asia</td>\n",
       "      <td>34.020</td>\n",
       "      <td>836.197138</td>\n",
       "    </tr>\n",
       "    <tr>\n",
       "      <th>4</th>\n",
       "      <td>Afghanistan</td>\n",
       "      <td>1972</td>\n",
       "      <td>13079460.0</td>\n",
       "      <td>Asia</td>\n",
       "      <td>36.088</td>\n",
       "      <td>739.981106</td>\n",
       "    </tr>\n",
       "  </tbody>\n",
       "</table>\n",
       "</div>"
      ],
      "text/plain": [
       "       country  year         pop continent  lifeExp   gdpPercap\n",
       "0  Afghanistan  1952   8425333.0      Asia   28.801  779.445314\n",
       "1  Afghanistan  1957   9240934.0      Asia   30.332  820.853030\n",
       "2  Afghanistan  1962  10267083.0      Asia   31.997  853.100710\n",
       "3  Afghanistan  1967  11537966.0      Asia   34.020  836.197138\n",
       "4  Afghanistan  1972  13079460.0      Asia   36.088  739.981106"
      ]
     },
     "execution_count": 6,
     "metadata": {},
     "output_type": "execute_result"
    }
   ],
   "source": [
    "# .head() shows the first five rows by default\n",
    "gap.head()"
   ]
  },
  {
   "cell_type": "markdown",
   "id": "44f40ba7",
   "metadata": {},
   "source": [
    "### `.columns`"
   ]
  },
  {
   "cell_type": "code",
   "execution_count": 7,
   "id": "eb8ff873",
   "metadata": {},
   "outputs": [
    {
     "data": {
      "text/plain": [
       "Index(['country', 'year', 'pop', 'continent', 'lifeExp', 'gdpPercap'], dtype='object')"
      ]
     },
     "execution_count": 7,
     "metadata": {},
     "output_type": "execute_result"
    }
   ],
   "source": [
    "# .columns shows the column names\n",
    "# this is an attribute instead of a method - note the lack of parentheses ()\n",
    "gap.columns"
   ]
  },
  {
   "cell_type": "markdown",
   "id": "f7530562",
   "metadata": {},
   "source": [
    "### `.shape`"
   ]
  },
  {
   "cell_type": "code",
   "execution_count": 8,
   "id": "cb4967d3",
   "metadata": {},
   "outputs": [
    {
     "data": {
      "text/plain": [
       "(1704, 6)"
      ]
     },
     "execution_count": 8,
     "metadata": {},
     "output_type": "execute_result"
    }
   ],
   "source": [
    "# .shape shows the number of rows by columns\n",
    "gap.shape"
   ]
  },
  {
   "cell_type": "markdown",
   "id": "cebde311",
   "metadata": {},
   "source": [
    "### `.info()`"
   ]
  },
  {
   "cell_type": "code",
   "execution_count": 9,
   "id": "53412ce0",
   "metadata": {},
   "outputs": [
    {
     "name": "stdout",
     "output_type": "stream",
     "text": [
      "<class 'pandas.core.frame.DataFrame'>\n",
      "RangeIndex: 1704 entries, 0 to 1703\n",
      "Data columns (total 6 columns):\n",
      " #   Column     Non-Null Count  Dtype  \n",
      "---  ------     --------------  -----  \n",
      " 0   country    1704 non-null   object \n",
      " 1   year       1704 non-null   int64  \n",
      " 2   pop        1704 non-null   float64\n",
      " 3   continent  1704 non-null   object \n",
      " 4   lifeExp    1704 non-null   float64\n",
      " 5   gdpPercap  1704 non-null   float64\n",
      "dtypes: float64(3), int64(1), object(2)\n",
      "memory usage: 80.0+ KB\n"
     ]
    }
   ],
   "source": [
    "# .info() shows the compact structure of the dataset, including:\n",
    "# class, dimensions, column names, number of missing values, and types\n",
    "gap.info()"
   ]
  },
  {
   "cell_type": "markdown",
   "id": "3b902796",
   "metadata": {},
   "source": [
    "## Summary statistics\n",
    "\n",
    "Produce summary statistics, including: \n",
    "* Count, mean, sd, quartiles, min/max\n",
    "* Tabulate frequencies"
   ]
  },
  {
   "cell_type": "markdown",
   "id": "53918b33",
   "metadata": {},
   "source": [
    "### `.describe()`"
   ]
  },
  {
   "cell_type": "code",
   "execution_count": 10,
   "id": "7d45c9cd",
   "metadata": {},
   "outputs": [
    {
     "data": {
      "text/html": [
       "<div>\n",
       "<style scoped>\n",
       "    .dataframe tbody tr th:only-of-type {\n",
       "        vertical-align: middle;\n",
       "    }\n",
       "\n",
       "    .dataframe tbody tr th {\n",
       "        vertical-align: top;\n",
       "    }\n",
       "\n",
       "    .dataframe thead th {\n",
       "        text-align: right;\n",
       "    }\n",
       "</style>\n",
       "<table border=\"1\" class=\"dataframe\">\n",
       "  <thead>\n",
       "    <tr style=\"text-align: right;\">\n",
       "      <th></th>\n",
       "      <th>year</th>\n",
       "      <th>pop</th>\n",
       "      <th>lifeExp</th>\n",
       "      <th>gdpPercap</th>\n",
       "    </tr>\n",
       "  </thead>\n",
       "  <tbody>\n",
       "    <tr>\n",
       "      <th>count</th>\n",
       "      <td>1704.00000</td>\n",
       "      <td>1.704000e+03</td>\n",
       "      <td>1704.000000</td>\n",
       "      <td>1704.000000</td>\n",
       "    </tr>\n",
       "    <tr>\n",
       "      <th>mean</th>\n",
       "      <td>1979.50000</td>\n",
       "      <td>2.960121e+07</td>\n",
       "      <td>59.474439</td>\n",
       "      <td>7215.327081</td>\n",
       "    </tr>\n",
       "    <tr>\n",
       "      <th>std</th>\n",
       "      <td>17.26533</td>\n",
       "      <td>1.061579e+08</td>\n",
       "      <td>12.917107</td>\n",
       "      <td>9857.454543</td>\n",
       "    </tr>\n",
       "    <tr>\n",
       "      <th>min</th>\n",
       "      <td>1952.00000</td>\n",
       "      <td>6.001100e+04</td>\n",
       "      <td>23.599000</td>\n",
       "      <td>241.165876</td>\n",
       "    </tr>\n",
       "    <tr>\n",
       "      <th>25%</th>\n",
       "      <td>1965.75000</td>\n",
       "      <td>2.793664e+06</td>\n",
       "      <td>48.198000</td>\n",
       "      <td>1202.060309</td>\n",
       "    </tr>\n",
       "    <tr>\n",
       "      <th>50%</th>\n",
       "      <td>1979.50000</td>\n",
       "      <td>7.023596e+06</td>\n",
       "      <td>60.712500</td>\n",
       "      <td>3531.846988</td>\n",
       "    </tr>\n",
       "    <tr>\n",
       "      <th>75%</th>\n",
       "      <td>1993.25000</td>\n",
       "      <td>1.958522e+07</td>\n",
       "      <td>70.845500</td>\n",
       "      <td>9325.462346</td>\n",
       "    </tr>\n",
       "    <tr>\n",
       "      <th>max</th>\n",
       "      <td>2007.00000</td>\n",
       "      <td>1.318683e+09</td>\n",
       "      <td>82.603000</td>\n",
       "      <td>113523.132900</td>\n",
       "    </tr>\n",
       "  </tbody>\n",
       "</table>\n",
       "</div>"
      ],
      "text/plain": [
       "             year           pop      lifeExp      gdpPercap\n",
       "count  1704.00000  1.704000e+03  1704.000000    1704.000000\n",
       "mean   1979.50000  2.960121e+07    59.474439    7215.327081\n",
       "std      17.26533  1.061579e+08    12.917107    9857.454543\n",
       "min    1952.00000  6.001100e+04    23.599000     241.165876\n",
       "25%    1965.75000  2.793664e+06    48.198000    1202.060309\n",
       "50%    1979.50000  7.023596e+06    60.712500    3531.846988\n",
       "75%    1993.25000  1.958522e+07    70.845500    9325.462346\n",
       "max    2007.00000  1.318683e+09    82.603000  113523.132900"
      ]
     },
     "execution_count": 10,
     "metadata": {},
     "output_type": "execute_result"
    }
   ],
   "source": [
    "# produce summary statistics for numeric data\n",
    "gap.describe()"
   ]
  },
  {
   "cell_type": "markdown",
   "id": "dcc9e580",
   "metadata": {},
   "source": [
    "### `.mean()` and `.std()`"
   ]
  },
  {
   "cell_type": "code",
   "execution_count": 11,
   "id": "7e706097",
   "metadata": {},
   "outputs": [
    {
     "name": "stdout",
     "output_type": "stream",
     "text": [
      "Life expectancy mean: 59.47443936619714\n",
      "Life expectancy sd: 12.917107415241187\n"
     ]
    }
   ],
   "source": [
    "# calculate mean and standard deviation of lifeExp\n",
    "lifeExp_mean = gap[\"lifeExp\"].mean()\n",
    "lifeExp_sd = gap[\"lifeExp\"].std()\n",
    "print(\"Life expectancy mean:\", lifeExp_mean)\n",
    "print(\"Life expectancy sd:\", lifeExp_sd)"
   ]
  },
  {
   "cell_type": "markdown",
   "id": "be4f8fef",
   "metadata": {},
   "source": [
    "### `.groupby()` and `.count()`\n",
    "\n",
    "These two methods are useful for tabulating frequencies by a grouping variable!"
   ]
  },
  {
   "cell_type": "code",
   "execution_count": 12,
   "id": "6ac59693",
   "metadata": {},
   "outputs": [],
   "source": [
    "import pandas as pd\n",
    "gap = pd.read_csv(\"data/gapminder-FiveYearData.csv\")"
   ]
  },
  {
   "cell_type": "code",
   "execution_count": 13,
   "id": "1ef851ed",
   "metadata": {},
   "outputs": [],
   "source": [
    "pd.set_option('display.float_format', lambda x: '%.6f' % x)\n"
   ]
  },
  {
   "cell_type": "code",
   "execution_count": 14,
   "id": "c06d3ce5",
   "metadata": {},
   "outputs": [
    {
     "data": {
      "text/plain": [
       "continent\n",
       "Africa      9916003.142628\n",
       "Americas   24504794.996667\n",
       "Asia       77038721.974747\n",
       "Europe     17169764.733333\n",
       "Oceania     8874672.333333\n",
       "Name: pop, dtype: float64"
      ]
     },
     "execution_count": 14,
     "metadata": {},
     "output_type": "execute_result"
    }
   ],
   "source": [
    "# count the number of observations grouped by each continent\n",
    "gap.groupby(\"continent\").mean()[\"pop\"]"
   ]
  },
  {
   "cell_type": "markdown",
   "id": "0e09b80a",
   "metadata": {},
   "source": [
    "## Subset rows or columns\n",
    "\n",
    "Sampling data is necessary for many reasons, including quick sanity checks. \n",
    "\n",
    "Slice a data frame by using bracket notation to specify start and end points `[start : end]`\n",
    "\n",
    "The `[start ` index is **included** and the ` end]` index is **excluded**. \n",
    "\n",
    "> Remember that Python is a zero-indexed language, so starts counting from zero, not one.\n",
    "\n",
    "Leave the start or end values blank to start from the beginning, or go to the end of a collection. "
   ]
  },
  {
   "cell_type": "markdown",
   "id": "656fb7c8",
   "metadata": {},
   "source": [
    "### Row subset: slice just the first row"
   ]
  },
  {
   "cell_type": "code",
   "execution_count": 15,
   "id": "b97402ad",
   "metadata": {},
   "outputs": [
    {
     "data": {
      "text/html": [
       "<div>\n",
       "<style scoped>\n",
       "    .dataframe tbody tr th:only-of-type {\n",
       "        vertical-align: middle;\n",
       "    }\n",
       "\n",
       "    .dataframe tbody tr th {\n",
       "        vertical-align: top;\n",
       "    }\n",
       "\n",
       "    .dataframe thead th {\n",
       "        text-align: right;\n",
       "    }\n",
       "</style>\n",
       "<table border=\"1\" class=\"dataframe\">\n",
       "  <thead>\n",
       "    <tr style=\"text-align: right;\">\n",
       "      <th></th>\n",
       "      <th>country</th>\n",
       "      <th>year</th>\n",
       "      <th>pop</th>\n",
       "      <th>continent</th>\n",
       "      <th>lifeExp</th>\n",
       "      <th>gdpPercap</th>\n",
       "    </tr>\n",
       "  </thead>\n",
       "  <tbody>\n",
       "    <tr>\n",
       "      <th>0</th>\n",
       "      <td>Afghanistan</td>\n",
       "      <td>1952</td>\n",
       "      <td>8425333.000000</td>\n",
       "      <td>Asia</td>\n",
       "      <td>28.801000</td>\n",
       "      <td>779.445314</td>\n",
       "    </tr>\n",
       "  </tbody>\n",
       "</table>\n",
       "</div>"
      ],
      "text/plain": [
       "       country  year            pop continent   lifeExp  gdpPercap\n",
       "0  Afghanistan  1952 8425333.000000      Asia 28.801000 779.445314"
      ]
     },
     "execution_count": 15,
     "metadata": {},
     "output_type": "execute_result"
    }
   ],
   "source": [
    "gap[:1]"
   ]
  },
  {
   "cell_type": "markdown",
   "id": "fee70150",
   "metadata": {},
   "source": [
    "### Row subset: slice first three rows"
   ]
  },
  {
   "cell_type": "code",
   "execution_count": 16,
   "id": "17578ed4",
   "metadata": {},
   "outputs": [
    {
     "data": {
      "text/html": [
       "<div>\n",
       "<style scoped>\n",
       "    .dataframe tbody tr th:only-of-type {\n",
       "        vertical-align: middle;\n",
       "    }\n",
       "\n",
       "    .dataframe tbody tr th {\n",
       "        vertical-align: top;\n",
       "    }\n",
       "\n",
       "    .dataframe thead th {\n",
       "        text-align: right;\n",
       "    }\n",
       "</style>\n",
       "<table border=\"1\" class=\"dataframe\">\n",
       "  <thead>\n",
       "    <tr style=\"text-align: right;\">\n",
       "      <th></th>\n",
       "      <th>country</th>\n",
       "      <th>year</th>\n",
       "      <th>pop</th>\n",
       "      <th>continent</th>\n",
       "      <th>lifeExp</th>\n",
       "      <th>gdpPercap</th>\n",
       "    </tr>\n",
       "  </thead>\n",
       "  <tbody>\n",
       "    <tr>\n",
       "      <th>0</th>\n",
       "      <td>Afghanistan</td>\n",
       "      <td>1952</td>\n",
       "      <td>8425333.000000</td>\n",
       "      <td>Asia</td>\n",
       "      <td>28.801000</td>\n",
       "      <td>779.445314</td>\n",
       "    </tr>\n",
       "    <tr>\n",
       "      <th>1</th>\n",
       "      <td>Afghanistan</td>\n",
       "      <td>1957</td>\n",
       "      <td>9240934.000000</td>\n",
       "      <td>Asia</td>\n",
       "      <td>30.332000</td>\n",
       "      <td>820.853030</td>\n",
       "    </tr>\n",
       "    <tr>\n",
       "      <th>2</th>\n",
       "      <td>Afghanistan</td>\n",
       "      <td>1962</td>\n",
       "      <td>10267083.000000</td>\n",
       "      <td>Asia</td>\n",
       "      <td>31.997000</td>\n",
       "      <td>853.100710</td>\n",
       "    </tr>\n",
       "  </tbody>\n",
       "</table>\n",
       "</div>"
      ],
      "text/plain": [
       "       country  year             pop continent   lifeExp  gdpPercap\n",
       "0  Afghanistan  1952  8425333.000000      Asia 28.801000 779.445314\n",
       "1  Afghanistan  1957  9240934.000000      Asia 30.332000 820.853030\n",
       "2  Afghanistan  1962 10267083.000000      Asia 31.997000 853.100710"
      ]
     },
     "execution_count": 16,
     "metadata": {},
     "output_type": "execute_result"
    }
   ],
   "source": [
    "gap[:3]"
   ]
  },
  {
   "cell_type": "markdown",
   "id": "f07299a7",
   "metadata": {},
   "source": [
    "### Row subset: slice rows 10 thru 14"
   ]
  },
  {
   "cell_type": "code",
   "execution_count": 17,
   "id": "8c00e332",
   "metadata": {},
   "outputs": [
    {
     "data": {
      "text/html": [
       "<div>\n",
       "<style scoped>\n",
       "    .dataframe tbody tr th:only-of-type {\n",
       "        vertical-align: middle;\n",
       "    }\n",
       "\n",
       "    .dataframe tbody tr th {\n",
       "        vertical-align: top;\n",
       "    }\n",
       "\n",
       "    .dataframe thead th {\n",
       "        text-align: right;\n",
       "    }\n",
       "</style>\n",
       "<table border=\"1\" class=\"dataframe\">\n",
       "  <thead>\n",
       "    <tr style=\"text-align: right;\">\n",
       "      <th></th>\n",
       "      <th>country</th>\n",
       "      <th>year</th>\n",
       "      <th>pop</th>\n",
       "      <th>continent</th>\n",
       "      <th>lifeExp</th>\n",
       "      <th>gdpPercap</th>\n",
       "    </tr>\n",
       "  </thead>\n",
       "  <tbody>\n",
       "    <tr>\n",
       "      <th>10</th>\n",
       "      <td>Afghanistan</td>\n",
       "      <td>2002</td>\n",
       "      <td>25268405.000000</td>\n",
       "      <td>Asia</td>\n",
       "      <td>42.129000</td>\n",
       "      <td>726.734055</td>\n",
       "    </tr>\n",
       "    <tr>\n",
       "      <th>11</th>\n",
       "      <td>Afghanistan</td>\n",
       "      <td>2007</td>\n",
       "      <td>31889923.000000</td>\n",
       "      <td>Asia</td>\n",
       "      <td>43.828000</td>\n",
       "      <td>974.580338</td>\n",
       "    </tr>\n",
       "    <tr>\n",
       "      <th>12</th>\n",
       "      <td>Albania</td>\n",
       "      <td>1952</td>\n",
       "      <td>1282697.000000</td>\n",
       "      <td>Europe</td>\n",
       "      <td>55.230000</td>\n",
       "      <td>1601.056136</td>\n",
       "    </tr>\n",
       "    <tr>\n",
       "      <th>13</th>\n",
       "      <td>Albania</td>\n",
       "      <td>1957</td>\n",
       "      <td>1476505.000000</td>\n",
       "      <td>Europe</td>\n",
       "      <td>59.280000</td>\n",
       "      <td>1942.284244</td>\n",
       "    </tr>\n",
       "    <tr>\n",
       "      <th>14</th>\n",
       "      <td>Albania</td>\n",
       "      <td>1962</td>\n",
       "      <td>1728137.000000</td>\n",
       "      <td>Europe</td>\n",
       "      <td>64.820000</td>\n",
       "      <td>2312.888958</td>\n",
       "    </tr>\n",
       "  </tbody>\n",
       "</table>\n",
       "</div>"
      ],
      "text/plain": [
       "        country  year             pop continent   lifeExp   gdpPercap\n",
       "10  Afghanistan  2002 25268405.000000      Asia 42.129000  726.734055\n",
       "11  Afghanistan  2007 31889923.000000      Asia 43.828000  974.580338\n",
       "12      Albania  1952  1282697.000000    Europe 55.230000 1601.056136\n",
       "13      Albania  1957  1476505.000000    Europe 59.280000 1942.284244\n",
       "14      Albania  1962  1728137.000000    Europe 64.820000 2312.888958"
      ]
     },
     "execution_count": 17,
     "metadata": {},
     "output_type": "execute_result"
    }
   ],
   "source": [
    "subset1 = gap[10:15]\n",
    "subset1"
   ]
  },
  {
   "cell_type": "markdown",
   "id": "a506d352",
   "metadata": {},
   "source": [
    "### Column subset: one column"
   ]
  },
  {
   "cell_type": "code",
   "execution_count": 18,
   "id": "a5e85c66",
   "metadata": {},
   "outputs": [
    {
     "data": {
      "text/plain": [
       "0      28.801000\n",
       "1      30.332000\n",
       "2      31.997000\n",
       "3      34.020000\n",
       "4      36.088000\n",
       "          ...   \n",
       "1699   62.351000\n",
       "1700   60.377000\n",
       "1701   46.809000\n",
       "1702   39.989000\n",
       "1703   43.487000\n",
       "Name: lifeExp, Length: 1704, dtype: float64"
      ]
     },
     "execution_count": 18,
     "metadata": {},
     "output_type": "execute_result"
    }
   ],
   "source": [
    "# type the column name as a string in square brackets\n",
    "gap['lifeExp']"
   ]
  },
  {
   "cell_type": "markdown",
   "id": "c4e64819",
   "metadata": {},
   "source": [
    "### Column subset: multiple columns"
   ]
  },
  {
   "cell_type": "code",
   "execution_count": 19,
   "id": "57f1d01a",
   "metadata": {},
   "outputs": [
    {
     "data": {
      "text/html": [
       "<div>\n",
       "<style scoped>\n",
       "    .dataframe tbody tr th:only-of-type {\n",
       "        vertical-align: middle;\n",
       "    }\n",
       "\n",
       "    .dataframe tbody tr th {\n",
       "        vertical-align: top;\n",
       "    }\n",
       "\n",
       "    .dataframe thead th {\n",
       "        text-align: right;\n",
       "    }\n",
       "</style>\n",
       "<table border=\"1\" class=\"dataframe\">\n",
       "  <thead>\n",
       "    <tr style=\"text-align: right;\">\n",
       "      <th></th>\n",
       "      <th>continent</th>\n",
       "      <th>lifeExp</th>\n",
       "      <th>gdpPercap</th>\n",
       "    </tr>\n",
       "  </thead>\n",
       "  <tbody>\n",
       "    <tr>\n",
       "      <th>0</th>\n",
       "      <td>Asia</td>\n",
       "      <td>28.801000</td>\n",
       "      <td>779.445314</td>\n",
       "    </tr>\n",
       "    <tr>\n",
       "      <th>1</th>\n",
       "      <td>Asia</td>\n",
       "      <td>30.332000</td>\n",
       "      <td>820.853030</td>\n",
       "    </tr>\n",
       "    <tr>\n",
       "      <th>2</th>\n",
       "      <td>Asia</td>\n",
       "      <td>31.997000</td>\n",
       "      <td>853.100710</td>\n",
       "    </tr>\n",
       "    <tr>\n",
       "      <th>3</th>\n",
       "      <td>Asia</td>\n",
       "      <td>34.020000</td>\n",
       "      <td>836.197138</td>\n",
       "    </tr>\n",
       "    <tr>\n",
       "      <th>4</th>\n",
       "      <td>Asia</td>\n",
       "      <td>36.088000</td>\n",
       "      <td>739.981106</td>\n",
       "    </tr>\n",
       "    <tr>\n",
       "      <th>...</th>\n",
       "      <td>...</td>\n",
       "      <td>...</td>\n",
       "      <td>...</td>\n",
       "    </tr>\n",
       "    <tr>\n",
       "      <th>1699</th>\n",
       "      <td>Africa</td>\n",
       "      <td>62.351000</td>\n",
       "      <td>706.157306</td>\n",
       "    </tr>\n",
       "    <tr>\n",
       "      <th>1700</th>\n",
       "      <td>Africa</td>\n",
       "      <td>60.377000</td>\n",
       "      <td>693.420786</td>\n",
       "    </tr>\n",
       "    <tr>\n",
       "      <th>1701</th>\n",
       "      <td>Africa</td>\n",
       "      <td>46.809000</td>\n",
       "      <td>792.449960</td>\n",
       "    </tr>\n",
       "    <tr>\n",
       "      <th>1702</th>\n",
       "      <td>Africa</td>\n",
       "      <td>39.989000</td>\n",
       "      <td>672.038623</td>\n",
       "    </tr>\n",
       "    <tr>\n",
       "      <th>1703</th>\n",
       "      <td>Africa</td>\n",
       "      <td>43.487000</td>\n",
       "      <td>469.709298</td>\n",
       "    </tr>\n",
       "  </tbody>\n",
       "</table>\n",
       "<p>1704 rows × 3 columns</p>\n",
       "</div>"
      ],
      "text/plain": [
       "     continent   lifeExp  gdpPercap\n",
       "0         Asia 28.801000 779.445314\n",
       "1         Asia 30.332000 820.853030\n",
       "2         Asia 31.997000 853.100710\n",
       "3         Asia 34.020000 836.197138\n",
       "4         Asia 36.088000 739.981106\n",
       "...        ...       ...        ...\n",
       "1699    Africa 62.351000 706.157306\n",
       "1700    Africa 60.377000 693.420786\n",
       "1701    Africa 46.809000 792.449960\n",
       "1702    Africa 39.989000 672.038623\n",
       "1703    Africa 43.487000 469.709298\n",
       "\n",
       "[1704 rows x 3 columns]"
      ]
     },
     "execution_count": 19,
     "metadata": {},
     "output_type": "execute_result"
    }
   ],
   "source": [
    "# note the double sets of brackets\n",
    "subset2 = gap[['continent', 'lifeExp', 'gdpPercap']]\n",
    "subset2"
   ]
  },
  {
   "cell_type": "markdown",
   "id": "7dc672ec",
   "metadata": {},
   "source": [
    "### Row and column subset"
   ]
  },
  {
   "cell_type": "code",
   "execution_count": 20,
   "id": "7fc903a9",
   "metadata": {},
   "outputs": [
    {
     "data": {
      "text/html": [
       "<div>\n",
       "<style scoped>\n",
       "    .dataframe tbody tr th:only-of-type {\n",
       "        vertical-align: middle;\n",
       "    }\n",
       "\n",
       "    .dataframe tbody tr th {\n",
       "        vertical-align: top;\n",
       "    }\n",
       "\n",
       "    .dataframe thead th {\n",
       "        text-align: right;\n",
       "    }\n",
       "</style>\n",
       "<table border=\"1\" class=\"dataframe\">\n",
       "  <thead>\n",
       "    <tr style=\"text-align: right;\">\n",
       "      <th></th>\n",
       "      <th>continent</th>\n",
       "      <th>lifeExp</th>\n",
       "      <th>gdpPercap</th>\n",
       "    </tr>\n",
       "  </thead>\n",
       "  <tbody>\n",
       "    <tr>\n",
       "      <th>855</th>\n",
       "      <td>Asia</td>\n",
       "      <td>64.624000</td>\n",
       "      <td>80894.883260</td>\n",
       "    </tr>\n",
       "    <tr>\n",
       "      <th>856</th>\n",
       "      <td>Asia</td>\n",
       "      <td>67.712000</td>\n",
       "      <td>109347.867000</td>\n",
       "    </tr>\n",
       "    <tr>\n",
       "      <th>857</th>\n",
       "      <td>Asia</td>\n",
       "      <td>69.343000</td>\n",
       "      <td>59265.477140</td>\n",
       "    </tr>\n",
       "    <tr>\n",
       "      <th>858</th>\n",
       "      <td>Asia</td>\n",
       "      <td>71.309000</td>\n",
       "      <td>31354.035730</td>\n",
       "    </tr>\n",
       "  </tbody>\n",
       "</table>\n",
       "</div>"
      ],
      "text/plain": [
       "    continent   lifeExp     gdpPercap\n",
       "855      Asia 64.624000  80894.883260\n",
       "856      Asia 67.712000 109347.867000\n",
       "857      Asia 69.343000  59265.477140\n",
       "858      Asia 71.309000  31354.035730"
      ]
     },
     "execution_count": 20,
     "metadata": {},
     "output_type": "execute_result"
    }
   ],
   "source": [
    "# subset more than one column and rows 855 thru 858\n",
    "subset3 = gap[['continent', 'lifeExp', 'gdpPercap']][855:859]\n",
    "subset3"
   ]
  },
  {
   "cell_type": "code",
   "execution_count": 21,
   "id": "f3275af8",
   "metadata": {},
   "outputs": [
    {
     "data": {
      "text/plain": [
       "pandas.core.series.Series"
      ]
     },
     "execution_count": 21,
     "metadata": {},
     "output_type": "execute_result"
    }
   ],
   "source": [
    "# A column in a pandas data frame Pandas \"Series\" can be thought of like numpy arrays\n",
    "# But, beware, they do not function exactly the same!\n",
    "type(gap[\"lifeExp\"])"
   ]
  },
  {
   "cell_type": "markdown",
   "id": "9a2e1768",
   "metadata": {},
   "source": [
    "### Subset by logical condition(s)"
   ]
  },
  {
   "cell_type": "code",
   "execution_count": 22,
   "id": "dc58192f",
   "metadata": {},
   "outputs": [
    {
     "data": {
      "text/html": [
       "<div>\n",
       "<style scoped>\n",
       "    .dataframe tbody tr th:only-of-type {\n",
       "        vertical-align: middle;\n",
       "    }\n",
       "\n",
       "    .dataframe tbody tr th {\n",
       "        vertical-align: top;\n",
       "    }\n",
       "\n",
       "    .dataframe thead th {\n",
       "        text-align: right;\n",
       "    }\n",
       "</style>\n",
       "<table border=\"1\" class=\"dataframe\">\n",
       "  <thead>\n",
       "    <tr style=\"text-align: right;\">\n",
       "      <th></th>\n",
       "      <th>country</th>\n",
       "      <th>year</th>\n",
       "      <th>pop</th>\n",
       "      <th>continent</th>\n",
       "      <th>lifeExp</th>\n",
       "      <th>gdpPercap</th>\n",
       "    </tr>\n",
       "  </thead>\n",
       "  <tbody>\n",
       "    <tr>\n",
       "      <th>71</th>\n",
       "      <td>Australia</td>\n",
       "      <td>2007</td>\n",
       "      <td>20434176.000000</td>\n",
       "      <td>Oceania</td>\n",
       "      <td>81.235000</td>\n",
       "      <td>34435.367440</td>\n",
       "    </tr>\n",
       "    <tr>\n",
       "      <th>670</th>\n",
       "      <td>Hong Kong China</td>\n",
       "      <td>2002</td>\n",
       "      <td>6762476.000000</td>\n",
       "      <td>Asia</td>\n",
       "      <td>81.495000</td>\n",
       "      <td>30209.015160</td>\n",
       "    </tr>\n",
       "    <tr>\n",
       "      <th>671</th>\n",
       "      <td>Hong Kong China</td>\n",
       "      <td>2007</td>\n",
       "      <td>6980412.000000</td>\n",
       "      <td>Asia</td>\n",
       "      <td>82.208000</td>\n",
       "      <td>39724.978670</td>\n",
       "    </tr>\n",
       "    <tr>\n",
       "      <th>695</th>\n",
       "      <td>Iceland</td>\n",
       "      <td>2007</td>\n",
       "      <td>301931.000000</td>\n",
       "      <td>Europe</td>\n",
       "      <td>81.757000</td>\n",
       "      <td>36180.789190</td>\n",
       "    </tr>\n",
       "    <tr>\n",
       "      <th>802</th>\n",
       "      <td>Japan</td>\n",
       "      <td>2002</td>\n",
       "      <td>127065841.000000</td>\n",
       "      <td>Asia</td>\n",
       "      <td>82.000000</td>\n",
       "      <td>28604.591900</td>\n",
       "    </tr>\n",
       "    <tr>\n",
       "      <th>803</th>\n",
       "      <td>Japan</td>\n",
       "      <td>2007</td>\n",
       "      <td>127467972.000000</td>\n",
       "      <td>Asia</td>\n",
       "      <td>82.603000</td>\n",
       "      <td>31656.068060</td>\n",
       "    </tr>\n",
       "    <tr>\n",
       "      <th>1487</th>\n",
       "      <td>Switzerland</td>\n",
       "      <td>2007</td>\n",
       "      <td>7554661.000000</td>\n",
       "      <td>Europe</td>\n",
       "      <td>81.701000</td>\n",
       "      <td>37506.419070</td>\n",
       "    </tr>\n",
       "  </tbody>\n",
       "</table>\n",
       "</div>"
      ],
      "text/plain": [
       "              country  year              pop continent   lifeExp    gdpPercap\n",
       "71          Australia  2007  20434176.000000   Oceania 81.235000 34435.367440\n",
       "670   Hong Kong China  2002   6762476.000000      Asia 81.495000 30209.015160\n",
       "671   Hong Kong China  2007   6980412.000000      Asia 82.208000 39724.978670\n",
       "695           Iceland  2007    301931.000000    Europe 81.757000 36180.789190\n",
       "802             Japan  2002 127065841.000000      Asia 82.000000 28604.591900\n",
       "803             Japan  2007 127467972.000000      Asia 82.603000 31656.068060\n",
       "1487      Switzerland  2007   7554661.000000    Europe 81.701000 37506.419070"
      ]
     },
     "execution_count": 22,
     "metadata": {},
     "output_type": "execute_result"
    }
   ],
   "source": [
    "# lifeExp is greater than 81\n",
    "le2 = gap[gap['lifeExp'] > 81]\n",
    "le2"
   ]
  },
  {
   "cell_type": "markdown",
   "id": "6f4214d2",
   "metadata": {},
   "source": [
    "### logical AND (`&`)\n",
    "\n",
    "All conditions must be satisfied to be included in the subset"
   ]
  },
  {
   "cell_type": "code",
   "execution_count": 23,
   "id": "9d6aba51",
   "metadata": {},
   "outputs": [
    {
     "data": {
      "text/html": [
       "<div>\n",
       "<style scoped>\n",
       "    .dataframe tbody tr th:only-of-type {\n",
       "        vertical-align: middle;\n",
       "    }\n",
       "\n",
       "    .dataframe tbody tr th {\n",
       "        vertical-align: top;\n",
       "    }\n",
       "\n",
       "    .dataframe thead th {\n",
       "        text-align: right;\n",
       "    }\n",
       "</style>\n",
       "<table border=\"1\" class=\"dataframe\">\n",
       "  <thead>\n",
       "    <tr style=\"text-align: right;\">\n",
       "      <th></th>\n",
       "      <th>country</th>\n",
       "      <th>year</th>\n",
       "      <th>pop</th>\n",
       "      <th>continent</th>\n",
       "      <th>lifeExp</th>\n",
       "      <th>gdpPercap</th>\n",
       "    </tr>\n",
       "  </thead>\n",
       "  <tbody>\n",
       "    <tr>\n",
       "      <th>695</th>\n",
       "      <td>Iceland</td>\n",
       "      <td>2007</td>\n",
       "      <td>301931.000000</td>\n",
       "      <td>Europe</td>\n",
       "      <td>81.757000</td>\n",
       "      <td>36180.789190</td>\n",
       "    </tr>\n",
       "  </tbody>\n",
       "</table>\n",
       "</div>"
      ],
      "text/plain": [
       "     country  year           pop continent   lifeExp    gdpPercap\n",
       "695  Iceland  2007 301931.000000    Europe 81.757000 36180.789190"
      ]
     },
     "execution_count": 23,
     "metadata": {},
     "output_type": "execute_result"
    }
   ],
   "source": [
    "# create subset that includes life expectancy greater than 81 AND pop < 500,000.\n",
    "year2002 = gap[(gap[\"lifeExp\"] > 81) & (gap[\"pop\"] < 500000)]\n",
    "year2002"
   ]
  },
  {
   "cell_type": "markdown",
   "id": "fb753dc5",
   "metadata": {},
   "source": [
    "### logical OR (`|`)\n",
    "\n",
    "Just one of multiple conditions must be satisfied to be included in the subset"
   ]
  },
  {
   "cell_type": "code",
   "execution_count": 24,
   "id": "041ebce4",
   "metadata": {
    "scrolled": true
   },
   "outputs": [
    {
     "data": {
      "text/html": [
       "<div>\n",
       "<style scoped>\n",
       "    .dataframe tbody tr th:only-of-type {\n",
       "        vertical-align: middle;\n",
       "    }\n",
       "\n",
       "    .dataframe tbody tr th {\n",
       "        vertical-align: top;\n",
       "    }\n",
       "\n",
       "    .dataframe thead th {\n",
       "        text-align: right;\n",
       "    }\n",
       "</style>\n",
       "<table border=\"1\" class=\"dataframe\">\n",
       "  <thead>\n",
       "    <tr style=\"text-align: right;\">\n",
       "      <th></th>\n",
       "      <th>country</th>\n",
       "      <th>year</th>\n",
       "      <th>pop</th>\n",
       "      <th>continent</th>\n",
       "      <th>lifeExp</th>\n",
       "      <th>gdpPercap</th>\n",
       "    </tr>\n",
       "  </thead>\n",
       "  <tbody>\n",
       "    <tr>\n",
       "      <th>671</th>\n",
       "      <td>Hong Kong China</td>\n",
       "      <td>2007</td>\n",
       "      <td>6980412.000000</td>\n",
       "      <td>Asia</td>\n",
       "      <td>82.208000</td>\n",
       "      <td>39724.978670</td>\n",
       "    </tr>\n",
       "    <tr>\n",
       "      <th>744</th>\n",
       "      <td>Ireland</td>\n",
       "      <td>1952</td>\n",
       "      <td>2952156.000000</td>\n",
       "      <td>Europe</td>\n",
       "      <td>66.910000</td>\n",
       "      <td>5210.280328</td>\n",
       "    </tr>\n",
       "    <tr>\n",
       "      <th>745</th>\n",
       "      <td>Ireland</td>\n",
       "      <td>1957</td>\n",
       "      <td>2878220.000000</td>\n",
       "      <td>Europe</td>\n",
       "      <td>68.900000</td>\n",
       "      <td>5599.077872</td>\n",
       "    </tr>\n",
       "    <tr>\n",
       "      <th>746</th>\n",
       "      <td>Ireland</td>\n",
       "      <td>1962</td>\n",
       "      <td>2830000.000000</td>\n",
       "      <td>Europe</td>\n",
       "      <td>70.290000</td>\n",
       "      <td>6631.597314</td>\n",
       "    </tr>\n",
       "    <tr>\n",
       "      <th>747</th>\n",
       "      <td>Ireland</td>\n",
       "      <td>1967</td>\n",
       "      <td>2900100.000000</td>\n",
       "      <td>Europe</td>\n",
       "      <td>71.080000</td>\n",
       "      <td>7655.568963</td>\n",
       "    </tr>\n",
       "    <tr>\n",
       "      <th>748</th>\n",
       "      <td>Ireland</td>\n",
       "      <td>1972</td>\n",
       "      <td>3024400.000000</td>\n",
       "      <td>Europe</td>\n",
       "      <td>71.280000</td>\n",
       "      <td>9530.772896</td>\n",
       "    </tr>\n",
       "    <tr>\n",
       "      <th>749</th>\n",
       "      <td>Ireland</td>\n",
       "      <td>1977</td>\n",
       "      <td>3271900.000000</td>\n",
       "      <td>Europe</td>\n",
       "      <td>72.030000</td>\n",
       "      <td>11150.981130</td>\n",
       "    </tr>\n",
       "    <tr>\n",
       "      <th>750</th>\n",
       "      <td>Ireland</td>\n",
       "      <td>1982</td>\n",
       "      <td>3480000.000000</td>\n",
       "      <td>Europe</td>\n",
       "      <td>73.100000</td>\n",
       "      <td>12618.321410</td>\n",
       "    </tr>\n",
       "    <tr>\n",
       "      <th>751</th>\n",
       "      <td>Ireland</td>\n",
       "      <td>1987</td>\n",
       "      <td>3539900.000000</td>\n",
       "      <td>Europe</td>\n",
       "      <td>74.360000</td>\n",
       "      <td>13872.866520</td>\n",
       "    </tr>\n",
       "    <tr>\n",
       "      <th>752</th>\n",
       "      <td>Ireland</td>\n",
       "      <td>1992</td>\n",
       "      <td>3557761.000000</td>\n",
       "      <td>Europe</td>\n",
       "      <td>75.467000</td>\n",
       "      <td>17558.815550</td>\n",
       "    </tr>\n",
       "    <tr>\n",
       "      <th>753</th>\n",
       "      <td>Ireland</td>\n",
       "      <td>1997</td>\n",
       "      <td>3667233.000000</td>\n",
       "      <td>Europe</td>\n",
       "      <td>76.122000</td>\n",
       "      <td>24521.947130</td>\n",
       "    </tr>\n",
       "    <tr>\n",
       "      <th>754</th>\n",
       "      <td>Ireland</td>\n",
       "      <td>2002</td>\n",
       "      <td>3879155.000000</td>\n",
       "      <td>Europe</td>\n",
       "      <td>77.783000</td>\n",
       "      <td>34077.049390</td>\n",
       "    </tr>\n",
       "    <tr>\n",
       "      <th>755</th>\n",
       "      <td>Ireland</td>\n",
       "      <td>2007</td>\n",
       "      <td>4109086.000000</td>\n",
       "      <td>Europe</td>\n",
       "      <td>78.885000</td>\n",
       "      <td>40675.996350</td>\n",
       "    </tr>\n",
       "    <tr>\n",
       "      <th>803</th>\n",
       "      <td>Japan</td>\n",
       "      <td>2007</td>\n",
       "      <td>127467972.000000</td>\n",
       "      <td>Asia</td>\n",
       "      <td>82.603000</td>\n",
       "      <td>31656.068060</td>\n",
       "    </tr>\n",
       "  </tbody>\n",
       "</table>\n",
       "</div>"
      ],
      "text/plain": [
       "             country  year              pop continent   lifeExp    gdpPercap\n",
       "671  Hong Kong China  2007   6980412.000000      Asia 82.208000 39724.978670\n",
       "744          Ireland  1952   2952156.000000    Europe 66.910000  5210.280328\n",
       "745          Ireland  1957   2878220.000000    Europe 68.900000  5599.077872\n",
       "746          Ireland  1962   2830000.000000    Europe 70.290000  6631.597314\n",
       "747          Ireland  1967   2900100.000000    Europe 71.080000  7655.568963\n",
       "748          Ireland  1972   3024400.000000    Europe 71.280000  9530.772896\n",
       "749          Ireland  1977   3271900.000000    Europe 72.030000 11150.981130\n",
       "750          Ireland  1982   3480000.000000    Europe 73.100000 12618.321410\n",
       "751          Ireland  1987   3539900.000000    Europe 74.360000 13872.866520\n",
       "752          Ireland  1992   3557761.000000    Europe 75.467000 17558.815550\n",
       "753          Ireland  1997   3667233.000000    Europe 76.122000 24521.947130\n",
       "754          Ireland  2002   3879155.000000    Europe 77.783000 34077.049390\n",
       "755          Ireland  2007   4109086.000000    Europe 78.885000 40675.996350\n",
       "803            Japan  2007 127467972.000000      Asia 82.603000 31656.068060"
      ]
     },
     "execution_count": 24,
     "metadata": {},
     "output_type": "execute_result"
    }
   ],
   "source": [
    "# create a subset that includes country equals Ireland OR life expectancy greater than 82. \n",
    "ireland82 = gap[(gap[\"country\"] == \"Ireland\") | (gap[\"lifeExp\"] > 82)]\n",
    "ireland82"
   ]
  },
  {
   "cell_type": "markdown",
   "id": "bef66a7b",
   "metadata": {},
   "source": [
    "## Exercises\n",
    "\n",
    "1. Load the file \"gapminder-FiveYearData.csv\" and save it in a variable named `gap`\n",
    "2. Print the column names\n",
    "3. Compute the mean for one numeric column\n",
    "4. Compute the mean for all numeric columns\n",
    "5. Tabulate frequencies for the \"continent\" column\n",
    "6. Compute mean lifeExp and dgpPercap by continent\n",
    "7. Create a subset of `gap` that contains only countries with lifeExp greater than 75 and gdpPercap less than 5000."
   ]
  },
  {
   "cell_type": "code",
   "execution_count": 25,
   "id": "98ab83c2",
   "metadata": {},
   "outputs": [
    {
     "data": {
      "text/html": [
       "<div>\n",
       "<style scoped>\n",
       "    .dataframe tbody tr th:only-of-type {\n",
       "        vertical-align: middle;\n",
       "    }\n",
       "\n",
       "    .dataframe tbody tr th {\n",
       "        vertical-align: top;\n",
       "    }\n",
       "\n",
       "    .dataframe thead th {\n",
       "        text-align: right;\n",
       "    }\n",
       "</style>\n",
       "<table border=\"1\" class=\"dataframe\">\n",
       "  <thead>\n",
       "    <tr style=\"text-align: right;\">\n",
       "      <th></th>\n",
       "      <th>country</th>\n",
       "      <th>year</th>\n",
       "      <th>pop</th>\n",
       "      <th>continent</th>\n",
       "      <th>lifeExp</th>\n",
       "      <th>gdpPercap</th>\n",
       "    </tr>\n",
       "  </thead>\n",
       "  <tbody>\n",
       "    <tr>\n",
       "      <th>0</th>\n",
       "      <td>Afghanistan</td>\n",
       "      <td>1952</td>\n",
       "      <td>8425333.000000</td>\n",
       "      <td>Asia</td>\n",
       "      <td>28.801000</td>\n",
       "      <td>779.445314</td>\n",
       "    </tr>\n",
       "    <tr>\n",
       "      <th>1</th>\n",
       "      <td>Afghanistan</td>\n",
       "      <td>1957</td>\n",
       "      <td>9240934.000000</td>\n",
       "      <td>Asia</td>\n",
       "      <td>30.332000</td>\n",
       "      <td>820.853030</td>\n",
       "    </tr>\n",
       "    <tr>\n",
       "      <th>2</th>\n",
       "      <td>Afghanistan</td>\n",
       "      <td>1962</td>\n",
       "      <td>10267083.000000</td>\n",
       "      <td>Asia</td>\n",
       "      <td>31.997000</td>\n",
       "      <td>853.100710</td>\n",
       "    </tr>\n",
       "    <tr>\n",
       "      <th>3</th>\n",
       "      <td>Afghanistan</td>\n",
       "      <td>1967</td>\n",
       "      <td>11537966.000000</td>\n",
       "      <td>Asia</td>\n",
       "      <td>34.020000</td>\n",
       "      <td>836.197138</td>\n",
       "    </tr>\n",
       "    <tr>\n",
       "      <th>4</th>\n",
       "      <td>Afghanistan</td>\n",
       "      <td>1972</td>\n",
       "      <td>13079460.000000</td>\n",
       "      <td>Asia</td>\n",
       "      <td>36.088000</td>\n",
       "      <td>739.981106</td>\n",
       "    </tr>\n",
       "    <tr>\n",
       "      <th>...</th>\n",
       "      <td>...</td>\n",
       "      <td>...</td>\n",
       "      <td>...</td>\n",
       "      <td>...</td>\n",
       "      <td>...</td>\n",
       "      <td>...</td>\n",
       "    </tr>\n",
       "    <tr>\n",
       "      <th>1699</th>\n",
       "      <td>Zimbabwe</td>\n",
       "      <td>1987</td>\n",
       "      <td>9216418.000000</td>\n",
       "      <td>Africa</td>\n",
       "      <td>62.351000</td>\n",
       "      <td>706.157306</td>\n",
       "    </tr>\n",
       "    <tr>\n",
       "      <th>1700</th>\n",
       "      <td>Zimbabwe</td>\n",
       "      <td>1992</td>\n",
       "      <td>10704340.000000</td>\n",
       "      <td>Africa</td>\n",
       "      <td>60.377000</td>\n",
       "      <td>693.420786</td>\n",
       "    </tr>\n",
       "    <tr>\n",
       "      <th>1701</th>\n",
       "      <td>Zimbabwe</td>\n",
       "      <td>1997</td>\n",
       "      <td>11404948.000000</td>\n",
       "      <td>Africa</td>\n",
       "      <td>46.809000</td>\n",
       "      <td>792.449960</td>\n",
       "    </tr>\n",
       "    <tr>\n",
       "      <th>1702</th>\n",
       "      <td>Zimbabwe</td>\n",
       "      <td>2002</td>\n",
       "      <td>11926563.000000</td>\n",
       "      <td>Africa</td>\n",
       "      <td>39.989000</td>\n",
       "      <td>672.038623</td>\n",
       "    </tr>\n",
       "    <tr>\n",
       "      <th>1703</th>\n",
       "      <td>Zimbabwe</td>\n",
       "      <td>2007</td>\n",
       "      <td>12311143.000000</td>\n",
       "      <td>Africa</td>\n",
       "      <td>43.487000</td>\n",
       "      <td>469.709298</td>\n",
       "    </tr>\n",
       "  </tbody>\n",
       "</table>\n",
       "<p>1704 rows × 6 columns</p>\n",
       "</div>"
      ],
      "text/plain": [
       "          country  year             pop continent   lifeExp  gdpPercap\n",
       "0     Afghanistan  1952  8425333.000000      Asia 28.801000 779.445314\n",
       "1     Afghanistan  1957  9240934.000000      Asia 30.332000 820.853030\n",
       "2     Afghanistan  1962 10267083.000000      Asia 31.997000 853.100710\n",
       "3     Afghanistan  1967 11537966.000000      Asia 34.020000 836.197138\n",
       "4     Afghanistan  1972 13079460.000000      Asia 36.088000 739.981106\n",
       "...           ...   ...             ...       ...       ...        ...\n",
       "1699     Zimbabwe  1987  9216418.000000    Africa 62.351000 706.157306\n",
       "1700     Zimbabwe  1992 10704340.000000    Africa 60.377000 693.420786\n",
       "1701     Zimbabwe  1997 11404948.000000    Africa 46.809000 792.449960\n",
       "1702     Zimbabwe  2002 11926563.000000    Africa 39.989000 672.038623\n",
       "1703     Zimbabwe  2007 12311143.000000    Africa 43.487000 469.709298\n",
       "\n",
       "[1704 rows x 6 columns]"
      ]
     },
     "execution_count": 25,
     "metadata": {},
     "output_type": "execute_result"
    }
   ],
   "source": [
    "# 1.\n",
    "gap = pd.read_csv(\"data/gapminder-FiveYearData.csv\")\n",
    "gap"
   ]
  },
  {
   "cell_type": "code",
   "execution_count": 26,
   "id": "a328ab7e",
   "metadata": {},
   "outputs": [
    {
     "ename": "AttributeError",
     "evalue": "'DataFrame' object has no attribute 'columnsns'",
     "output_type": "error",
     "traceback": [
      "\u001b[0;31m---------------------------------------------------------------------------\u001b[0m",
      "\u001b[0;31mAttributeError\u001b[0m                            Traceback (most recent call last)",
      "Cell \u001b[0;32mIn[26], line 2\u001b[0m\n\u001b[1;32m      1\u001b[0m \u001b[38;5;66;03m# 2. \u001b[39;00m\n\u001b[0;32m----> 2\u001b[0m \u001b[43mgap\u001b[49m\u001b[38;5;241;43m.\u001b[39;49m\u001b[43mcolumnsns\u001b[49m\n",
      "File \u001b[0;32m~/opt/anaconda3/lib/python3.8/site-packages/pandas/core/generic.py:5575\u001b[0m, in \u001b[0;36mNDFrame.__getattr__\u001b[0;34m(self, name)\u001b[0m\n\u001b[1;32m   5568\u001b[0m \u001b[38;5;28;01mif\u001b[39;00m (\n\u001b[1;32m   5569\u001b[0m     name \u001b[38;5;129;01mnot\u001b[39;00m \u001b[38;5;129;01min\u001b[39;00m \u001b[38;5;28mself\u001b[39m\u001b[38;5;241m.\u001b[39m_internal_names_set\n\u001b[1;32m   5570\u001b[0m     \u001b[38;5;129;01mand\u001b[39;00m name \u001b[38;5;129;01mnot\u001b[39;00m \u001b[38;5;129;01min\u001b[39;00m \u001b[38;5;28mself\u001b[39m\u001b[38;5;241m.\u001b[39m_metadata\n\u001b[1;32m   5571\u001b[0m     \u001b[38;5;129;01mand\u001b[39;00m name \u001b[38;5;129;01mnot\u001b[39;00m \u001b[38;5;129;01min\u001b[39;00m \u001b[38;5;28mself\u001b[39m\u001b[38;5;241m.\u001b[39m_accessors\n\u001b[1;32m   5572\u001b[0m     \u001b[38;5;129;01mand\u001b[39;00m \u001b[38;5;28mself\u001b[39m\u001b[38;5;241m.\u001b[39m_info_axis\u001b[38;5;241m.\u001b[39m_can_hold_identifiers_and_holds_name(name)\n\u001b[1;32m   5573\u001b[0m ):\n\u001b[1;32m   5574\u001b[0m     \u001b[38;5;28;01mreturn\u001b[39;00m \u001b[38;5;28mself\u001b[39m[name]\n\u001b[0;32m-> 5575\u001b[0m \u001b[38;5;28;01mreturn\u001b[39;00m \u001b[38;5;28;43mobject\u001b[39;49m\u001b[38;5;241;43m.\u001b[39;49m\u001b[38;5;21;43m__getattribute__\u001b[39;49m\u001b[43m(\u001b[49m\u001b[38;5;28;43mself\u001b[39;49m\u001b[43m,\u001b[49m\u001b[43m \u001b[49m\u001b[43mname\u001b[49m\u001b[43m)\u001b[49m\n",
      "\u001b[0;31mAttributeError\u001b[0m: 'DataFrame' object has no attribute 'columnsns'"
     ]
    }
   ],
   "source": [
    "# 2. \n",
    "gap.columnsns"
   ]
  },
  {
   "cell_type": "code",
   "execution_count": 13,
   "id": "efa66690",
   "metadata": {},
   "outputs": [
    {
     "data": {
      "text/plain": [
       "29601212.32511736"
      ]
     },
     "execution_count": 13,
     "metadata": {},
     "output_type": "execute_result"
    }
   ],
   "source": [
    "# 3. compute mean for one numeric column\n",
    "gap[\"pop\"].mean()"
   ]
  },
  {
   "cell_type": "code",
   "execution_count": 16,
   "id": "08b2d20f",
   "metadata": {},
   "outputs": [
    {
     "name": "stdout",
     "output_type": "stream",
     "text": [
      "<class 'pandas.core.frame.DataFrame'>\n",
      "RangeIndex: 1704 entries, 0 to 1703\n",
      "Data columns (total 6 columns):\n",
      " #   Column     Non-Null Count  Dtype  \n",
      "---  ------     --------------  -----  \n",
      " 0   country    1704 non-null   object \n",
      " 1   year       1704 non-null   int64  \n",
      " 2   pop        1704 non-null   float64\n",
      " 3   continent  1704 non-null   object \n",
      " 4   lifeExp    1704 non-null   float64\n",
      " 5   gdpPercap  1704 non-null   float64\n",
      "dtypes: float64(3), int64(1), object(2)\n",
      "memory usage: 80.0+ KB\n"
     ]
    }
   ],
   "source": [
    "gap.info()"
   ]
  },
  {
   "cell_type": "code",
   "execution_count": 15,
   "id": "207fbcfb",
   "metadata": {},
   "outputs": [
    {
     "name": "stderr",
     "output_type": "stream",
     "text": [
      "/var/folders/9g/fhnd1v790cj5ccxlv4rcvsy40000gq/T/ipykernel_60936/4035141191.py:3: FutureWarning: Dropping of nuisance columns in DataFrame reductions (with 'numeric_only=None') is deprecated; in a future version this will raise TypeError.  Select only valid columns before calling the reduction.\n",
      "  gap.mean()\n"
     ]
    },
    {
     "data": {
      "text/plain": [
       "year            1979.500000\n",
       "pop         29601212.325117\n",
       "lifeExp           59.474439\n",
       "gdpPercap       7215.327081\n",
       "dtype: float64"
      ]
     },
     "execution_count": 15,
     "metadata": {},
     "output_type": "execute_result"
    }
   ],
   "source": [
    "# 4. compute mean for ALL numeric columns\n",
    "# gap.describe()\n",
    "gap.mean()"
   ]
  },
  {
   "cell_type": "code",
   "execution_count": 19,
   "id": "cf7177e0",
   "metadata": {},
   "outputs": [
    {
     "data": {
      "text/plain": [
       "142.0"
      ]
     },
     "execution_count": 19,
     "metadata": {},
     "output_type": "execute_result"
    }
   ],
   "source": [
    "sum(gap.groupby(\"continent\").count()[\"country\"] / 12)"
   ]
  },
  {
   "cell_type": "code",
   "execution_count": 21,
   "id": "12f65ddc",
   "metadata": {},
   "outputs": [
    {
     "data": {
      "text/plain": [
       "(1704, 6)"
      ]
     },
     "execution_count": 21,
     "metadata": {},
     "output_type": "execute_result"
    }
   ],
   "source": [
    "gap.shape"
   ]
  },
  {
   "cell_type": "code",
   "execution_count": 22,
   "id": "482c9e62",
   "metadata": {},
   "outputs": [
    {
     "data": {
      "text/plain": [
       "1704"
      ]
     },
     "execution_count": 22,
     "metadata": {},
     "output_type": "execute_result"
    }
   ],
   "source": [
    "142 * 12"
   ]
  },
  {
   "cell_type": "code",
   "execution_count": 31,
   "id": "4f905801",
   "metadata": {},
   "outputs": [
    {
     "data": {
      "text/html": [
       "<div>\n",
       "<style scoped>\n",
       "    .dataframe tbody tr th:only-of-type {\n",
       "        vertical-align: middle;\n",
       "    }\n",
       "\n",
       "    .dataframe tbody tr th {\n",
       "        vertical-align: top;\n",
       "    }\n",
       "\n",
       "    .dataframe thead th {\n",
       "        text-align: right;\n",
       "    }\n",
       "</style>\n",
       "<table border=\"1\" class=\"dataframe\">\n",
       "  <thead>\n",
       "    <tr style=\"text-align: right;\">\n",
       "      <th></th>\n",
       "      <th>lifeExp</th>\n",
       "      <th>gdpPercap</th>\n",
       "    </tr>\n",
       "    <tr>\n",
       "      <th>continent</th>\n",
       "      <th></th>\n",
       "      <th></th>\n",
       "    </tr>\n",
       "  </thead>\n",
       "  <tbody>\n",
       "    <tr>\n",
       "      <th>Africa</th>\n",
       "      <td>48.865330</td>\n",
       "      <td>2193.754578</td>\n",
       "    </tr>\n",
       "    <tr>\n",
       "      <th>Americas</th>\n",
       "      <td>64.658737</td>\n",
       "      <td>7136.110356</td>\n",
       "    </tr>\n",
       "    <tr>\n",
       "      <th>Asia</th>\n",
       "      <td>60.064903</td>\n",
       "      <td>7902.150428</td>\n",
       "    </tr>\n",
       "    <tr>\n",
       "      <th>Europe</th>\n",
       "      <td>71.903686</td>\n",
       "      <td>14469.475533</td>\n",
       "    </tr>\n",
       "    <tr>\n",
       "      <th>Oceania</th>\n",
       "      <td>74.326208</td>\n",
       "      <td>18621.609223</td>\n",
       "    </tr>\n",
       "  </tbody>\n",
       "</table>\n",
       "</div>"
      ],
      "text/plain": [
       "            lifeExp    gdpPercap\n",
       "continent                       \n",
       "Africa    48.865330  2193.754578\n",
       "Americas  64.658737  7136.110356\n",
       "Asia      60.064903  7902.150428\n",
       "Europe    71.903686 14469.475533\n",
       "Oceania   74.326208 18621.609223"
      ]
     },
     "execution_count": 31,
     "metadata": {},
     "output_type": "execute_result"
    }
   ],
   "source": [
    "# 6.\n",
    "gap.groupby(\"continent\")[[\"lifeExp\", \"gdpPercap\"]].mean()"
   ]
  },
  {
   "cell_type": "code",
   "execution_count": 34,
   "id": "c7d9f6d7",
   "metadata": {},
   "outputs": [
    {
     "data": {
      "text/html": [
       "<div>\n",
       "<style scoped>\n",
       "    .dataframe tbody tr th:only-of-type {\n",
       "        vertical-align: middle;\n",
       "    }\n",
       "\n",
       "    .dataframe tbody tr th {\n",
       "        vertical-align: top;\n",
       "    }\n",
       "\n",
       "    .dataframe thead th {\n",
       "        text-align: right;\n",
       "    }\n",
       "</style>\n",
       "<table border=\"1\" class=\"dataframe\">\n",
       "  <thead>\n",
       "    <tr style=\"text-align: right;\">\n",
       "      <th></th>\n",
       "      <th>country</th>\n",
       "      <th>year</th>\n",
       "      <th>pop</th>\n",
       "      <th>continent</th>\n",
       "      <th>lifeExp</th>\n",
       "      <th>gdpPercap</th>\n",
       "    </tr>\n",
       "  </thead>\n",
       "  <tbody>\n",
       "    <tr>\n",
       "      <th>22</th>\n",
       "      <td>Albania</td>\n",
       "      <td>2002</td>\n",
       "      <td>3508512.000000</td>\n",
       "      <td>Europe</td>\n",
       "      <td>75.651000</td>\n",
       "      <td>4604.211737</td>\n",
       "    </tr>\n",
       "  </tbody>\n",
       "</table>\n",
       "</div>"
      ],
      "text/plain": [
       "    country  year            pop continent   lifeExp   gdpPercap\n",
       "22  Albania  2002 3508512.000000    Europe 75.651000 4604.211737"
      ]
     },
     "execution_count": 34,
     "metadata": {},
     "output_type": "execute_result"
    }
   ],
   "source": [
    "# Create a subset of gap that contains only countries with lifeExp greater \n",
    "# than 75 and gdpPercap less than 5000.\n",
    "healthy_poor = gap[(gap[\"lifeExp\"] > 75) & (gap[\"gdpPercap\"] < 5000)]\n",
    "healthy_poor\n"
   ]
  },
  {
   "cell_type": "code",
   "execution_count": 41,
   "id": "5e9bc7b2",
   "metadata": {},
   "outputs": [
    {
     "data": {
      "text/plain": [
       "country              Taiwan\n",
       "year                   1957\n",
       "pop         10164215.000000\n",
       "continent              Asia\n",
       "lifeExp           62.400000\n",
       "gdpPercap       1507.861290\n",
       "Name: 1501, dtype: object"
      ]
     },
     "execution_count": 41,
     "metadata": {},
     "output_type": "execute_result"
    }
   ],
   "source": [
    "gap.iloc[1501]"
   ]
  },
  {
   "cell_type": "code",
   "execution_count": null,
   "id": "374b2493",
   "metadata": {},
   "outputs": [],
   "source": []
  },
  {
   "cell_type": "code",
   "execution_count": 44,
   "id": "b21e4933",
   "metadata": {},
   "outputs": [
    {
     "data": {
      "text/plain": [
       "Index(['country', 'year', 'pop', 'continent', 'lifeExp', 'gdpPercap'], dtype='object')"
      ]
     },
     "execution_count": 44,
     "metadata": {},
     "output_type": "execute_result"
    }
   ],
   "source": [
    "gap.columns"
   ]
  },
  {
   "cell_type": "code",
   "execution_count": 48,
   "id": "da028e45",
   "metadata": {},
   "outputs": [
    {
     "data": {
      "text/html": [
       "<div>\n",
       "<style scoped>\n",
       "    .dataframe tbody tr th:only-of-type {\n",
       "        vertical-align: middle;\n",
       "    }\n",
       "\n",
       "    .dataframe tbody tr th {\n",
       "        vertical-align: top;\n",
       "    }\n",
       "\n",
       "    .dataframe thead th {\n",
       "        text-align: right;\n",
       "    }\n",
       "</style>\n",
       "<table border=\"1\" class=\"dataframe\">\n",
       "  <thead>\n",
       "    <tr style=\"text-align: right;\">\n",
       "      <th></th>\n",
       "      <th>pop</th>\n",
       "      <th>continent</th>\n",
       "    </tr>\n",
       "  </thead>\n",
       "  <tbody>\n",
       "    <tr>\n",
       "      <th>0</th>\n",
       "      <td>8425333.000000</td>\n",
       "      <td>Asia</td>\n",
       "    </tr>\n",
       "    <tr>\n",
       "      <th>1</th>\n",
       "      <td>9240934.000000</td>\n",
       "      <td>Asia</td>\n",
       "    </tr>\n",
       "    <tr>\n",
       "      <th>2</th>\n",
       "      <td>10267083.000000</td>\n",
       "      <td>Asia</td>\n",
       "    </tr>\n",
       "    <tr>\n",
       "      <th>3</th>\n",
       "      <td>11537966.000000</td>\n",
       "      <td>Asia</td>\n",
       "    </tr>\n",
       "    <tr>\n",
       "      <th>4</th>\n",
       "      <td>13079460.000000</td>\n",
       "      <td>Asia</td>\n",
       "    </tr>\n",
       "    <tr>\n",
       "      <th>...</th>\n",
       "      <td>...</td>\n",
       "      <td>...</td>\n",
       "    </tr>\n",
       "    <tr>\n",
       "      <th>1699</th>\n",
       "      <td>9216418.000000</td>\n",
       "      <td>Africa</td>\n",
       "    </tr>\n",
       "    <tr>\n",
       "      <th>1700</th>\n",
       "      <td>10704340.000000</td>\n",
       "      <td>Africa</td>\n",
       "    </tr>\n",
       "    <tr>\n",
       "      <th>1701</th>\n",
       "      <td>11404948.000000</td>\n",
       "      <td>Africa</td>\n",
       "    </tr>\n",
       "    <tr>\n",
       "      <th>1702</th>\n",
       "      <td>11926563.000000</td>\n",
       "      <td>Africa</td>\n",
       "    </tr>\n",
       "    <tr>\n",
       "      <th>1703</th>\n",
       "      <td>12311143.000000</td>\n",
       "      <td>Africa</td>\n",
       "    </tr>\n",
       "  </tbody>\n",
       "</table>\n",
       "<p>1704 rows × 2 columns</p>\n",
       "</div>"
      ],
      "text/plain": [
       "                 pop continent\n",
       "0     8425333.000000      Asia\n",
       "1     9240934.000000      Asia\n",
       "2    10267083.000000      Asia\n",
       "3    11537966.000000      Asia\n",
       "4    13079460.000000      Asia\n",
       "...              ...       ...\n",
       "1699  9216418.000000    Africa\n",
       "1700 10704340.000000    Africa\n",
       "1701 11404948.000000    Africa\n",
       "1702 11926563.000000    Africa\n",
       "1703 12311143.000000    Africa\n",
       "\n",
       "[1704 rows x 2 columns]"
      ]
     },
     "execution_count": 48,
     "metadata": {},
     "output_type": "execute_result"
    }
   ],
   "source": [
    "gap[gap.columns[[2, 3]]]"
   ]
  },
  {
   "cell_type": "code",
   "execution_count": 45,
   "id": "0700426c",
   "metadata": {},
   "outputs": [
    {
     "ename": "AttributeError",
     "evalue": "'DataFrame' object has no attribute 'ix'",
     "output_type": "error",
     "traceback": [
      "\u001b[0;31m---------------------------------------------------------------------------\u001b[0m",
      "\u001b[0;31mAttributeError\u001b[0m                            Traceback (most recent call last)",
      "Cell \u001b[0;32mIn[45], line 1\u001b[0m\n\u001b[0;32m----> 1\u001b[0m \u001b[43mgap\u001b[49m\u001b[38;5;241;43m.\u001b[39;49m\u001b[43mix\u001b[49m[\u001b[38;5;241m2\u001b[39m]\n",
      "File \u001b[0;32m~/opt/anaconda3/lib/python3.8/site-packages/pandas/core/generic.py:5575\u001b[0m, in \u001b[0;36mNDFrame.__getattr__\u001b[0;34m(self, name)\u001b[0m\n\u001b[1;32m   5568\u001b[0m \u001b[38;5;28;01mif\u001b[39;00m (\n\u001b[1;32m   5569\u001b[0m     name \u001b[38;5;129;01mnot\u001b[39;00m \u001b[38;5;129;01min\u001b[39;00m \u001b[38;5;28mself\u001b[39m\u001b[38;5;241m.\u001b[39m_internal_names_set\n\u001b[1;32m   5570\u001b[0m     \u001b[38;5;129;01mand\u001b[39;00m name \u001b[38;5;129;01mnot\u001b[39;00m \u001b[38;5;129;01min\u001b[39;00m \u001b[38;5;28mself\u001b[39m\u001b[38;5;241m.\u001b[39m_metadata\n\u001b[1;32m   5571\u001b[0m     \u001b[38;5;129;01mand\u001b[39;00m name \u001b[38;5;129;01mnot\u001b[39;00m \u001b[38;5;129;01min\u001b[39;00m \u001b[38;5;28mself\u001b[39m\u001b[38;5;241m.\u001b[39m_accessors\n\u001b[1;32m   5572\u001b[0m     \u001b[38;5;129;01mand\u001b[39;00m \u001b[38;5;28mself\u001b[39m\u001b[38;5;241m.\u001b[39m_info_axis\u001b[38;5;241m.\u001b[39m_can_hold_identifiers_and_holds_name(name)\n\u001b[1;32m   5573\u001b[0m ):\n\u001b[1;32m   5574\u001b[0m     \u001b[38;5;28;01mreturn\u001b[39;00m \u001b[38;5;28mself\u001b[39m[name]\n\u001b[0;32m-> 5575\u001b[0m \u001b[38;5;28;01mreturn\u001b[39;00m \u001b[38;5;28;43mobject\u001b[39;49m\u001b[38;5;241;43m.\u001b[39;49m\u001b[38;5;21;43m__getattribute__\u001b[39;49m\u001b[43m(\u001b[49m\u001b[38;5;28;43mself\u001b[39;49m\u001b[43m,\u001b[49m\u001b[43m \u001b[49m\u001b[43mname\u001b[49m\u001b[43m)\u001b[49m\n",
      "\u001b[0;31mAttributeError\u001b[0m: 'DataFrame' object has no attribute 'ix'"
     ]
    }
   ],
   "source": [
    "gap.ix[2]"
   ]
  },
  {
   "cell_type": "markdown",
   "id": "c9af0450",
   "metadata": {},
   "source": [
    "## Data visualization\n",
    "\n",
    "After importing, exploring, and subsetting your data, visualization is a common technique to perform next. Read Chapter 5 \"Data visualization essentials\" to get started. "
   ]
  }
 ],
 "metadata": {
  "kernelspec": {
   "display_name": "Python 3 (ipykernel)",
   "language": "python",
   "name": "python3"
  },
  "language_info": {
   "codemirror_mode": {
    "name": "ipython",
    "version": 3
   },
   "file_extension": ".py",
   "mimetype": "text/x-python",
   "name": "python",
   "nbconvert_exporter": "python",
   "pygments_lexer": "ipython3",
   "version": "3.8.13"
  }
 },
 "nbformat": 4,
 "nbformat_minor": 5
}