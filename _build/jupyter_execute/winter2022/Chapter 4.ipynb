{
 "cells": [
  {
   "cell_type": "markdown",
   "id": "92f0dd85",
   "metadata": {},
   "source": [
    "# Chapter 4 - The BERT algorithm"
   ]
  },
  {
   "cell_type": "markdown",
   "id": "3ec7f58e",
   "metadata": {},
   "source": [
    "2022 February 16"
   ]
  },
  {
   "cell_type": "markdown",
   "id": "a78d8ba1",
   "metadata": {},
   "source": [
    "![bande](../img/bande.png)"
   ]
  },
  {
   "cell_type": "markdown",
   "id": "5a599875",
   "metadata": {},
   "source": [
    "[... but don't forget about Ernie!](https://www.sesamestreet.org/)"
   ]
  },
  {
   "cell_type": "markdown",
   "id": "7bfc3084",
   "metadata": {},
   "source": [
    "## Tensorflow\n",
    "\n",
    "We will walkthrough three tensorflow tutorials for this session: \n",
    "1. word embeddings: https://www.tensorflow.org/text/guide/word_embeddings\n",
    "2. word2vec: https://www.tensorflow.org/tutorials/text/word2vec\n",
    "3. BERT: https://www.tensorflow.org/text/tutorials/classify_text_with_bert\n",
    "\n",
    "<h1 style=\"font-size: 4rem; color: #8C1515\">Access the notebooks</h1>\n",
    "\n",
    "**It is strongly recommeneded that you download the notebooks (or setup your Colab environment) in advance of our meeting session.** \n",
    "\n",
    "At the top of each tutorial page, click the appropriate button to access the notebooks.\n",
    "\n",
    "![tfdl](img/tfdl.png)\n",
    "\n",
    "<h1 style=\"font-size: 4rem; color: #00505C\">Run all code</h1>\n",
    "\n",
    "**Also be sure to run all code in advance.**\n",
    "\n",
    "The models will likely take 1-2 hours to fit and we will not have time to do so during the walkthrough. \n",
    "\n",
    "<h1 style=\"font-size: 4rem; color: #2ecc71\">Need help?</h1>\n",
    "\n",
    "Contact muzzall {at} stanford {dot} edu"
   ]
  },
  {
   "cell_type": "markdown",
   "id": "e44f2515",
   "metadata": {},
   "source": [
    "## Setup and software library installation instructions"
   ]
  },
  {
   "cell_type": "markdown",
   "id": "771cac90",
   "metadata": {},
   "source": [
    "### Install tensorflow"
   ]
  },
  {
   "cell_type": "code",
   "execution_count": 1,
   "id": "d9b9d097",
   "metadata": {},
   "outputs": [],
   "source": [
    "# !pip install tensorflow"
   ]
  },
  {
   "cell_type": "markdown",
   "id": "3244f367",
   "metadata": {},
   "source": [
    "Or, setup a virtual environment (you might find this more complicated, but it is worth it in the long run). \n",
    "\n",
    "View the instructions: https://www.tensorflow.org/install/pip"
   ]
  },
  {
   "cell_type": "markdown",
   "id": "e2b9549e",
   "metadata": {},
   "source": [
    "### A dependency of the preprocessing for BERT inputs"
   ]
  },
  {
   "cell_type": "code",
   "execution_count": 2,
   "id": "e2d1132f",
   "metadata": {},
   "outputs": [],
   "source": [
    "# !pip install -q -U tensorflow-text==2.7.3"
   ]
  },
  {
   "cell_type": "markdown",
   "id": "519f04da",
   "metadata": {},
   "source": [
    "### AdamW optimizer\n",
    "\n",
    "Use the AdamW optimizer from tensorflow/models: https://github.com/tensorflow/models"
   ]
  },
  {
   "cell_type": "code",
   "execution_count": 3,
   "id": "0409be86",
   "metadata": {},
   "outputs": [],
   "source": [
    "# !pip install -q -U tensorflow-text==2.7.3"
   ]
  },
  {
   "cell_type": "markdown",
   "id": "441dc3b3",
   "metadata": {},
   "source": [
    "### Install pydot and graphviz"
   ]
  },
  {
   "cell_type": "code",
   "execution_count": 4,
   "id": "51566cc1",
   "metadata": {},
   "outputs": [],
   "source": [
    "# install pydot\n",
    "# !pip install pydot"
   ]
  },
  {
   "cell_type": "markdown",
   "id": "6edf9886",
   "metadata": {},
   "source": [
    "graphviz installation instructions: https://graphviz.org/download/"
   ]
  },
  {
   "cell_type": "markdown",
   "id": "c2de1f53",
   "metadata": {},
   "source": [
    "### What is tensorflow?"
   ]
  },
  {
   "cell_type": "markdown",
   "id": "39d29a33",
   "metadata": {},
   "source": [
    "## Word embeddings tutorial key terms\n",
    "\n",
    "* "
   ]
  },
  {
   "cell_type": "markdown",
   "id": "52bdf7ca",
   "metadata": {},
   "source": [
    "## word2vec key terms\n",
    "\n",
    "* "
   ]
  },
  {
   "cell_type": "markdown",
   "id": "9d54b1cf",
   "metadata": {},
   "source": [
    "## BERT (Bidirectional Encoder Representations from Transformers) key terms\n",
    "\n",
    "What is a transformer? \n",
    "\n",
    "* "
   ]
  }
 ],
 "metadata": {
  "kernelspec": {
   "display_name": "Python 3 (ipykernel)",
   "language": "python",
   "name": "python3"
  },
  "language_info": {
   "codemirror_mode": {
    "name": "ipython",
    "version": 3
   },
   "file_extension": ".py",
   "mimetype": "text/x-python",
   "name": "python",
   "nbconvert_exporter": "python",
   "pygments_lexer": "ipython3",
   "version": "3.8.8"
  }
 },
 "nbformat": 4,
 "nbformat_minor": 5
}