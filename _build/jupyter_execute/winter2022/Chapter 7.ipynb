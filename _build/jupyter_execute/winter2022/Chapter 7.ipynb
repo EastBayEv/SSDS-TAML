{
 "cells": [
  {
   "cell_type": "markdown",
   "id": "c54e8700",
   "metadata": {},
   "source": [
    "# Chapter 7 - Combine the basics in powerful ways!\n",
    "\n",
    "Attend the below CIDR workshops and learn to put the basics together in more efficient and processual ways that will supercharge your text analysis and machine learning!"
   ]
  },
  {
   "cell_type": "markdown",
   "id": "6e8ef101",
   "metadata": {},
   "source": [
    "![robot](../img/robot.png)"
   ]
  },
  {
   "cell_type": "markdown",
   "id": "47cc78db",
   "metadata": {},
   "source": [
    "[Raúl Arrabales Moreno - Conscious-Robots Reloaded!](https://www.conscious-robots.com/2016/01/05/conscious-robots-reloaded/)"
   ]
  },
  {
   "cell_type": "markdown",
   "id": "1198453b",
   "metadata": {},
   "source": [
    "## CIDR Text Analysis with Python workshop\n",
    "Learn methodical text analysis approaches to single documents and corpora with the [spaCy](https://spacy.io/usage/spacy-101) and [textacy](https://textacy.readthedocs.io/en/stable/api_reference/root.html) libraries: \n",
    "\n",
    "https://github.com/sul-cidr/Workshops/tree/master/Text_Analysis_with_Python\n",
    "\n",
    "## CIDR Intro to Machine Learning with Python workshop\n",
    "Familiarize yourself with procedures for document and image classification - as well as other analyses - along with cloud-based resources for machine and deep learning with the [scikit-learn](https://scikit-learn.org/stable/tutorial/index.html), [lime](https://github.com/marcotcr/lime), and [tensorflow](https://www.tensorflow.org/guide/data) libraries: \n",
    "\n",
    "https://github.com/sul-cidr/Workshops/tree/master/Intro_to_ML_with_Python"
   ]
  }
 ],
 "metadata": {
  "kernelspec": {
   "display_name": "Python 3 (ipykernel)",
   "language": "python",
   "name": "python3"
  },
  "language_info": {
   "codemirror_mode": {
    "name": "ipython",
    "version": 3
   },
   "file_extension": ".py",
   "mimetype": "text/x-python",
   "name": "python",
   "nbconvert_exporter": "python",
   "pygments_lexer": "ipython3",
   "version": "3.8.8"
  }
 },
 "nbformat": 4,
 "nbformat_minor": 5
}