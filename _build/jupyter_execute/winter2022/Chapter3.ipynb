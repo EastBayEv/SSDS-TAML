{
 "cells": [
  {
   "cell_type": "markdown",
   "id": "1f09d185",
   "metadata": {},
   "source": [
    "# Chapter 3 - Document encoding (TF-IDF), topic modeling, sentiment analysis, building text classifiers"
   ]
  },
  {
   "cell_type": "markdown",
   "id": "8ecfa4cb",
   "metadata": {},
   "source": [
    "2022 February 2"
   ]
  },
  {
   "cell_type": "code",
   "execution_count": 1,
   "id": "21a9bc02",
   "metadata": {},
   "outputs": [
    {
     "ename": "ModuleNotFoundError",
     "evalue": "No module named 'sklearn'",
     "output_type": "error",
     "traceback": [
      "\u001b[0;31m---------------------------------------------------------------------------\u001b[0m",
      "\u001b[0;31mModuleNotFoundError\u001b[0m                       Traceback (most recent call last)",
      "Input \u001b[0;32mIn [1]\u001b[0m, in \u001b[0;36m<cell line: 3>\u001b[0;34m()\u001b[0m\n\u001b[1;32m      1\u001b[0m \u001b[38;5;28;01mimport\u001b[39;00m \u001b[38;5;21;01mos\u001b[39;00m\n\u001b[1;32m      2\u001b[0m \u001b[38;5;28;01mimport\u001b[39;00m \u001b[38;5;21;01mpandas\u001b[39;00m \u001b[38;5;28;01mas\u001b[39;00m \u001b[38;5;21;01mpd\u001b[39;00m\n\u001b[0;32m----> 3\u001b[0m \u001b[38;5;28;01mfrom\u001b[39;00m \u001b[38;5;21;01msklearn\u001b[39;00m\u001b[38;5;21;01m.\u001b[39;00m\u001b[38;5;21;01mfeature_extraction\u001b[39;00m\u001b[38;5;21;01m.\u001b[39;00m\u001b[38;5;21;01mtext\u001b[39;00m \u001b[38;5;28;01mimport\u001b[39;00m CountVectorizer, TfidfVectorizer, TfidfTransformer\n\u001b[1;32m      4\u001b[0m \u001b[38;5;28;01mfrom\u001b[39;00m \u001b[38;5;21;01msklearn\u001b[39;00m\u001b[38;5;21;01m.\u001b[39;00m\u001b[38;5;21;01mdecomposition\u001b[39;00m \u001b[38;5;28;01mimport\u001b[39;00m TruncatedSVD\n\u001b[1;32m      5\u001b[0m \u001b[38;5;28;01mimport\u001b[39;00m \u001b[38;5;21;01mnltk\u001b[39;00m\n",
      "\u001b[0;31mModuleNotFoundError\u001b[0m: No module named 'sklearn'"
     ]
    }
   ],
   "source": [
    "import os\n",
    "import pandas as pd\n",
    "from sklearn.feature_extraction.text import CountVectorizer, TfidfVectorizer, TfidfTransformer\n",
    "from sklearn.decomposition import TruncatedSVD\n",
    "import nltk\n",
    "from nltk.corpus import movie_reviews\n",
    "import numpy as np\n",
    "from sklearn.utils import shuffle\n",
    "from sklearn.pipeline import Pipeline\n",
    "from sklearn.linear_model import LogisticRegression\n",
    "from sklearn.model_selection import cross_val_score, train_test_split\n",
    "from sklearn.metrics import roc_curve, roc_auc_score, classification_report, accuracy_score, confusion_matrix \n",
    "\n",
    "import warnings\n",
    "warnings.filterwarnings(\"ignore\", category = DeprecationWarning)"
   ]
  },
  {
   "cell_type": "markdown",
   "id": "83ee8c99",
   "metadata": {},
   "source": [
    "## Document encoding for machine learning\n",
    "\n",
    "In the last chapter you saw that we do not change text to numbers, but instead changed the _representation_ of the text to the numbers in sparse matrix format. \n",
    "\n",
    "In this format, each row represents a document and each column represents a token from the shared text vocabulary called a **feature**. "
   ]
  },
  {
   "cell_type": "markdown",
   "id": "2b898835",
   "metadata": {},
   "source": [
    "## Key terms"
   ]
  },
  {
   "cell_type": "markdown",
   "id": "55026a14",
   "metadata": {},
   "source": [
    "* **Document term matrix:** contains the frequencies (or TF-IDF scores) of vocabulary terms in a collection of documents in sparse format. \n",
    "    * Each row is a document in the corpus.\n",
    "    * Each column represents a term (uni-gram, bi-gram, etc.) called a feature.\n",
    "\n",
    "* **Bag of words:** The simplest text analysis model that standardizes text in a document by removing punctuation, converting the words to lowercase, and counting the token frequencies.\n",
    "    * Numeric values indicate that a particular feature is found in a document that number of times.\n",
    "    * A 0 indicates that the feature is _not_ found in that document. \n",
    "\n",
    "![dtm](img/dtm.png)\n",
    "\n",
    "[modified from \"The Effects of Feature Scaling: From Bag-of-Words to Tf-Idf\"](https://www.oreilly.com/library/view/feature-engineering-for/9781491953235/ch04.html)"
   ]
  },
  {
   "cell_type": "markdown",
   "id": "98bebc0e",
   "metadata": {},
   "source": [
    "* **TF-IDF:** Term frequency–inverse document frequency; a weighted numerical statistic that indicates the uniqueness of a word is in a given document or corpus.\n",
    "\n",
    "For TF-IDF sparse matrices:\n",
    "* A value closer to 1 indicate that a feature is more relevant to a particular document.\n",
    "* A value closer to 0 indicates that that feature is less/not relevant to that document.\n",
    "\n",
    "![tf1](img/tf1.png)\n",
    "\n",
    "[Wikipedia](https://en.wikipedia.org/wiki/Tf%E2%80%93idf)\n",
    "\n",
    "![tf2](img/tf2.png)\n",
    "\n",
    "[towardsdatascience](https://towardsdatascience.com/tf-term-frequency-idf-inverse-document-frequency-from-scratch-in-python-6c2b61b78558)"
   ]
  },
  {
   "cell_type": "markdown",
   "id": "4f9e59b1",
   "metadata": {},
   "source": [
    "## Topic modeling\n",
    "\n",
    "![topic](img/topic.png)\n",
    "\n",
    "[Wikipedia](https://en.wikipedia.org/wiki/Topic_model)"
   ]
  },
  {
   "cell_type": "markdown",
   "id": "7bf173b9",
   "metadata": {},
   "source": [
    "![unhrc](img/unhrc.jpg)\n",
    "\n",
    "### Corpus definition: United Nations Human Rights Council Documentation\n",
    "\n",
    "We will select eleven .txt files from the UN HRC as our corpus, stored within the subfolder \"human_rights\" folder inside the main \"data\" directory. \n",
    "\n",
    "These documents contain information about human rights recommendations made by member nations towards countries deemed to be in violation of the HRC. \n",
    "\n",
    "[Learn more about the UN HRC by clicking here.](https://www.ohchr.org/en/hrbodies/hrc/pages/home.aspx)"
   ]
  },
  {
   "cell_type": "markdown",
   "id": "ffaf3a3d",
   "metadata": {},
   "source": [
    "### Define the corpus directory\n",
    "\n",
    "Set the directory's file path and print the files it contains."
   ]
  },
  {
   "cell_type": "code",
   "execution_count": null,
   "id": "27fd3f3c",
   "metadata": {},
   "outputs": [],
   "source": [
    "import os\n",
    "corpus = os.listdir('data/human_rights/')\n",
    "\n",
    "# View the contents of this directory\n",
    "corpus"
   ]
  },
  {
   "cell_type": "markdown",
   "id": "146ba33f",
   "metadata": {},
   "source": [
    "### Store these documents in a data frame"
   ]
  },
  {
   "cell_type": "code",
   "execution_count": null,
   "id": "a39d91e4",
   "metadata": {},
   "outputs": [],
   "source": [
    "import pandas as pd\n",
    "\n",
    "# Store in an empty dictionary for conversion to data frame\n",
    "empty_dictionary = {}\n",
    "\n",
    "# Loop through the folder of documents to open and read each one\n",
    "for document in corpus:\n",
    "    with open('data/human_rights/' + document, 'r', encoding = 'utf-8') as to_open:\n",
    "         empty_dictionary[document] = to_open.read()\n",
    "\n",
    "# Populate the data frame with two columns: file name and document text\n",
    "human_rights = (pd.DataFrame.from_dict(empty_dictionary, \n",
    "                                       orient = 'index')\n",
    "                .reset_index().rename(index = str, \n",
    "                                      columns = {'index': 'file_name', 0: 'document_text'}))"
   ]
  },
  {
   "cell_type": "markdown",
   "id": "74c951f4",
   "metadata": {},
   "source": [
    "### View the data frame"
   ]
  },
  {
   "cell_type": "code",
   "execution_count": null,
   "id": "cd4818a5",
   "metadata": {},
   "outputs": [],
   "source": [
    "human_rights"
   ]
  },
  {
   "cell_type": "markdown",
   "id": "4c2740ed",
   "metadata": {},
   "source": [
    "### View the text of the first document"
   ]
  },
  {
   "cell_type": "code",
   "execution_count": null,
   "id": "088bfab2",
   "metadata": {},
   "outputs": [],
   "source": [
    "# first thousand characters\n",
    "print(human_rights['document_text'][0][:1000])"
   ]
  },
  {
   "cell_type": "markdown",
   "id": "eb90a9df",
   "metadata": {},
   "source": [
    "## English text preprocessing\n",
    "\n",
    "Create a new column named \"clean_text\" to store the text as it is preprocessed. \n",
    "\n",
    "* Remove non-alphanumeric characters/punctuation\n",
    "* Remove digits\n",
    "* Remove [unicode characters](https://en.wikipedia.org/wiki/List_of_Unicode_characters)\n",
    "* Remove extra spaces\n",
    "* Convert to lowercase\n",
    "* Lemmatize (optional for now)\n",
    "\n",
    "Take a look at the first document after each step to see if you can notice what changed. \n",
    "\n",
    "[How else could you improve this process?](/SSDS-TAML/winter2022/Appendix.ipynb#appendix-b-more-on-text-preprocessing) \n",
    "\n",
    "> NOTE: Remember, this is just a bare bones, basic process. Furthermore, it will not likely work for many other languages. "
   ]
  },
  {
   "cell_type": "markdown",
   "id": "5274571c",
   "metadata": {},
   "source": [
    "### Remove non-alphanumeric characters/punctuation"
   ]
  },
  {
   "cell_type": "code",
   "execution_count": null,
   "id": "0b07757b",
   "metadata": {},
   "outputs": [],
   "source": [
    "human_rights['clean_text'] = human_rights['document_text'].str.replace(r'[^\\w\\s]', ' ', regex = True)"
   ]
  },
  {
   "cell_type": "code",
   "execution_count": null,
   "id": "91c20326",
   "metadata": {},
   "outputs": [],
   "source": [
    "print(human_rights['clean_text'][0][:1000])"
   ]
  },
  {
   "cell_type": "code",
   "execution_count": null,
   "id": "b669251a",
   "metadata": {},
   "outputs": [],
   "source": [
    "# view third column\n",
    "human_rights"
   ]
  },
  {
   "cell_type": "markdown",
   "id": "79db0c33",
   "metadata": {},
   "source": [
    "### Remove digits"
   ]
  },
  {
   "cell_type": "code",
   "execution_count": null,
   "id": "aef79161",
   "metadata": {},
   "outputs": [],
   "source": [
    "human_rights['clean_text'] = human_rights['clean_text'].str.replace(r'\\d', ' ', regex = True)"
   ]
  },
  {
   "cell_type": "code",
   "execution_count": null,
   "id": "b167de09",
   "metadata": {},
   "outputs": [],
   "source": [
    "print(human_rights['clean_text'][0][:1000])"
   ]
  },
  {
   "cell_type": "markdown",
   "id": "39553ef8",
   "metadata": {},
   "source": [
    "### Remove unicode characters such as Ð and ð"
   ]
  },
  {
   "cell_type": "code",
   "execution_count": null,
   "id": "4adae8c1",
   "metadata": {},
   "outputs": [],
   "source": [
    "# for more on text encodings: https://www.w3.org/International/questions/qa-what-is-encoding\n",
    "human_rights['clean_text'] = human_rights['clean_text'].str.encode('ascii', 'ignore').str.decode('ascii')"
   ]
  },
  {
   "cell_type": "code",
   "execution_count": null,
   "id": "4475eb49",
   "metadata": {},
   "outputs": [],
   "source": [
    "print(human_rights['clean_text'][0][:1000])"
   ]
  },
  {
   "cell_type": "markdown",
   "id": "7b8d990d",
   "metadata": {},
   "source": [
    "### Remove extra spaces"
   ]
  },
  {
   "cell_type": "code",
   "execution_count": null,
   "id": "dbbc4371",
   "metadata": {},
   "outputs": [],
   "source": [
    "import regex as re\n",
    "human_rights['clean_text'] = human_rights['clean_text'].str.replace(r'\\s+', ' ', regex = True)"
   ]
  },
  {
   "cell_type": "code",
   "execution_count": null,
   "id": "a251985a",
   "metadata": {},
   "outputs": [],
   "source": [
    "print(human_rights['clean_text'][0][:1000])"
   ]
  },
  {
   "cell_type": "markdown",
   "id": "d729ca0d",
   "metadata": {},
   "source": [
    "### Convert to lowercase"
   ]
  },
  {
   "cell_type": "code",
   "execution_count": null,
   "id": "7dfb60b7",
   "metadata": {},
   "outputs": [],
   "source": [
    "human_rights['clean_text'] = human_rights['clean_text'].str.lower()"
   ]
  },
  {
   "cell_type": "code",
   "execution_count": null,
   "id": "1c6d10f7",
   "metadata": {},
   "outputs": [],
   "source": [
    "print(human_rights['clean_text'][0][:1000])"
   ]
  },
  {
   "cell_type": "markdown",
   "id": "58b4cbd1",
   "metadata": {},
   "source": [
    "### Lemmatize"
   ]
  },
  {
   "cell_type": "code",
   "execution_count": null,
   "id": "62a6bb0f",
   "metadata": {},
   "outputs": [],
   "source": [
    "# import spacy"
   ]
  },
  {
   "cell_type": "code",
   "execution_count": null,
   "id": "e4aa5fd1",
   "metadata": {},
   "outputs": [],
   "source": [
    "# !python -m spacy download en_core_web_sm\n",
    "# !python -m spacy download en_core_web_lg"
   ]
  },
  {
   "cell_type": "code",
   "execution_count": null,
   "id": "3e0eaea4",
   "metadata": {},
   "outputs": [],
   "source": [
    "# nlp = spacy.load('en_core_web_lg')\n",
    "# human_rights['clean_text'] = human_rights['clean_text'].apply(lambda row: ' '.join([w.lemma_ for w in nlp(row)]))"
   ]
  },
  {
   "cell_type": "code",
   "execution_count": null,
   "id": "f17da19d",
   "metadata": {},
   "outputs": [],
   "source": [
    "# print(human_rights['clean_text'][0])"
   ]
  },
  {
   "cell_type": "markdown",
   "id": "a1b472b2",
   "metadata": {},
   "source": [
    "### View the updated data frame"
   ]
  },
  {
   "cell_type": "code",
   "execution_count": null,
   "id": "e7e73854",
   "metadata": {},
   "outputs": [],
   "source": [
    "human_rights"
   ]
  },
  {
   "cell_type": "markdown",
   "id": "15e5c2f1",
   "metadata": {},
   "source": [
    "## Unsupervised learning with `TfidfVectorizer()`\n",
    "\n",
    "Remember `CountVectorizer()` for creating Bag of Word models? Bag of Words models are inputs for [Latent Dirichlet allocation](https://en.wikipedia.org/wiki/Latent_Dirichlet_allocation). \n",
    "\n",
    "However, let's extend this idea to `TfidfVectorizer()`. Each row will still be a colunm in our matrix and each column will still be a linguistic feature, but the cells will now be populated by the word uniqueness weights instead of frequencies. \n",
    "\n",
    "This will be the input for [Truncated Singular Value Decomposition](https://en.wikipedia.org/wiki/Singular_value_decomposition) instead of LDA. "
   ]
  },
  {
   "cell_type": "code",
   "execution_count": null,
   "id": "efd9394c",
   "metadata": {},
   "outputs": [],
   "source": [
    "from sklearn.feature_extraction.text import TfidfVectorizer\n",
    "\n",
    "tf_vectorizer = TfidfVectorizer(ngram_range = (1, 3), \n",
    "                                stop_words = 'english', \n",
    "                                max_df = 0.50\n",
    "                                )\n",
    "tf_sparse = tf_vectorizer.fit_transform(human_rights['clean_text'])"
   ]
  },
  {
   "cell_type": "code",
   "execution_count": null,
   "id": "6b59554c",
   "metadata": {},
   "outputs": [],
   "source": [
    "tf_sparse.shape"
   ]
  },
  {
   "cell_type": "code",
   "execution_count": null,
   "id": "48eca133",
   "metadata": {},
   "outputs": [],
   "source": [
    "print(tf_sparse)"
   ]
  },
  {
   "cell_type": "markdown",
   "id": "5308f666",
   "metadata": {},
   "source": [
    "### Convert the tfidf sparse matrix to data frame"
   ]
  },
  {
   "cell_type": "code",
   "execution_count": null,
   "id": "7b9cecd7",
   "metadata": {},
   "outputs": [],
   "source": [
    "tfidf_df = pd.DataFrame(tf_sparse.todense(), columns = tf_vectorizer.get_feature_names())\n",
    "tfidf_df"
   ]
  },
  {
   "cell_type": "markdown",
   "id": "4ce7b254",
   "metadata": {},
   "source": [
    "### View 20 highest weighted words"
   ]
  },
  {
   "cell_type": "code",
   "execution_count": null,
   "id": "6ac27766",
   "metadata": {
    "scrolled": true
   },
   "outputs": [],
   "source": [
    "tfidf_df.max().sort_values(ascending = False).head(n = 20)"
   ]
  },
  {
   "cell_type": "markdown",
   "id": "bb2c7716",
   "metadata": {},
   "source": [
    "### Add country name to `tfidf_df`"
   ]
  },
  {
   "cell_type": "code",
   "execution_count": null,
   "id": "6b91f3ca",
   "metadata": {},
   "outputs": [],
   "source": [
    "# wrangle the country names from the human_rights data frame\n",
    "countries = human_rights['file_name'].str.slice(stop = -8)\n",
    "countries = list(countries)\n",
    "countries"
   ]
  },
  {
   "cell_type": "code",
   "execution_count": null,
   "id": "ffed2ee8",
   "metadata": {},
   "outputs": [],
   "source": [
    "tfidf_df['COUNTRY'] = countries"
   ]
  },
  {
   "cell_type": "code",
   "execution_count": null,
   "id": "bd783358",
   "metadata": {},
   "outputs": [],
   "source": [
    "tfidf_df"
   ]
  },
  {
   "cell_type": "markdown",
   "id": "fbb258c7",
   "metadata": {},
   "source": [
    "### Examine unique words by each document/country\n",
    "\n",
    "Change the country names to view their highest rated terms."
   ]
  },
  {
   "cell_type": "code",
   "execution_count": null,
   "id": "1a7fe5e5",
   "metadata": {},
   "outputs": [],
   "source": [
    "country = tfidf_df[tfidf_df['COUNTRY'] == 'jordan']\n",
    "country.max(numeric_only = True).sort_values(ascending = False).head(20)"
   ]
  },
  {
   "cell_type": "markdown",
   "id": "796b758f",
   "metadata": {},
   "source": [
    "### Singular value decomposition\n",
    "\n",
    "![tsvd](img/tsvd.png)\n",
    "\n",
    "[Analytics Vidhya](https://www.analyticsvidhya.com/blog/2021/06/part-16-step-by-step-guide-to-master-nlp-topic-modelling-using-lsa/)\n",
    "\n",
    "* Look ahead to Chapter 4.5 for new techniques in topic modeling - [BERTopic!](Chapter4_add.ipynb)"
   ]
  },
  {
   "cell_type": "code",
   "execution_count": null,
   "id": "e7d2e4f1",
   "metadata": {},
   "outputs": [],
   "source": [
    "from sklearn.decomposition import TruncatedSVD\n",
    "\n",
    "tsvd = TruncatedSVD(n_components = 5, \n",
    "                   random_state = 1, \n",
    "                   algorithm = 'arpack')\n",
    "tsvd.fit(tf_sparse)"
   ]
  },
  {
   "cell_type": "code",
   "execution_count": null,
   "id": "7244ca4f",
   "metadata": {},
   "outputs": [],
   "source": [
    "print(tsvd.explained_variance_ratio_)"
   ]
  },
  {
   "cell_type": "code",
   "execution_count": null,
   "id": "3e10a471",
   "metadata": {},
   "outputs": [],
   "source": [
    "print(tsvd.singular_values_)"
   ]
  },
  {
   "cell_type": "code",
   "execution_count": null,
   "id": "be1bb8da",
   "metadata": {},
   "outputs": [],
   "source": [
    "def topics(model, feature_names, n_top_words):\n",
    "    for topic_idx, topic in enumerate(model.components_):\n",
    "        print(\"\\nTopic #{}:\".format(topic_idx))\n",
    "        print(\" \".join([feature_names[i]\n",
    "                        for i in topic.argsort()[:-n_top_words - 1:-1]]))"
   ]
  },
  {
   "cell_type": "code",
   "execution_count": null,
   "id": "15a4e77b",
   "metadata": {},
   "outputs": [],
   "source": [
    "tf_features = tf_vectorizer.get_feature_names()\n",
    "topics(tsvd, tf_features, 20)"
   ]
  },
  {
   "cell_type": "markdown",
   "id": "45155207",
   "metadata": {},
   "source": [
    "## UN HRC text analysis - what next? \n",
    "\n",
    "Keep in mind that we have not even begun to consider named entities and parts of speech. How might country names be swamping the five topics produced? \n",
    "\n",
    "[Read this stack overflow post to learn about the possibility of having too few documents in your corpus](https://stats.stackexchange.com/questions/302965/some-topics-with-all-equal-weights-when-using-latentdirichletallocation-from-sci)\n",
    "\n",
    "[Also, read this post about how to grid search for the best topic models](https://www.machinelearningplus.com/nlp/topic-modeling-python-sklearn-examples/)\n",
    "\n",
    "Use BERTopic (see Chapter 4.5 in this book)"
   ]
  },
  {
   "cell_type": "markdown",
   "id": "3bf1c801",
   "metadata": {},
   "source": [
    "## Sentiment analysis\n",
    "\n",
    "Sentiment analysis is the contextual mining of text data that elicits abstract information in source materials to determine if data are positive, negative, or neutral. "
   ]
  },
  {
   "cell_type": "markdown",
   "id": "0d01ab7e",
   "metadata": {},
   "source": [
    "![sa](img/sa.jpg)\n",
    "\n",
    "[Repustate](https://www.repustate.com/blog/sentiment-analysis-challenges-with-solutions/)"
   ]
  },
  {
   "cell_type": "markdown",
   "id": "0f54ad0b",
   "metadata": {},
   "source": [
    "### Download the nltk built-in movie reviews dataset"
   ]
  },
  {
   "cell_type": "code",
   "execution_count": null,
   "id": "1254416d",
   "metadata": {},
   "outputs": [],
   "source": [
    "import nltk\n",
    "from nltk.corpus import movie_reviews\n",
    "nltk.download(\"movie_reviews\")"
   ]
  },
  {
   "cell_type": "markdown",
   "id": "85e177b6",
   "metadata": {},
   "source": [
    "### Define x (reviews) and y (judgements) variables"
   ]
  },
  {
   "cell_type": "code",
   "execution_count": null,
   "id": "a6690fc7",
   "metadata": {},
   "outputs": [],
   "source": [
    "# Extract our x (reviews) and y (judgements) variables\n",
    "reviews = [movie_reviews.raw(fileid) for fileid in movie_reviews.fileids()]\n",
    "judgements = [movie_reviews.categories(fileid)[0] for fileid in movie_reviews.fileids()]"
   ]
  },
  {
   "cell_type": "code",
   "execution_count": null,
   "id": "636aade0",
   "metadata": {},
   "outputs": [],
   "source": [
    "# Save in a dataframe\n",
    "movies = pd.DataFrame({\"Reviews\" : reviews, \n",
    "                      \"Judgements\" : judgements})\n",
    "movies.head()"
   ]
  },
  {
   "cell_type": "code",
   "execution_count": null,
   "id": "bab88e32",
   "metadata": {},
   "outputs": [],
   "source": [
    "movies.shape"
   ]
  },
  {
   "cell_type": "markdown",
   "id": "affcf327",
   "metadata": {},
   "source": [
    "### Shuffle the reviews"
   ]
  },
  {
   "cell_type": "code",
   "execution_count": null,
   "id": "3655ad7b",
   "metadata": {},
   "outputs": [],
   "source": [
    "import numpy as np\n",
    "from sklearn.utils import shuffle\n",
    "x, y = shuffle(np.array(movies.Reviews), np.array(movies.Judgements), random_state = 1)"
   ]
  },
  {
   "cell_type": "code",
   "execution_count": null,
   "id": "c8f384c2",
   "metadata": {},
   "outputs": [],
   "source": [
    "# change x[0] and y[0] to see different reviews\n",
    "x[0], print(\"Human review was:\", y[0])"
   ]
  },
  {
   "cell_type": "markdown",
   "id": "b7ed7844",
   "metadata": {},
   "source": [
    "### Pipelines\n",
    "\n",
    "scikit-learn offers hand ways to build machine learning pipelines: https://scikit-learn.org/stable/modules/generated/sklearn.pipeline.Pipeline.html"
   ]
  },
  {
   "cell_type": "markdown",
   "id": "61d5219a",
   "metadata": {},
   "source": [
    "### One standard way"
   ]
  },
  {
   "cell_type": "code",
   "execution_count": null,
   "id": "4e40d414",
   "metadata": {
    "scrolled": true
   },
   "outputs": [],
   "source": [
    "# standard training/test split (no cross validation)\n",
    "x_train, x_test, y_train, y_test = train_test_split(x, y, test_size = 0.30, random_state = 0)\n",
    "\n",
    "# get tfidf values\n",
    "tfidf = TfidfVectorizer()\n",
    "tfidf.fit(x)\n",
    "x_train = tfidf.transform(x_train)\n",
    "x_test = tfidf.transform(x_test)\n",
    "\n",
    "# instantiate, train, and test an logistic regression model\n",
    "logit_class = LogisticRegression(solver = 'liblinear',\n",
    "                                 penalty = 'l2', \n",
    "                                 C = 1000, \n",
    "                                 random_state = 1)\n",
    "model = logit_class.fit(x_train, y_train)"
   ]
  },
  {
   "cell_type": "code",
   "execution_count": null,
   "id": "db28c7d5",
   "metadata": {
    "scrolled": true
   },
   "outputs": [],
   "source": [
    "# test set accuracy\n",
    "model.score(x_test, y_test)"
   ]
  },
  {
   "cell_type": "markdown",
   "id": "639817da",
   "metadata": {},
   "source": [
    "### $k$-fold cross-validated model"
   ]
  },
  {
   "cell_type": "code",
   "execution_count": null,
   "id": "44b16805",
   "metadata": {},
   "outputs": [],
   "source": [
    "# Cross-validated model!\n",
    "text_clf = Pipeline([('vect', CountVectorizer(ngram_range=(1, 3))),\n",
    "                    ('tfidf', TfidfTransformer()),\n",
    "                    ('clf', LogisticRegression(solver = 'liblinear',\n",
    "                                               penalty = 'l2', \n",
    "                                               C = 1000, \n",
    "                                               random_state = 1))\n",
    "                     ])\n",
    "\n",
    "# for your own research, thesis, or publication\n",
    "# you would select cv equal to 10 or 20\n",
    "scores = cross_val_score(text_clf, x, y, cv = 3)\n",
    "\n",
    "print(scores, np.mean(scores))"
   ]
  },
  {
   "cell_type": "markdown",
   "id": "db4f57d9",
   "metadata": {},
   "source": [
    "### Top 25 features for positive and negative reviews"
   ]
  },
  {
   "cell_type": "code",
   "execution_count": null,
   "id": "cd66b1d4",
   "metadata": {},
   "outputs": [],
   "source": [
    "feature_names = tfidf.get_feature_names()\n",
    "top25pos = np.argsort(model.coef_[0])[-25:]\n",
    "print(\"Top features for positive reviews:\")\n",
    "print(list(feature_names[j] for j in top25pos))\n",
    "print()\n",
    "print(\"Top features for negative reviews:\")\n",
    "top25neg = np.argsort(model.coef_[0])[:25]\n",
    "print(list(feature_names[j] for j in top25neg))"
   ]
  },
  {
   "cell_type": "code",
   "execution_count": null,
   "id": "0bc79849",
   "metadata": {},
   "outputs": [],
   "source": [
    "new_bad_review = \"This was the most awful worst super bad movie ever!\"\n",
    "\n",
    "features = tfidf.transform([new_bad_review])\n",
    "\n",
    "model.predict(features)"
   ]
  },
  {
   "cell_type": "code",
   "execution_count": null,
   "id": "4dd2d596",
   "metadata": {},
   "outputs": [],
   "source": [
    "new_good_review = 'WHAT A WONDERFUL, FANTASTIC MOVIE!!!'\n",
    "\n",
    "features = tfidf.transform([new_good_review])\n",
    "\n",
    "model.predict(features)"
   ]
  },
  {
   "cell_type": "code",
   "execution_count": null,
   "id": "dfebbf02",
   "metadata": {},
   "outputs": [],
   "source": [
    "# type another review here\n",
    "my_review = 'I hated this movie, even though my friend loved it'\n",
    "my_features = tfidf.transform([my_review])\n",
    "model.predict(my_features)"
   ]
  },
  {
   "cell_type": "markdown",
   "id": "f22d404d",
   "metadata": {},
   "source": [
    "## Quiz - 20 newsgroups dataset\n",
    "\n",
    "Go through the 20 newsgroups text dataset to get familiar with newspaper data: https://scikit-learn.org/0.19/datasets/twenty_newsgroups.html\n",
    "\n",
    "\"The 20 newsgroups dataset comprises around 18000 newsgroups posts on 20 topics split in two subsets: one for training (or development) and the other one for testing (or for performance evaluation). The split between the train and test set is based upon a messages posted before and after a specific date.\""
   ]
  },
  {
   "cell_type": "markdown",
   "id": "f9176674",
   "metadata": {},
   "source": [
    "## Appendix: *More on text preprocessing*\n",
    "\n",
    "While the exact steps you elect to use for text preprocessing will ultimately depend on applications, there are some more generalizable techniques that you can usually look to apply: \n",
    "\n",
    "* **Expand contractions** - contractions like \"don't\", \"they're\", and \"it's\" all count as unique tokens if punctuation is simply removed (converting them to \"dont\", \"theyre\", \"its\", respectively). Decompose contractions into their constituent words to get more accurate counts of tokens like \"is,\" \"they,\" etc. [pycontractions](https://pypi.org/project/pycontractions/) can be useful here! \n",
    "\n",
    "    * Let's see an example:   \n"
   ]
  },
  {
   "cell_type": "code",
   "execution_count": null,
   "id": "25b9fbfd",
   "metadata": {},
   "outputs": [],
   "source": [
    "# required install: \n",
    "!pip install pycontractions"
   ]
  },
  {
   "cell_type": "code",
   "execution_count": null,
   "id": "1932163b",
   "metadata": {
    "scrolled": true
   },
   "outputs": [],
   "source": [
    "from pycontractions import Contractions as ct\n",
    "\n",
    "# load contractions from a vector model - many models accepted!\n",
    "contractions = ct('GoogleNews-vectors-negative300.bin')\n",
    "\n",
    "# optional: load the model before the first .expand_texts call \n",
    "contractions.load_models() \n",
    "\n",
    "example_sentence = \"I'd like to know how you're doing! You're her best friend, but I'm your friend too, aren't I?\"\n",
    "\n",
    "# let's see the text, de-contraction-afied!\n",
    "print(list(ct.expand_texts([example_sentence])))"
   ]
  },
  {
   "cell_type": "markdown",
   "id": "a46e5f1f",
   "metadata": {},
   "source": [
    "* **Remove stopwords** - stopwords are words like \"a,\" \"from,\" and \"the\" which are typically filtered out from text before analysis as they do not meaningfully contribute to the content of a document. Leaving in stopwords can lead to irrelevant topics in topic modeling, dilute the strength of sentiment in sentiment analysis, etc. \n",
    "\n",
    "    * Here's a quick loop that can help filter out the stopwords from a string: "
   ]
  },
  {
   "cell_type": "code",
   "execution_count": null,
   "id": "d71869c6",
   "metadata": {},
   "outputs": [],
   "source": [
    "from nltk.corpus import stopwords \n",
    "from nltk.tokenize import word_tokenize\n",
    "\n",
    "example_sentence = \"Hi! This is a needlessly wordy sentence with lots of stopwords. My favorite words are: a, the, with, which. You may think that is strange - and it is!\"\n",
    "\n",
    "stop_words = set(stopwords.words('english'))\n",
    "\n",
    "print(\"Example stopwords include: \" + str(stopwords.words('english')[:5])) # if you want to see what are considered English stopwords by the NLTK package\n",
    "\n",
    "word_tokens = word_tokenize(example_sentence)\n",
    "\n",
    "filtered_sentence = [w for w in word_tokens if not w.lower() in stop_words]\n",
    "\n",
    "# let's see the difference!\n",
    "print(word_tokens)\n",
    "print(filtered_sentence)"
   ]
  },
  {
   "cell_type": "markdown",
   "id": "b5aa8891",
   "metadata": {},
   "source": [
    "* Note that different packages have different lists which define stopwords, so make sure you pick a suitable one. Also, feel free to define your own custom stopwords lists!  \n",
    "\n",
    "* **Standardize phrases** - oftentimes text preprocessing is carried out as a precursor to a matching exercise (e.g. using company name to merge two databases). In such cases, we may want to standardize key phrases. For example, \"My Little Startup, LLC\" and \"my little startup\" clearly refer to the same entity, but will not match currently. \n",
    "\n",
    "    * In such cases, we may need to write a custom script to standardize key phrases, or there may be a packages out there that already do this for us. Let's take a look at one for our example, standardizing company names: "
   ]
  },
  {
   "cell_type": "code",
   "execution_count": null,
   "id": "8741bbd7",
   "metadata": {},
   "outputs": [],
   "source": [
    "# required install: \n",
    "!pip install cleanco"
   ]
  },
  {
   "cell_type": "code",
   "execution_count": null,
   "id": "0ff02725",
   "metadata": {},
   "outputs": [],
   "source": [
    "from cleanco import basename\n",
    "\n",
    "business_name_one = \"My Little Startup, LLC\"\n",
    "cleaned_name_one  = basename(business_name_one) # feel free to print this out! just add: 'print(cleaned_name_one)' below. \n",
    "\n",
    "business_name_two = \"My Little Startup\"\n",
    "cleaned_name_two  = basename(business_name_two)\n",
    "\n",
    "# sanity check - are the cleaned company names identical?  \n",
    "print(cleaned_name_one == cleaned_name_two)"
   ]
  },
  {
   "cell_type": "markdown",
   "id": "6da737b4",
   "metadata": {},
   "source": [
    "* How and where you choose to standardize phrases in text will of course depend on your end goal, but there are plenty of resources/examples out there for you to model an approach after if a package doesn't already exist!\n",
    "\n",
    "* **Normalize text** - normalization refers to the process of transforming text into a canonical (standard) form. Sometimes, people take this to mean the entire text pre-processing pipeline, but here we're using it to refer to conversions like \"2mrrw\" to \"tomorrow\" and \"b4\" to \"before.\" \n",
    "\n",
    "    * This process is especially useful when using social media comments as your base text for analysis but often requires custom scripting. "
   ]
  },
  {
   "cell_type": "markdown",
   "id": "bafb80eb",
   "metadata": {},
   "source": []
  }
 ],
 "metadata": {
  "kernelspec": {
   "display_name": "Python 3 (ipykernel)",
   "language": "python",
   "name": "python3"
  },
  "language_info": {
   "codemirror_mode": {
    "name": "ipython",
    "version": 3
   },
   "file_extension": ".py",
   "mimetype": "text/x-python",
   "name": "python",
   "nbconvert_exporter": "python",
   "pygments_lexer": "ipython3",
   "version": "3.9.13"
  },
  "vscode": {
   "interpreter": {
    "hash": "16c684165a00eba53f696e92e1de76bb4a10a33402bb31cdf5ab4f07210fc261"
   }
  }
 },
 "nbformat": 4,
 "nbformat_minor": 5
}