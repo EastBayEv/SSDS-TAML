{
 "cells": [
  {
   "cell_type": "markdown",
   "id": "75b51ba1",
   "metadata": {},
   "source": [
    "# Winter Quarter 2022 schedule\n",
    "\n",
    "* Jan 12: Kickoff, [guest speaker Dr. Qingkai Kong “Smartphones and Twitter for Earthquakes”](Guest_Speakers.md)\n",
    "* Jan 19: Working with text data - preprocessing basics\n",
    "* Jan 26: Core machine learning concepts; building text vocabularies (Bag of Words)\n",
    "* Feb 02: Document encoding (TF-IDF), sentiment analysis, building text classifiers\n",
    "* Feb 09: Lightning talks \n",
    "* Feb 16: The BERT algorithm\n",
    "* Feb 23: Ensemble machine learning, deep learning\n",
    "* Mar 02: Writing about numeric data\n",
    "* Mar 09: Presentations "
   ]
  }
 ],
 "metadata": {
  "kernelspec": {
   "display_name": "Python 3 (ipykernel)",
   "language": "python",
   "name": "python3"
  },
  "language_info": {
   "codemirror_mode": {
    "name": "ipython",
    "version": 3
   },
   "file_extension": ".py",
   "mimetype": "text/x-python",
   "name": "python",
   "nbconvert_exporter": "python",
   "pygments_lexer": "ipython3",
   "version": "3.9.13"
  }
 },
 "nbformat": 4,
 "nbformat_minor": 5
}