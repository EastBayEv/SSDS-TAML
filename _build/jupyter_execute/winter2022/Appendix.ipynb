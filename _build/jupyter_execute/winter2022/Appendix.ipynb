{
 "cells": [
  {
   "cell_type": "markdown",
   "metadata": {},
   "source": [
    "# **Appendix**\n",
    "\n",
    "* Welcome to the appendix! Here you'll find instructions/guides to various Python techniques, tasks, and operations. If you have any suggestions as to what you'd like a section to be written about, please let us know! ad2weng@stanford.edu would be happy to receive your feedback! "
   ]
  },
  {
   "cell_type": "markdown",
   "metadata": {},
   "source": [
    "## Appendix A: *Virtual environments in Python*\n",
    "\n",
    "When operating in Python, you'll often hear/read the advice that you should set up a \"virtual environment\" for each project you are working on. What exactly is a virtual environment, and why do you need one for every project? \n",
    "\n",
    "* From Python's official documentation: \n",
    "\n",
    "    * A virtual environment is a Python environment such that the Python interpreter, libraries, and scripts installed into it are isolated from those installed in other virtual environments, and (by default) any libraries installed in a \"system\" Python; i.e., the version of Python which is installed as part of your operating system.  \n",
    "\n",
    "Put another way, activating your project in a virtual environment allows it to become it's own self-contained application. A few advantages of doing this include: \n",
    "\n",
    "* Allows you to download packages into your project without administrator privileges/status. \n",
    "\n",
    "* Compartmentalizes your project materials for easy sharing and replication. \n",
    "\n",
    "* *Avoids inter-project conflicts regarding versions and dependencies for packages.*\n",
    "\n",
    "That last point can become especially relevant as you work on multiple projects in Python, as one critical version/dependency for one project can cause your other projects to stop working. And, the process of uninstalling packages and/or switching versions for projects is tedious and time-consuming. "
   ]
  },
  {
   "cell_type": "markdown",
   "metadata": {},
   "source": [
    "With the benefits demonstrated, how exactly do we go about setting up a virtual environment? So glad you asked! "
   ]
  },
  {
   "cell_type": "markdown",
   "metadata": {},
   "source": [
    "### Appendix A.1: *Virtual environments in Anaconda*\n",
    "\n",
    "Anaconda is the preferred distribution for local Python installs, with many functionalities presented in a user-friendly interface and offering a suite of applications to aid in data science projects. You can download it [here](https://www.anaconda.com/products/distribution).\n",
    "\n",
    "\n",
    "#### A.1.1: *Setting up a virtual environment*\n",
    "* Once you've downloaded Anaconda, you can set up a virtual environment by: \n",
    "\n",
    "    1. Open Anaconda Navigator on your computer. \n",
    "\n",
    "    2. On the left-hand side of the Navigator window, find and click on the button that say 'Environments': \n",
    "    \n",
    "        <div>\n",
    "        <img src=\"img/ana_env.png\" width=\"500\"/>\n",
    "        <div>\n",
    "\n",
    "    3. In the 'Environments' page, go to the bottom-left of the page and click the button that says 'Create'.\n",
    "\n",
    "        * When you do so, you'll be prompted by a pop-up window to provide a name for your new virtual environment. The location for the virutal environment will be shown to you, and you can install a specific version of Python and/or R: \n",
    "        \n",
    "            <div>\n",
    "            <img src=\"img/test_env.png\"/>\n",
    "            <div>\n",
    "\n",
    "        * Click the 'Create' button in the pop-up window, and wait for the virtual environment to finish being created.  "
   ]
  },
  {
   "cell_type": "markdown",
   "metadata": {},
   "source": [
    "#### A.1.2: *Activating your virtual environment*\n",
    "Now you're ready to use your virtual environment! To work in this environment, anytime you open Anaconda: \n",
    "\n",
    "* Navigate to the 'Environments' page; \n",
    "\n",
    "* Find the environment you want to use; and \n",
    "\n",
    "* Click on it!"
   ]
  },
  {
   "cell_type": "markdown",
   "metadata": {},
   "source": [
    "#### A.1.3: *Adding packages to your virutal environment*\n",
    "\n",
    "To install packages in this virtual environment, either: \n",
    "\n",
    "* Stay on the 'Environments' page, and on the right-hand side of the page:\n",
    "     \n",
    "     * Change the field dictating displayed packages to 'Not installed' or 'All': \n",
    "\n",
    "          <div>\n",
    "          <img src=\"img/packages_ana_env.png\" width=\"500\"/>\n",
    "          <div>\n",
    "\n",
    "     * Go to the 'Search Packages' field and type in the name(s) of the package you want to install; \n",
    "\n",
    "     * If your package is available, click the open checkbox to the left of the package name: \n",
    "\n",
    "          <div>\n",
    "          <img src=\"img/install_numpy_base.png\" width=\"500\"/>\n",
    "          <div>\n",
    "\n",
    "     * Once you've selected all of the packages of interest, click the 'Apply' button in the bottom right-hand corner of the page to install them.  \n",
    "\n",
    "* Go to the 'Home' page, and (install and then) open the 'CMD.exe Prompt' program:\n",
    "\n",
    "     * In your command prompt window, you'll see that you're operating in your previously-selected virtual environment: \n",
    "\n",
    "          <div>\n",
    "          <img src=\"img/my_env_cmd_prompt.png\" width=\"500\">\n",
    "          <div>\n",
    "\n",
    "     * In this window, type ``` pip install [name of package] ``` for each package you want to install/weren't able to install in the 'Environments' page. "
   ]
  },
  {
   "cell_type": "markdown",
   "metadata": {},
   "source": [
    "## Appendix B: *More on text preprocessing*\n",
    "\n",
    "While the exact steps you elect to use for text preprocessing will ultimately depend on applications, there are some more generalizable techniques that you can usually look to apply: \n",
    "\n",
    "* **Expand contractions** - contractions like \"don't\", \"they're\", and \"it's\" all count as unique tokens if punctuation is simply removed (converting them to \"dont\", \"theyre\", \"its\", respectively). Decompose contractions into their constituent words to get more accurate counts of tokens like \"is,\" \"they,\" etc. [pycontractions](https://pypi.org/project/pycontractions/) can be useful here! \n",
    "\n",
    "    * Let's see an example:   \n"
   ]
  },
  {
   "cell_type": "code",
   "execution_count": 1,
   "metadata": {},
   "outputs": [
    {
     "name": "stdout",
     "output_type": "stream",
     "text": [
      "\u001b[33mWARNING: Ignoring invalid distribution -ensorflow (/Users/evanmuzzall/opt/anaconda3/lib/python3.8/site-packages)\u001b[0m\r\n"
     ]
    },
    {
     "name": "stdout",
     "output_type": "stream",
     "text": [
      "\u001b[33mWARNING: Ignoring invalid distribution -ensorflow (/Users/evanmuzzall/opt/anaconda3/lib/python3.8/site-packages)\u001b[0m\r\n"
     ]
    },
    {
     "name": "stdout",
     "output_type": "stream",
     "text": [
      "Collecting pycontractions\r\n",
      "  Using cached pycontractions-2.0.1-py3-none-any.whl (9.6 kB)\r\n",
      "Requirement already satisfied: pyemd>=0.4.4 in /Users/evanmuzzall/opt/anaconda3/lib/python3.8/site-packages (from pycontractions) (0.5.1)\r\n",
      "Requirement already satisfied: gensim>=2.0 in /Users/evanmuzzall/opt/anaconda3/lib/python3.8/site-packages (from pycontractions) (4.1.2)\r\n"
     ]
    },
    {
     "name": "stdout",
     "output_type": "stream",
     "text": [
      "Collecting language-check>=1.0\r\n",
      "  Using cached language-check-1.1.tar.gz (33 kB)\r\n"
     ]
    },
    {
     "name": "stdout",
     "output_type": "stream",
     "text": [
      "Requirement already satisfied: scipy>=0.18.1 in /Users/evanmuzzall/opt/anaconda3/lib/python3.8/site-packages (from gensim>=2.0->pycontractions) (1.7.3)\r\n",
      "Requirement already satisfied: smart-open>=1.8.1 in /Users/evanmuzzall/opt/anaconda3/lib/python3.8/site-packages (from gensim>=2.0->pycontractions) (5.2.1)\r\n",
      "Requirement already satisfied: numpy>=1.17.0 in /Users/evanmuzzall/opt/anaconda3/lib/python3.8/site-packages (from gensim>=2.0->pycontractions) (1.20.3)\r\n"
     ]
    },
    {
     "name": "stdout",
     "output_type": "stream",
     "text": [
      "Building wheels for collected packages: language-check\r\n"
     ]
    },
    {
     "name": "stdout",
     "output_type": "stream",
     "text": [
      "  Building wheel for language-check (setup.py) ... \u001b[?25l-"
     ]
    },
    {
     "name": "stdout",
     "output_type": "stream",
     "text": [
      "\b \berror\r\n",
      "\u001b[31m  ERROR: Command errored out with exit status 1:\r\n",
      "   command: /Users/evanmuzzall/opt/anaconda3/bin/python -u -c 'import io, os, sys, setuptools, tokenize; sys.argv[0] = '\"'\"'/private/var/folders/9g/fhnd1v790cj5ccxlv4rcvsy40000gq/T/pip-install-j9um333x/language-check_4cbacf92712b4b3bad9c16888b7d73c2/setup.py'\"'\"'; __file__='\"'\"'/private/var/folders/9g/fhnd1v790cj5ccxlv4rcvsy40000gq/T/pip-install-j9um333x/language-check_4cbacf92712b4b3bad9c16888b7d73c2/setup.py'\"'\"';f = getattr(tokenize, '\"'\"'open'\"'\"', open)(__file__) if os.path.exists(__file__) else io.StringIO('\"'\"'from setuptools import setup; setup()'\"'\"');code = f.read().replace('\"'\"'\\r\\n'\"'\"', '\"'\"'\\n'\"'\"');f.close();exec(compile(code, __file__, '\"'\"'exec'\"'\"'))' bdist_wheel -d /private/var/folders/9g/fhnd1v790cj5ccxlv4rcvsy40000gq/T/pip-wheel-w1axrols\r\n",
      "       cwd: /private/var/folders/9g/fhnd1v790cj5ccxlv4rcvsy40000gq/T/pip-install-j9um333x/language-check_4cbacf92712b4b3bad9c16888b7d73c2/\r\n",
      "  Complete output (35 lines):\r\n",
      "  Traceback (most recent call last):\r\n",
      "    File \"<string>\", line 1, in <module>\r\n",
      "    File \"/private/var/folders/9g/fhnd1v790cj5ccxlv4rcvsy40000gq/T/pip-install-j9um333x/language-check_4cbacf92712b4b3bad9c16888b7d73c2/setup.py\", line 595, in <module>\r\n",
      "      sys.exit(main())\r\n",
      "    File \"/private/var/folders/9g/fhnd1v790cj5ccxlv4rcvsy40000gq/T/pip-install-j9um333x/language-check_4cbacf92712b4b3bad9c16888b7d73c2/setup.py\", line 590, in main\r\n",
      "      run_setup_hooks(config)\r\n",
      "    File \"/private/var/folders/9g/fhnd1v790cj5ccxlv4rcvsy40000gq/T/pip-install-j9um333x/language-check_4cbacf92712b4b3bad9c16888b7d73c2/setup.py\", line 561, in run_setup_hooks\r\n",
      "      language_tool_hook(config)\r\n",
      "    File \"/private/var/folders/9g/fhnd1v790cj5ccxlv4rcvsy40000gq/T/pip-install-j9um333x/language-check_4cbacf92712b4b3bad9c16888b7d73c2/setup.py\", line 584, in language_tool_hook\r\n",
      "      download_lt()\r\n",
      "    File \"/private/var/folders/9g/fhnd1v790cj5ccxlv4rcvsy40000gq/T/pip-install-j9um333x/language-check_4cbacf92712b4b3bad9c16888b7d73c2/download_lt.py\", line 128, in download_lt\r\n",
      "      with closing(urlopen(url)) as u:\r\n",
      "    File \"/Users/evanmuzzall/opt/anaconda3/lib/python3.8/urllib/request.py\", line 222, in urlopen\r\n",
      "      return opener.open(url, data, timeout)\r\n",
      "    File \"/Users/evanmuzzall/opt/anaconda3/lib/python3.8/urllib/request.py\", line 531, in open\r\n",
      "      response = meth(req, response)\r\n",
      "    File \"/Users/evanmuzzall/opt/anaconda3/lib/python3.8/urllib/request.py\", line 640, in http_response\r\n",
      "      response = self.parent.error(\r\n",
      "    File \"/Users/evanmuzzall/opt/anaconda3/lib/python3.8/urllib/request.py\", line 563, in error\r\n",
      "      result = self._call_chain(*args)\r\n",
      "    File \"/Users/evanmuzzall/opt/anaconda3/lib/python3.8/urllib/request.py\", line 502, in _call_chain\r\n",
      "      result = func(*args)\r\n",
      "    File \"/Users/evanmuzzall/opt/anaconda3/lib/python3.8/urllib/request.py\", line 755, in http_error_302\r\n",
      "      return self.parent.open(new, timeout=req.timeout)\r\n",
      "    File \"/Users/evanmuzzall/opt/anaconda3/lib/python3.8/urllib/request.py\", line 531, in open\r\n",
      "      response = meth(req, response)\r\n",
      "    File \"/Users/evanmuzzall/opt/anaconda3/lib/python3.8/urllib/request.py\", line 640, in http_response\r\n",
      "      response = self.parent.error(\r\n",
      "    File \"/Users/evanmuzzall/opt/anaconda3/lib/python3.8/urllib/request.py\", line 569, in error\r\n",
      "      return self._call_chain(*args)\r\n",
      "    File \"/Users/evanmuzzall/opt/anaconda3/lib/python3.8/urllib/request.py\", line 502, in _call_chain\r\n",
      "      result = func(*args)\r\n",
      "    File \"/Users/evanmuzzall/opt/anaconda3/lib/python3.8/urllib/request.py\", line 649, in http_error_default\r\n",
      "      raise HTTPError(req.full_url, code, msg, hdrs, fp)\r\n",
      "  urllib.error.HTTPError: HTTP Error 403: Forbidden\r\n",
      "  ----------------------------------------\u001b[0m\r\n",
      "\u001b[31m  ERROR: Failed building wheel for language-check\u001b[0m\r\n",
      "\u001b[?25h  Running setup.py clean for language-check\r\n"
     ]
    },
    {
     "name": "stdout",
     "output_type": "stream",
     "text": [
      "Failed to build language-check\r\n",
      "\u001b[33mWARNING: Ignoring invalid distribution -ensorflow (/Users/evanmuzzall/opt/anaconda3/lib/python3.8/site-packages)\u001b[0m\r\n"
     ]
    },
    {
     "name": "stdout",
     "output_type": "stream",
     "text": [
      "Installing collected packages: language-check, pycontractions\r\n"
     ]
    },
    {
     "name": "stdout",
     "output_type": "stream",
     "text": [
      "    Running setup.py install for language-check ... \u001b[?25l-\b \berror\r\n",
      "\u001b[31m    ERROR: Command errored out with exit status 1:\r\n",
      "     command: /Users/evanmuzzall/opt/anaconda3/bin/python -u -c 'import io, os, sys, setuptools, tokenize; sys.argv[0] = '\"'\"'/private/var/folders/9g/fhnd1v790cj5ccxlv4rcvsy40000gq/T/pip-install-j9um333x/language-check_4cbacf92712b4b3bad9c16888b7d73c2/setup.py'\"'\"'; __file__='\"'\"'/private/var/folders/9g/fhnd1v790cj5ccxlv4rcvsy40000gq/T/pip-install-j9um333x/language-check_4cbacf92712b4b3bad9c16888b7d73c2/setup.py'\"'\"';f = getattr(tokenize, '\"'\"'open'\"'\"', open)(__file__) if os.path.exists(__file__) else io.StringIO('\"'\"'from setuptools import setup; setup()'\"'\"');code = f.read().replace('\"'\"'\\r\\n'\"'\"', '\"'\"'\\n'\"'\"');f.close();exec(compile(code, __file__, '\"'\"'exec'\"'\"'))' install --record /private/var/folders/9g/fhnd1v790cj5ccxlv4rcvsy40000gq/T/pip-record-my1o6jzi/install-record.txt --single-version-externally-managed --compile --install-headers /Users/evanmuzzall/opt/anaconda3/include/python3.8/language-check\r\n",
      "         cwd: /private/var/folders/9g/fhnd1v790cj5ccxlv4rcvsy40000gq/T/pip-install-j9um333x/language-check_4cbacf92712b4b3bad9c16888b7d73c2/\r\n",
      "    Complete output (35 lines):\r\n",
      "    Traceback (most recent call last):\r\n",
      "      File \"<string>\", line 1, in <module>\r\n",
      "      File \"/private/var/folders/9g/fhnd1v790cj5ccxlv4rcvsy40000gq/T/pip-install-j9um333x/language-check_4cbacf92712b4b3bad9c16888b7d73c2/setup.py\", line 595, in <module>\r\n",
      "        sys.exit(main())\r\n",
      "      File \"/private/var/folders/9g/fhnd1v790cj5ccxlv4rcvsy40000gq/T/pip-install-j9um333x/language-check_4cbacf92712b4b3bad9c16888b7d73c2/setup.py\", line 590, in main\r\n",
      "        run_setup_hooks(config)\r\n",
      "      File \"/private/var/folders/9g/fhnd1v790cj5ccxlv4rcvsy40000gq/T/pip-install-j9um333x/language-check_4cbacf92712b4b3bad9c16888b7d73c2/setup.py\", line 561, in run_setup_hooks\r\n",
      "        language_tool_hook(config)\r\n",
      "      File \"/private/var/folders/9g/fhnd1v790cj5ccxlv4rcvsy40000gq/T/pip-install-j9um333x/language-check_4cbacf92712b4b3bad9c16888b7d73c2/setup.py\", line 584, in language_tool_hook\r\n",
      "        download_lt()\r\n",
      "      File \"/private/var/folders/9g/fhnd1v790cj5ccxlv4rcvsy40000gq/T/pip-install-j9um333x/language-check_4cbacf92712b4b3bad9c16888b7d73c2/download_lt.py\", line 128, in download_lt\r\n",
      "        with closing(urlopen(url)) as u:\r\n",
      "      File \"/Users/evanmuzzall/opt/anaconda3/lib/python3.8/urllib/request.py\", line 222, in urlopen\r\n",
      "        return opener.open(url, data, timeout)\r\n",
      "      File \"/Users/evanmuzzall/opt/anaconda3/lib/python3.8/urllib/request.py\", line 531, in open\r\n",
      "        response = meth(req, response)\r\n",
      "      File \"/Users/evanmuzzall/opt/anaconda3/lib/python3.8/urllib/request.py\", line 640, in http_response\r\n",
      "        response = self.parent.error(\r\n",
      "      File \"/Users/evanmuzzall/opt/anaconda3/lib/python3.8/urllib/request.py\", line 563, in error\r\n",
      "        result = self._call_chain(*args)\r\n",
      "      File \"/Users/evanmuzzall/opt/anaconda3/lib/python3.8/urllib/request.py\", line 502, in _call_chain\r\n",
      "        result = func(*args)\r\n",
      "      File \"/Users/evanmuzzall/opt/anaconda3/lib/python3.8/urllib/request.py\", line 755, in http_error_302\r\n",
      "        return self.parent.open(new, timeout=req.timeout)\r\n",
      "      File \"/Users/evanmuzzall/opt/anaconda3/lib/python3.8/urllib/request.py\", line 531, in open\r\n",
      "        response = meth(req, response)\r\n",
      "      File \"/Users/evanmuzzall/opt/anaconda3/lib/python3.8/urllib/request.py\", line 640, in http_response\r\n",
      "        response = self.parent.error(\r\n",
      "      File \"/Users/evanmuzzall/opt/anaconda3/lib/python3.8/urllib/request.py\", line 569, in error\r\n",
      "        return self._call_chain(*args)\r\n",
      "      File \"/Users/evanmuzzall/opt/anaconda3/lib/python3.8/urllib/request.py\", line 502, in _call_chain\r\n",
      "        result = func(*args)\r\n",
      "      File \"/Users/evanmuzzall/opt/anaconda3/lib/python3.8/urllib/request.py\", line 649, in http_error_default\r\n",
      "        raise HTTPError(req.full_url, code, msg, hdrs, fp)\r\n",
      "    urllib.error.HTTPError: HTTP Error 403: Forbidden\r\n",
      "    ----------------------------------------\u001b[0m\r\n",
      "\u001b[31mERROR: Command errored out with exit status 1: /Users/evanmuzzall/opt/anaconda3/bin/python -u -c 'import io, os, sys, setuptools, tokenize; sys.argv[0] = '\"'\"'/private/var/folders/9g/fhnd1v790cj5ccxlv4rcvsy40000gq/T/pip-install-j9um333x/language-check_4cbacf92712b4b3bad9c16888b7d73c2/setup.py'\"'\"'; __file__='\"'\"'/private/var/folders/9g/fhnd1v790cj5ccxlv4rcvsy40000gq/T/pip-install-j9um333x/language-check_4cbacf92712b4b3bad9c16888b7d73c2/setup.py'\"'\"';f = getattr(tokenize, '\"'\"'open'\"'\"', open)(__file__) if os.path.exists(__file__) else io.StringIO('\"'\"'from setuptools import setup; setup()'\"'\"');code = f.read().replace('\"'\"'\\r\\n'\"'\"', '\"'\"'\\n'\"'\"');f.close();exec(compile(code, __file__, '\"'\"'exec'\"'\"'))' install --record /private/var/folders/9g/fhnd1v790cj5ccxlv4rcvsy40000gq/T/pip-record-my1o6jzi/install-record.txt --single-version-externally-managed --compile --install-headers /Users/evanmuzzall/opt/anaconda3/include/python3.8/language-check Check the logs for full command output.\u001b[0m\r\n",
      "\u001b[33mWARNING: Ignoring invalid distribution -ensorflow (/Users/evanmuzzall/opt/anaconda3/lib/python3.8/site-packages)\u001b[0m\r\n",
      "\u001b[33mWARNING: Ignoring invalid distribution -ensorflow (/Users/evanmuzzall/opt/anaconda3/lib/python3.8/site-packages)\u001b[0m\r\n",
      "\u001b[33mWARNING: Ignoring invalid distribution -ensorflow (/Users/evanmuzzall/opt/anaconda3/lib/python3.8/site-packages)\u001b[0m\r\n"
     ]
    },
    {
     "name": "stdout",
     "output_type": "stream",
     "text": [
      "\u001b[?25h"
     ]
    }
   ],
   "source": [
    "# required install: \n",
    "!pip install pycontractions"
   ]
  },
  {
   "cell_type": "code",
   "execution_count": 2,
   "metadata": {},
   "outputs": [
    {
     "ename": "ModuleNotFoundError",
     "evalue": "No module named 'pycontractions'",
     "output_type": "error",
     "traceback": [
      "\u001b[0;31m---------------------------------------------------------------------------\u001b[0m",
      "\u001b[0;31mModuleNotFoundError\u001b[0m                       Traceback (most recent call last)",
      "\u001b[0;32m/var/folders/9g/fhnd1v790cj5ccxlv4rcvsy40000gq/T/ipykernel_32257/1793476377.py\u001b[0m in \u001b[0;36m<module>\u001b[0;34m\u001b[0m\n\u001b[0;32m----> 1\u001b[0;31m \u001b[0;32mfrom\u001b[0m \u001b[0mpycontractions\u001b[0m \u001b[0;32mimport\u001b[0m \u001b[0mContractions\u001b[0m \u001b[0;32mas\u001b[0m \u001b[0mct\u001b[0m\u001b[0;34m\u001b[0m\u001b[0;34m\u001b[0m\u001b[0m\n\u001b[0m\u001b[1;32m      2\u001b[0m \u001b[0;34m\u001b[0m\u001b[0m\n\u001b[1;32m      3\u001b[0m \u001b[0;31m# load contractions from a vector model - many models accepted!\u001b[0m\u001b[0;34m\u001b[0m\u001b[0;34m\u001b[0m\u001b[0;34m\u001b[0m\u001b[0m\n\u001b[1;32m      4\u001b[0m \u001b[0mcontractions\u001b[0m \u001b[0;34m=\u001b[0m \u001b[0mct\u001b[0m\u001b[0;34m(\u001b[0m\u001b[0;34m'GoogleNews-vectors-negative300.bin'\u001b[0m\u001b[0;34m)\u001b[0m\u001b[0;34m\u001b[0m\u001b[0;34m\u001b[0m\u001b[0m\n\u001b[1;32m      5\u001b[0m \u001b[0;34m\u001b[0m\u001b[0m\n",
      "\u001b[0;31mModuleNotFoundError\u001b[0m: No module named 'pycontractions'"
     ]
    }
   ],
   "source": [
    "from pycontractions import Contractions as ct\n",
    "\n",
    "# load contractions from a vector model - many models accepted!\n",
    "contractions = ct('GoogleNews-vectors-negative300.bin')\n",
    "\n",
    "# optional: load the model before the first .expand_texts call \n",
    "ct.load_models() \n",
    "\n",
    "example_sentence = \"I'd like to know how you're doing! You're her best friend, but I'm your friend too, aren't I?\"\n",
    "\n",
    "# let's see the text, de-contraction-afied!\n",
    "print(list(ct.expand_texts([example_sentence])))"
   ]
  },
  {
   "cell_type": "markdown",
   "metadata": {},
   "source": [
    "* **Remove stopwords** - stopwords are words like \"a,\" \"from,\" and \"the\" which are typically filtered out from text before analysis as they do not meaningfully contribute to the content of a document. Leaving in stopwords can lead to irrelevant topics in topic modeling, dilute the strength of sentiment in sentiment analysis, etc. \n",
    "\n",
    "    * Here's a quick loop that can help filter out the stopwords from a string: "
   ]
  },
  {
   "cell_type": "code",
   "execution_count": null,
   "metadata": {},
   "outputs": [],
   "source": [
    "from nltk.corpus import stopwords \n",
    "from nltk.tokenize import word_tokenize\n",
    "\n",
    "example_sentence = \"Hi! This is a needlessly wordy sentence with lots of stopwords. My favorite words are: a, the, with, which. You may think that is strange - and it is!\"\n",
    "\n",
    "stop_words = set(stopwords.words('english'))\n",
    "\n",
    "print(\"Example stopwords include: \" + str(stopwords.words('english')[:5])) # if you want to see what are considered English stopwords by the NLTK package\n",
    "\n",
    "word_tokens = word_tokenize(example_sentence)\n",
    "\n",
    "filtered_sentence = [w for w in word_tokens if not w.lower() in stop_words]\n",
    "\n",
    "# let's see the difference!\n",
    "print(word_tokens)\n",
    "print(filtered_sentence)"
   ]
  },
  {
   "cell_type": "markdown",
   "metadata": {},
   "source": [
    "* Note that different packages have different lists which define stopwords, so make sure you pick a suitable one. Also, feel free to define your own custom stopwords lists!  \n",
    "\n",
    "* **Standardize phrases** - oftentimes text preprocessing is carried out as a precursor to a matching exercise (e.g. using company name to merge two databases). In such cases, we may want to standardize key phrases. For example, \"My Little Startup, LLC\" and \"my little startup\" clearly refer to the same entity, but will not match currently. \n",
    "\n",
    "    * In such cases, we may need to write a custom script to standardize key phrases, or there may be a packages out there that already do this for us. Let's take a look at one for our example, standardizing company names: "
   ]
  },
  {
   "cell_type": "code",
   "execution_count": null,
   "metadata": {},
   "outputs": [],
   "source": [
    "# required install: \n",
    "!pip install cleanco"
   ]
  },
  {
   "cell_type": "code",
   "execution_count": null,
   "metadata": {},
   "outputs": [],
   "source": [
    "from cleanco import basename\n",
    "\n",
    "business_name_one = \"My Little Startup, LLC\"\n",
    "cleaned_name_one  = basename(business_name_one) # feel free to print this out! just add: 'print(cleaned_name_one)' below. \n",
    "\n",
    "business_name_two = \"My Little Startup\"\n",
    "cleaned_name_two  = basename(business_name_two)\n",
    "\n",
    "# sanity check - are the cleaned company names identical?  \n",
    "print(cleaned_name_one == cleaned_name_two)"
   ]
  },
  {
   "cell_type": "markdown",
   "metadata": {},
   "source": [
    "* How and where you choose to standardize phrases in text will of course depend on your end goal, but there are plenty of resources/examples out there for you to model an approach after if a package doesn't already exist!\n",
    "\n",
    "* **Normalize text** - normalization refers to the process of transforming text into a canonical (standard) form. Sometimes, people take this to mean the entire text pre-processing pipeline, but here we're using it to refer to conversions like \"2mrrw\" to \"tomorrow\" and \"b4\" to \"before.\" \n",
    "\n",
    "    * This process is especially useful when using social media comments as your base text for analysis but often requires custom scripting. "
   ]
  }
 ],
 "metadata": {
  "kernelspec": {
   "display_name": "Python 3.9.12 ('base')",
   "language": "python",
   "name": "python3"
  },
  "language_info": {
   "codemirror_mode": {
    "name": "ipython",
    "version": 3
   },
   "file_extension": ".py",
   "mimetype": "text/x-python",
   "name": "python",
   "nbconvert_exporter": "python",
   "pygments_lexer": "ipython3",
   "version": "3.8.8"
  },
  "vscode": {
   "interpreter": {
    "hash": "16c684165a00eba53f696e92e1de76bb4a10a33402bb31cdf5ab4f07210fc261"
   }
  }
 },
 "nbformat": 4,
 "nbformat_minor": 2
}