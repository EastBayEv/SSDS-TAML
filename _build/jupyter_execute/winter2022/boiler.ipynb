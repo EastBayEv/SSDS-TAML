{
 "cells": [
  {
   "cell_type": "markdown",
   "id": "20a1f09c",
   "metadata": {},
   "source": [
    "# iii. Boilerplate code review"
   ]
  },
  {
   "cell_type": "markdown",
   "id": "b5b96ec5",
   "metadata": {},
   "source": [
    "![boiler](img/boiler.jpg)"
   ]
  },
  {
   "cell_type": "markdown",
   "id": "a637c9b1",
   "metadata": {},
   "source": [
    "Below are just a few examples of basic Python programming to accomplish data saving and importing tasks."
   ]
  },
  {
   "cell_type": "markdown",
   "id": "35c5fd6f",
   "metadata": {},
   "source": [
    "## Variable assignment\n",
    "\n",
    "In Python, data are saved in variables.\n",
    "\n",
    "Variable names should be simple and descriptive. \n",
    "\n",
    "Assign a variable by typing its name to the left of the equals sign. Whatever is written to the right of the equals sign will be saved in the variable. \n",
    "\n",
    "You could read this as \"x is defined as four\", \"five is assigned to y\", or \"z is six\"."
   ]
  },
  {
   "cell_type": "code",
   "execution_count": 1,
   "id": "4070bdbd",
   "metadata": {},
   "outputs": [],
   "source": [
    "# define one variable\n",
    "x = 1"
   ]
  },
  {
   "cell_type": "code",
   "execution_count": 2,
   "id": "beea0fd3",
   "metadata": {},
   "outputs": [],
   "source": [
    "# assign multiple variables\n",
    "x = 1\n",
    "y = 2\n",
    "z = 3"
   ]
  },
  {
   "cell_type": "markdown",
   "id": "b68a9fd6",
   "metadata": {},
   "source": [
    "## Use `print()` to show it on the screen"
   ]
  },
  {
   "cell_type": "code",
   "execution_count": 3,
   "id": "ca646c59",
   "metadata": {},
   "outputs": [
    {
     "name": "stdout",
     "output_type": "stream",
     "text": [
      "1\n"
     ]
    }
   ],
   "source": [
    "print(x)"
   ]
  },
  {
   "cell_type": "code",
   "execution_count": 4,
   "id": "bcfd3cf4",
   "metadata": {},
   "outputs": [
    {
     "data": {
      "text/plain": [
       "1.5"
      ]
     },
     "execution_count": 4,
     "metadata": {},
     "output_type": "execute_result"
    }
   ],
   "source": [
    "# call the variables directly!\n",
    "x / y * z"
   ]
  },
  {
   "cell_type": "markdown",
   "id": "515d6834",
   "metadata": {},
   "source": [
    "## Functions, arguments, and methods\n",
    "\n",
    "Functions, arguments, and methods form the core user framework for Python programming. \n",
    "* Functions: Perform actions on a thing\n",
    "\n",
    "* Argument:  The \"things\" (text, values, expressions, datasets, etc.)\n",
    "\n",
    "> Note \"parameters\" are the variables during function definition. Arguments are the values we pass into these placeholders while calling the function. \n",
    "\n",
    "* Methods:   Type-specific functions (i.e., can only use a specific type of data and not other types). Use \"dot\" notation to utilize methods on a variable or other object. \n",
    "\n",
    "> For example, you could type `gap = pd.read_csv('data/gapminder-FiveYearData.csv')` to use the `read_csv()` method from the pandas library (imported as the alias `pd`) to load the Gapminder data.\n"
   ]
  },
  {
   "cell_type": "markdown",
   "id": "f96fec38",
   "metadata": {},
   "source": [
    "## Data types\n",
    "\n",
    "Everything in Python has a type which determines how we can manipulate that piece of data. Be careful, it is easy to get confused when trying to complete multiple tasks that use lots of different variables!"
   ]
  },
  {
   "cell_type": "code",
   "execution_count": 5,
   "id": "2dda3e66",
   "metadata": {},
   "outputs": [
    {
     "name": "stdout",
     "output_type": "stream",
     "text": [
      "<class 'float'>\n"
     ]
    }
   ],
   "source": [
    "# float (decimals)\n",
    "# use a decimal to create floats\n",
    "pi = 3.14\n",
    "print(type(pi))"
   ]
  },
  {
   "cell_type": "code",
   "execution_count": 6,
   "id": "c656d939",
   "metadata": {},
   "outputs": [
    {
     "name": "stdout",
     "output_type": "stream",
     "text": [
      "<class 'int'>\n"
     ]
    }
   ],
   "source": [
    "# integer (whole numbers)\n",
    "# do not use a decimal for integers\n",
    "amount = 4\n",
    "print(type(amount))"
   ]
  },
  {
   "cell_type": "code",
   "execution_count": 7,
   "id": "f868cfea",
   "metadata": {},
   "outputs": [
    {
     "name": "stdout",
     "output_type": "stream",
     "text": [
      "<class 'str'>\n"
     ]
    }
   ],
   "source": [
    "# string (text)\n",
    "# wrap text data in quotations\n",
    "welcome = \"Welcome to Stanford Libraries\"\n",
    "print(type(welcome))"
   ]
  },
  {
   "cell_type": "code",
   "execution_count": 8,
   "id": "3f437e56",
   "metadata": {},
   "outputs": [
    {
     "name": "stdout",
     "output_type": "stream",
     "text": [
      "<class 'bool'>\n",
      "-1\n"
     ]
    }
   ],
   "source": [
    "# boolean (logical)\n",
    "# True or False (stored as 1 and 0)\n",
    "print(type(True))\n",
    "print(False - True)"
   ]
  },
  {
   "cell_type": "markdown",
   "id": "50d29a61",
   "metadata": {},
   "source": [
    "### Addition examples with strings versus numbers"
   ]
  },
  {
   "cell_type": "code",
   "execution_count": 9,
   "id": "08c430fe",
   "metadata": {},
   "outputs": [
    {
     "data": {
      "text/plain": [
       "'11'"
      ]
     },
     "execution_count": 9,
     "metadata": {},
     "output_type": "execute_result"
    }
   ],
   "source": [
    "# character strings\n",
    "'1' + '1'"
   ]
  },
  {
   "cell_type": "code",
   "execution_count": 10,
   "id": "1868a6f3",
   "metadata": {},
   "outputs": [
    {
     "data": {
      "text/plain": [
       "2"
      ]
     },
     "execution_count": 10,
     "metadata": {},
     "output_type": "execute_result"
    }
   ],
   "source": [
    "# integers\n",
    "1 + 1"
   ]
  },
  {
   "cell_type": "markdown",
   "id": "faca9b32",
   "metadata": {},
   "source": [
    "## Data structures\n",
    "\n",
    "Data can be stored in a variety of ways. "
   ]
  },
  {
   "cell_type": "markdown",
   "id": "c4b65191",
   "metadata": {},
   "source": [
    "### Indexing\n",
    "\n",
    "Python is a zero-indexed programming language and means that you start counting from zero. Thus, the first element in a collection is referenced by 0 instead of 1. \n",
    "\n",
    "### List\n",
    "\n",
    "Lists are ordered groups of data that are both created and indexed (positionally referenced) with square brackets `[]`."
   ]
  },
  {
   "cell_type": "code",
   "execution_count": 11,
   "id": "6551cb75",
   "metadata": {},
   "outputs": [
    {
     "data": {
      "text/plain": [
       "'shark'"
      ]
     },
     "execution_count": 11,
     "metadata": {},
     "output_type": "execute_result"
    }
   ],
   "source": [
    "animals = ['shark', 'dolphin']\n",
    "animals[0]"
   ]
  },
  {
   "cell_type": "code",
   "execution_count": 12,
   "id": "17c201d3",
   "metadata": {},
   "outputs": [
    {
     "name": "stdout",
     "output_type": "stream",
     "text": [
      "tree\n",
      "cat\n"
     ]
    }
   ],
   "source": [
    "animals = ['shark', 'dolphin', ['dog', 'cat'], ['tree', 'cactus']]\n",
    "print(animals[3][0])\n",
    "print(animals[2][1])"
   ]
  },
  {
   "cell_type": "markdown",
   "id": "6e2198a5",
   "metadata": {},
   "source": [
    "### Dictionary\n",
    "\n",
    "Dictionaries are _unordered_ groups of \"key:value\" pairs. Use the key to access the value. "
   ]
  },
  {
   "cell_type": "code",
   "execution_count": 13,
   "id": "76f2dd9c",
   "metadata": {},
   "outputs": [
    {
     "data": {
      "text/plain": [
       "{'fruits': [{'name': 'apple',\n",
       "   'color': ['red', 'green'],\n",
       "   'recipes': ['pie', 'salad', 'sauce']},\n",
       "  {'name': 'orange',\n",
       "   'color': 'orange',\n",
       "   'recipes': ['juice', 'marmalade', 'gratin']}]}"
      ]
     },
     "execution_count": 13,
     "metadata": {},
     "output_type": "execute_result"
    }
   ],
   "source": [
    "apple = {'name': 'apple', 'color': ['red', 'green'], 'recipes': ['pie', 'salad', 'sauce']}\n",
    "orange = {'name': 'orange', 'color': 'orange', 'recipes': ['juice', 'marmalade', 'gratin']}\n",
    "\n",
    "fruits = {'fruits': [apple, orange]}\n",
    "\n",
    "fruits"
   ]
  },
  {
   "cell_type": "code",
   "execution_count": 14,
   "id": "09e86a09",
   "metadata": {},
   "outputs": [
    {
     "data": {
      "text/plain": [
       "'juice'"
      ]
     },
     "execution_count": 14,
     "metadata": {},
     "output_type": "execute_result"
    }
   ],
   "source": [
    "fruits['fruits'][1]['recipes'][0]"
   ]
  },
  {
   "cell_type": "markdown",
   "id": "db402186",
   "metadata": {},
   "source": [
    "### Import text data as a character string\n",
    "\n",
    "Import text using the `open().read()` Python convention to import text as a single string."
   ]
  },
  {
   "cell_type": "code",
   "execution_count": 15,
   "id": "12a1d5c1",
   "metadata": {},
   "outputs": [
    {
     "ename": "FileNotFoundError",
     "evalue": "[Errno 2] No such file or directory: 'data/frankenstein.txt'",
     "output_type": "error",
     "traceback": [
      "\u001b[0;31m---------------------------------------------------------------------------\u001b[0m",
      "\u001b[0;31mFileNotFoundError\u001b[0m                         Traceback (most recent call last)",
      "Input \u001b[0;32mIn [15]\u001b[0m, in \u001b[0;36m<module>\u001b[0;34m\u001b[0m\n\u001b[0;32m----> 1\u001b[0m frank \u001b[38;5;241m=\u001b[39m \u001b[38;5;28;43mopen\u001b[39;49m\u001b[43m(\u001b[49m\u001b[38;5;124;43m'\u001b[39;49m\u001b[38;5;124;43mdata/frankenstein.txt\u001b[39;49m\u001b[38;5;124;43m'\u001b[39;49m\u001b[43m)\u001b[49m\u001b[38;5;241m.\u001b[39mread()\n\u001b[1;32m      3\u001b[0m \u001b[38;5;66;03m# print only the first 1000 characters\u001b[39;00m\n\u001b[1;32m      4\u001b[0m \u001b[38;5;28mprint\u001b[39m(frank[:\u001b[38;5;241m1000\u001b[39m])\n",
      "\u001b[0;31mFileNotFoundError\u001b[0m: [Errno 2] No such file or directory: 'data/frankenstein.txt'"
     ]
    }
   ],
   "source": [
    "frank = open('data/frankenstein.txt').read()\n",
    "\n",
    "# print only the first 1000 characters\n",
    "print(frank[:1000])"
   ]
  },
  {
   "cell_type": "markdown",
   "id": "85ef1b8d",
   "metadata": {},
   "source": [
    "### Import data frames with the pandas library\n",
    "\n",
    "Data frames are programming speak for tabular spreadsheets organized into rows and columns and often stored in .csv format. "
   ]
  },
  {
   "cell_type": "code",
   "execution_count": 5,
   "id": "df82b537",
   "metadata": {},
   "outputs": [],
   "source": [
    "# Step 1. link the pandas library to our current notebook\n",
    "import pandas as pd"
   ]
  },
  {
   "cell_type": "code",
   "execution_count": 6,
   "id": "af8e4945",
   "metadata": {},
   "outputs": [],
   "source": [
    "# Step 2. enter the file path in pandas's read_csv() function  \n",
    "gap = pd.read_csv(\"data/gapminder-FiveYearData.csv\")"
   ]
  },
  {
   "cell_type": "code",
   "execution_count": 7,
   "id": "ec2d9799",
   "metadata": {},
   "outputs": [
    {
     "name": "stdout",
     "output_type": "stream",
     "text": [
      "          country  year         pop continent  lifeExp   gdpPercap\n",
      "0     Afghanistan  1952   8425333.0      Asia   28.801  779.445314\n",
      "1     Afghanistan  1957   9240934.0      Asia   30.332  820.853030\n",
      "2     Afghanistan  1962  10267083.0      Asia   31.997  853.100710\n",
      "3     Afghanistan  1967  11537966.0      Asia   34.020  836.197138\n",
      "4     Afghanistan  1972  13079460.0      Asia   36.088  739.981106\n",
      "...           ...   ...         ...       ...      ...         ...\n",
      "1699     Zimbabwe  1987   9216418.0    Africa   62.351  706.157306\n",
      "1700     Zimbabwe  1992  10704340.0    Africa   60.377  693.420786\n",
      "1701     Zimbabwe  1997  11404948.0    Africa   46.809  792.449960\n",
      "1702     Zimbabwe  2002  11926563.0    Africa   39.989  672.038623\n",
      "1703     Zimbabwe  2007  12311143.0    Africa   43.487  469.709298\n",
      "\n",
      "[1704 rows x 6 columns]\n"
     ]
    }
   ],
   "source": [
    "# Step 3. view the data\n",
    "print(gap)"
   ]
  },
  {
   "cell_type": "code",
   "execution_count": 8,
   "id": "df47d331",
   "metadata": {},
   "outputs": [
    {
     "data": {
      "text/html": [
       "<div>\n",
       "<style scoped>\n",
       "    .dataframe tbody tr th:only-of-type {\n",
       "        vertical-align: middle;\n",
       "    }\n",
       "\n",
       "    .dataframe tbody tr th {\n",
       "        vertical-align: top;\n",
       "    }\n",
       "\n",
       "    .dataframe thead th {\n",
       "        text-align: right;\n",
       "    }\n",
       "</style>\n",
       "<table border=\"1\" class=\"dataframe\">\n",
       "  <thead>\n",
       "    <tr style=\"text-align: right;\">\n",
       "      <th></th>\n",
       "      <th>country</th>\n",
       "      <th>year</th>\n",
       "      <th>pop</th>\n",
       "      <th>continent</th>\n",
       "      <th>lifeExp</th>\n",
       "      <th>gdpPercap</th>\n",
       "    </tr>\n",
       "  </thead>\n",
       "  <tbody>\n",
       "    <tr>\n",
       "      <th>0</th>\n",
       "      <td>Afghanistan</td>\n",
       "      <td>1952</td>\n",
       "      <td>8425333.0</td>\n",
       "      <td>Asia</td>\n",
       "      <td>28.801</td>\n",
       "      <td>779.445314</td>\n",
       "    </tr>\n",
       "    <tr>\n",
       "      <th>1</th>\n",
       "      <td>Afghanistan</td>\n",
       "      <td>1957</td>\n",
       "      <td>9240934.0</td>\n",
       "      <td>Asia</td>\n",
       "      <td>30.332</td>\n",
       "      <td>820.853030</td>\n",
       "    </tr>\n",
       "    <tr>\n",
       "      <th>2</th>\n",
       "      <td>Afghanistan</td>\n",
       "      <td>1962</td>\n",
       "      <td>10267083.0</td>\n",
       "      <td>Asia</td>\n",
       "      <td>31.997</td>\n",
       "      <td>853.100710</td>\n",
       "    </tr>\n",
       "    <tr>\n",
       "      <th>3</th>\n",
       "      <td>Afghanistan</td>\n",
       "      <td>1967</td>\n",
       "      <td>11537966.0</td>\n",
       "      <td>Asia</td>\n",
       "      <td>34.020</td>\n",
       "      <td>836.197138</td>\n",
       "    </tr>\n",
       "    <tr>\n",
       "      <th>4</th>\n",
       "      <td>Afghanistan</td>\n",
       "      <td>1972</td>\n",
       "      <td>13079460.0</td>\n",
       "      <td>Asia</td>\n",
       "      <td>36.088</td>\n",
       "      <td>739.981106</td>\n",
       "    </tr>\n",
       "    <tr>\n",
       "      <th>...</th>\n",
       "      <td>...</td>\n",
       "      <td>...</td>\n",
       "      <td>...</td>\n",
       "      <td>...</td>\n",
       "      <td>...</td>\n",
       "      <td>...</td>\n",
       "    </tr>\n",
       "    <tr>\n",
       "      <th>1699</th>\n",
       "      <td>Zimbabwe</td>\n",
       "      <td>1987</td>\n",
       "      <td>9216418.0</td>\n",
       "      <td>Africa</td>\n",
       "      <td>62.351</td>\n",
       "      <td>706.157306</td>\n",
       "    </tr>\n",
       "    <tr>\n",
       "      <th>1700</th>\n",
       "      <td>Zimbabwe</td>\n",
       "      <td>1992</td>\n",
       "      <td>10704340.0</td>\n",
       "      <td>Africa</td>\n",
       "      <td>60.377</td>\n",
       "      <td>693.420786</td>\n",
       "    </tr>\n",
       "    <tr>\n",
       "      <th>1701</th>\n",
       "      <td>Zimbabwe</td>\n",
       "      <td>1997</td>\n",
       "      <td>11404948.0</td>\n",
       "      <td>Africa</td>\n",
       "      <td>46.809</td>\n",
       "      <td>792.449960</td>\n",
       "    </tr>\n",
       "    <tr>\n",
       "      <th>1702</th>\n",
       "      <td>Zimbabwe</td>\n",
       "      <td>2002</td>\n",
       "      <td>11926563.0</td>\n",
       "      <td>Africa</td>\n",
       "      <td>39.989</td>\n",
       "      <td>672.038623</td>\n",
       "    </tr>\n",
       "    <tr>\n",
       "      <th>1703</th>\n",
       "      <td>Zimbabwe</td>\n",
       "      <td>2007</td>\n",
       "      <td>12311143.0</td>\n",
       "      <td>Africa</td>\n",
       "      <td>43.487</td>\n",
       "      <td>469.709298</td>\n",
       "    </tr>\n",
       "  </tbody>\n",
       "</table>\n",
       "<p>1704 rows × 6 columns</p>\n",
       "</div>"
      ],
      "text/plain": [
       "          country  year         pop continent  lifeExp   gdpPercap\n",
       "0     Afghanistan  1952   8425333.0      Asia   28.801  779.445314\n",
       "1     Afghanistan  1957   9240934.0      Asia   30.332  820.853030\n",
       "2     Afghanistan  1962  10267083.0      Asia   31.997  853.100710\n",
       "3     Afghanistan  1967  11537966.0      Asia   34.020  836.197138\n",
       "4     Afghanistan  1972  13079460.0      Asia   36.088  739.981106\n",
       "...           ...   ...         ...       ...      ...         ...\n",
       "1699     Zimbabwe  1987   9216418.0    Africa   62.351  706.157306\n",
       "1700     Zimbabwe  1992  10704340.0    Africa   60.377  693.420786\n",
       "1701     Zimbabwe  1997  11404948.0    Africa   46.809  792.449960\n",
       "1702     Zimbabwe  2002  11926563.0    Africa   39.989  672.038623\n",
       "1703     Zimbabwe  2007  12311143.0    Africa   43.487  469.709298\n",
       "\n",
       "[1704 rows x 6 columns]"
      ]
     },
     "execution_count": 8,
     "metadata": {},
     "output_type": "execute_result"
    }
   ],
   "source": [
    "gap"
   ]
  },
  {
   "cell_type": "markdown",
   "id": "dc5a1682",
   "metadata": {},
   "source": [
    "## Challenge\n",
    "\n",
    "Open JupyterLab. Try to import a: \n",
    "1. different .txt file\n",
    "2. different .csv file\n",
    "\n",
    "If you encounter error messages, which ones? "
   ]
  },
  {
   "cell_type": "markdown",
   "id": "c1abb337",
   "metadata": {},
   "source": [
    "## Error messages\n",
    "\n",
    "Python's learning curve can feel creative and beyond frustrating at the same time. Just remember that everyone encounters errors - lots of them. When you do, start debugging by investigating the type of error message you receive. \n",
    "\n",
    "Scroll to the end of the error message and read the last line to find the type of error.  \n",
    "\n",
    "\n",
    "## Challenge\n",
    "\n",
    "1. In JupyterLab, unhashtag the line of code for each error message below\n",
    "2. Run each one\n",
    "3. Inspect the error messages"
   ]
  },
  {
   "cell_type": "markdown",
   "id": "8b9e0154",
   "metadata": {},
   "source": [
    "### Syntax errors"
   ]
  },
  {
   "cell_type": "markdown",
   "id": "df991dbc",
   "metadata": {},
   "source": [
    "**Invalid syntax**\n",
    "\n",
    "You have entered something python does not understand."
   ]
  },
  {
   "cell_type": "code",
   "execution_count": 3,
   "id": "164c3f6f",
   "metadata": {},
   "outputs": [],
   "source": [
    "# x 89 5"
   ]
  },
  {
   "cell_type": "markdown",
   "id": "f2db8247",
   "metadata": {},
   "source": [
    "**Indentation**\n",
    "\n",
    "Your indentation does not conform to the rules"
   ]
  },
  {
   "cell_type": "code",
   "execution_count": 5,
   "id": "1e727140",
   "metadata": {},
   "outputs": [],
   "source": [
    "### indentation\n",
    "# def example():\n",
    "#     test = \"this is an example function\"\n",
    "#     print(test)\n",
    "#      return example"
   ]
  },
  {
   "cell_type": "markdown",
   "id": "b9ef871b",
   "metadata": {},
   "source": [
    "### Runtime errors"
   ]
  },
  {
   "cell_type": "markdown",
   "id": "feebf29b",
   "metadata": {},
   "source": [
    "**Name** \n",
    "\n",
    "You try to call a variable you have not yet assigned"
   ]
  },
  {
   "cell_type": "code",
   "execution_count": 10,
   "id": "16ead4f5",
   "metadata": {},
   "outputs": [],
   "source": [
    "# x"
   ]
  },
  {
   "cell_type": "markdown",
   "id": "9f7069a3",
   "metadata": {},
   "source": [
    "Or, you try to call a function from a library that you have not yet imported"
   ]
  },
  {
   "cell_type": "code",
   "execution_count": 8,
   "id": "682d42ff",
   "metadata": {
    "scrolled": true
   },
   "outputs": [],
   "source": [
    "# example()"
   ]
  },
  {
   "cell_type": "markdown",
   "id": "97d926ac",
   "metadata": {},
   "source": [
    "**Type**\n",
    "\n",
    "You write code with incompatible types"
   ]
  },
  {
   "cell_type": "code",
   "execution_count": 11,
   "id": "5288a57a",
   "metadata": {},
   "outputs": [],
   "source": [
    "# \"5\" + 5"
   ]
  },
  {
   "cell_type": "markdown",
   "id": "14d010a6",
   "metadata": {},
   "source": [
    "**Index**\n",
    "\n",
    "You try to reference something that is out of range"
   ]
  },
  {
   "cell_type": "code",
   "execution_count": 12,
   "id": "a767d2c3",
   "metadata": {},
   "outputs": [],
   "source": [
    "my_list = ['green', True, 0.5, 4, ['cat', 'dog', 'pig']]\n",
    "# my_list[5]"
   ]
  },
  {
   "cell_type": "markdown",
   "id": "3837400f",
   "metadata": {},
   "source": [
    "### File errors"
   ]
  },
  {
   "cell_type": "markdown",
   "id": "092f0a83",
   "metadata": {},
   "source": [
    "**File not found**\n",
    "\n",
    "You try to import something that does not exist"
   ]
  },
  {
   "cell_type": "code",
   "execution_count": 13,
   "id": "b8b43437",
   "metadata": {},
   "outputs": [],
   "source": [
    "# document = open('fakedocument.txt').read()"
   ]
  }
 ],
 "metadata": {
  "kernelspec": {
   "display_name": "Python 3 (ipykernel)",
   "language": "python",
   "name": "python3"
  },
  "language_info": {
   "codemirror_mode": {
    "name": "ipython",
    "version": 3
   },
   "file_extension": ".py",
   "mimetype": "text/x-python",
   "name": "python",
   "nbconvert_exporter": "python",
   "pygments_lexer": "ipython3",
   "version": "3.8.8"
  }
 },
 "nbformat": 4,
 "nbformat_minor": 5
}